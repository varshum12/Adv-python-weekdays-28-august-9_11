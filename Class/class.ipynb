{
 "cells": [
  {
   "cell_type": "code",
   "execution_count": 1,
   "id": "bcc6efee",
   "metadata": {},
   "outputs": [
    {
     "name": "stdout",
     "output_type": "stream",
     "text": [
      "<class 'str'>\n"
     ]
    }
   ],
   "source": [
    "a =  'Swara'\n",
    "print(type(a))"
   ]
  },
  {
   "cell_type": "code",
   "execution_count": 2,
   "id": "720ffed7",
   "metadata": {},
   "outputs": [
    {
     "name": "stdout",
     "output_type": "stream",
     "text": [
      "<class 'int'>\n"
     ]
    }
   ],
   "source": [
    "num  =  34\n",
    "print(type(num))"
   ]
  },
  {
   "cell_type": "code",
   "execution_count": 3,
   "id": "ea882675",
   "metadata": {},
   "outputs": [
    {
     "name": "stdout",
     "output_type": "stream",
     "text": [
      "<class 'float'>\n"
     ]
    }
   ],
   "source": [
    "num2  = 34.87\n",
    "print(type(num2))"
   ]
  },
  {
   "cell_type": "code",
   "execution_count": 4,
   "id": "ece696ab",
   "metadata": {},
   "outputs": [
    {
     "name": "stdout",
     "output_type": "stream",
     "text": [
      "<class 'bool'>\n"
     ]
    }
   ],
   "source": [
    "b  =  True\n",
    "print(type(b))"
   ]
  },
  {
   "cell_type": "code",
   "execution_count": 5,
   "id": "a14f6aeb",
   "metadata": {},
   "outputs": [
    {
     "name": "stdout",
     "output_type": "stream",
     "text": [
      "<class 'list'>\n"
     ]
    }
   ],
   "source": [
    "l =  [12,87,45,6]\n",
    "print(type(l))"
   ]
  },
  {
   "cell_type": "code",
   "execution_count": 6,
   "id": "7c411860",
   "metadata": {},
   "outputs": [
    {
     "name": "stdout",
     "output_type": "stream",
     "text": [
      "<class 'tuple'>\n"
     ]
    }
   ],
   "source": [
    "t =  (12,87,45,6 ,  True  , 'Python')\n",
    "print(type(t))"
   ]
  },
  {
   "cell_type": "code",
   "execution_count": 7,
   "id": "ba03c402",
   "metadata": {},
   "outputs": [
    {
     "name": "stdout",
     "output_type": "stream",
     "text": [
      "<class 'set'>\n"
     ]
    }
   ],
   "source": [
    "s =  {23 ,45,7,67}\n",
    "print(type(s))"
   ]
  },
  {
   "cell_type": "code",
   "execution_count": 8,
   "id": "b1fba423",
   "metadata": {},
   "outputs": [],
   "source": [
    "info  = {\"Name\" : ['Prajakta' ,  'sarthak' ,  'Adarsh'] ,  \n",
    "\"Age\"  : [23  , 24  , 10]}"
   ]
  },
  {
   "cell_type": "code",
   "execution_count": 9,
   "id": "f31fa6e7",
   "metadata": {},
   "outputs": [
    {
     "name": "stdout",
     "output_type": "stream",
     "text": [
      "<class 'dict'>\n"
     ]
    }
   ],
   "source": [
    "print(type(info))"
   ]
  },
  {
   "cell_type": "code",
   "execution_count": 10,
   "id": "419cbf38",
   "metadata": {},
   "outputs": [],
   "source": [
    "import  pandas as pd"
   ]
  },
  {
   "cell_type": "code",
   "execution_count": 11,
   "id": "d59fbec7",
   "metadata": {},
   "outputs": [],
   "source": [
    "df  =  pd.DataFrame(info)"
   ]
  },
  {
   "cell_type": "code",
   "execution_count": 14,
   "id": "1078421a",
   "metadata": {},
   "outputs": [
    {
     "data": {
      "text/html": [
       "<div>\n",
       "<style scoped>\n",
       "    .dataframe tbody tr th:only-of-type {\n",
       "        vertical-align: middle;\n",
       "    }\n",
       "\n",
       "    .dataframe tbody tr th {\n",
       "        vertical-align: top;\n",
       "    }\n",
       "\n",
       "    .dataframe thead th {\n",
       "        text-align: right;\n",
       "    }\n",
       "</style>\n",
       "<table border=\"1\" class=\"dataframe\">\n",
       "  <thead>\n",
       "    <tr style=\"text-align: right;\">\n",
       "      <th></th>\n",
       "      <th>Name</th>\n",
       "      <th>Age</th>\n",
       "    </tr>\n",
       "  </thead>\n",
       "  <tbody>\n",
       "    <tr>\n",
       "      <th>0</th>\n",
       "      <td>Prajakta</td>\n",
       "      <td>23</td>\n",
       "    </tr>\n",
       "    <tr>\n",
       "      <th>1</th>\n",
       "      <td>sarthak</td>\n",
       "      <td>24</td>\n",
       "    </tr>\n",
       "    <tr>\n",
       "      <th>2</th>\n",
       "      <td>Adarsh</td>\n",
       "      <td>10</td>\n",
       "    </tr>\n",
       "  </tbody>\n",
       "</table>\n",
       "</div>"
      ],
      "text/plain": [
       "       Name  Age\n",
       "0  Prajakta   23\n",
       "1   sarthak   24\n",
       "2    Adarsh   10"
      ]
     },
     "execution_count": 14,
     "metadata": {},
     "output_type": "execute_result"
    }
   ],
   "source": [
    "df"
   ]
  },
  {
   "cell_type": "code",
   "execution_count": 12,
   "id": "e9876d7f",
   "metadata": {},
   "outputs": [
    {
     "name": "stdout",
     "output_type": "stream",
     "text": [
      "<class 'pandas.core.frame.DataFrame'>\n"
     ]
    }
   ],
   "source": [
    "print(type(df))"
   ]
  },
  {
   "cell_type": "markdown",
   "id": "fb4348c1",
   "metadata": {},
   "source": [
    "##### Attributes\n",
    "- shape\n",
    "- columns\n",
    "- index\n",
    "- size\n",
    "- dtypes\n",
    "- values"
   ]
  },
  {
   "cell_type": "markdown",
   "id": "6425116b",
   "metadata": {},
   "source": []
  },
  {
   "cell_type": "code",
   "execution_count": 13,
   "id": "12480312",
   "metadata": {},
   "outputs": [
    {
     "data": {
      "text/plain": [
       "(3, 2)"
      ]
     },
     "execution_count": 13,
     "metadata": {},
     "output_type": "execute_result"
    }
   ],
   "source": [
    "df.shape"
   ]
  },
  {
   "cell_type": "code",
   "execution_count": 15,
   "id": "b4158f2c",
   "metadata": {},
   "outputs": [
    {
     "data": {
      "text/plain": [
       "6"
      ]
     },
     "execution_count": 15,
     "metadata": {},
     "output_type": "execute_result"
    }
   ],
   "source": [
    "df.size"
   ]
  },
  {
   "cell_type": "code",
   "execution_count": 16,
   "id": "6972f6b6",
   "metadata": {},
   "outputs": [
    {
     "data": {
      "text/plain": [
       "Name    object\n",
       "Age      int64\n",
       "dtype: object"
      ]
     },
     "execution_count": 16,
     "metadata": {},
     "output_type": "execute_result"
    }
   ],
   "source": [
    "df.dtypes"
   ]
  },
  {
   "cell_type": "code",
   "execution_count": 18,
   "id": "7d023893",
   "metadata": {},
   "outputs": [
    {
     "data": {
      "text/plain": [
       "Index(['Name', 'Age'], dtype='object')"
      ]
     },
     "execution_count": 18,
     "metadata": {},
     "output_type": "execute_result"
    }
   ],
   "source": [
    "df.columns"
   ]
  },
  {
   "cell_type": "code",
   "execution_count": 19,
   "id": "79e66ba9",
   "metadata": {},
   "outputs": [
    {
     "data": {
      "text/plain": [
       "array([['Prajakta', 23],\n",
       "       ['sarthak', 24],\n",
       "       ['Adarsh', 10]], dtype=object)"
      ]
     },
     "execution_count": 19,
     "metadata": {},
     "output_type": "execute_result"
    }
   ],
   "source": [
    "df.values"
   ]
  },
  {
   "cell_type": "code",
   "execution_count": 20,
   "id": "3c70d65a",
   "metadata": {},
   "outputs": [
    {
     "data": {
      "text/plain": [
       "RangeIndex(start=0, stop=3, step=1)"
      ]
     },
     "execution_count": 20,
     "metadata": {},
     "output_type": "execute_result"
    }
   ],
   "source": [
    "df.index"
   ]
  },
  {
   "cell_type": "markdown",
   "id": "e3085498",
   "metadata": {},
   "source": [
    "### Methods / functions\n",
    "-  info()\n",
    "- head()\n",
    "- tail()\n",
    "- sum()\n",
    "-  sort_values()"
   ]
  },
  {
   "cell_type": "code",
   "execution_count": 21,
   "id": "26ea7a2b",
   "metadata": {},
   "outputs": [
    {
     "name": "stdout",
     "output_type": "stream",
     "text": [
      "<class 'pandas.core.frame.DataFrame'>\n",
      "RangeIndex: 3 entries, 0 to 2\n",
      "Data columns (total 2 columns):\n",
      " #   Column  Non-Null Count  Dtype \n",
      "---  ------  --------------  ----- \n",
      " 0   Name    3 non-null      object\n",
      " 1   Age     3 non-null      int64 \n",
      "dtypes: int64(1), object(1)\n",
      "memory usage: 180.0+ bytes\n"
     ]
    }
   ],
   "source": [
    "df.info()"
   ]
  },
  {
   "cell_type": "code",
   "execution_count": null,
   "id": "24b5a5b7",
   "metadata": {},
   "outputs": [
    {
     "data": {
      "text/html": [
       "<div>\n",
       "<style scoped>\n",
       "    .dataframe tbody tr th:only-of-type {\n",
       "        vertical-align: middle;\n",
       "    }\n",
       "\n",
       "    .dataframe tbody tr th {\n",
       "        vertical-align: top;\n",
       "    }\n",
       "\n",
       "    .dataframe thead th {\n",
       "        text-align: right;\n",
       "    }\n",
       "</style>\n",
       "<table border=\"1\" class=\"dataframe\">\n",
       "  <thead>\n",
       "    <tr style=\"text-align: right;\">\n",
       "      <th></th>\n",
       "      <th>Name</th>\n",
       "      <th>Age</th>\n",
       "    </tr>\n",
       "  </thead>\n",
       "  <tbody>\n",
       "    <tr>\n",
       "      <th>0</th>\n",
       "      <td>Prajakta</td>\n",
       "      <td>23</td>\n",
       "    </tr>\n",
       "    <tr>\n",
       "      <th>1</th>\n",
       "      <td>sarthak</td>\n",
       "      <td>24</td>\n",
       "    </tr>\n",
       "    <tr>\n",
       "      <th>2</th>\n",
       "      <td>Adarsh</td>\n",
       "      <td>10</td>\n",
       "    </tr>\n",
       "  </tbody>\n",
       "</table>\n",
       "</div>"
      ],
      "text/plain": [
       "       Name  Age\n",
       "0  Prajakta   23\n",
       "1   sarthak   24\n",
       "2    Adarsh   10"
      ]
     },
     "execution_count": 22,
     "metadata": {},
     "output_type": "execute_result"
    }
   ],
   "source": [
    "df.head(  )"
   ]
  },
  {
   "cell_type": "code",
   "execution_count": 24,
   "id": "f26c0b87",
   "metadata": {},
   "outputs": [
    {
     "data": {
      "text/html": [
       "<div>\n",
       "<style scoped>\n",
       "    .dataframe tbody tr th:only-of-type {\n",
       "        vertical-align: middle;\n",
       "    }\n",
       "\n",
       "    .dataframe tbody tr th {\n",
       "        vertical-align: top;\n",
       "    }\n",
       "\n",
       "    .dataframe thead th {\n",
       "        text-align: right;\n",
       "    }\n",
       "</style>\n",
       "<table border=\"1\" class=\"dataframe\">\n",
       "  <thead>\n",
       "    <tr style=\"text-align: right;\">\n",
       "      <th></th>\n",
       "      <th>Name</th>\n",
       "      <th>Age</th>\n",
       "    </tr>\n",
       "  </thead>\n",
       "  <tbody>\n",
       "    <tr>\n",
       "      <th>2</th>\n",
       "      <td>Adarsh</td>\n",
       "      <td>10</td>\n",
       "    </tr>\n",
       "  </tbody>\n",
       "</table>\n",
       "</div>"
      ],
      "text/plain": [
       "     Name  Age\n",
       "2  Adarsh   10"
      ]
     },
     "execution_count": 24,
     "metadata": {},
     "output_type": "execute_result"
    }
   ],
   "source": [
    "df.tail(1) "
   ]
  },
  {
   "cell_type": "code",
   "execution_count": 25,
   "id": "98804e9e",
   "metadata": {},
   "outputs": [],
   "source": [
    "def add(x,  y  = 34):\n",
    "    return  x+y\n"
   ]
  },
  {
   "cell_type": "code",
   "execution_count": 26,
   "id": "3f109fa1",
   "metadata": {},
   "outputs": [
    {
     "data": {
      "text/plain": [
       "78"
      ]
     },
     "execution_count": 26,
     "metadata": {},
     "output_type": "execute_result"
    }
   ],
   "source": [
    "add(23,  55)"
   ]
  },
  {
   "cell_type": "code",
   "execution_count": 27,
   "id": "7d418113",
   "metadata": {},
   "outputs": [
    {
     "data": {
      "text/plain": [
       "36"
      ]
     },
     "execution_count": 27,
     "metadata": {},
     "output_type": "execute_result"
    }
   ],
   "source": [
    "add(2)"
   ]
  },
  {
   "cell_type": "code",
   "execution_count": 28,
   "id": "790804bd",
   "metadata": {},
   "outputs": [
    {
     "data": {
      "text/html": [
       "<div>\n",
       "<style scoped>\n",
       "    .dataframe tbody tr th:only-of-type {\n",
       "        vertical-align: middle;\n",
       "    }\n",
       "\n",
       "    .dataframe tbody tr th {\n",
       "        vertical-align: top;\n",
       "    }\n",
       "\n",
       "    .dataframe thead th {\n",
       "        text-align: right;\n",
       "    }\n",
       "</style>\n",
       "<table border=\"1\" class=\"dataframe\">\n",
       "  <thead>\n",
       "    <tr style=\"text-align: right;\">\n",
       "      <th></th>\n",
       "      <th>Name</th>\n",
       "      <th>Age</th>\n",
       "    </tr>\n",
       "  </thead>\n",
       "  <tbody>\n",
       "    <tr>\n",
       "      <th>0</th>\n",
       "      <td>Prajakta</td>\n",
       "      <td>23</td>\n",
       "    </tr>\n",
       "    <tr>\n",
       "      <th>1</th>\n",
       "      <td>sarthak</td>\n",
       "      <td>24</td>\n",
       "    </tr>\n",
       "    <tr>\n",
       "      <th>2</th>\n",
       "      <td>Adarsh</td>\n",
       "      <td>10</td>\n",
       "    </tr>\n",
       "  </tbody>\n",
       "</table>\n",
       "</div>"
      ],
      "text/plain": [
       "       Name  Age\n",
       "0  Prajakta   23\n",
       "1   sarthak   24\n",
       "2    Adarsh   10"
      ]
     },
     "execution_count": 28,
     "metadata": {},
     "output_type": "execute_result"
    }
   ],
   "source": [
    "df.sort_index()"
   ]
  },
  {
   "cell_type": "code",
   "execution_count": 29,
   "id": "548569d7",
   "metadata": {},
   "outputs": [
    {
     "data": {
      "text/plain": [
       "Name\n",
       "Prajakta    1\n",
       "sarthak     1\n",
       "Adarsh      1\n",
       "Name: count, dtype: int64"
      ]
     },
     "execution_count": 29,
     "metadata": {},
     "output_type": "execute_result"
    }
   ],
   "source": [
    "df['Name'].value_counts()"
   ]
  },
  {
   "cell_type": "code",
   "execution_count": 30,
   "id": "81451d3e",
   "metadata": {},
   "outputs": [
    {
     "data": {
      "text/plain": [
       "6"
      ]
     },
     "execution_count": 30,
     "metadata": {},
     "output_type": "execute_result"
    }
   ],
   "source": [
    "len(t)"
   ]
  },
  {
   "cell_type": "markdown",
   "id": "53b38aaa",
   "metadata": {},
   "source": [
    "##### Create  class Person"
   ]
  },
  {
   "cell_type": "code",
   "execution_count": 1,
   "id": "441665c5",
   "metadata": {},
   "outputs": [],
   "source": [
    "class Person:\n",
    "    def __init__(self  , Name  , Age  , Gender  , Occupation):\n",
    "        self.name =   Name\n",
    "        self.age  =  Age\n",
    "        self.gender  =  Gender\n",
    "        self.occupation  =  Occupation\n"
   ]
  },
  {
   "cell_type": "code",
   "execution_count": 3,
   "id": "1d9fac53",
   "metadata": {},
   "outputs": [],
   "source": [
    "# name  =  ' Sunita' ,  age  - 25 ,  gender  = female  ,  occupation =  'DA'\n",
    "o1  =  Person(Name  =  ' Sunita' ,  Age  = 25 ,  Gender  = 'female'  ,  Occupation =  'DA')"
   ]
  },
  {
   "cell_type": "code",
   "execution_count": 4,
   "id": "69511cdc",
   "metadata": {},
   "outputs": [
    {
     "data": {
      "text/plain": [
       "<__main__.Person at 0x2b5fb25f9d0>"
      ]
     },
     "execution_count": 4,
     "metadata": {},
     "output_type": "execute_result"
    }
   ],
   "source": [
    "o1"
   ]
  },
  {
   "cell_type": "code",
   "execution_count": 5,
   "id": "891d694f",
   "metadata": {},
   "outputs": [
    {
     "data": {
      "text/plain": [
       "' Sunita'"
      ]
     },
     "execution_count": 5,
     "metadata": {},
     "output_type": "execute_result"
    }
   ],
   "source": [
    "o1.name"
   ]
  },
  {
   "cell_type": "code",
   "execution_count": 6,
   "id": "e8c20de0",
   "metadata": {},
   "outputs": [
    {
     "data": {
      "text/plain": [
       "25"
      ]
     },
     "execution_count": 6,
     "metadata": {},
     "output_type": "execute_result"
    }
   ],
   "source": [
    "o1.age"
   ]
  },
  {
   "cell_type": "code",
   "execution_count": 7,
   "id": "9947f4d0",
   "metadata": {},
   "outputs": [
    {
     "data": {
      "text/plain": [
       "'female'"
      ]
     },
     "execution_count": 7,
     "metadata": {},
     "output_type": "execute_result"
    }
   ],
   "source": [
    "o1.gender"
   ]
  },
  {
   "cell_type": "code",
   "execution_count": 8,
   "id": "97ac3042",
   "metadata": {},
   "outputs": [
    {
     "data": {
      "text/plain": [
       "'DA'"
      ]
     },
     "execution_count": 8,
     "metadata": {},
     "output_type": "execute_result"
    }
   ],
   "source": [
    "o1.occupation"
   ]
  },
  {
   "cell_type": "code",
   "execution_count": 9,
   "id": "d9cdfec7",
   "metadata": {},
   "outputs": [],
   "source": [
    "o2  =  Person(Name = 'Suresh' ,   Age  =  26  , Gender  ='Male' ,  Occupation= \"DS\")"
   ]
  },
  {
   "cell_type": "code",
   "execution_count": 10,
   "id": "3c8bc7cf",
   "metadata": {},
   "outputs": [
    {
     "data": {
      "text/plain": [
       "<__main__.Person at 0x2b5fb4bc2d0>"
      ]
     },
     "execution_count": 10,
     "metadata": {},
     "output_type": "execute_result"
    }
   ],
   "source": [
    "o2"
   ]
  },
  {
   "cell_type": "code",
   "execution_count": 11,
   "id": "fe27228c",
   "metadata": {},
   "outputs": [
    {
     "data": {
      "text/plain": [
       "'Suresh'"
      ]
     },
     "execution_count": 11,
     "metadata": {},
     "output_type": "execute_result"
    }
   ],
   "source": [
    "o2.name"
   ]
  },
  {
   "cell_type": "code",
   "execution_count": 12,
   "id": "7c332d41",
   "metadata": {},
   "outputs": [
    {
     "data": {
      "text/plain": [
       "'Suresh'"
      ]
     },
     "execution_count": 12,
     "metadata": {},
     "output_type": "execute_result"
    }
   ],
   "source": [
    "o2.name"
   ]
  },
  {
   "cell_type": "code",
   "execution_count": 13,
   "id": "6757baee",
   "metadata": {},
   "outputs": [
    {
     "data": {
      "text/plain": [
       "26"
      ]
     },
     "execution_count": 13,
     "metadata": {},
     "output_type": "execute_result"
    }
   ],
   "source": [
    "o2.age"
   ]
  },
  {
   "cell_type": "code",
   "execution_count": 14,
   "id": "c0514031",
   "metadata": {},
   "outputs": [
    {
     "data": {
      "text/plain": [
       "'Male'"
      ]
     },
     "execution_count": 14,
     "metadata": {},
     "output_type": "execute_result"
    }
   ],
   "source": [
    "o2.gender"
   ]
  },
  {
   "cell_type": "code",
   "execution_count": 15,
   "id": "8193719b",
   "metadata": {},
   "outputs": [
    {
     "data": {
      "text/plain": [
       "'DS'"
      ]
     },
     "execution_count": 15,
     "metadata": {},
     "output_type": "execute_result"
    }
   ],
   "source": [
    "o2.occupation"
   ]
  },
  {
   "cell_type": "markdown",
   "id": "d19cb30a",
   "metadata": {},
   "source": [
    "##### Add  education attribute o2"
   ]
  },
  {
   "cell_type": "code",
   "execution_count": 16,
   "id": "27536fcc",
   "metadata": {},
   "outputs": [],
   "source": [
    "o2.Education = \"MBA\""
   ]
  },
  {
   "cell_type": "code",
   "execution_count": 17,
   "id": "58590c23",
   "metadata": {},
   "outputs": [
    {
     "data": {
      "text/plain": [
       "'MBA'"
      ]
     },
     "execution_count": 17,
     "metadata": {},
     "output_type": "execute_result"
    }
   ],
   "source": [
    "o2.Education"
   ]
  },
  {
   "cell_type": "code",
   "execution_count": 18,
   "id": "99bb738f",
   "metadata": {},
   "outputs": [
    {
     "data": {
      "text/plain": [
       "'Suresh'"
      ]
     },
     "execution_count": 18,
     "metadata": {},
     "output_type": "execute_result"
    }
   ],
   "source": [
    "o2.name"
   ]
  },
  {
   "cell_type": "code",
   "execution_count": 19,
   "id": "72e99e4c",
   "metadata": {},
   "outputs": [],
   "source": [
    "o2.name  = 'Nitikesh'"
   ]
  },
  {
   "cell_type": "code",
   "execution_count": 21,
   "id": "5b4f2d01",
   "metadata": {},
   "outputs": [
    {
     "data": {
      "text/plain": [
       "'Nitikesh'"
      ]
     },
     "execution_count": 21,
     "metadata": {},
     "output_type": "execute_result"
    }
   ],
   "source": [
    "o2.name"
   ]
  },
  {
   "cell_type": "markdown",
   "id": "f2624106",
   "metadata": {},
   "source": [
    "##### delete attributes"
   ]
  },
  {
   "cell_type": "code",
   "execution_count": 22,
   "id": "e01fdded",
   "metadata": {},
   "outputs": [],
   "source": [
    "o2.__delattr__('Education')"
   ]
  },
  {
   "cell_type": "markdown",
   "id": "1b1e2a98",
   "metadata": {},
   "source": [
    "##### Education is deleted"
   ]
  },
  {
   "cell_type": "code",
   "execution_count": 23,
   "id": "d9edd542",
   "metadata": {},
   "outputs": [
    {
     "ename": "AttributeError",
     "evalue": "'Person' object has no attribute 'Education'",
     "output_type": "error",
     "traceback": [
      "\u001b[31m---------------------------------------------------------------------------\u001b[39m",
      "\u001b[31mAttributeError\u001b[39m                            Traceback (most recent call last)",
      "\u001b[36mCell\u001b[39m\u001b[36m \u001b[39m\u001b[32mIn[23]\u001b[39m\u001b[32m, line 1\u001b[39m\n\u001b[32m----> \u001b[39m\u001b[32m1\u001b[39m \u001b[43mo2\u001b[49m\u001b[43m.\u001b[49m\u001b[43mEducation\u001b[49m\n",
      "\u001b[31mAttributeError\u001b[39m: 'Person' object has no attribute 'Education'"
     ]
    }
   ],
   "source": [
    "o2.Education"
   ]
  },
  {
   "cell_type": "code",
   "execution_count": 24,
   "id": "732a65f0",
   "metadata": {},
   "outputs": [],
   "source": [
    "class Person:\n",
    "    def __init__(self  , Name  , Age  , Gender  , Occupation):\n",
    "        self.name =   Name\n",
    "        self.age  =  Age\n",
    "        self.gender  =  Gender\n",
    "        self.occupation  =  Occupation\n",
    "\n",
    "        # add method talk\n",
    "    def talk(self):\n",
    "        print(f'Hi there My name  is {self.name}')\n",
    "        print(f'I am  {self.age}  years  old')\n",
    "        print(f' i am  {self.gender}')\n",
    "        print(f'i Work as {self.occupation}')\n",
    "\n"
   ]
  },
  {
   "cell_type": "code",
   "execution_count": 25,
   "id": "48261ec6",
   "metadata": {},
   "outputs": [],
   "source": [
    "o3  =  Person(Name  =   'Umesh' , Age  = 29 , Gender = 'Male' , Occupation  = 'Bussiness')"
   ]
  },
  {
   "cell_type": "code",
   "execution_count": 26,
   "id": "4cda16df",
   "metadata": {},
   "outputs": [
    {
     "data": {
      "text/plain": [
       "<__main__.Person at 0x2b5fb45e3c0>"
      ]
     },
     "execution_count": 26,
     "metadata": {},
     "output_type": "execute_result"
    }
   ],
   "source": [
    "o3"
   ]
  },
  {
   "cell_type": "code",
   "execution_count": 28,
   "id": "1cd3811e",
   "metadata": {},
   "outputs": [
    {
     "name": "stdout",
     "output_type": "stream",
     "text": [
      "Umesh\n",
      "29\n",
      "Bussiness\n",
      "Male\n"
     ]
    }
   ],
   "source": [
    "print(o3.name)\n",
    "print(o3.age)\n",
    "print(o3.occupation)\n",
    "print(o3.gender)"
   ]
  },
  {
   "cell_type": "code",
   "execution_count": 30,
   "id": "5707afd3",
   "metadata": {},
   "outputs": [
    {
     "name": "stdout",
     "output_type": "stream",
     "text": [
      "Hi there My name  is Umesh\n",
      "I am  29  years  old\n",
      " i am  Male\n",
      "i Work as Bussiness\n"
     ]
    }
   ],
   "source": [
    "o3.talk()"
   ]
  },
  {
   "cell_type": "code",
   "execution_count": 31,
   "id": "0d0c5e2e",
   "metadata": {},
   "outputs": [
    {
     "ename": "TypeError",
     "evalue": "Person.__init__() missing 1 required positional argument: 'Gender'",
     "output_type": "error",
     "traceback": [
      "\u001b[31m---------------------------------------------------------------------------\u001b[39m",
      "\u001b[31mTypeError\u001b[39m                                 Traceback (most recent call last)",
      "\u001b[36mCell\u001b[39m\u001b[36m \u001b[39m\u001b[32mIn[31]\u001b[39m\u001b[32m, line 1\u001b[39m\n\u001b[32m----> \u001b[39m\u001b[32m1\u001b[39m o4  =  \u001b[43mPerson\u001b[49m\u001b[43m(\u001b[49m\u001b[43mName\u001b[49m\u001b[43m  \u001b[49m\u001b[43m=\u001b[49m\u001b[43m   \u001b[49m\u001b[33;43m'\u001b[39;49m\u001b[33;43mUmesh\u001b[39;49m\u001b[33;43m'\u001b[39;49m\u001b[43m \u001b[49m\u001b[43m,\u001b[49m\u001b[43m \u001b[49m\u001b[43mAge\u001b[49m\u001b[43m  \u001b[49m\u001b[43m=\u001b[49m\u001b[43m \u001b[49m\u001b[32;43m29\u001b[39;49m\u001b[43m  \u001b[49m\u001b[43m,\u001b[49m\u001b[43m \u001b[49m\u001b[43mOccupation\u001b[49m\u001b[43m  \u001b[49m\u001b[43m=\u001b[49m\u001b[43m \u001b[49m\u001b[33;43m'\u001b[39;49m\u001b[33;43mBussiness\u001b[39;49m\u001b[33;43m'\u001b[39;49m\u001b[43m)\u001b[49m\n",
      "\u001b[31mTypeError\u001b[39m: Person.__init__() missing 1 required positional argument: 'Gender'"
     ]
    }
   ],
   "source": [
    "o4  =  Person(Name  =   'Umesh' , Age  = 29  , Occupation  = 'Bussiness')"
   ]
  },
  {
   "cell_type": "markdown",
   "id": "2c084994",
   "metadata": {},
   "source": [
    "### Class Attributes"
   ]
  },
  {
   "cell_type": "markdown",
   "id": "4f858a86",
   "metadata": {},
   "source": [
    "-  create  class employee"
   ]
  },
  {
   "cell_type": "code",
   "execution_count": 37,
   "id": "25325908",
   "metadata": {},
   "outputs": [],
   "source": [
    "class Employee:\n",
    "    Company  = \"TCS\"\n",
    "    def __init__(self , name , id):\n",
    "        self.name   = name\n",
    "        self.id  =  id"
   ]
  },
  {
   "cell_type": "code",
   "execution_count": 38,
   "id": "7c73ef82",
   "metadata": {},
   "outputs": [],
   "source": [
    "e1  =  Employee(name  = 'Raman' , id  = 'emp0001')"
   ]
  },
  {
   "cell_type": "code",
   "execution_count": 46,
   "id": "2c5cdb84",
   "metadata": {},
   "outputs": [
    {
     "data": {
      "text/plain": [
       "<__main__.Employee at 0x2b5fb45eba0>"
      ]
     },
     "execution_count": 46,
     "metadata": {},
     "output_type": "execute_result"
    }
   ],
   "source": [
    "e1"
   ]
  },
  {
   "cell_type": "code",
   "execution_count": 39,
   "id": "001a5ed7",
   "metadata": {},
   "outputs": [],
   "source": [
    "e2 =  Employee(name  = 'john' , id  ='Emp0002')"
   ]
  },
  {
   "cell_type": "code",
   "execution_count": 40,
   "id": "f9672796",
   "metadata": {},
   "outputs": [
    {
     "data": {
      "text/plain": [
       "'john'"
      ]
     },
     "execution_count": 40,
     "metadata": {},
     "output_type": "execute_result"
    }
   ],
   "source": [
    "e1.name\n",
    "e2.name "
   ]
  },
  {
   "cell_type": "code",
   "execution_count": 41,
   "id": "ffcd95f5",
   "metadata": {},
   "outputs": [
    {
     "data": {
      "text/plain": [
       "'TCS'"
      ]
     },
     "execution_count": 41,
     "metadata": {},
     "output_type": "execute_result"
    }
   ],
   "source": [
    "e1.Company"
   ]
  },
  {
   "cell_type": "code",
   "execution_count": 42,
   "id": "00e8716a",
   "metadata": {},
   "outputs": [
    {
     "data": {
      "text/plain": [
       "'TCS'"
      ]
     },
     "execution_count": 42,
     "metadata": {},
     "output_type": "execute_result"
    }
   ],
   "source": [
    "e2.Company"
   ]
  },
  {
   "cell_type": "code",
   "execution_count": 43,
   "id": "6d25c3b4",
   "metadata": {},
   "outputs": [],
   "source": [
    "e1.Company = \"Infosys\""
   ]
  },
  {
   "cell_type": "code",
   "execution_count": 44,
   "id": "2549e0b9",
   "metadata": {},
   "outputs": [
    {
     "data": {
      "text/plain": [
       "'Infosys'"
      ]
     },
     "execution_count": 44,
     "metadata": {},
     "output_type": "execute_result"
    }
   ],
   "source": [
    "e1.Company"
   ]
  },
  {
   "cell_type": "code",
   "execution_count": null,
   "id": "1c0ab2cb",
   "metadata": {},
   "outputs": [
    {
     "data": {
      "text/plain": [
       "<__main__.Employee at 0x2b5fb45eba0>"
      ]
     },
     "execution_count": 47,
     "metadata": {},
     "output_type": "execute_result"
    }
   ],
   "source": [
    "e3  = Employee(nam)"
   ]
  },
  {
   "cell_type": "markdown",
   "id": "3b606574",
   "metadata": {},
   "source": [
    "### dataclass method "
   ]
  },
  {
   "cell_type": "code",
   "execution_count": null,
   "id": "5589c8ef",
   "metadata": {},
   "outputs": [],
   "source": [
    "from dataclasses import dataclass\n",
    "from  typing import Union , List , Literal "
   ]
  },
  {
   "cell_type": "markdown",
   "id": "fd70dec7",
   "metadata": {},
   "source": [
    "### create class  studdent\n",
    "- name  \n",
    "- marks \n",
    "- age \n",
    "  gender\n",
    "- hobby\n"
   ]
  },
  {
   "cell_type": "code",
   "execution_count": 96,
   "id": "3c115106",
   "metadata": {},
   "outputs": [],
   "source": [
    "@dataclass\n",
    "class Student: \n",
    "    Name : str\n",
    "    Marks : int|float\n",
    "    Age  : int\n",
    "    Gender : Literal[\"Male\" , \"Female\"]\n",
    "    Hobbies : List[str]\n"
   ]
  },
  {
   "cell_type": "code",
   "execution_count": null,
   "id": "eece7259",
   "metadata": {},
   "outputs": [],
   "source": []
  },
  {
   "cell_type": "code",
   "execution_count": 97,
   "id": "4e9f62a5",
   "metadata": {},
   "outputs": [],
   "source": [
    "s1  =  Student(Name  = 'Amar' ,  Marks  = 78 ,  Age =  27   , Gender = 'Male' , Hobbies = 'Reading'  )"
   ]
  },
  {
   "cell_type": "code",
   "execution_count": 98,
   "id": "be3cdfd8",
   "metadata": {},
   "outputs": [
    {
     "data": {
      "text/plain": [
       "Student(Name='Amar', Marks=78, Age=27, Gender='Male', Hobbies='Reading')"
      ]
     },
     "execution_count": 98,
     "metadata": {},
     "output_type": "execute_result"
    }
   ],
   "source": [
    "s1"
   ]
  },
  {
   "cell_type": "code",
   "execution_count": 99,
   "id": "e781d4b4",
   "metadata": {},
   "outputs": [
    {
     "data": {
      "text/plain": [
       "'Amar'"
      ]
     },
     "execution_count": 99,
     "metadata": {},
     "output_type": "execute_result"
    }
   ],
   "source": [
    "s1.Name"
   ]
  },
  {
   "cell_type": "code",
   "execution_count": 101,
   "id": "f081d95a",
   "metadata": {},
   "outputs": [
    {
     "ename": "AttributeError",
     "evalue": "'Student' object has no attribute 'info'",
     "output_type": "error",
     "traceback": [
      "\u001b[31m---------------------------------------------------------------------------\u001b[39m",
      "\u001b[31mAttributeError\u001b[39m                            Traceback (most recent call last)",
      "\u001b[36mCell\u001b[39m\u001b[36m \u001b[39m\u001b[32mIn[101]\u001b[39m\u001b[32m, line 1\u001b[39m\n\u001b[32m----> \u001b[39m\u001b[32m1\u001b[39m \u001b[43ms1\u001b[49m\u001b[43m.\u001b[49m\u001b[43minfo\u001b[49m()\n",
      "\u001b[31mAttributeError\u001b[39m: 'Student' object has no attribute 'info'"
     ]
    }
   ],
   "source": [
    "s1.info()"
   ]
  },
  {
   "cell_type": "code",
   "execution_count": 58,
   "id": "301c3587",
   "metadata": {},
   "outputs": [],
   "source": [
    "s2  =  Student(Name  = 'Amar' ,  Marks  = 78 ,  Age =  27   , Gender = 'Male' , Hobbies = ['Reading' ,  'Swimming'  ])"
   ]
  },
  {
   "cell_type": "code",
   "execution_count": 59,
   "id": "a10f5265",
   "metadata": {},
   "outputs": [
    {
     "data": {
      "text/plain": [
       "['Reading', 'Swimming']"
      ]
     },
     "execution_count": 59,
     "metadata": {},
     "output_type": "execute_result"
    }
   ],
   "source": [
    "s2.Hobbies"
   ]
  },
  {
   "cell_type": "code",
   "execution_count": 60,
   "id": "e0518697",
   "metadata": {},
   "outputs": [],
   "source": [
    "s3  = Student(Name  = 123  , Marks  =  76 , Age  = 3  , Gender  =  'male' , Hobbies = ('playing'))"
   ]
  },
  {
   "cell_type": "code",
   "execution_count": 61,
   "id": "463971f8",
   "metadata": {},
   "outputs": [
    {
     "data": {
      "text/plain": [
       "123"
      ]
     },
     "execution_count": 61,
     "metadata": {},
     "output_type": "execute_result"
    }
   ],
   "source": [
    "s3.Name"
   ]
  },
  {
   "cell_type": "code",
   "execution_count": null,
   "id": "254e60d1",
   "metadata": {},
   "outputs": [
    {
     "data": {
      "text/plain": [
       "'playing'"
      ]
     },
     "execution_count": 62,
     "metadata": {},
     "output_type": "execute_result"
    }
   ],
   "source": [
    "s3.Hobbies"
   ]
  },
  {
   "cell_type": "code",
   "execution_count": 63,
   "id": "8e0fa106",
   "metadata": {},
   "outputs": [
    {
     "data": {
      "text/plain": [
       "int"
      ]
     },
     "execution_count": 63,
     "metadata": {},
     "output_type": "execute_result"
    }
   ],
   "source": [
    "type(s3.Name)"
   ]
  },
  {
   "cell_type": "code",
   "execution_count": 64,
   "id": "912f45cb",
   "metadata": {},
   "outputs": [
    {
     "data": {
      "text/plain": [
       "str"
      ]
     },
     "execution_count": 64,
     "metadata": {},
     "output_type": "execute_result"
    }
   ],
   "source": [
    "type(s3.Hobbies)"
   ]
  },
  {
   "cell_type": "code",
   "execution_count": 93,
   "id": "90f95fad",
   "metadata": {},
   "outputs": [],
   "source": [
    "@dataclass\n",
    "class Student1: \n",
    "    Name : str\n",
    "    Marks : int|float\n",
    "    Age  : int\n",
    "    Gender : Literal[\"Male\" , \"Female\"]\n",
    "    Hobbies : List[str]\n",
    "\n",
    "    ## add method info\n",
    "    def info(self):\n",
    "        print(f'I am  {self.Name}')\n",
    "        print(f\"Marks i got {self.Marks}\")\n",
    "        print(f'I am  {self.Age} years old')\n",
    "        print(f' I am  {self.Gender}')\n",
    "        print(f'My Hobbies are  {self.Hobbies}')"
   ]
  },
  {
   "cell_type": "code",
   "execution_count": 94,
   "id": "6a04ccfd",
   "metadata": {},
   "outputs": [],
   "source": [
    "s1  =  Student1(Name  =  'Uday' ,  Age =  25  , Gender  = \"Male\" ,  Hobbies  =  'Reading' , Marks  =  87)"
   ]
  },
  {
   "cell_type": "code",
   "execution_count": 95,
   "id": "84f3c71c",
   "metadata": {},
   "outputs": [
    {
     "name": "stdout",
     "output_type": "stream",
     "text": [
      "123 male 3\n",
      "playing 76\n"
     ]
    }
   ],
   "source": [
    "print(s3.Name ,  s3.Gender ,  s3.Age)\n",
    "print(s3.Hobbies , s3.Marks)\n"
   ]
  },
  {
   "cell_type": "code",
   "execution_count": null,
   "id": "234e98b7",
   "metadata": {},
   "outputs": [
    {
     "ename": "AttributeError",
     "evalue": "'Student' object has no attribute 'info'",
     "output_type": "error",
     "traceback": [
      "\u001b[31m---------------------------------------------------------------------------\u001b[39m",
      "\u001b[31mAttributeError\u001b[39m                            Traceback (most recent call last)",
      "\u001b[36mCell\u001b[39m\u001b[36m \u001b[39m\u001b[32mIn[80]\u001b[39m\u001b[32m, line 1\u001b[39m\n\u001b[32m----> \u001b[39m\u001b[32m1\u001b[39m \u001b[43ms3\u001b[49m\u001b[43m.\u001b[49m\u001b[43minfo\u001b[49m()\n",
      "\u001b[31mAttributeError\u001b[39m: 'Student' object has no attribute 'info'"
     ]
    }
   ],
   "source": [
    "s3."
   ]
  },
  {
   "cell_type": "markdown",
   "id": "9311eaa6",
   "metadata": {},
   "source": [
    "#### Create class for Account  "
   ]
  },
  {
   "cell_type": "code",
   "execution_count": 142,
   "id": "d8c41ea1",
   "metadata": {},
   "outputs": [],
   "source": [
    "@dataclass\n",
    "class Account:\n",
    "    acc_name  : str\n",
    "    acc_no : int\n",
    "    balance  :  int|float\n",
    "\n",
    "    # create method  check balance\n",
    "    def Check_balance(self):\n",
    "        print(f'Current balanace of  Account  {self.acc_no} is {self.balance} ')\n",
    "    \n",
    "\n",
    "\n",
    "   ## Deposite money\n",
    "    def  deposite(self,  amount :int|float):\n",
    "        print(f'Amount of  {amount} is   deposited in {self.acc_no}')\n",
    "        self.balance += amount\n",
    "        return  self.Check_balance()\n",
    "    \n",
    "    ## Withdraw  money\n",
    "    def Withdraw(self  , amount :  int|float):\n",
    "        if amount <= self.balance:\n",
    "            print(f'Amount of  {amount} is Withdrawed from  {self.acc_no} ')\n",
    "            self.balance = self.balance - amount\n",
    "            return  self.Check_balance()\n",
    "        else:\n",
    "            raise ValueError(\"Insufficient balance\")\n",
    "        \n",
    "\n",
    "## transfer money\n",
    "\n",
    "    def Transfer(self, amount  :  int|float , ac =  \"Account\"):\n",
    "        self.Withdraw(amount)\n",
    "        ac.deposite(amount)\n",
    "  \n",
    "        "
   ]
  },
  {
   "cell_type": "code",
   "execution_count": null,
   "id": "27c0be77",
   "metadata": {},
   "outputs": [],
   "source": []
  },
  {
   "cell_type": "code",
   "execution_count": 143,
   "id": "cbb32138",
   "metadata": {},
   "outputs": [],
   "source": [
    "A1  =  Account(acc_name = 'Sarthak' ,  acc_no= 123  ,  balance= 2000)"
   ]
  },
  {
   "cell_type": "code",
   "execution_count": 144,
   "id": "ebeefd74",
   "metadata": {},
   "outputs": [
    {
     "data": {
      "text/plain": [
       "'Sarthak'"
      ]
     },
     "execution_count": 144,
     "metadata": {},
     "output_type": "execute_result"
    }
   ],
   "source": [
    "A1.acc_name"
   ]
  },
  {
   "cell_type": "code",
   "execution_count": 145,
   "id": "cbc02dcb",
   "metadata": {},
   "outputs": [
    {
     "data": {
      "text/plain": [
       "123"
      ]
     },
     "execution_count": 145,
     "metadata": {},
     "output_type": "execute_result"
    }
   ],
   "source": [
    "A1.acc_no"
   ]
  },
  {
   "cell_type": "code",
   "execution_count": 146,
   "id": "484b260f",
   "metadata": {},
   "outputs": [
    {
     "data": {
      "text/plain": [
       "2000"
      ]
     },
     "execution_count": 146,
     "metadata": {},
     "output_type": "execute_result"
    }
   ],
   "source": [
    "A1.balance"
   ]
  },
  {
   "cell_type": "code",
   "execution_count": 147,
   "id": "e9cad97c",
   "metadata": {},
   "outputs": [
    {
     "name": "stdout",
     "output_type": "stream",
     "text": [
      "Current balanace of  Account  123 is 2000 \n"
     ]
    }
   ],
   "source": [
    "A1.Check_balance()"
   ]
  },
  {
   "cell_type": "code",
   "execution_count": 148,
   "id": "8de3719e",
   "metadata": {},
   "outputs": [
    {
     "name": "stdout",
     "output_type": "stream",
     "text": [
      "Amount of  3000 is   deposited in 123\n",
      "Current balanace of  Account  123 is 5000 \n"
     ]
    }
   ],
   "source": [
    "A1.deposite(3000)"
   ]
  },
  {
   "cell_type": "code",
   "execution_count": 149,
   "id": "65218c4f",
   "metadata": {},
   "outputs": [
    {
     "name": "stdout",
     "output_type": "stream",
     "text": [
      "Amount of  2000 is Withdrawed from  123 \n",
      "Current balanace of  Account  123 is 3000 \n"
     ]
    }
   ],
   "source": [
    "A1.Withdraw(2000)"
   ]
  },
  {
   "cell_type": "code",
   "execution_count": 150,
   "id": "9976c093",
   "metadata": {},
   "outputs": [
    {
     "ename": "ValueError",
     "evalue": "Insufficient balance",
     "output_type": "error",
     "traceback": [
      "\u001b[31m---------------------------------------------------------------------------\u001b[39m",
      "\u001b[31mValueError\u001b[39m                                Traceback (most recent call last)",
      "\u001b[36mCell\u001b[39m\u001b[36m \u001b[39m\u001b[32mIn[150]\u001b[39m\u001b[32m, line 1\u001b[39m\n\u001b[32m----> \u001b[39m\u001b[32m1\u001b[39m \u001b[43mA1\u001b[49m\u001b[43m.\u001b[49m\u001b[43mWithdraw\u001b[49m\u001b[43m(\u001b[49m\u001b[32;43m3500\u001b[39;49m\u001b[43m)\u001b[49m\n",
      "\u001b[36mCell\u001b[39m\u001b[36m \u001b[39m\u001b[32mIn[142]\u001b[39m\u001b[32m, line 26\u001b[39m, in \u001b[36mAccount.Withdraw\u001b[39m\u001b[34m(self, amount)\u001b[39m\n\u001b[32m     24\u001b[39m     \u001b[38;5;28;01mreturn\u001b[39;00m  \u001b[38;5;28mself\u001b[39m.Check_balance()\n\u001b[32m     25\u001b[39m \u001b[38;5;28;01melse\u001b[39;00m:\n\u001b[32m---> \u001b[39m\u001b[32m26\u001b[39m     \u001b[38;5;28;01mraise\u001b[39;00m \u001b[38;5;167;01mValueError\u001b[39;00m(\u001b[33m\"\u001b[39m\u001b[33mInsufficient balance\u001b[39m\u001b[33m\"\u001b[39m)\n",
      "\u001b[31mValueError\u001b[39m: Insufficient balance"
     ]
    }
   ],
   "source": [
    "A1.Withdraw(3500)"
   ]
  },
  {
   "cell_type": "code",
   "execution_count": null,
   "id": "e36b656a",
   "metadata": {},
   "outputs": [],
   "source": [
    "A2   =  Account(acc_name= 'john' ,  acc_no  =  456 , balance= 500)"
   ]
  },
  {
   "cell_type": "code",
   "execution_count": null,
   "id": "fdace196",
   "metadata": {},
   "outputs": [
    {
     "name": "stdout",
     "output_type": "stream",
     "text": [
      "Amount of  300 is Withdrawed from  456 \n",
      "Current balanace of  Account  456 is 200 \n",
      "Amount of  300 is   deposited in 123\n",
      "Current balanace of  Account  123 is 3300 \n",
      "Current balanace of  Account  456 is 200 \n"
     ]
    }
   ],
   "source": [
    "A2.Transfer(300 , A1)"
   ]
  },
  {
   "attachments": {
    "image.png": {
     "image/png": "[encoded data removed]"
    }
   },
   "cell_type": "markdown",
   "id": "972c9b95",
   "metadata": {},
   "source": [
    "![image.png](attachment:image.png)"
   ]
  },
  {
   "cell_type": "code",
   "execution_count": 169,
   "id": "94b58de8",
   "metadata": {},
   "outputs": [],
   "source": [
    "@dataclass\n",
    "class Triangle:\n",
    "    s1:int|float\n",
    "    s2:int|float\n",
    "    s3:int|float\n",
    "\n",
    "    def Perimeter(self):\n",
    "        if (self.s1+self.s2>self.s3) and  \\\n",
    "        (self.s2+self.s3 > self.s1) and  \\\n",
    "        (self.s1+self.s3>self.s2):\n",
    "            P  = self.s1+self.s2+self.s3\n",
    "            print(f'perimeter of Triangle is   {P} ' )\n",
    "            return  P\n",
    "        \n",
    "    # create method  for  area\n",
    "    def Area(self):\n",
    "        if self.Perimeter() is not None:\n",
    "            s  =  self.Perimeter()/2\n",
    "            Area=  (s*(s-self.s1)*(s-self.s2)*(s-self.s3))**1/2\n",
    "            return  f'Area of  traingle  is {Area}'\n",
    "         "
   ]
  },
  {
   "cell_type": "code",
   "execution_count": 170,
   "id": "1652a01d",
   "metadata": {},
   "outputs": [],
   "source": [
    "T1  = Triangle(23 ,34, 56)"
   ]
  },
  {
   "cell_type": "code",
   "execution_count": 171,
   "id": "0e1b3a82",
   "metadata": {},
   "outputs": [
    {
     "name": "stdout",
     "output_type": "stream",
     "text": [
      "23 34 56\n"
     ]
    }
   ],
   "source": [
    "print(T1.s1 , T1.s2 , T1.s3)"
   ]
  },
  {
   "cell_type": "code",
   "execution_count": 172,
   "id": "3d21135e",
   "metadata": {},
   "outputs": [
    {
     "name": "stdout",
     "output_type": "stream",
     "text": [
      "perimeter of Triangle is   113 \n"
     ]
    },
    {
     "data": {
      "text/plain": [
       "113"
      ]
     },
     "execution_count": 172,
     "metadata": {},
     "output_type": "execute_result"
    }
   ],
   "source": [
    "T1.Perimeter()"
   ]
  },
  {
   "cell_type": "code",
   "execution_count": 173,
   "id": "e086a977",
   "metadata": {},
   "outputs": [
    {
     "name": "stdout",
     "output_type": "stream",
     "text": [
      "perimeter of Triangle is   113 \n",
      "perimeter of Triangle is   113 \n"
     ]
    },
    {
     "data": {
      "text/plain": [
       "'Area of  traingle  is 10646.71875'"
      ]
     },
     "execution_count": 173,
     "metadata": {},
     "output_type": "execute_result"
    }
   ],
   "source": [
    "T1.Area()"
   ]
  },
  {
   "cell_type": "code",
   "execution_count": 163,
   "id": "26ff3cd7",
   "metadata": {},
   "outputs": [],
   "source": [
    "T2 = Triangle(23 ,134, 56)"
   ]
  },
  {
   "cell_type": "code",
   "execution_count": 158,
   "id": "bf9c96d2",
   "metadata": {},
   "outputs": [
    {
     "name": "stdout",
     "output_type": "stream",
     "text": [
      "None\n"
     ]
    }
   ],
   "source": [
    "print(T2.Perimeter())"
   ]
  },
  {
   "cell_type": "code",
   "execution_count": null,
   "id": "e872008f",
   "metadata": {},
   "outputs": [],
   "source": []
  }
 ],
 "metadata": {
  "kernelspec": {
   "display_name": "venv",
   "language": "python",
   "name": "python3"
  },
  "language_info": {
   "codemirror_mode": {
    "name": "ipython",
    "version": 3
   },
   "file_extension": ".py",
   "mimetype": "text/x-python",
   "name": "python",
   "nbconvert_exporter": "python",
   "pygments_lexer": "ipython3",
   "version": "3.13.7"
  }
 },
 "nbformat": 4,
 "nbformat_minor": 5
}
