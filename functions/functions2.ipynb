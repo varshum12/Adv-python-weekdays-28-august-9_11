{
 "cells": [
  {
   "cell_type": "markdown",
   "id": "2fa11201",
   "metadata": {},
   "source": [
    "### **kwagrs"
   ]
  },
  {
   "cell_type": "code",
   "execution_count": 1,
   "id": "dafb2db5",
   "metadata": {},
   "outputs": [],
   "source": [
    "def  key_var_len_args(**kwargs):\n",
    "    print(type(kwargs))\n",
    "    print(kwargs)"
   ]
  },
  {
   "cell_type": "code",
   "execution_count": 2,
   "id": "b173e5b1",
   "metadata": {},
   "outputs": [
    {
     "name": "stdout",
     "output_type": "stream",
     "text": [
      "<class 'dict'>\n",
      "{'name': 'Prajkta', 'age': 25, 'Education': 'ME'}\n"
     ]
    }
   ],
   "source": [
    "key_var_len_args(name  = 'Prajkta'  , age  = 25  , Education =  'ME')"
   ]
  },
  {
   "cell_type": "code",
   "execution_count": 3,
   "id": "c81fc49d",
   "metadata": {},
   "outputs": [],
   "source": [
    "info  =  {'Empid' : [1 ,2,3] ,  'Emp_name' : ['Suresh' ,  'Sarthak' ,  'Smita']}"
   ]
  },
  {
   "cell_type": "markdown",
   "id": "107bd938",
   "metadata": {},
   "source": [
    "##### Dictionary unpacking"
   ]
  },
  {
   "cell_type": "code",
   "execution_count": 4,
   "id": "c35c89df",
   "metadata": {},
   "outputs": [
    {
     "ename": "TypeError",
     "evalue": "key_var_len_args() takes 0 positional arguments but 1 was given",
     "output_type": "error",
     "traceback": [
      "\u001b[31m---------------------------------------------------------------------------\u001b[39m",
      "\u001b[31mTypeError\u001b[39m                                 Traceback (most recent call last)",
      "\u001b[36mCell\u001b[39m\u001b[36m \u001b[39m\u001b[32mIn[4]\u001b[39m\u001b[32m, line 1\u001b[39m\n\u001b[32m----> \u001b[39m\u001b[32m1\u001b[39m \u001b[43mkey_var_len_args\u001b[49m\u001b[43m(\u001b[49m\u001b[43minfo\u001b[49m\u001b[43m)\u001b[49m\n",
      "\u001b[31mTypeError\u001b[39m: key_var_len_args() takes 0 positional arguments but 1 was given"
     ]
    }
   ],
   "source": [
    "key_var_len_args(info)"
   ]
  },
  {
   "cell_type": "code",
   "execution_count": 5,
   "id": "6c1bd0b0",
   "metadata": {},
   "outputs": [
    {
     "name": "stdout",
     "output_type": "stream",
     "text": [
      "<class 'dict'>\n",
      "{'Empid': [1, 2, 3], 'Emp_name': ['Suresh', 'Sarthak', 'Smita']}\n"
     ]
    }
   ],
   "source": [
    "key_var_len_args(**info)"
   ]
  },
  {
   "cell_type": "code",
   "execution_count": 6,
   "id": "4754f370",
   "metadata": {},
   "outputs": [
    {
     "data": {
      "text/plain": [
       "dict_items([('Empid', [1, 2, 3]), ('Emp_name', ['Suresh', 'Sarthak', 'Smita'])])"
      ]
     },
     "execution_count": 6,
     "metadata": {},
     "output_type": "execute_result"
    }
   ],
   "source": [
    "info.items()"
   ]
  },
  {
   "cell_type": "code",
   "execution_count": null,
   "id": "44016cd5",
   "metadata": {},
   "outputs": [],
   "source": [
    "## output will  be  none  \n",
    "# because retrun and update used same time\n",
    "def  form_fill(**kwargs):\n",
    "    info =  {'Name' : None ,\n",
    "             'Mail' : None , \n",
    "             'Age' : None ,  \n",
    "             \"Adress\" : None}\n",
    "    return  info.update(kwargs)"
   ]
  },
  {
   "cell_type": "code",
   "execution_count": 22,
   "id": "2fdea70f",
   "metadata": {},
   "outputs": [
    {
     "name": "stdout",
     "output_type": "stream",
     "text": [
      "None\n"
     ]
    }
   ],
   "source": [
    "print(form_fill(**info))"
   ]
  },
  {
   "cell_type": "code",
   "execution_count": 47,
   "id": "b99da580",
   "metadata": {},
   "outputs": [],
   "source": [
    "def  form_fill(**kwargs):\n",
    "    info =  {'Name' : None ,\n",
    "             'Mail' : None , \n",
    "             'Age' : None ,  \n",
    "             \"Adress\" : None}\n",
    "    info.update(kwargs)\n",
    "    return info"
   ]
  },
  {
   "cell_type": "code",
   "execution_count": 48,
   "id": "f282a2c0",
   "metadata": {},
   "outputs": [
    {
     "data": {
      "text/plain": [
       "{'Name': None,\n",
       " 'Mail': 'Sunita@gmail.com',\n",
       " 'Age': None,\n",
       " 'Adress': None,\n",
       " 'name': 'Sunita',\n",
       " 'age': 34}"
      ]
     },
     "execution_count": 48,
     "metadata": {},
     "output_type": "execute_result"
    }
   ],
   "source": [
    "form_fill(name = 'Sunita' , Mail = 'Sunita@gmail.com' , age  =  34 )"
   ]
  },
  {
   "cell_type": "code",
   "execution_count": 26,
   "id": "cddf72f0",
   "metadata": {},
   "outputs": [
    {
     "data": {
      "text/plain": [
       "{'Name': None,\n",
       " 'Mail': 'Sunita@gmail.com',\n",
       " 'Age': None,\n",
       " 'Adress': None,\n",
       " 'name': 'Sunita',\n",
       " 'age': 34,\n",
       " 'Gender': 'Female'}"
      ]
     },
     "execution_count": 26,
     "metadata": {},
     "output_type": "execute_result"
    }
   ],
   "source": [
    "form_fill(name = 'Sunita' , Mail = 'Sunita@gmail.com' , age  =  34 , Gender  =  'Female')"
   ]
  },
  {
   "cell_type": "code",
   "execution_count": 4,
   "id": "0bf8bb94",
   "metadata": {},
   "outputs": [],
   "source": [
    "info  =  {'Empid' : [1 ,2,3] ,  'Emp_name' : ['Suresh' ,  'Sarthak' ,  'Smita']}"
   ]
  },
  {
   "cell_type": "code",
   "execution_count": 5,
   "id": "c0c3e47d",
   "metadata": {},
   "outputs": [],
   "source": [
    "info1 = {\"Edu\" : 'ME' , 'Gender' : 'Female'} "
   ]
  },
  {
   "cell_type": "code",
   "execution_count": 6,
   "id": "f38c0f54",
   "metadata": {},
   "outputs": [],
   "source": [
    "info.update({\"Edu\" : 'ME' , 'Gender' : 'Female'} )"
   ]
  },
  {
   "cell_type": "code",
   "execution_count": 7,
   "id": "b65498d4",
   "metadata": {},
   "outputs": [
    {
     "data": {
      "text/plain": [
       "{'Empid': [1, 2, 3],\n",
       " 'Emp_name': ['Suresh', 'Sarthak', 'Smita'],\n",
       " 'Edu': 'ME',\n",
       " 'Gender': 'Female'}"
      ]
     },
     "execution_count": 7,
     "metadata": {},
     "output_type": "execute_result"
    }
   ],
   "source": [
    "info"
   ]
  },
  {
   "cell_type": "code",
   "execution_count": null,
   "id": "2ec2cae6",
   "metadata": {},
   "outputs": [],
   "source": [
    "## output will  be  none  \n",
    "# because retrun and update used same time\n",
    "def  form_fill(**kwargs):\n",
    "    info =  {'Name' : None ,\n",
    "             'Mail' : None , \n",
    "             'Age' : None ,  \n",
    "             \"Adress\" : None}\n",
    "    return  info.update(kwargs)"
   ]
  },
  {
   "cell_type": "code",
   "execution_count": 9,
   "id": "8d674303",
   "metadata": {},
   "outputs": [],
   "source": [
    "a = info.update({\"Edu\" : 'ME' , 'Gender' : 'Female'} )"
   ]
  },
  {
   "cell_type": "code",
   "execution_count": 10,
   "id": "2aadb385",
   "metadata": {},
   "outputs": [
    {
     "name": "stdout",
     "output_type": "stream",
     "text": [
      "None\n"
     ]
    }
   ],
   "source": [
    "print(a)"
   ]
  },
  {
   "cell_type": "code",
   "execution_count": 31,
   "id": "3354c6e5",
   "metadata": {},
   "outputs": [],
   "source": [
    "form_fill(**info)"
   ]
  },
  {
   "cell_type": "code",
   "execution_count": 2,
   "id": "0c059bc4",
   "metadata": {},
   "outputs": [],
   "source": [
    "form_fill(name = 'Prajkta' ,  age  =  25)"
   ]
  },
  {
   "cell_type": "code",
   "execution_count": 27,
   "id": "6f08f2b9",
   "metadata": {},
   "outputs": [
    {
     "data": {
      "text/plain": [
       "{'Empid': [1, 2, 3],\n",
       " 'Emp_name': ['Suresh', 'Sarthak', 'Smita'],\n",
       " 'Edu': 'ME',\n",
       " 'Gender': 'Female'}"
      ]
     },
     "execution_count": 27,
     "metadata": {},
     "output_type": "execute_result"
    }
   ],
   "source": [
    "info"
   ]
  },
  {
   "cell_type": "code",
   "execution_count": 28,
   "id": "d3fd0867",
   "metadata": {},
   "outputs": [
    {
     "data": {
      "text/plain": [
       "[1, 2, 3]"
      ]
     },
     "execution_count": 28,
     "metadata": {},
     "output_type": "execute_result"
    }
   ],
   "source": [
    "info['Empid']"
   ]
  },
  {
   "cell_type": "code",
   "execution_count": 29,
   "id": "51d2d7ae",
   "metadata": {},
   "outputs": [
    {
     "data": {
      "text/plain": [
       "[1, 2, 3]"
      ]
     },
     "execution_count": 29,
     "metadata": {},
     "output_type": "execute_result"
    }
   ],
   "source": [
    "info.get('Empid')"
   ]
  },
  {
   "cell_type": "code",
   "execution_count": 32,
   "id": "8845170c",
   "metadata": {},
   "outputs": [
    {
     "ename": "KeyError",
     "evalue": "'empid'",
     "output_type": "error",
     "traceback": [
      "\u001b[31m---------------------------------------------------------------------------\u001b[39m",
      "\u001b[31mKeyError\u001b[39m                                  Traceback (most recent call last)",
      "\u001b[36mCell\u001b[39m\u001b[36m \u001b[39m\u001b[32mIn[32]\u001b[39m\u001b[32m, line 1\u001b[39m\n\u001b[32m----> \u001b[39m\u001b[32m1\u001b[39m \u001b[43minfo\u001b[49m\u001b[43m[\u001b[49m\u001b[33;43m'\u001b[39;49m\u001b[33;43mempid\u001b[39;49m\u001b[33;43m'\u001b[39;49m\u001b[43m]\u001b[49m\n",
      "\u001b[31mKeyError\u001b[39m: 'empid'"
     ]
    }
   ],
   "source": [
    "info['empid']"
   ]
  },
  {
   "cell_type": "code",
   "execution_count": 31,
   "id": "608eab08",
   "metadata": {},
   "outputs": [
    {
     "name": "stdout",
     "output_type": "stream",
     "text": [
      "None\n"
     ]
    }
   ],
   "source": [
    "print(info.get('empid'))"
   ]
  },
  {
   "cell_type": "markdown",
   "id": "ef0cff6c",
   "metadata": {},
   "source": [
    "#### Final  function"
   ]
  },
  {
   "cell_type": "code",
   "execution_count": 51,
   "id": "af19c961",
   "metadata": {},
   "outputs": [],
   "source": [
    "def  form_fill(**kwargs):\n",
    "    info =  {'Name' : None ,\n",
    "             'Mail' : None , \n",
    "             'Age' : None ,  \n",
    "             \"Adress\" : None}\n",
    "    for  key  , value  in kwargs.items():\n",
    "        if key.title() in info.keys():\n",
    "            info[key.title()] = value\n",
    "    return info"
   ]
  },
  {
   "cell_type": "code",
   "execution_count": 52,
   "id": "034bc8ce",
   "metadata": {},
   "outputs": [
    {
     "data": {
      "text/plain": [
       "{'Name': 'Sunita', 'Mail': None, 'Age': 23, 'Adress': None}"
      ]
     },
     "execution_count": 52,
     "metadata": {},
     "output_type": "execute_result"
    }
   ],
   "source": [
    "form_fill(name  =  'Sunita' ,  aGe =  23)"
   ]
  },
  {
   "cell_type": "code",
   "execution_count": 54,
   "id": "7e1556d4",
   "metadata": {},
   "outputs": [
    {
     "data": {
      "text/plain": [
       "{'Empid': [1, 2, 3],\n",
       " 'Emp_name': ['Suresh', 'Sarthak', 'Smita'],\n",
       " 'Edu': 'ME',\n",
       " 'Gender': 'Female'}"
      ]
     },
     "execution_count": 54,
     "metadata": {},
     "output_type": "execute_result"
    }
   ],
   "source": [
    "info"
   ]
  },
  {
   "cell_type": "code",
   "execution_count": 55,
   "id": "b55280d0",
   "metadata": {},
   "outputs": [
    {
     "data": {
      "text/plain": [
       "{'Name': None, 'Mail': None, 'Age': None, 'Adress': None}"
      ]
     },
     "execution_count": 55,
     "metadata": {},
     "output_type": "execute_result"
    }
   ],
   "source": [
    "form_fill(**info)"
   ]
  },
  {
   "cell_type": "code",
   "execution_count": 53,
   "id": "4079f820",
   "metadata": {},
   "outputs": [
    {
     "data": {
      "text/plain": [
       "'Sunita'"
      ]
     },
     "execution_count": 53,
     "metadata": {},
     "output_type": "execute_result"
    }
   ],
   "source": [
    "'sunita'.title()"
   ]
  },
  {
   "cell_type": "code",
   "execution_count": 49,
   "id": "ccde48fb",
   "metadata": {},
   "outputs": [
    {
     "data": {
      "text/plain": [
       "'Sunita Pawar'"
      ]
     },
     "execution_count": 49,
     "metadata": {},
     "output_type": "execute_result"
    }
   ],
   "source": [
    "'sunita Pawar'.title()"
   ]
  },
  {
   "cell_type": "code",
   "execution_count": 50,
   "id": "d6937cd2",
   "metadata": {},
   "outputs": [
    {
     "data": {
      "text/plain": [
       "'Sunita pawar'"
      ]
     },
     "execution_count": 50,
     "metadata": {},
     "output_type": "execute_result"
    }
   ],
   "source": [
    "'sunita Pawar'.capitalize()"
   ]
  },
  {
   "cell_type": "markdown",
   "id": "d446d0dd",
   "metadata": {},
   "source": [
    "#### Create  total bill for Restuarant"
   ]
  },
  {
   "cell_type": "code",
   "execution_count": 73,
   "id": "41b5448f",
   "metadata": {},
   "outputs": [],
   "source": [
    "menu  =  {\"Pizza\" : 299 , \"Sandwich\" :  100  ,  \"Burgur\" : 60} "
   ]
  },
  {
   "cell_type": "code",
   "execution_count": null,
   "id": "e9428bcb",
   "metadata": {},
   "outputs": [],
   "source": [
    "food  product  ,  quantity \n",
    "price  per food  =  price*quantity"
   ]
  },
  {
   "cell_type": "code",
   "execution_count": 58,
   "id": "bb1c44d7",
   "metadata": {},
   "outputs": [
    {
     "name": "stdout",
     "output_type": "stream",
     "text": [
      "None\n"
     ]
    }
   ],
   "source": [
    "print(menu.get('Pizza'))"
   ]
  },
  {
   "cell_type": "code",
   "execution_count": null,
   "id": "0cfc1f2e",
   "metadata": {},
   "outputs": [
    {
     "name": "stdout",
     "output_type": "stream",
     "text": [
      "299\n"
     ]
    },
    {
     "data": {
      "text/plain": [
       "598"
      ]
     },
     "execution_count": 60,
     "metadata": {},
     "output_type": "execute_result"
    }
   ],
   "source": [
    "print(menu.get('pizza'))\n",
    "299*2 "
   ]
  },
  {
   "cell_type": "code",
   "execution_count": 61,
   "id": "f5c47fcd",
   "metadata": {},
   "outputs": [
    {
     "data": {
      "text/plain": [
       "{'pizza': 299, 'Sandwich': 100, 'Burgur': 60}"
      ]
     },
     "execution_count": 61,
     "metadata": {},
     "output_type": "execute_result"
    }
   ],
   "source": [
    "menu"
   ]
  },
  {
   "cell_type": "code",
   "execution_count": 75,
   "id": "33ba05d7",
   "metadata": {},
   "outputs": [],
   "source": [
    "def  hotel_bill(**food_quantity):\n",
    "    total_bill  =  0\n",
    "    for  food  ,  quantity in food_quantity.items() :\n",
    "        if  menu.get(food.capitalize()) is  not  None:\n",
    "            price  =  menu.get(food.capitalize())\n",
    "            Subtotal =  price*quantity\n",
    "            print(f\"Subtotal  of {food} is  {Subtotal}\")\n",
    "            total_bill  =  Subtotal  + total_bill\n",
    "    return f' total_bill -->{total_bill}'\n",
    "            \n",
    "\n"
   ]
  },
  {
   "cell_type": "code",
   "execution_count": 76,
   "id": "1bf58ad0",
   "metadata": {},
   "outputs": [
    {
     "name": "stdout",
     "output_type": "stream",
     "text": [
      "Subtotal  of pizza is  598\n"
     ]
    },
    {
     "data": {
      "text/plain": [
       "' total_bill -->598'"
      ]
     },
     "execution_count": 76,
     "metadata": {},
     "output_type": "execute_result"
    }
   ],
   "source": [
    "hotel_bill(pizza = 2)"
   ]
  },
  {
   "cell_type": "code",
   "execution_count": 77,
   "id": "774dacca",
   "metadata": {},
   "outputs": [
    {
     "name": "stdout",
     "output_type": "stream",
     "text": [
      "Subtotal  of pizza is  598\n",
      "Subtotal  of Sandwich is  300\n"
     ]
    },
    {
     "data": {
      "text/plain": [
       "' total_bill -->898'"
      ]
     },
     "execution_count": 77,
     "metadata": {},
     "output_type": "execute_result"
    }
   ],
   "source": [
    "hotel_bill(pizza = 2 ,  Sandwich  =  3)"
   ]
  },
  {
   "cell_type": "code",
   "execution_count": 78,
   "id": "cac30dcb",
   "metadata": {},
   "outputs": [
    {
     "name": "stdout",
     "output_type": "stream",
     "text": [
      "Subtotal  of pizza is  598\n",
      "Subtotal  of Sandwich is  300\n"
     ]
    },
    {
     "data": {
      "text/plain": [
       "' total_bill -->898'"
      ]
     },
     "execution_count": 78,
     "metadata": {},
     "output_type": "execute_result"
    }
   ],
   "source": [
    "hotel_bill(pizza = 2 ,  Sandwich  =  3 , Samosa  =  3)"
   ]
  },
  {
   "cell_type": "code",
   "execution_count": 79,
   "id": "f0ce2eea",
   "metadata": {},
   "outputs": [
    {
     "name": "stdout",
     "output_type": "stream",
     "text": [
      "Subtotal  of Pizza is  598\n",
      "Subtotal  of Sandwich is  300\n"
     ]
    },
    {
     "data": {
      "text/plain": [
       "' total_bill -->898'"
      ]
     },
     "execution_count": 79,
     "metadata": {},
     "output_type": "execute_result"
    }
   ],
   "source": [
    "hotel_bill(Pizza = 2 ,  Sandwich  =  3 , Samosa  =  3 )"
   ]
  },
  {
   "cell_type": "code",
   "execution_count": 80,
   "id": "8c86dfa8",
   "metadata": {},
   "outputs": [
    {
     "name": "stdout",
     "output_type": "stream",
     "text": [
      "Subtotal  of PiZZA is  598\n",
      "Subtotal  of Sandwich is  300\n"
     ]
    },
    {
     "data": {
      "text/plain": [
       "' total_bill -->898'"
      ]
     },
     "execution_count": 80,
     "metadata": {},
     "output_type": "execute_result"
    }
   ],
   "source": [
    "hotel_bill(PiZZA = 2 ,  Sandwich  =  3 , Samosa  =  3 )"
   ]
  },
  {
   "cell_type": "code",
   "execution_count": 87,
   "id": "c5c359ca",
   "metadata": {},
   "outputs": [
    {
     "data": {
      "text/plain": [
       "dict_items([('500', 3), ('100', 50), ('20', 4)])"
      ]
     },
     "execution_count": 87,
     "metadata": {},
     "output_type": "execute_result"
    }
   ],
   "source": [
    "money  =  {'500' : 3  ,  '100' :  50 ,  '20' : 4}\n",
    "money.items()\n"
   ]
  },
  {
   "cell_type": "code",
   "execution_count": null,
   "id": "597ed49a",
   "metadata": {},
   "outputs": [],
   "source": []
  },
  {
   "cell_type": "code",
   "execution_count": 88,
   "id": "0690e056",
   "metadata": {},
   "outputs": [],
   "source": [
    "def Double_money(**Money):\n",
    "    total_Amount  =  0\n",
    "    for  Notes  ,  Quantity in  Money.items():\n",
    "        total_Amount  =  (total_Amount+int(Notes)*Quantity)*2\n",
    "    return  total_Amount\n",
    "\n",
    "\n",
    "    "
   ]
  },
  {
   "cell_type": "code",
   "execution_count": 91,
   "id": "01c63e6e",
   "metadata": {},
   "outputs": [
    {
     "ename": "SyntaxError",
     "evalue": "expression cannot contain assignment, perhaps you meant \"==\"? (1799090265.py, line 1)",
     "output_type": "error",
     "traceback": [
      "  \u001b[36mCell\u001b[39m\u001b[36m \u001b[39m\u001b[32mIn[91]\u001b[39m\u001b[32m, line 1\u001b[39m\n\u001b[31m    \u001b[39m\u001b[31mDouble_money('100' = 5  ,  '10' = 5  , '5'  =  6)\u001b[39m\n                 ^\n\u001b[31mSyntaxError\u001b[39m\u001b[31m:\u001b[39m expression cannot contain assignment, perhaps you meant \"==\"?\n"
     ]
    }
   ],
   "source": [
    "Double_money('100' = 5  ,  '10' = 5  , '5'  =  6)"
   ]
  },
  {
   "cell_type": "code",
   "execution_count": null,
   "id": "f5b846f8",
   "metadata": {},
   "outputs": [],
   "source": []
  },
  {
   "cell_type": "code",
   "execution_count": 90,
   "id": "7d8bb363",
   "metadata": {},
   "outputs": [
    {
     "data": {
      "text/plain": [
       "32160"
      ]
     },
     "execution_count": 90,
     "metadata": {},
     "output_type": "execute_result"
    }
   ],
   "source": [
    "Double_money(**money)"
   ]
  },
  {
   "cell_type": "code",
   "execution_count": null,
   "id": "1cbd4875",
   "metadata": {},
   "outputs": [],
   "source": []
  }
 ],
 "metadata": {
  "kernelspec": {
   "display_name": "venv",
   "language": "python",
   "name": "python3"
  },
  "language_info": {
   "codemirror_mode": {
    "name": "ipython",
    "version": 3
   },
   "file_extension": ".py",
   "mimetype": "text/x-python",
   "name": "python",
   "nbconvert_exporter": "python",
   "pygments_lexer": "ipython3",
   "version": "3.13.7"
  }
 },
 "nbformat": 4,
 "nbformat_minor": 5
}
