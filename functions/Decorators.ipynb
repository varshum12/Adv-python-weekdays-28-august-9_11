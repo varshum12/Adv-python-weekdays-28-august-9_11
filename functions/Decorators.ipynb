{
 "cells": [
  {
   "attachments": {
    "image.png": {
     "image/png": "[encoded data removed]"
    }
   },
   "cell_type": "markdown",
   "id": "c3d77dd5",
   "metadata": {},
   "source": [
    "![image.png](attachment:image.png)"
   ]
  },
  {
   "cell_type": "markdown",
   "id": "a223f59c",
   "metadata": {},
   "source": [
    "##### Create  decorator for welcoming  user"
   ]
  },
  {
   "cell_type": "code",
   "execution_count": 1,
   "id": "f8b72583",
   "metadata": {},
   "outputs": [],
   "source": [
    "def  Welcome(func):\n",
    "    def wrapper(*args  , **kwargs):\n",
    "        print('Welcome User')\n",
    "        result  =  func(*args  ,  **kwargs)\n",
    "        print(f'Output of  function --> ,  {result}')\n",
    "        print('Thank  you')\n",
    "        return result\n",
    "    return wrapper"
   ]
  },
  {
   "cell_type": "markdown",
   "id": "40cda978",
   "metadata": {},
   "source": [
    "##### Create  function to find simple interest & apply decorator"
   ]
  },
  {
   "cell_type": "code",
   "execution_count": 2,
   "id": "371a0d95",
   "metadata": {},
   "outputs": [],
   "source": [
    "@Welcome \n",
    "def  Simple_Interest(P:int |float ,  N:int | float  , R:int|float):\n",
    "    \"\"\"\n",
    "    P: Principle  amount\n",
    "    N : numebr of  years\n",
    "    R  :  Rate  of  interest\n",
    "    \"\"\"\n",
    "    I  =  P*N*R/100\n",
    "    A =  P+I\n",
    "    return f\"Interest {I} . Amount to be return {A}\""
   ]
  },
  {
   "cell_type": "code",
   "execution_count": 4,
   "id": "057d5c1e",
   "metadata": {},
   "outputs": [
    {
     "name": "stdout",
     "output_type": "stream",
     "text": [
      "Welcome User\n",
      "Output of  function --> ,  Interest 13000.0 . Amount to be return 113000.0\n",
      "Thank  you\n"
     ]
    },
    {
     "data": {
      "text/plain": [
       "'Interest 13000.0 . Amount to be return 113000.0'"
      ]
     },
     "execution_count": 4,
     "metadata": {},
     "output_type": "execute_result"
    }
   ],
   "source": [
    "# p =  100000 , R  =  6.5  , N  =  2\n",
    "Simple_Interest(P  =  100000  , N  =  2  ,  R  =  6.5)"
   ]
  },
  {
   "cell_type": "code",
   "execution_count": 12,
   "metadata": {},
   "outputs": [],
   "source": [
    "# Compound  ineterst\n",
    "@Welcome\n",
    "def Compound_interest(P:int|float  ,  N:int|float  , R:int|float , t  : int):\n",
    "    A  =  P*(1+R/100)**(N)\n",
    "    CI  =  A-P\n",
    "    return  f\"Amount  to return {A} \\\n",
    "      CI --> {CI}\"\n"
   ]
  },
  {
   "cell_type": "code",
   "execution_count": 13,
   "metadata": {},
   "outputs": [
    {
     "name": "stdout",
     "output_type": "stream",
     "text": [
      "Welcome User\n",
      "Output of  function --> ,  Amount  to return 121000.00000000001       CI --> 21000.000000000015\n",
      "Thank  you\n"
     ]
    },
    {
     "data": {
      "text/plain": [
       "'Amount  to return 121000.00000000001       CI --> 21000.000000000015'"
      ]
     },
     "execution_count": 13,
     "metadata": {},
     "output_type": "execute_result"
    }
   ],
   "source": [
    "Compound_interest(P= 100000 ,  R  = 10  , N  =  2  , t  =  2)"
   ]
  },
  {
   "cell_type": "markdown",
   "id": "e1254702",
   "metadata": {},
   "source": [
    "### Login Authentication"
   ]
  },
  {
   "cell_type": "code",
   "execution_count": 30,
   "id": "f22f618f",
   "metadata": {},
   "outputs": [],
   "source": [
    "user  =  {\"sarthak1\" : 'sarthak@123' , \n",
    "            'sunita12' : 'sunita@123'}"
   ]
  },
  {
   "cell_type": "code",
   "execution_count": 31,
   "id": "4f2aa974",
   "metadata": {},
   "outputs": [],
   "source": [
    "def  Authentication(func):\n",
    "    def wrapper(username  ,  password ,  *args  , **kwargs):\n",
    "        if username in user.keys() and  password  ==  user[username]:\n",
    "            print('Login Successful')\n",
    "            print('Welcome  user')\n",
    "            result =  func(username  , password  , *args  , **kwargs)\n",
    "            return  result\n",
    "        else:\n",
    "            print('Invalid  Login credentials')\n",
    "            print('Please  check  username  or  password')\n",
    "    return  wrapper"
   ]
  },
  {
   "cell_type": "code",
   "execution_count": 32,
   "id": "02e3f37b",
   "metadata": {},
   "outputs": [],
   "source": [
    "@Authentication\n",
    "def  Simple_Interest(username  :  str  , password :  str , P:int |float ,  N:int | float  , R:int|float):\n",
    "    \"\"\"\n",
    "    P: Principle  amount\n",
    "    N : numebr of  years\n",
    "    R  :  Rate  of  interest\n",
    "    \"\"\"\n",
    "    I  =  P*N*R/100\n",
    "    A =  P+I\n",
    "    return f\"Interest {I} . Amount to be return {A}\""
   ]
  },
  {
   "cell_type": "code",
   "execution_count": 33,
   "id": "ebda1ff8",
   "metadata": {},
   "outputs": [
    {
     "name": "stdout",
     "output_type": "stream",
     "text": [
      "Login Successful\n",
      "Welcome  user\n"
     ]
    },
    {
     "data": {
      "text/plain": [
       "'Interest 20000.0 . Amount to be return 120000.0'"
      ]
     },
     "execution_count": 33,
     "metadata": {},
     "output_type": "execute_result"
    }
   ],
   "source": [
    "Simple_Interest(username  = \"sarthak1\" , password  ='sarthak@123' , P  =  100000 ,  N  =  2 ,  R = 10 )"
   ]
  },
  {
   "cell_type": "code",
   "execution_count": 34,
   "id": "552097ab",
   "metadata": {},
   "outputs": [
    {
     "name": "stdout",
     "output_type": "stream",
     "text": [
      "Invalid  Login credentials\n",
      "Please  check  username  or  password\n"
     ]
    }
   ],
   "source": [
    "Simple_Interest(username  = \"sarthak1\" , password  ='sarthak@1' , P  =  100000 ,  N  =  2 ,  R = 10 )"
   ]
  },
  {
   "cell_type": "code",
   "execution_count": 35,
   "id": "b2e07d2a",
   "metadata": {},
   "outputs": [],
   "source": [
    "## add  two numbers\n",
    "@Welcome\n",
    "def  add(x:int|float  ,  y:int|float):\n",
    "    return x+y"
   ]
  },
  {
   "cell_type": "code",
   "execution_count": 36,
   "id": "384b5424",
   "metadata": {},
   "outputs": [
    {
     "name": "stdout",
     "output_type": "stream",
     "text": [
      "Welcome User\n",
      "Output of  function --> ,  5\n",
      "Thank  you\n"
     ]
    },
    {
     "data": {
      "text/plain": [
       "5"
      ]
     },
     "execution_count": 36,
     "metadata": {},
     "output_type": "execute_result"
    }
   ],
   "source": [
    "add(2 ,3)"
   ]
  },
  {
   "cell_type": "code",
   "execution_count": 37,
   "id": "863d7bf1",
   "metadata": {},
   "outputs": [
    {
     "name": "stdout",
     "output_type": "stream",
     "text": [
      "Welcome User\n",
      "Output of  function --> ,  Datascience\n",
      "Thank  you\n"
     ]
    },
    {
     "data": {
      "text/plain": [
       "'Datascience'"
      ]
     },
     "execution_count": 37,
     "metadata": {},
     "output_type": "execute_result"
    }
   ],
   "source": [
    "add('Data' ,  'science')"
   ]
  },
  {
   "cell_type": "code",
   "execution_count": null,
   "id": "306cde3b",
   "metadata": {},
   "outputs": [],
   "source": [
    "# create  decorator to find elapsed \n",
    "#  time  to display output of function"
   ]
  },
  {
   "cell_type": "code",
   "execution_count": 42,
   "id": "db6ebdbc",
   "metadata": {},
   "outputs": [],
   "source": [
    "import  time\n",
    "def  Elapsed_time(func):\n",
    "    def wrapper(*args  , **kwargs):\n",
    "        start  =  time.time()\n",
    "        result  =  func(*args  , **kwargs)\n",
    "        print(result)\n",
    "        end  = time.time()\n",
    "        elapsed_time  =  round(end  -  start , 5)\n",
    "        print(f\"Elapsed time  --> {elapsed_time}\")\n",
    "    return  wrapper"
   ]
  },
  {
   "cell_type": "markdown",
   "id": "df5a69e9",
   "metadata": {},
   "source": []
  },
  {
   "cell_type": "code",
   "execution_count": 43,
   "id": "c97fabab",
   "metadata": {},
   "outputs": [],
   "source": [
    "## Create  function  to find factorial\n",
    "@Elapsed_time\n",
    "def  factorial(n:int):\n",
    "    fact  =  1\n",
    "    for  i  in range(1 , n+1):\n",
    "        fact  =  fact*i\n",
    "    return fact\n"
   ]
  },
  {
   "cell_type": "code",
   "execution_count": 44,
   "id": "7bb7ecd9",
   "metadata": {},
   "outputs": [
    {
     "name": "stdout",
     "output_type": "stream",
     "text": [
      "120\n",
      "Elapsed time  --> 0.00055\n"
     ]
    }
   ],
   "source": [
    "factorial(5)"
   ]
  },
  {
   "cell_type": "code",
   "execution_count": 45,
   "id": "6b84196c",
   "metadata": {},
   "outputs": [
    {
     "name": "stdout",
     "output_type": "stream",
     "text": [
      "40320\n",
      "Elapsed time  --> 0.00061\n"
     ]
    }
   ],
   "source": [
    "factorial(8)"
   ]
  },
  {
   "cell_type": "code",
   "execution_count": null,
   "id": "9a5485ab",
   "metadata": {},
   "outputs": [],
   "source": []
  }
 ],
 "metadata": {
  "kernelspec": {
   "display_name": "venv",
   "language": "python",
   "name": "python3"
  },
  "language_info": {
   "codemirror_mode": {
    "name": "ipython",
    "version": 3
   },
   "file_extension": ".py",
   "mimetype": "text/x-python",
   "name": "python",
   "nbconvert_exporter": "python",
   "pygments_lexer": "ipython3",
   "version": "3.13.7"
  }
 },
 "nbformat": 4,
 "nbformat_minor": 5
}
