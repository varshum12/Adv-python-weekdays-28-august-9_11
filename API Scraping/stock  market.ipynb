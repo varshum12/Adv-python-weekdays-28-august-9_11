{
 "cells": [
  {
   "cell_type": "code",
   "execution_count": 1,
   "id": "b99c4f5d",
   "metadata": {},
   "outputs": [
    {
     "name": "stdout",
     "output_type": "stream",
     "text": [
      "Collecting python-dotenv\n",
      "  Using cached python_dotenv-1.1.1-py3-none-any.whl.metadata (24 kB)\n",
      "Using cached python_dotenv-1.1.1-py3-none-any.whl (20 kB)\n",
      "Installing collected packages: python-dotenv\n",
      "Successfully installed python-dotenv-1.1.1\n",
      "Note: you may need to restart the kernel to use updated packages.\n"
     ]
    }
   ],
   "source": [
    "%pip install  python-dotenv"
   ]
  },
  {
   "cell_type": "code",
   "execution_count": 2,
   "id": "e0566fe6",
   "metadata": {},
   "outputs": [
    {
     "name": "stdout",
     "output_type": "stream",
     "text": [
      "Requirement already satisfied: plotly in d:\\28 august adv  python  9_11\\repository\\venv\\lib\\site-packages (6.3.0)\n",
      "Requirement already satisfied: narwhals>=1.15.1 in d:\\28 august adv  python  9_11\\repository\\venv\\lib\\site-packages (from plotly) (2.2.0)\n",
      "Requirement already satisfied: packaging in d:\\28 august adv  python  9_11\\repository\\venv\\lib\\site-packages (from plotly) (25.0)\n",
      "Note: you may need to restart the kernel to use updated packages.\n"
     ]
    }
   ],
   "source": [
    "%pip  install  plotly"
   ]
  },
  {
   "cell_type": "code",
   "execution_count": 3,
   "id": "98551271",
   "metadata": {},
   "outputs": [
    {
     "data": {
      "text/plain": [
       "True"
      ]
     },
     "execution_count": 3,
     "metadata": {},
     "output_type": "execute_result"
    }
   ],
   "source": [
    "from dotenv  import load_dotenv\n",
    "load_dotenv()"
   ]
  },
  {
   "cell_type": "code",
   "execution_count": 5,
   "id": "f0539498",
   "metadata": {},
   "outputs": [],
   "source": [
    "import  os\n",
    "api_key  =  os.getenv('API_KEY')\n"
   ]
  },
  {
   "cell_type": "code",
   "execution_count": 12,
   "id": "4395e959",
   "metadata": {},
   "outputs": [],
   "source": [
    "import requests\n",
    "\n",
    "url = \"https://alpha-vantage.p.rapidapi.com/query\"\n",
    "\n",
    "querystring = {\"datatype\":\"json\",\"keywords\":\"tata\",\"function\":\"SYMBOL_SEARCH\"}\n",
    "\n",
    "headers = {\n",
    "\t\"x-rapidapi-key\": api_key,\n",
    "\t\"x-rapidapi-host\": \"alpha-vantage.p.rapidapi.com\"\n",
    "}\n",
    "\n",
    "response = requests.get(url, headers=headers, params=querystring)\n",
    "\n",
    "data  =  response.json()\n"
   ]
  },
  {
   "cell_type": "code",
   "execution_count": 13,
   "id": "c03ea910",
   "metadata": {},
   "outputs": [
    {
     "data": {
      "text/plain": [
       "{'bestMatches': [{'1. symbol': 'TATACHEM.BSE',\n",
       "   '2. name': 'TATA CHEMICALS LTD.',\n",
       "   '3. type': 'Equity',\n",
       "   '4. region': 'India/Bombay',\n",
       "   '5. marketOpen': '09:15',\n",
       "   '6. marketClose': '15:30',\n",
       "   '7. timezone': 'UTC+5.5',\n",
       "   '8. currency': 'INR',\n",
       "   '9. matchScore': '0.5333'},\n",
       "  {'1. symbol': 'TATACOMM.BSE',\n",
       "   '2. name': 'TATA COMMUNICATIONS LTD.',\n",
       "   '3. type': 'Equity',\n",
       "   '4. region': 'India/Bombay',\n",
       "   '5. marketOpen': '09:15',\n",
       "   '6. marketClose': '15:30',\n",
       "   '7. timezone': 'UTC+5.5',\n",
       "   '8. currency': 'INR',\n",
       "   '9. matchScore': '0.5333'},\n",
       "  {'1. symbol': 'TATAELXSI.BSE',\n",
       "   '2. name': 'Tata Elxsi Limited',\n",
       "   '3. type': 'Equity',\n",
       "   '4. region': 'India/Bombay',\n",
       "   '5. marketOpen': '09:15',\n",
       "   '6. marketClose': '15:30',\n",
       "   '7. timezone': 'UTC+5.5',\n",
       "   '8. currency': 'INR',\n",
       "   '9. matchScore': '0.5000'},\n",
       "  {'1. symbol': 'TATAPOWER.BSE',\n",
       "   '2. name': 'TATA POWER CO.LTD.',\n",
       "   '3. type': 'Equity',\n",
       "   '4. region': 'India/Bombay',\n",
       "   '5. marketOpen': '09:15',\n",
       "   '6. marketClose': '15:30',\n",
       "   '7. timezone': 'UTC+5.5',\n",
       "   '8. currency': 'INR',\n",
       "   '9. matchScore': '0.5000'},\n",
       "  {'1. symbol': 'TATASTEEL.BSE',\n",
       "   '2. name': 'Tata Steel Limited',\n",
       "   '3. type': 'Equity',\n",
       "   '4. region': 'India/Bombay',\n",
       "   '5. marketOpen': '09:15',\n",
       "   '6. marketClose': '15:30',\n",
       "   '7. timezone': 'UTC+5.5',\n",
       "   '8. currency': 'INR',\n",
       "   '9. matchScore': '0.5000'},\n",
       "  {'1. symbol': 'TATACONSUM.BSE',\n",
       "   '2. name': 'Tata Consumer Products Ltd',\n",
       "   '3. type': 'Equity',\n",
       "   '4. region': 'India/Bombay',\n",
       "   '5. marketOpen': '09:15',\n",
       "   '6. marketClose': '15:30',\n",
       "   '7. timezone': 'UTC+5.5',\n",
       "   '8. currency': 'INR',\n",
       "   '9. matchScore': '0.4706'},\n",
       "  {'1. symbol': 'TATAINVEST.BSE',\n",
       "   '2. name': 'TATA INVESTMENT CORPORATION LTD.',\n",
       "   '3. type': 'Equity',\n",
       "   '4. region': 'India/Bombay',\n",
       "   '5. marketOpen': '09:15',\n",
       "   '6. marketClose': '15:30',\n",
       "   '7. timezone': 'UTC+5.5',\n",
       "   '8. currency': 'INR',\n",
       "   '9. matchScore': '0.4706'},\n",
       "  {'1. symbol': 'TATAMOTORS.BSE',\n",
       "   '2. name': 'Tata Motors Limited',\n",
       "   '3. type': 'Equity',\n",
       "   '4. region': 'India/Bombay',\n",
       "   '5. marketOpen': '09:15',\n",
       "   '6. marketClose': '15:30',\n",
       "   '7. timezone': 'UTC+5.5',\n",
       "   '8. currency': 'INR',\n",
       "   '9. matchScore': '0.4706'},\n",
       "  {'1. symbol': '500800.BSE',\n",
       "   '2. name': 'Tata Consumer Products Limited',\n",
       "   '3. type': 'Equity',\n",
       "   '4. region': 'India/Bombay',\n",
       "   '5. marketOpen': '09:15',\n",
       "   '6. marketClose': '15:30',\n",
       "   '7. timezone': 'UTC+5.5',\n",
       "   '8. currency': 'INR',\n",
       "   '9. matchScore': '0.2353'},\n",
       "  {'1. symbol': 'TCS.BSE',\n",
       "   '2. name': 'Tata Consultancy Services Limited',\n",
       "   '3. type': 'Equity',\n",
       "   '4. region': 'India/Bombay',\n",
       "   '5. marketOpen': '09:15',\n",
       "   '6. marketClose': '15:30',\n",
       "   '7. timezone': 'UTC+5.5',\n",
       "   '8. currency': 'INR',\n",
       "   '9. matchScore': '0.2162'}]}"
      ]
     },
     "execution_count": 13,
     "metadata": {},
     "output_type": "execute_result"
    }
   ],
   "source": [
    "data"
   ]
  },
  {
   "cell_type": "code",
   "execution_count": 9,
   "id": "d6c41f82",
   "metadata": {},
   "outputs": [
    {
     "data": {
      "text/plain": [
       "dict"
      ]
     },
     "execution_count": 9,
     "metadata": {},
     "output_type": "execute_result"
    }
   ],
   "source": [
    "type(data)"
   ]
  },
  {
   "cell_type": "code",
   "execution_count": 15,
   "id": "18ee66b9",
   "metadata": {},
   "outputs": [
    {
     "data": {
      "text/plain": [
       "dict_keys(['bestMatches'])"
      ]
     },
     "execution_count": 15,
     "metadata": {},
     "output_type": "execute_result"
    }
   ],
   "source": [
    "data.keys()"
   ]
  },
  {
   "cell_type": "code",
   "execution_count": 16,
   "id": "19997905",
   "metadata": {},
   "outputs": [
    {
     "data": {
      "text/plain": [
       "[{'1. symbol': 'TATACHEM.BSE',\n",
       "  '2. name': 'TATA CHEMICALS LTD.',\n",
       "  '3. type': 'Equity',\n",
       "  '4. region': 'India/Bombay',\n",
       "  '5. marketOpen': '09:15',\n",
       "  '6. marketClose': '15:30',\n",
       "  '7. timezone': 'UTC+5.5',\n",
       "  '8. currency': 'INR',\n",
       "  '9. matchScore': '0.5333'},\n",
       " {'1. symbol': 'TATACOMM.BSE',\n",
       "  '2. name': 'TATA COMMUNICATIONS LTD.',\n",
       "  '3. type': 'Equity',\n",
       "  '4. region': 'India/Bombay',\n",
       "  '5. marketOpen': '09:15',\n",
       "  '6. marketClose': '15:30',\n",
       "  '7. timezone': 'UTC+5.5',\n",
       "  '8. currency': 'INR',\n",
       "  '9. matchScore': '0.5333'},\n",
       " {'1. symbol': 'TATAELXSI.BSE',\n",
       "  '2. name': 'Tata Elxsi Limited',\n",
       "  '3. type': 'Equity',\n",
       "  '4. region': 'India/Bombay',\n",
       "  '5. marketOpen': '09:15',\n",
       "  '6. marketClose': '15:30',\n",
       "  '7. timezone': 'UTC+5.5',\n",
       "  '8. currency': 'INR',\n",
       "  '9. matchScore': '0.5000'},\n",
       " {'1. symbol': 'TATAPOWER.BSE',\n",
       "  '2. name': 'TATA POWER CO.LTD.',\n",
       "  '3. type': 'Equity',\n",
       "  '4. region': 'India/Bombay',\n",
       "  '5. marketOpen': '09:15',\n",
       "  '6. marketClose': '15:30',\n",
       "  '7. timezone': 'UTC+5.5',\n",
       "  '8. currency': 'INR',\n",
       "  '9. matchScore': '0.5000'},\n",
       " {'1. symbol': 'TATASTEEL.BSE',\n",
       "  '2. name': 'Tata Steel Limited',\n",
       "  '3. type': 'Equity',\n",
       "  '4. region': 'India/Bombay',\n",
       "  '5. marketOpen': '09:15',\n",
       "  '6. marketClose': '15:30',\n",
       "  '7. timezone': 'UTC+5.5',\n",
       "  '8. currency': 'INR',\n",
       "  '9. matchScore': '0.5000'},\n",
       " {'1. symbol': 'TATACONSUM.BSE',\n",
       "  '2. name': 'Tata Consumer Products Ltd',\n",
       "  '3. type': 'Equity',\n",
       "  '4. region': 'India/Bombay',\n",
       "  '5. marketOpen': '09:15',\n",
       "  '6. marketClose': '15:30',\n",
       "  '7. timezone': 'UTC+5.5',\n",
       "  '8. currency': 'INR',\n",
       "  '9. matchScore': '0.4706'},\n",
       " {'1. symbol': 'TATAINVEST.BSE',\n",
       "  '2. name': 'TATA INVESTMENT CORPORATION LTD.',\n",
       "  '3. type': 'Equity',\n",
       "  '4. region': 'India/Bombay',\n",
       "  '5. marketOpen': '09:15',\n",
       "  '6. marketClose': '15:30',\n",
       "  '7. timezone': 'UTC+5.5',\n",
       "  '8. currency': 'INR',\n",
       "  '9. matchScore': '0.4706'},\n",
       " {'1. symbol': 'TATAMOTORS.BSE',\n",
       "  '2. name': 'Tata Motors Limited',\n",
       "  '3. type': 'Equity',\n",
       "  '4. region': 'India/Bombay',\n",
       "  '5. marketOpen': '09:15',\n",
       "  '6. marketClose': '15:30',\n",
       "  '7. timezone': 'UTC+5.5',\n",
       "  '8. currency': 'INR',\n",
       "  '9. matchScore': '0.4706'},\n",
       " {'1. symbol': '500800.BSE',\n",
       "  '2. name': 'Tata Consumer Products Limited',\n",
       "  '3. type': 'Equity',\n",
       "  '4. region': 'India/Bombay',\n",
       "  '5. marketOpen': '09:15',\n",
       "  '6. marketClose': '15:30',\n",
       "  '7. timezone': 'UTC+5.5',\n",
       "  '8. currency': 'INR',\n",
       "  '9. matchScore': '0.2353'},\n",
       " {'1. symbol': 'TCS.BSE',\n",
       "  '2. name': 'Tata Consultancy Services Limited',\n",
       "  '3. type': 'Equity',\n",
       "  '4. region': 'India/Bombay',\n",
       "  '5. marketOpen': '09:15',\n",
       "  '6. marketClose': '15:30',\n",
       "  '7. timezone': 'UTC+5.5',\n",
       "  '8. currency': 'INR',\n",
       "  '9. matchScore': '0.2162'}]"
      ]
     },
     "execution_count": 16,
     "metadata": {},
     "output_type": "execute_result"
    }
   ],
   "source": [
    "data['bestMatches']"
   ]
  },
  {
   "cell_type": "code",
   "execution_count": 17,
   "id": "05cf4722",
   "metadata": {},
   "outputs": [
    {
     "data": {
      "text/plain": [
       "list"
      ]
     },
     "execution_count": 17,
     "metadata": {},
     "output_type": "execute_result"
    }
   ],
   "source": [
    "type(data['bestMatches'])"
   ]
  },
  {
   "cell_type": "code",
   "execution_count": 18,
   "id": "9298505d",
   "metadata": {},
   "outputs": [
    {
     "name": "stdout",
     "output_type": "stream",
     "text": [
      "{'1. symbol': 'TATACHEM.BSE', '2. name': 'TATA CHEMICALS LTD.', '3. type': 'Equity', '4. region': 'India/Bombay', '5. marketOpen': '09:15', '6. marketClose': '15:30', '7. timezone': 'UTC+5.5', '8. currency': 'INR', '9. matchScore': '0.5333'}\n",
      "{'1. symbol': 'TATACOMM.BSE', '2. name': 'TATA COMMUNICATIONS LTD.', '3. type': 'Equity', '4. region': 'India/Bombay', '5. marketOpen': '09:15', '6. marketClose': '15:30', '7. timezone': 'UTC+5.5', '8. currency': 'INR', '9. matchScore': '0.5333'}\n",
      "{'1. symbol': 'TATAELXSI.BSE', '2. name': 'Tata Elxsi Limited', '3. type': 'Equity', '4. region': 'India/Bombay', '5. marketOpen': '09:15', '6. marketClose': '15:30', '7. timezone': 'UTC+5.5', '8. currency': 'INR', '9. matchScore': '0.5000'}\n",
      "{'1. symbol': 'TATAPOWER.BSE', '2. name': 'TATA POWER CO.LTD.', '3. type': 'Equity', '4. region': 'India/Bombay', '5. marketOpen': '09:15', '6. marketClose': '15:30', '7. timezone': 'UTC+5.5', '8. currency': 'INR', '9. matchScore': '0.5000'}\n",
      "{'1. symbol': 'TATASTEEL.BSE', '2. name': 'Tata Steel Limited', '3. type': 'Equity', '4. region': 'India/Bombay', '5. marketOpen': '09:15', '6. marketClose': '15:30', '7. timezone': 'UTC+5.5', '8. currency': 'INR', '9. matchScore': '0.5000'}\n",
      "{'1. symbol': 'TATACONSUM.BSE', '2. name': 'Tata Consumer Products Ltd', '3. type': 'Equity', '4. region': 'India/Bombay', '5. marketOpen': '09:15', '6. marketClose': '15:30', '7. timezone': 'UTC+5.5', '8. currency': 'INR', '9. matchScore': '0.4706'}\n",
      "{'1. symbol': 'TATAINVEST.BSE', '2. name': 'TATA INVESTMENT CORPORATION LTD.', '3. type': 'Equity', '4. region': 'India/Bombay', '5. marketOpen': '09:15', '6. marketClose': '15:30', '7. timezone': 'UTC+5.5', '8. currency': 'INR', '9. matchScore': '0.4706'}\n",
      "{'1. symbol': 'TATAMOTORS.BSE', '2. name': 'Tata Motors Limited', '3. type': 'Equity', '4. region': 'India/Bombay', '5. marketOpen': '09:15', '6. marketClose': '15:30', '7. timezone': 'UTC+5.5', '8. currency': 'INR', '9. matchScore': '0.4706'}\n",
      "{'1. symbol': '500800.BSE', '2. name': 'Tata Consumer Products Limited', '3. type': 'Equity', '4. region': 'India/Bombay', '5. marketOpen': '09:15', '6. marketClose': '15:30', '7. timezone': 'UTC+5.5', '8. currency': 'INR', '9. matchScore': '0.2353'}\n",
      "{'1. symbol': 'TCS.BSE', '2. name': 'Tata Consultancy Services Limited', '3. type': 'Equity', '4. region': 'India/Bombay', '5. marketOpen': '09:15', '6. marketClose': '15:30', '7. timezone': 'UTC+5.5', '8. currency': 'INR', '9. matchScore': '0.2162'}\n"
     ]
    }
   ],
   "source": [
    "for  i  in data['bestMatches']:\n",
    "    print(i)\n"
   ]
  },
  {
   "cell_type": "code",
   "execution_count": 19,
   "id": "3b1743cc",
   "metadata": {},
   "outputs": [
    {
     "name": "stdout",
     "output_type": "stream",
     "text": [
      "TATACHEM.BSE\n",
      "TATACOMM.BSE\n",
      "TATAELXSI.BSE\n",
      "TATAPOWER.BSE\n",
      "TATASTEEL.BSE\n",
      "TATACONSUM.BSE\n",
      "TATAINVEST.BSE\n",
      "TATAMOTORS.BSE\n",
      "500800.BSE\n",
      "TCS.BSE\n"
     ]
    }
   ],
   "source": [
    "for  i  in data['bestMatches']:\n",
    "    print(i['1. symbol'])"
   ]
  },
  {
   "cell_type": "code",
   "execution_count": 20,
   "id": "a4d7932c",
   "metadata": {},
   "outputs": [
    {
     "data": {
      "text/plain": [
       "{'TATACHEM.BSE': ['TATA CHEMICALS LTD.', 'India/Bombay', 'INR'],\n",
       " 'TATACOMM.BSE': ['TATA COMMUNICATIONS LTD.', 'India/Bombay', 'INR'],\n",
       " 'TATAELXSI.BSE': ['Tata Elxsi Limited', 'India/Bombay', 'INR'],\n",
       " 'TATAPOWER.BSE': ['TATA POWER CO.LTD.', 'India/Bombay', 'INR'],\n",
       " 'TATASTEEL.BSE': ['Tata Steel Limited', 'India/Bombay', 'INR'],\n",
       " 'TATACONSUM.BSE': ['Tata Consumer Products Ltd', 'India/Bombay', 'INR'],\n",
       " 'TATAINVEST.BSE': ['TATA INVESTMENT CORPORATION LTD.', 'India/Bombay', 'INR'],\n",
       " 'TATAMOTORS.BSE': ['Tata Motors Limited', 'India/Bombay', 'INR'],\n",
       " '500800.BSE': ['Tata Consumer Products Limited', 'India/Bombay', 'INR'],\n",
       " 'TCS.BSE': ['Tata Consultancy Services Limited', 'India/Bombay', 'INR']}"
      ]
     },
     "execution_count": 20,
     "metadata": {},
     "output_type": "execute_result"
    }
   ],
   "source": [
    "data1  =  {}\n",
    "for  i  in data['bestMatches']:\n",
    "    symbol  =  i['1. symbol']\n",
    "    data1[symbol] =  [i['2. name'], i['4. region'] , i['8. currency']]\n",
    "data1\n"
   ]
  },
  {
   "cell_type": "markdown",
   "id": "d031eea8",
   "metadata": {},
   "source": [
    "# fetch  time  series data"
   ]
  },
  {
   "cell_type": "code",
   "execution_count": 21,
   "id": "7d46397e",
   "metadata": {},
   "outputs": [],
   "source": [
    "import requests\n",
    "\n",
    "url = \"https://alpha-vantage.p.rapidapi.com/query\"\n",
    "\n",
    "querystring = {\"function\":\"TIME_SERIES_DAILY\",\"symbol\":'TATASTEEL.BSE',\"outputsize\":\"compact\",\"datatype\":\"json\"}\n",
    "\n",
    "headers = {\n",
    "\t\"x-rapidapi-key\": api_key,\n",
    "\t\"x-rapidapi-host\": \"alpha-vantage.p.rapidapi.com\"\n",
    "}\n",
    "\n",
    "response = requests.get(url, headers=headers, params=querystring)\n",
    "\n",
    "data2 =  response.json()"
   ]
  },
  {
   "cell_type": "code",
   "execution_count": 22,
   "id": "12ed35eb",
   "metadata": {},
   "outputs": [
    {
     "data": {
      "text/plain": [
       "{'Meta Data': {'1. Information': 'Daily Prices (open, high, low, close) and Volumes',\n",
       "  '2. Symbol': 'TATASTEEL.BSE',\n",
       "  '3. Last Refreshed': '2025-09-18',\n",
       "  '4. Output Size': 'Compact',\n",
       "  '5. Time Zone': 'US/Eastern'},\n",
       " 'Time Series (Daily)': {'2025-09-18': {'1. open': '171.6500',\n",
       "   '2. high': '172.2500',\n",
       "   '3. low': '169.8000',\n",
       "   '4. close': '172.0000',\n",
       "   '5. volume': '1025203'},\n",
       "  '2025-09-17': {'1. open': '172.6000',\n",
       "   '2. high': '172.6000',\n",
       "   '3. low': '169.3000',\n",
       "   '4. close': '171.2500',\n",
       "   '5. volume': '1225524'},\n",
       "  '2025-09-16': {'1. open': '168.6000',\n",
       "   '2. high': '172.3000',\n",
       "   '3. low': '168.6000',\n",
       "   '4. close': '172.0000',\n",
       "   '5. volume': '1714698'},\n",
       "  '2025-09-15': {'1. open': '169.6000',\n",
       "   '2. high': '170.2000',\n",
       "   '3. low': '168.6000',\n",
       "   '4. close': '169.2000',\n",
       "   '5. volume': '1933165'},\n",
       "  '2025-09-12': {'1. open': '169.8000',\n",
       "   '2. high': '171.0000',\n",
       "   '3. low': '168.6000',\n",
       "   '4. close': '169.8000',\n",
       "   '5. volume': '1234298'},\n",
       "  '2025-09-11': {'1. open': '169.2000',\n",
       "   '2. high': '170.8500',\n",
       "   '3. low': '168.5000',\n",
       "   '4. close': '169.4000',\n",
       "   '5. volume': '657665'},\n",
       "  '2025-09-10': {'1. open': '169.1500',\n",
       "   '2. high': '170.7000',\n",
       "   '3. low': '168.3000',\n",
       "   '4. close': '169.3500',\n",
       "   '5. volume': '1843576'},\n",
       "  '2025-09-09': {'1. open': '169.1000',\n",
       "   '2. high': '169.8000',\n",
       "   '3. low': '168.0000',\n",
       "   '4. close': '169.1500',\n",
       "   '5. volume': '1189204'},\n",
       "  '2025-09-08': {'1. open': '169.2500',\n",
       "   '2. high': '172.4500',\n",
       "   '3. low': '168.4500',\n",
       "   '4. close': '168.8500',\n",
       "   '5. volume': '1643011'},\n",
       "  '2025-09-05': {'1. open': '166.8000',\n",
       "   '2. high': '168.0000',\n",
       "   '3. low': '165.9500',\n",
       "   '4. close': '167.6500',\n",
       "   '5. volume': '609853'},\n",
       "  '2025-09-04': {'1. open': '169.0000',\n",
       "   '2. high': '169.2000',\n",
       "   '3. low': '166.6000',\n",
       "   '4. close': '166.7500',\n",
       "   '5. volume': '1328191'},\n",
       "  '2025-09-03': {'1. open': '158.4500',\n",
       "   '2. high': '168.0000',\n",
       "   '3. low': '158.4500',\n",
       "   '4. close': '167.8000',\n",
       "   '5. volume': '8779590'},\n",
       "  '2025-09-02': {'1. open': '155.7500',\n",
       "   '2. high': '159.0500',\n",
       "   '3. low': '155.5000',\n",
       "   '4. close': '158.4500',\n",
       "   '5. volume': '1582539'},\n",
       "  '2025-09-01': {'1. open': '154.3000',\n",
       "   '2. high': '156.3500',\n",
       "   '3. low': '153.9000',\n",
       "   '4. close': '156.2000',\n",
       "   '5. volume': '430231'},\n",
       "  '2025-08-29': {'1. open': '154.2500',\n",
       "   '2. high': '155.2000',\n",
       "   '3. low': '153.0000',\n",
       "   '4. close': '154.4500',\n",
       "   '5. volume': '385029'},\n",
       "  '2025-08-28': {'1. open': '156.1000',\n",
       "   '2. high': '156.1000',\n",
       "   '3. low': '153.2000',\n",
       "   '4. close': '153.5500',\n",
       "   '5. volume': '725103'},\n",
       "  '2025-08-27': {'1. open': '155.0000',\n",
       "   '2. high': '155.0000',\n",
       "   '3. low': '155.0000',\n",
       "   '4. close': '155.0000',\n",
       "   '5. volume': '0'},\n",
       "  '2025-08-26': {'1. open': '159.5000',\n",
       "   '2. high': '159.5000',\n",
       "   '3. low': '154.6000',\n",
       "   '4. close': '155.0000',\n",
       "   '5. volume': '1027421'},\n",
       "  '2025-08-25': {'1. open': '159.0000',\n",
       "   '2. high': '160.3500',\n",
       "   '3. low': '158.6500',\n",
       "   '4. close': '159.6000',\n",
       "   '5. volume': '776129'},\n",
       "  '2025-08-22': {'1. open': '161.4000',\n",
       "   '2. high': '161.4000',\n",
       "   '3. low': '158.2500',\n",
       "   '4. close': '158.5500',\n",
       "   '5. volume': '511168'},\n",
       "  '2025-08-21': {'1. open': '162.0000',\n",
       "   '2. high': '162.5500',\n",
       "   '3. low': '161.1000',\n",
       "   '4. close': '161.5000',\n",
       "   '5. volume': '2531809'},\n",
       "  '2025-08-20': {'1. open': '158.1000',\n",
       "   '2. high': '162.7000',\n",
       "   '3. low': '158.0000',\n",
       "   '4. close': '161.9500',\n",
       "   '5. volume': '996007'},\n",
       "  '2025-08-19': {'1. open': '158.3000',\n",
       "   '2. high': '159.5000',\n",
       "   '3. low': '156.7500',\n",
       "   '4. close': '159.1000',\n",
       "   '5. volume': '547420'},\n",
       "  '2025-08-18': {'1. open': '158.4500',\n",
       "   '2. high': '158.6000',\n",
       "   '3. low': '156.0000',\n",
       "   '4. close': '157.9500',\n",
       "   '5. volume': '1252561'},\n",
       "  '2025-08-14': {'1. open': '160.1500',\n",
       "   '2. high': '162.0000',\n",
       "   '3. low': '154.9000',\n",
       "   '4. close': '155.3000',\n",
       "   '5. volume': '1151146'},\n",
       "  '2025-08-13': {'1. open': '160.5000',\n",
       "   '2. high': '162.4000',\n",
       "   '3. low': '159.8500',\n",
       "   '4. close': '160.1500',\n",
       "   '5. volume': '1993101'},\n",
       "  '2025-08-12': {'1. open': '158.3500',\n",
       "   '2. high': '161.6500',\n",
       "   '3. low': '158.3500',\n",
       "   '4. close': '160.2000',\n",
       "   '5. volume': '2702852'},\n",
       "  '2025-08-11': {'1. open': '157.9000',\n",
       "   '2. high': '160.0000',\n",
       "   '3. low': '157.0500',\n",
       "   '4. close': '158.8500',\n",
       "   '5. volume': '1371736'},\n",
       "  '2025-08-08': {'1. open': '159.2000',\n",
       "   '2. high': '160.0000',\n",
       "   '3. low': '157.0000',\n",
       "   '4. close': '158.0000',\n",
       "   '5. volume': '731632'},\n",
       "  '2025-08-07': {'1. open': '156.8000',\n",
       "   '2. high': '160.0000',\n",
       "   '3. low': '156.2500',\n",
       "   '4. close': '159.7000',\n",
       "   '5. volume': '930942'},\n",
       "  '2025-08-06': {'1. open': '159.6000',\n",
       "   '2. high': '159.8500',\n",
       "   '3. low': '157.8000',\n",
       "   '4. close': '158.7000',\n",
       "   '5. volume': '417517'},\n",
       "  '2025-08-05': {'1. open': '159.6000',\n",
       "   '2. high': '160.1500',\n",
       "   '3. low': '158.2000',\n",
       "   '4. close': '159.6000',\n",
       "   '5. volume': '950491'},\n",
       "  '2025-08-04': {'1. open': '154.3500',\n",
       "   '2. high': '159.9000',\n",
       "   '3. low': '153.6500',\n",
       "   '4. close': '159.6000',\n",
       "   '5. volume': '1200553'},\n",
       "  '2025-08-01': {'1. open': '157.8000',\n",
       "   '2. high': '157.9500',\n",
       "   '3. low': '152.5500',\n",
       "   '4. close': '153.0000',\n",
       "   '5. volume': '860398'},\n",
       "  '2025-07-31': {'1. open': '161.3500',\n",
       "   '2. high': '162.2000',\n",
       "   '3. low': '156.5000',\n",
       "   '4. close': '157.8000',\n",
       "   '5. volume': '1053251'},\n",
       "  '2025-07-30': {'1. open': '161.1000',\n",
       "   '2. high': '162.8500',\n",
       "   '3. low': '161.0500',\n",
       "   '4. close': '161.3500',\n",
       "   '5. volume': '802351'},\n",
       "  '2025-07-29': {'1. open': '158.9500',\n",
       "   '2. high': '162.3500',\n",
       "   '3. low': '158.3000',\n",
       "   '4. close': '161.7000',\n",
       "   '5. volume': '631719'},\n",
       "  '2025-07-28': {'1. open': '161.4000',\n",
       "   '2. high': '162.3000',\n",
       "   '3. low': '159.0500',\n",
       "   '4. close': '159.6500',\n",
       "   '5. volume': '631727'},\n",
       "  '2025-07-25': {'1. open': '163.7000',\n",
       "   '2. high': '163.7000',\n",
       "   '3. low': '160.8000',\n",
       "   '4. close': '161.4000',\n",
       "   '5. volume': '992201'},\n",
       "  '2025-07-24': {'1. open': '162.7500',\n",
       "   '2. high': '164.7000',\n",
       "   '3. low': '162.7500',\n",
       "   '4. close': '163.4500',\n",
       "   '5. volume': '1230280'},\n",
       "  '2025-07-23': {'1. open': '163.1000',\n",
       "   '2. high': '164.1500',\n",
       "   '3. low': '161.9000',\n",
       "   '4. close': '162.8000',\n",
       "   '5. volume': '459930'},\n",
       "  '2025-07-22': {'1. open': '163.1000',\n",
       "   '2. high': '164.4000',\n",
       "   '3. low': '162.8000',\n",
       "   '4. close': '163.0000',\n",
       "   '5. volume': '1038097'},\n",
       "  '2025-07-21': {'1. open': '162.3000',\n",
       "   '2. high': '165.5500',\n",
       "   '3. low': '162.3000',\n",
       "   '4. close': '162.9500',\n",
       "   '5. volume': '2818643'},\n",
       "  '2025-07-18': {'1. open': '160.0500',\n",
       "   '2. high': '162.8500',\n",
       "   '3. low': '160.0500',\n",
       "   '4. close': '162.5000',\n",
       "   '5. volume': '973692'},\n",
       "  '2025-07-17': {'1. open': '157.3500',\n",
       "   '2. high': '160.7500',\n",
       "   '3. low': '157.1500',\n",
       "   '4. close': '159.8500',\n",
       "   '5. volume': '875470'},\n",
       "  '2025-07-16': {'1. open': '158.8000',\n",
       "   '2. high': '159.3000',\n",
       "   '3. low': '157.0000',\n",
       "   '4. close': '157.3000',\n",
       "   '5. volume': '774017'},\n",
       "  '2025-07-15': {'1. open': '160.6000',\n",
       "   '2. high': '160.8500',\n",
       "   '3. low': '158.0500',\n",
       "   '4. close': '159.0500',\n",
       "   '5. volume': '673404'},\n",
       "  '2025-07-14': {'1. open': '159.7000',\n",
       "   '2. high': '161.1000',\n",
       "   '3. low': '159.2500',\n",
       "   '4. close': '160.3500',\n",
       "   '5. volume': '702508'},\n",
       "  '2025-07-11': {'1. open': '160.8500',\n",
       "   '2. high': '161.6500',\n",
       "   '3. low': '159.3500',\n",
       "   '4. close': '159.8500',\n",
       "   '5. volume': '512079'},\n",
       "  '2025-07-10': {'1. open': '160.0000',\n",
       "   '2. high': '161.5500',\n",
       "   '3. low': '159.2500',\n",
       "   '4. close': '160.6500',\n",
       "   '5. volume': '1051278'},\n",
       "  '2025-07-09': {'1. open': '161.9000',\n",
       "   '2. high': '161.9500',\n",
       "   '3. low': '157.5500',\n",
       "   '4. close': '159.0000',\n",
       "   '5. volume': '770093'},\n",
       "  '2025-07-08': {'1. open': '162.2000',\n",
       "   '2. high': '162.9500',\n",
       "   '3. low': '161.5500',\n",
       "   '4. close': '161.9500',\n",
       "   '5. volume': '1019797'},\n",
       "  '2025-07-07': {'1. open': '162.8000',\n",
       "   '2. high': '163.4000',\n",
       "   '3. low': '161.5500',\n",
       "   '4. close': '162.4000',\n",
       "   '5. volume': '527792'},\n",
       "  '2025-07-04': {'1. open': '166.0000',\n",
       "   '2. high': '166.4000',\n",
       "   '3. low': '162.0500',\n",
       "   '4. close': '163.0000',\n",
       "   '5. volume': '932221'},\n",
       "  '2025-07-03': {'1. open': '166.2500',\n",
       "   '2. high': '168.7500',\n",
       "   '3. low': '165.1500',\n",
       "   '4. close': '165.8500',\n",
       "   '5. volume': '3584427'},\n",
       "  '2025-07-02': {'1. open': '160.1000',\n",
       "   '2. high': '166.1000',\n",
       "   '3. low': '159.9000',\n",
       "   '4. close': '165.9000',\n",
       "   '5. volume': '2591744'},\n",
       "  '2025-07-01': {'1. open': '160.3500',\n",
       "   '2. high': '160.3500',\n",
       "   '3. low': '157.7500',\n",
       "   '4. close': '159.9500',\n",
       "   '5. volume': '1482091'},\n",
       "  '2025-06-30': {'1. open': '161.0000',\n",
       "   '2. high': '162.2500',\n",
       "   '3. low': '159.5000',\n",
       "   '4. close': '159.7500',\n",
       "   '5. volume': '759212'},\n",
       "  '2025-06-27': {'1. open': '160.7500',\n",
       "   '2. high': '163.3500',\n",
       "   '3. low': '160.7500',\n",
       "   '4. close': '161.4000',\n",
       "   '5. volume': '1855477'},\n",
       "  '2025-06-26': {'1. open': '156.6000',\n",
       "   '2. high': '161.0000',\n",
       "   '3. low': '156.5500',\n",
       "   '4. close': '160.5000',\n",
       "   '5. volume': '3293862'},\n",
       "  '2025-06-25': {'1. open': '156.0000',\n",
       "   '2. high': '156.8500',\n",
       "   '3. low': '155.5000',\n",
       "   '4. close': '156.4000',\n",
       "   '5. volume': '833954'},\n",
       "  '2025-06-24': {'1. open': '153.3000',\n",
       "   '2. high': '157.0000',\n",
       "   '3. low': '153.3000',\n",
       "   '4. close': '154.8000',\n",
       "   '5. volume': '1831943'},\n",
       "  '2025-06-23': {'1. open': '150.5000',\n",
       "   '2. high': '153.3500',\n",
       "   '3. low': '150.4500',\n",
       "   '4. close': '152.4500',\n",
       "   '5. volume': '566461'},\n",
       "  '2025-06-20': {'1. open': '150.9500',\n",
       "   '2. high': '153.2000',\n",
       "   '3. low': '150.6000',\n",
       "   '4. close': '151.9000',\n",
       "   '5. volume': '488365'},\n",
       "  '2025-06-19': {'1. open': '151.8000',\n",
       "   '2. high': '152.5000',\n",
       "   '3. low': '150.4500',\n",
       "   '4. close': '150.9500',\n",
       "   '5. volume': '502194'},\n",
       "  '2025-06-18': {'1. open': '152.0000',\n",
       "   '2. high': '153.2000',\n",
       "   '3. low': '150.8000',\n",
       "   '4. close': '152.0500',\n",
       "   '5. volume': '754067'},\n",
       "  '2025-06-17': {'1. open': '153.9500',\n",
       "   '2. high': '154.9000',\n",
       "   '3. low': '152.4000',\n",
       "   '4. close': '152.6000',\n",
       "   '5. volume': '442379'},\n",
       "  '2025-06-16': {'1. open': '151.4000',\n",
       "   '2. high': '154.4500',\n",
       "   '3. low': '150.8000',\n",
       "   '4. close': '154.1000',\n",
       "   '5. volume': '1127804'},\n",
       "  '2025-06-13': {'1. open': '150.8500',\n",
       "   '2. high': '152.4000',\n",
       "   '3. low': '149.7000',\n",
       "   '4. close': '152.2000',\n",
       "   '5. volume': '1405591'},\n",
       "  '2025-06-12': {'1. open': '156.2000',\n",
       "   '2. high': '156.2000',\n",
       "   '3. low': '151.8500',\n",
       "   '4. close': '152.8500',\n",
       "   '5. volume': '806446'},\n",
       "  '2025-06-11': {'1. open': '156.2000',\n",
       "   '2. high': '157.5500',\n",
       "   '3. low': '155.2500',\n",
       "   '4. close': '156.3500',\n",
       "   '5. volume': '1282320'},\n",
       "  '2025-06-10': {'1. open': '157.8000',\n",
       "   '2. high': '159.3500',\n",
       "   '3. low': '155.4500',\n",
       "   '4. close': '155.7000',\n",
       "   '5. volume': '1172765'},\n",
       "  '2025-06-09': {'1. open': '157.5000',\n",
       "   '2. high': '158.2500',\n",
       "   '3. low': '156.7500',\n",
       "   '4. close': '157.2500',\n",
       "   '5. volume': '1526657'},\n",
       "  '2025-06-06': {'1. open': '155.9000',\n",
       "   '2. high': '157.8500',\n",
       "   '3. low': '154.3000',\n",
       "   '4. close': '157.5000',\n",
       "   '5. volume': '1469254'},\n",
       "  '2025-06-05': {'1. open': '158.6000',\n",
       "   '2. high': '159.1000',\n",
       "   '3. low': '157.0000',\n",
       "   '4. close': '158.0000',\n",
       "   '5. volume': '641989'},\n",
       "  '2025-06-04': {'1. open': '157.2500',\n",
       "   '2. high': '158.9500',\n",
       "   '3. low': '156.8000',\n",
       "   '4. close': '158.1500',\n",
       "   '5. volume': '699088'},\n",
       "  '2025-06-03': {'1. open': '159.0000',\n",
       "   '2. high': '160.6000',\n",
       "   '3. low': '157.0500',\n",
       "   '4. close': '157.3000',\n",
       "   '5. volume': '1679863'},\n",
       "  '2025-06-02': {'1. open': '158.0500',\n",
       "   '2. high': '160.2000',\n",
       "   '3. low': '157.2500',\n",
       "   '4. close': '159.0500',\n",
       "   '5. volume': '1058729'},\n",
       "  '2025-05-30': {'1. open': '163.1000',\n",
       "   '2. high': '163.9000',\n",
       "   '3. low': '160.5000',\n",
       "   '4. close': '161.0000',\n",
       "   '5. volume': '632196'},\n",
       "  '2025-05-29': {'1. open': '162.0000',\n",
       "   '2. high': '163.9500',\n",
       "   '3. low': '161.4000',\n",
       "   '4. close': '163.1000',\n",
       "   '5. volume': '1081277'},\n",
       "  '2025-05-28': {'1. open': '162.6000',\n",
       "   '2. high': '162.7000',\n",
       "   '3. low': '160.6000',\n",
       "   '4. close': '161.0500',\n",
       "   '5. volume': '1164070'},\n",
       "  '2025-05-27': {'1. open': '162.3000',\n",
       "   '2. high': '163.9000',\n",
       "   '3. low': '160.5500',\n",
       "   '4. close': '161.7000',\n",
       "   '5. volume': '1240748'},\n",
       "  '2025-05-26': {'1. open': '163.0000',\n",
       "   '2. high': '165.6000',\n",
       "   '3. low': '162.0000',\n",
       "   '4. close': '162.4000',\n",
       "   '5. volume': '1107656'},\n",
       "  '2025-05-23': {'1. open': '161.5000',\n",
       "   '2. high': '163.2500',\n",
       "   '3. low': '161.5000',\n",
       "   '4. close': '162.9000',\n",
       "   '5. volume': '1313619'},\n",
       "  '2025-05-22': {'1. open': '160.0500',\n",
       "   '2. high': '163.5500',\n",
       "   '3. low': '160.0500',\n",
       "   '4. close': '161.2500',\n",
       "   '5. volume': '1971611'},\n",
       "  '2025-05-21': {'1. open': '159.3500',\n",
       "   '2. high': '161.9000',\n",
       "   '3. low': '158.6000',\n",
       "   '4. close': '161.6000',\n",
       "   '5. volume': '986711'},\n",
       "  '2025-05-20': {'1. open': '158.0500',\n",
       "   '2. high': '162.0000',\n",
       "   '3. low': '158.0500',\n",
       "   '4. close': '158.6500',\n",
       "   '5. volume': '1759376'},\n",
       "  '2025-05-19': {'1. open': '157.0500',\n",
       "   '2. high': '158.0500',\n",
       "   '3. low': '156.1500',\n",
       "   '4. close': '157.5000',\n",
       "   '5. volume': '837651'},\n",
       "  '2025-05-16': {'1. open': '157.7500',\n",
       "   '2. high': '158.2500',\n",
       "   '3. low': '157.0000',\n",
       "   '4. close': '157.4500',\n",
       "   '5. volume': '918450'},\n",
       "  '2025-05-15': {'1. open': '156.0500',\n",
       "   '2. high': '157.8500',\n",
       "   '3. low': '154.3000',\n",
       "   '4. close': '157.3500',\n",
       "   '5. volume': '1810366'},\n",
       "  '2025-05-14': {'1. open': '151.2000',\n",
       "   '2. high': '157.1500',\n",
       "   '3. low': '151.0000',\n",
       "   '4. close': '155.3000',\n",
       "   '5. volume': '4546411'},\n",
       "  '2025-05-13': {'1. open': '152.3500',\n",
       "   '2. high': '152.9500',\n",
       "   '3. low': '149.0500',\n",
       "   '4. close': '149.5000',\n",
       "   '5. volume': '3408140'},\n",
       "  '2025-05-12': {'1. open': '145.7500',\n",
       "   '2. high': '151.9500',\n",
       "   '3. low': '144.9500',\n",
       "   '4. close': '151.5500',\n",
       "   '5. volume': '1709993'},\n",
       "  '2025-05-09': {'1. open': '140.6000',\n",
       "   '2. high': '143.3000',\n",
       "   '3. low': '140.4000',\n",
       "   '4. close': '142.7500',\n",
       "   '5. volume': '1082494'},\n",
       "  '2025-05-08': {'1. open': '146.2500',\n",
       "   '2. high': '146.7000',\n",
       "   '3. low': '143.0000',\n",
       "   '4. close': '143.6500',\n",
       "   '5. volume': '1737854'},\n",
       "  '2025-05-07': {'1. open': '142.0500',\n",
       "   '2. high': '147.4000',\n",
       "   '3. low': '142.0500',\n",
       "   '4. close': '146.3000',\n",
       "   '5. volume': '1667608'},\n",
       "  '2025-05-06': {'1. open': '141.6000',\n",
       "   '2. high': '145.3500',\n",
       "   '3. low': '141.5000',\n",
       "   '4. close': '144.4000',\n",
       "   '5. volume': '3407650'},\n",
       "  '2025-05-05': {'1. open': '141.3500',\n",
       "   '2. high': '142.7000',\n",
       "   '3. low': '141.1500',\n",
       "   '4. close': '142.1000',\n",
       "   '5. volume': '1287804'},\n",
       "  '2025-05-02': {'1. open': '139.8500',\n",
       "   '2. high': '143.0500',\n",
       "   '3. low': '139.5000',\n",
       "   '4. close': '141.3000',\n",
       "   '5. volume': '703628'},\n",
       "  '2025-04-30': {'1. open': '140.4000',\n",
       "   '2. high': '141.5500',\n",
       "   '3. low': '138.5000',\n",
       "   '4. close': '139.7500',\n",
       "   '5. volume': '752026'}}}"
      ]
     },
     "execution_count": 22,
     "metadata": {},
     "output_type": "execute_result"
    }
   ],
   "source": [
    "data2"
   ]
  },
  {
   "cell_type": "code",
   "execution_count": 23,
   "id": "357e3562",
   "metadata": {},
   "outputs": [
    {
     "data": {
      "text/plain": [
       "dict_keys(['Meta Data', 'Time Series (Daily)'])"
      ]
     },
     "execution_count": 23,
     "metadata": {},
     "output_type": "execute_result"
    }
   ],
   "source": [
    "data2.keys()"
   ]
  },
  {
   "cell_type": "code",
   "execution_count": 26,
   "id": "96863735",
   "metadata": {},
   "outputs": [],
   "source": [
    "import  pandas as  pd"
   ]
  },
  {
   "cell_type": "code",
   "execution_count": 28,
   "id": "b2000b8e",
   "metadata": {},
   "outputs": [
    {
     "data": {
      "text/html": [
       "<div>\n",
       "<style scoped>\n",
       "    .dataframe tbody tr th:only-of-type {\n",
       "        vertical-align: middle;\n",
       "    }\n",
       "\n",
       "    .dataframe tbody tr th {\n",
       "        vertical-align: top;\n",
       "    }\n",
       "\n",
       "    .dataframe thead th {\n",
       "        text-align: right;\n",
       "    }\n",
       "</style>\n",
       "<table border=\"1\" class=\"dataframe\">\n",
       "  <thead>\n",
       "    <tr style=\"text-align: right;\">\n",
       "      <th></th>\n",
       "      <th>1. open</th>\n",
       "      <th>2. high</th>\n",
       "      <th>3. low</th>\n",
       "      <th>4. close</th>\n",
       "      <th>5. volume</th>\n",
       "    </tr>\n",
       "  </thead>\n",
       "  <tbody>\n",
       "    <tr>\n",
       "      <th>2025-09-18</th>\n",
       "      <td>171.6500</td>\n",
       "      <td>172.2500</td>\n",
       "      <td>169.8000</td>\n",
       "      <td>172.0000</td>\n",
       "      <td>1025203</td>\n",
       "    </tr>\n",
       "    <tr>\n",
       "      <th>2025-09-17</th>\n",
       "      <td>172.6000</td>\n",
       "      <td>172.6000</td>\n",
       "      <td>169.3000</td>\n",
       "      <td>171.2500</td>\n",
       "      <td>1225524</td>\n",
       "    </tr>\n",
       "    <tr>\n",
       "      <th>2025-09-16</th>\n",
       "      <td>168.6000</td>\n",
       "      <td>172.3000</td>\n",
       "      <td>168.6000</td>\n",
       "      <td>172.0000</td>\n",
       "      <td>1714698</td>\n",
       "    </tr>\n",
       "    <tr>\n",
       "      <th>2025-09-15</th>\n",
       "      <td>169.6000</td>\n",
       "      <td>170.2000</td>\n",
       "      <td>168.6000</td>\n",
       "      <td>169.2000</td>\n",
       "      <td>1933165</td>\n",
       "    </tr>\n",
       "    <tr>\n",
       "      <th>2025-09-12</th>\n",
       "      <td>169.8000</td>\n",
       "      <td>171.0000</td>\n",
       "      <td>168.6000</td>\n",
       "      <td>169.8000</td>\n",
       "      <td>1234298</td>\n",
       "    </tr>\n",
       "    <tr>\n",
       "      <th>...</th>\n",
       "      <td>...</td>\n",
       "      <td>...</td>\n",
       "      <td>...</td>\n",
       "      <td>...</td>\n",
       "      <td>...</td>\n",
       "    </tr>\n",
       "    <tr>\n",
       "      <th>2025-05-07</th>\n",
       "      <td>142.0500</td>\n",
       "      <td>147.4000</td>\n",
       "      <td>142.0500</td>\n",
       "      <td>146.3000</td>\n",
       "      <td>1667608</td>\n",
       "    </tr>\n",
       "    <tr>\n",
       "      <th>2025-05-06</th>\n",
       "      <td>141.6000</td>\n",
       "      <td>145.3500</td>\n",
       "      <td>141.5000</td>\n",
       "      <td>144.4000</td>\n",
       "      <td>3407650</td>\n",
       "    </tr>\n",
       "    <tr>\n",
       "      <th>2025-05-05</th>\n",
       "      <td>141.3500</td>\n",
       "      <td>142.7000</td>\n",
       "      <td>141.1500</td>\n",
       "      <td>142.1000</td>\n",
       "      <td>1287804</td>\n",
       "    </tr>\n",
       "    <tr>\n",
       "      <th>2025-05-02</th>\n",
       "      <td>139.8500</td>\n",
       "      <td>143.0500</td>\n",
       "      <td>139.5000</td>\n",
       "      <td>141.3000</td>\n",
       "      <td>703628</td>\n",
       "    </tr>\n",
       "    <tr>\n",
       "      <th>2025-04-30</th>\n",
       "      <td>140.4000</td>\n",
       "      <td>141.5500</td>\n",
       "      <td>138.5000</td>\n",
       "      <td>139.7500</td>\n",
       "      <td>752026</td>\n",
       "    </tr>\n",
       "  </tbody>\n",
       "</table>\n",
       "<p>100 rows × 5 columns</p>\n",
       "</div>"
      ],
      "text/plain": [
       "             1. open   2. high    3. low  4. close 5. volume\n",
       "2025-09-18  171.6500  172.2500  169.8000  172.0000   1025203\n",
       "2025-09-17  172.6000  172.6000  169.3000  171.2500   1225524\n",
       "2025-09-16  168.6000  172.3000  168.6000  172.0000   1714698\n",
       "2025-09-15  169.6000  170.2000  168.6000  169.2000   1933165\n",
       "2025-09-12  169.8000  171.0000  168.6000  169.8000   1234298\n",
       "...              ...       ...       ...       ...       ...\n",
       "2025-05-07  142.0500  147.4000  142.0500  146.3000   1667608\n",
       "2025-05-06  141.6000  145.3500  141.5000  144.4000   3407650\n",
       "2025-05-05  141.3500  142.7000  141.1500  142.1000   1287804\n",
       "2025-05-02  139.8500  143.0500  139.5000  141.3000    703628\n",
       "2025-04-30  140.4000  141.5500  138.5000  139.7500    752026\n",
       "\n",
       "[100 rows x 5 columns]"
      ]
     },
     "execution_count": 28,
     "metadata": {},
     "output_type": "execute_result"
    }
   ],
   "source": [
    "#data2['Time Series (Daily)']\n",
    "df  = pd.DataFrame(data2['Time Series (Daily)']).T\n",
    "df "
   ]
  },
  {
   "cell_type": "code",
   "execution_count": 32,
   "id": "116e4b9e",
   "metadata": {},
   "outputs": [
    {
     "data": {
      "text/plain": [
       "1. open      object\n",
       "2. high      object\n",
       "3. low       object\n",
       "4. close     object\n",
       "5. volume    object\n",
       "dtype: object"
      ]
     },
     "execution_count": 32,
     "metadata": {},
     "output_type": "execute_result"
    }
   ],
   "source": [
    "df.dtypes"
   ]
  },
  {
   "cell_type": "code",
   "execution_count": 34,
   "id": "a5067d8e",
   "metadata": {},
   "outputs": [
    {
     "data": {
      "text/plain": [
       "Index(['2025-09-18', '2025-09-17', '2025-09-16', '2025-09-15', '2025-09-12',\n",
       "       '2025-09-11', '2025-09-10', '2025-09-09', '2025-09-08', '2025-09-05',\n",
       "       '2025-09-04', '2025-09-03', '2025-09-02', '2025-09-01', '2025-08-29',\n",
       "       '2025-08-28', '2025-08-27', '2025-08-26', '2025-08-25', '2025-08-22',\n",
       "       '2025-08-21', '2025-08-20', '2025-08-19', '2025-08-18', '2025-08-14',\n",
       "       '2025-08-13', '2025-08-12', '2025-08-11', '2025-08-08', '2025-08-07',\n",
       "       '2025-08-06', '2025-08-05', '2025-08-04', '2025-08-01', '2025-07-31',\n",
       "       '2025-07-30', '2025-07-29', '2025-07-28', '2025-07-25', '2025-07-24',\n",
       "       '2025-07-23', '2025-07-22', '2025-07-21', '2025-07-18', '2025-07-17',\n",
       "       '2025-07-16', '2025-07-15', '2025-07-14', '2025-07-11', '2025-07-10',\n",
       "       '2025-07-09', '2025-07-08', '2025-07-07', '2025-07-04', '2025-07-03',\n",
       "       '2025-07-02', '2025-07-01', '2025-06-30', '2025-06-27', '2025-06-26',\n",
       "       '2025-06-25', '2025-06-24', '2025-06-23', '2025-06-20', '2025-06-19',\n",
       "       '2025-06-18', '2025-06-17', '2025-06-16', '2025-06-13', '2025-06-12',\n",
       "       '2025-06-11', '2025-06-10', '2025-06-09', '2025-06-06', '2025-06-05',\n",
       "       '2025-06-04', '2025-06-03', '2025-06-02', '2025-05-30', '2025-05-29',\n",
       "       '2025-05-28', '2025-05-27', '2025-05-26', '2025-05-23', '2025-05-22',\n",
       "       '2025-05-21', '2025-05-20', '2025-05-19', '2025-05-16', '2025-05-15',\n",
       "       '2025-05-14', '2025-05-13', '2025-05-12', '2025-05-09', '2025-05-08',\n",
       "       '2025-05-07', '2025-05-06', '2025-05-05', '2025-05-02', '2025-04-30'],\n",
       "      dtype='object')"
      ]
     },
     "execution_count": 34,
     "metadata": {},
     "output_type": "execute_result"
    }
   ],
   "source": [
    "# convert  data  in float  and date  in datetime\n",
    "df.index"
   ]
  },
  {
   "cell_type": "code",
   "execution_count": 35,
   "id": "680b8065",
   "metadata": {},
   "outputs": [],
   "source": [
    "df= df.astype('float')"
   ]
  },
  {
   "cell_type": "code",
   "execution_count": 36,
   "id": "e59a91d7",
   "metadata": {},
   "outputs": [
    {
     "data": {
      "text/plain": [
       "1. open      float64\n",
       "2. high      float64\n",
       "3. low       float64\n",
       "4. close     float64\n",
       "5. volume    float64\n",
       "dtype: object"
      ]
     },
     "execution_count": 36,
     "metadata": {},
     "output_type": "execute_result"
    }
   ],
   "source": [
    "df.dtypes"
   ]
  },
  {
   "cell_type": "code",
   "execution_count": 37,
   "id": "46b47920",
   "metadata": {},
   "outputs": [],
   "source": [
    "# for index \n",
    "df.index  =  pd.to_datetime(df.index)"
   ]
  },
  {
   "cell_type": "code",
   "execution_count": 38,
   "id": "0c18ba9e",
   "metadata": {},
   "outputs": [
    {
     "data": {
      "text/plain": [
       "DatetimeIndex(['2025-09-18', '2025-09-17', '2025-09-16', '2025-09-15',\n",
       "               '2025-09-12', '2025-09-11', '2025-09-10', '2025-09-09',\n",
       "               '2025-09-08', '2025-09-05', '2025-09-04', '2025-09-03',\n",
       "               '2025-09-02', '2025-09-01', '2025-08-29', '2025-08-28',\n",
       "               '2025-08-27', '2025-08-26', '2025-08-25', '2025-08-22',\n",
       "               '2025-08-21', '2025-08-20', '2025-08-19', '2025-08-18',\n",
       "               '2025-08-14', '2025-08-13', '2025-08-12', '2025-08-11',\n",
       "               '2025-08-08', '2025-08-07', '2025-08-06', '2025-08-05',\n",
       "               '2025-08-04', '2025-08-01', '2025-07-31', '2025-07-30',\n",
       "               '2025-07-29', '2025-07-28', '2025-07-25', '2025-07-24',\n",
       "               '2025-07-23', '2025-07-22', '2025-07-21', '2025-07-18',\n",
       "               '2025-07-17', '2025-07-16', '2025-07-15', '2025-07-14',\n",
       "               '2025-07-11', '2025-07-10', '2025-07-09', '2025-07-08',\n",
       "               '2025-07-07', '2025-07-04', '2025-07-03', '2025-07-02',\n",
       "               '2025-07-01', '2025-06-30', '2025-06-27', '2025-06-26',\n",
       "               '2025-06-25', '2025-06-24', '2025-06-23', '2025-06-20',\n",
       "               '2025-06-19', '2025-06-18', '2025-06-17', '2025-06-16',\n",
       "               '2025-06-13', '2025-06-12', '2025-06-11', '2025-06-10',\n",
       "               '2025-06-09', '2025-06-06', '2025-06-05', '2025-06-04',\n",
       "               '2025-06-03', '2025-06-02', '2025-05-30', '2025-05-29',\n",
       "               '2025-05-28', '2025-05-27', '2025-05-26', '2025-05-23',\n",
       "               '2025-05-22', '2025-05-21', '2025-05-20', '2025-05-19',\n",
       "               '2025-05-16', '2025-05-15', '2025-05-14', '2025-05-13',\n",
       "               '2025-05-12', '2025-05-09', '2025-05-08', '2025-05-07',\n",
       "               '2025-05-06', '2025-05-05', '2025-05-02', '2025-04-30'],\n",
       "              dtype='datetime64[ns]', freq=None)"
      ]
     },
     "execution_count": 38,
     "metadata": {},
     "output_type": "execute_result"
    }
   ],
   "source": [
    "df.index"
   ]
  },
  {
   "cell_type": "code",
   "execution_count": 39,
   "id": "f9306443",
   "metadata": {},
   "outputs": [],
   "source": [
    "# give  name  to index\n",
    "df.index.name =  'Date'"
   ]
  },
  {
   "cell_type": "code",
   "execution_count": 40,
   "id": "2b760988",
   "metadata": {},
   "outputs": [
    {
     "data": {
      "text/html": [
       "<div>\n",
       "<style scoped>\n",
       "    .dataframe tbody tr th:only-of-type {\n",
       "        vertical-align: middle;\n",
       "    }\n",
       "\n",
       "    .dataframe tbody tr th {\n",
       "        vertical-align: top;\n",
       "    }\n",
       "\n",
       "    .dataframe thead th {\n",
       "        text-align: right;\n",
       "    }\n",
       "</style>\n",
       "<table border=\"1\" class=\"dataframe\">\n",
       "  <thead>\n",
       "    <tr style=\"text-align: right;\">\n",
       "      <th></th>\n",
       "      <th>1. open</th>\n",
       "      <th>2. high</th>\n",
       "      <th>3. low</th>\n",
       "      <th>4. close</th>\n",
       "      <th>5. volume</th>\n",
       "    </tr>\n",
       "    <tr>\n",
       "      <th>Date</th>\n",
       "      <th></th>\n",
       "      <th></th>\n",
       "      <th></th>\n",
       "      <th></th>\n",
       "      <th></th>\n",
       "    </tr>\n",
       "  </thead>\n",
       "  <tbody>\n",
       "    <tr>\n",
       "      <th>2025-09-18</th>\n",
       "      <td>171.65</td>\n",
       "      <td>172.25</td>\n",
       "      <td>169.8</td>\n",
       "      <td>172.00</td>\n",
       "      <td>1025203.0</td>\n",
       "    </tr>\n",
       "    <tr>\n",
       "      <th>2025-09-17</th>\n",
       "      <td>172.60</td>\n",
       "      <td>172.60</td>\n",
       "      <td>169.3</td>\n",
       "      <td>171.25</td>\n",
       "      <td>1225524.0</td>\n",
       "    </tr>\n",
       "    <tr>\n",
       "      <th>2025-09-16</th>\n",
       "      <td>168.60</td>\n",
       "      <td>172.30</td>\n",
       "      <td>168.6</td>\n",
       "      <td>172.00</td>\n",
       "      <td>1714698.0</td>\n",
       "    </tr>\n",
       "    <tr>\n",
       "      <th>2025-09-15</th>\n",
       "      <td>169.60</td>\n",
       "      <td>170.20</td>\n",
       "      <td>168.6</td>\n",
       "      <td>169.20</td>\n",
       "      <td>1933165.0</td>\n",
       "    </tr>\n",
       "    <tr>\n",
       "      <th>2025-09-12</th>\n",
       "      <td>169.80</td>\n",
       "      <td>171.00</td>\n",
       "      <td>168.6</td>\n",
       "      <td>169.80</td>\n",
       "      <td>1234298.0</td>\n",
       "    </tr>\n",
       "  </tbody>\n",
       "</table>\n",
       "</div>"
      ],
      "text/plain": [
       "            1. open  2. high  3. low  4. close  5. volume\n",
       "Date                                                     \n",
       "2025-09-18   171.65   172.25   169.8    172.00  1025203.0\n",
       "2025-09-17   172.60   172.60   169.3    171.25  1225524.0\n",
       "2025-09-16   168.60   172.30   168.6    172.00  1714698.0\n",
       "2025-09-15   169.60   170.20   168.6    169.20  1933165.0\n",
       "2025-09-12   169.80   171.00   168.6    169.80  1234298.0"
      ]
     },
     "execution_count": 40,
     "metadata": {},
     "output_type": "execute_result"
    }
   ],
   "source": [
    "df.head()"
   ]
  },
  {
   "cell_type": "markdown",
   "id": "0b796bd8",
   "metadata": {},
   "source": [
    "### plot candelstick  chart"
   ]
  },
  {
   "cell_type": "code",
   "execution_count": 44,
   "id": "51e367e0",
   "metadata": {},
   "outputs": [],
   "source": [
    "import   plotly.graph_objects  as  go"
   ]
  },
  {
   "cell_type": "code",
   "execution_count": 49,
   "id": "6ca4a2f2",
   "metadata": {},
   "outputs": [
    {
     "data": {
      "application/vnd.plotly.v1+json": {
       "config": {
        "plotlyServerURL": "https://plot.ly"
       },
       "data": [
        {
         "close": {
          "bdata": "AAAAAACAZUAAAAAAAGhlQAAAAAAAgGVAZmZmZmYmZUCamZmZmTllQM3MzMzMLGVAMzMzMzMrZUDNzMzMzCRlQDMzMzMzG2VAzczMzMz0ZEAAAAAAANhkQJqZmZmZ+WRAZmZmZmbOY0BmZmZmZoZjQGZmZmZmTmNAmpmZmZkxY0AAAAAAAGBjQAAAAAAAYGNAMzMzMzPzY0CamZmZmdFjQAAAAAAAMGRAZmZmZmY+ZEAzMzMzM+NjQGZmZmZmvmNAmpmZmZlpY0DNzMzMzARkQGZmZmZmBmRAMzMzMzPbY0AAAAAAAMBjQGZmZmZm9mNAZmZmZmbWY0AzMzMzM/NjQDMzMzMz82NAAAAAAAAgY0CamZmZmbljQDMzMzMzK2RAZmZmZmY2ZEDNzMzMzPRjQM3MzMzMLGRAZmZmZmZuZECamZmZmVlkQAAAAAAAYGRAZmZmZmZeZEAAAAAAAFBkQDMzMzMz+2NAmpmZmZmpY0CamZmZmeFjQDMzMzMzC2RAMzMzMzP7Y0DNzMzMzBRkQAAAAAAA4GNAZmZmZmY+ZEDNzMzMzExkQAAAAAAAYGRAMzMzMzO7ZEDNzMzMzLxkQGZmZmZm/mNAAAAAAAD4Y0DNzMzMzCxkQAAAAAAAEGRAzczMzMyMY0CamZmZmVljQGZmZmZmDmNAzczMzMz8YkBmZmZmZt5iQJqZmZmZAWNAMzMzMzMTY0AzMzMzM0NjQGZmZmZmBmNAMzMzMzMbY0AzMzMzM4tjQGZmZmZmdmNAAAAAAACoY0AAAAAAALBjQAAAAAAAwGNAzczMzMzEY0CamZmZmaljQJqZmZmZ4WNAAAAAAAAgZEAzMzMzM2NkQJqZmZmZIWRAZmZmZmY2ZEDNzMzMzExkQM3MzMzMXGRAAAAAAAAoZEAzMzMzMzNkQM3MzMzM1GNAAAAAAACwY0BmZmZmZq5jQDMzMzMzq2NAmpmZmZlpY0AAAAAAALBiQJqZmZmZ8WJAAAAAAADYYUDNzMzMzPRhQJqZmZmZSWJAzczMzMwMYkAzMzMzM8NhQJqZmZmZqWFAAAAAAAB4YUA=",
          "dtype": "f8"
         },
         "high": {
          "bdata": "AAAAAACIZUAzMzMzM5NlQJqZmZmZiWVAZmZmZmZGZUAAAAAAAGBlQDMzMzMzW2VAZmZmZmZWZUCamZmZmTllQGZmZmZmjmVAAAAAAAAAZUBmZmZmZiZlQAAAAAAAAGVAmpmZmZnhY0AzMzMzM4tjQGZmZmZmZmNAMzMzMzODY0AAAAAAAGBjQAAAAAAA8GNAMzMzMzMLZEDNzMzMzCxkQJqZmZmZUWRAZmZmZmZWZEAAAAAAAPBjQDMzMzMz02NAAAAAAABAZEDNzMzMzExkQM3MzMzMNGRAAAAAAAAAZEAAAAAAAABkQAAAAAAAAGRAMzMzMzP7Y0DNzMzMzARkQM3MzMzM/GNAZmZmZma+Y0BmZmZmZkZkQDMzMzMzW2RAMzMzMzNLZECamZmZmUlkQGZmZmZmdmRAZmZmZmaWZEDNzMzMzIRkQM3MzMzMjGRAmpmZmZmxZEAzMzMzM1tkQAAAAAAAGGRAmpmZmZnpY0AzMzMzMxtkQDMzMzMzI2RAzczMzMw0ZECamZmZmTFkQGZmZmZmPmRAZmZmZmZeZEDNzMzMzGxkQM3MzMzMzGRAAAAAAAAYZUAzMzMzM8NkQDMzMzMzC2RAAAAAAABIZEAzMzMzM2tkQAAAAAAAIGRAMzMzMzObY0AAAAAAAKBjQDMzMzMzK2NAZmZmZmYmY0AAAAAAABBjQGZmZmZmJmNAzczMzMxcY0BmZmZmZk5jQM3MzMzMDGNAZmZmZmaGY0CamZmZmbFjQDMzMzMz62NAAAAAAADIY0AzMzMzM7tjQDMzMzMz42NAZmZmZmbeY0AzMzMzMxNkQGZmZmZmBmRAzczMzMx8ZEBmZmZmZn5kQGZmZmZmVmRAzczMzMx8ZEAzMzMzM7NkQAAAAAAAaGRAmpmZmZlxZEDNzMzMzDxkQAAAAAAAQGRAmpmZmZnBY0AAAAAAAMhjQDMzMzMzu2NAzczMzMykY0BmZmZmZh5jQGZmZmZm/mJAmpmZmZnpYUBmZmZmZlZiQM3MzMzMbGJAMzMzMzMrYkBmZmZmZtZhQJqZmZmZ4WFAmpmZmZmxYUA=",
          "dtype": "f8"
         },
         "low": {
          "bdata": "mpmZmZk5ZUCamZmZmSllQDMzMzMzE2VAMzMzMzMTZUAzMzMzMxNlQAAAAAAAEGVAmpmZmZkJZUAAAAAAAABlQGZmZmZmDmVAZmZmZma+ZEAzMzMzM9NkQGZmZmZmzmNAAAAAAABwY0DNzMzMzDxjQAAAAAAAIGNAZmZmZmYmY0AAAAAAAGBjQDMzMzMzU2NAzczMzMzUY0AAAAAAAMhjQDMzMzMzI2RAAAAAAADAY0AAAAAAAJhjQAAAAAAAgGNAzczMzMxcY0AzMzMzM/tjQDMzMzMzy2NAmpmZmZmhY0AAAAAAAKBjQAAAAAAAiGNAmpmZmZm5Y0BmZmZmZsZjQM3MzMzMNGNAmpmZmZkRY0AAAAAAAJBjQJqZmZmZIWRAmpmZmZnJY0CamZmZmeFjQJqZmZmZGWRAAAAAAABYZEDNzMzMzDxkQJqZmZmZWWRAmpmZmZlJZECamZmZmQFkQM3MzMzMpGNAAAAAAACgY0CamZmZmcFjQAAAAAAA6GNAMzMzMzPrY0AAAAAAAOhjQJqZmZmZsWNAmpmZmZkxZECamZmZmTFkQJqZmZmZQWRAzczMzMykZEDNzMzMzPxjQAAAAAAAuGNAAAAAAADwY0AAAAAAABhkQJqZmZmZkWNAAAAAAABwY0CamZmZmSljQGZmZmZmzmJAMzMzMzPTYkBmZmZmZs5iQJqZmZmZ2WJAzczMzMwMY0CamZmZmdliQGZmZmZmtmJAMzMzMzP7YkAAAAAAAGhjQGZmZmZmbmNAAAAAAACYY0CamZmZmUljQAAAAAAAoGNAmpmZmZmZY0CamZmZmaFjQAAAAAAAqGNAAAAAAAAQZEDNzMzMzCxkQDMzMzMzE2RAmpmZmZkRZEAAAAAAAEBkQAAAAAAAMGRAmpmZmZkBZEAzMzMzM9NjQJqZmZmZwWNAzczMzMyEY0AAAAAAAKBjQJqZmZmZSWNAAAAAAADgYkCamZmZmaFiQGZmZmZmHmJAzczMzMyMYUAAAAAAAOBhQJqZmZmZwWFAAAAAAACwYUDNzMzMzKRhQAAAAAAAcGFAAAAAAABQYUA=",
          "dtype": "f8"
         },
         "open": {
          "bdata": "zczMzMx0ZUAzMzMzM5NlQDMzMzMzE2VAMzMzMzMzZUCamZmZmTllQGZmZmZmJmVAzczMzMwkZUAzMzMzMyNlQAAAAAAAKGVAmpmZmZnZZEAAAAAAACBlQGZmZmZmzmNAAAAAAAB4Y0CamZmZmUljQAAAAAAASGNAMzMzMzODY0AAAAAAAGBjQAAAAAAA8GNAAAAAAADgY0DNzMzMzCxkQAAAAAAAQGRAMzMzMzPDY0CamZmZmcljQGZmZmZmzmNAzczMzMwEZEAAAAAAABBkQDMzMzMzy2NAzczMzMy8Y0BmZmZmZuZjQJqZmZmZmWNAMzMzMzPzY0AzMzMzM/NjQDMzMzMzS2NAmpmZmZm5Y0AzMzMzMytkQDMzMzMzI2RAZmZmZmbeY0DNzMzMzCxkQGZmZmZmdmRAAAAAAABYZEAzMzMzM2NkQDMzMzMzY2RAmpmZmZlJZECamZmZmQFkQDMzMzMzq2NAmpmZmZnZY0AzMzMzMxNkQGZmZmZm9mNAMzMzMzMbZEAAAAAAAABkQM3MzMzMPGRAZmZmZmZGZECamZmZmVlkQAAAAAAAwGRAAAAAAADIZEAzMzMzMwNkQDMzMzMzC2RAAAAAAAAgZEAAAAAAABhkQDMzMzMzk2NAAAAAAACAY0CamZmZmSljQAAAAAAA0GJAZmZmZmbeYkCamZmZmfliQAAAAAAAAGNAZmZmZmY+Y0DNzMzMzOxiQDMzMzMz22JAZmZmZmaGY0BmZmZmZoZjQJqZmZmZuWNAAAAAAACwY0DNzMzMzHxjQDMzMzMz02NAAAAAAACoY0AAAAAAAOBjQJqZmZmZwWNAMzMzMzNjZEAAAAAAAEBkQDMzMzMzU2RAmpmZmZlJZEAAAAAAAGBkQAAAAAAAMGRAmpmZmZkBZEAzMzMzM+tjQJqZmZmZwWNAmpmZmZmhY0AAAAAAALhjQJqZmZmZgWNAZmZmZmbmYkAzMzMzMwtjQAAAAAAAOGJAMzMzMzOTYUAAAAAAAEhiQJqZmZmZwWFAMzMzMzOzYUAzMzMzM6thQDMzMzMze2FAzczMzMyMYUA=",
          "dtype": "f8"
         },
         "type": "candlestick",
         "x": [
          "2025-09-18T00:00:00.000000000",
          "2025-09-17T00:00:00.000000000",
          "2025-09-16T00:00:00.000000000",
          "2025-09-15T00:00:00.000000000",
          "2025-09-12T00:00:00.000000000",
          "2025-09-11T00:00:00.000000000",
          "2025-09-10T00:00:00.000000000",
          "2025-09-09T00:00:00.000000000",
          "2025-09-08T00:00:00.000000000",
          "2025-09-05T00:00:00.000000000",
          "2025-09-04T00:00:00.000000000",
          "2025-09-03T00:00:00.000000000",
          "2025-09-02T00:00:00.000000000",
          "2025-09-01T00:00:00.000000000",
          "2025-08-29T00:00:00.000000000",
          "2025-08-28T00:00:00.000000000",
          "2025-08-27T00:00:00.000000000",
          "2025-08-26T00:00:00.000000000",
          "2025-08-25T00:00:00.000000000",
          "2025-08-22T00:00:00.000000000",
          "2025-08-21T00:00:00.000000000",
          "2025-08-20T00:00:00.000000000",
          "2025-08-19T00:00:00.000000000",
          "2025-08-18T00:00:00.000000000",
          "2025-08-14T00:00:00.000000000",
          "2025-08-13T00:00:00.000000000",
          "2025-08-12T00:00:00.000000000",
          "2025-08-11T00:00:00.000000000",
          "2025-08-08T00:00:00.000000000",
          "2025-08-07T00:00:00.000000000",
          "2025-08-06T00:00:00.000000000",
          "2025-08-05T00:00:00.000000000",
          "2025-08-04T00:00:00.000000000",
          "2025-08-01T00:00:00.000000000",
          "2025-07-31T00:00:00.000000000",
          "2025-07-30T00:00:00.000000000",
          "2025-07-29T00:00:00.000000000",
          "2025-07-28T00:00:00.000000000",
          "2025-07-25T00:00:00.000000000",
          "2025-07-24T00:00:00.000000000",
          "2025-07-23T00:00:00.000000000",
          "2025-07-22T00:00:00.000000000",
          "2025-07-21T00:00:00.000000000",
          "2025-07-18T00:00:00.000000000",
          "2025-07-17T00:00:00.000000000",
          "2025-07-16T00:00:00.000000000",
          "2025-07-15T00:00:00.000000000",
          "2025-07-14T00:00:00.000000000",
          "2025-07-11T00:00:00.000000000",
          "2025-07-10T00:00:00.000000000",
          "2025-07-09T00:00:00.000000000",
          "2025-07-08T00:00:00.000000000",
          "2025-07-07T00:00:00.000000000",
          "2025-07-04T00:00:00.000000000",
          "2025-07-03T00:00:00.000000000",
          "2025-07-02T00:00:00.000000000",
          "2025-07-01T00:00:00.000000000",
          "2025-06-30T00:00:00.000000000",
          "2025-06-27T00:00:00.000000000",
          "2025-06-26T00:00:00.000000000",
          "2025-06-25T00:00:00.000000000",
          "2025-06-24T00:00:00.000000000",
          "2025-06-23T00:00:00.000000000",
          "2025-06-20T00:00:00.000000000",
          "2025-06-19T00:00:00.000000000",
          "2025-06-18T00:00:00.000000000",
          "2025-06-17T00:00:00.000000000",
          "2025-06-16T00:00:00.000000000",
          "2025-06-13T00:00:00.000000000",
          "2025-06-12T00:00:00.000000000",
          "2025-06-11T00:00:00.000000000",
          "2025-06-10T00:00:00.000000000",
          "2025-06-09T00:00:00.000000000",
          "2025-06-06T00:00:00.000000000",
          "2025-06-05T00:00:00.000000000",
          "2025-06-04T00:00:00.000000000",
          "2025-06-03T00:00:00.000000000",
          "2025-06-02T00:00:00.000000000",
          "2025-05-30T00:00:00.000000000",
          "2025-05-29T00:00:00.000000000",
          "2025-05-28T00:00:00.000000000",
          "2025-05-27T00:00:00.000000000",
          "2025-05-26T00:00:00.000000000",
          "2025-05-23T00:00:00.000000000",
          "2025-05-22T00:00:00.000000000",
          "2025-05-21T00:00:00.000000000",
          "2025-05-20T00:00:00.000000000",
          "2025-05-19T00:00:00.000000000",
          "2025-05-16T00:00:00.000000000",
          "2025-05-15T00:00:00.000000000",
          "2025-05-14T00:00:00.000000000",
          "2025-05-13T00:00:00.000000000",
          "2025-05-12T00:00:00.000000000",
          "2025-05-09T00:00:00.000000000",
          "2025-05-08T00:00:00.000000000",
          "2025-05-07T00:00:00.000000000",
          "2025-05-06T00:00:00.000000000",
          "2025-05-05T00:00:00.000000000",
          "2025-05-02T00:00:00.000000000",
          "2025-04-30T00:00:00.000000000"
         ]
        }
       ],
       "layout": {
        "template": {
         "data": {
          "bar": [
           {
            "error_x": {
             "color": "#2a3f5f"
            },
            "error_y": {
             "color": "#2a3f5f"
            },
            "marker": {
             "line": {
              "color": "#E5ECF6",
              "width": 0.5
             },
             "pattern": {
              "fillmode": "overlay",
              "size": 10,
              "solidity": 0.2
             }
            },
            "type": "bar"
           }
          ],
          "barpolar": [
           {
            "marker": {
             "line": {
              "color": "#E5ECF6",
              "width": 0.5
             },
             "pattern": {
              "fillmode": "overlay",
              "size": 10,
              "solidity": 0.2
             }
            },
            "type": "barpolar"
           }
          ],
          "carpet": [
           {
            "aaxis": {
             "endlinecolor": "#2a3f5f",
             "gridcolor": "white",
             "linecolor": "white",
             "minorgridcolor": "white",
             "startlinecolor": "#2a3f5f"
            },
            "baxis": {
             "endlinecolor": "#2a3f5f",
             "gridcolor": "white",
             "linecolor": "white",
             "minorgridcolor": "white",
             "startlinecolor": "#2a3f5f"
            },
            "type": "carpet"
           }
          ],
          "choropleth": [
           {
            "colorbar": {
             "outlinewidth": 0,
             "ticks": ""
            },
            "type": "choropleth"
           }
          ],
          "contour": [
           {
            "colorbar": {
             "outlinewidth": 0,
             "ticks": ""
            },
            "colorscale": [
             [
              0,
              "#0d0887"
             ],
             [
              0.1111111111111111,
              "#46039f"
             ],
             [
              0.2222222222222222,
              "#7201a8"
             ],
             [
              0.3333333333333333,
              "#9c179e"
             ],
             [
              0.4444444444444444,
              "#bd3786"
             ],
             [
              0.5555555555555556,
              "#d8576b"
             ],
             [
              0.6666666666666666,
              "#ed7953"
             ],
             [
              0.7777777777777778,
              "#fb9f3a"
             ],
             [
              0.8888888888888888,
              "#fdca26"
             ],
             [
              1,
              "#f0f921"
             ]
            ],
            "type": "contour"
           }
          ],
          "contourcarpet": [
           {
            "colorbar": {
             "outlinewidth": 0,
             "ticks": ""
            },
            "type": "contourcarpet"
           }
          ],
          "heatmap": [
           {
            "colorbar": {
             "outlinewidth": 0,
             "ticks": ""
            },
            "colorscale": [
             [
              0,
              "#0d0887"
             ],
             [
              0.1111111111111111,
              "#46039f"
             ],
             [
              0.2222222222222222,
              "#7201a8"
             ],
             [
              0.3333333333333333,
              "#9c179e"
             ],
             [
              0.4444444444444444,
              "#bd3786"
             ],
             [
              0.5555555555555556,
              "#d8576b"
             ],
             [
              0.6666666666666666,
              "#ed7953"
             ],
             [
              0.7777777777777778,
              "#fb9f3a"
             ],
             [
              0.8888888888888888,
              "#fdca26"
             ],
             [
              1,
              "#f0f921"
             ]
            ],
            "type": "heatmap"
           }
          ],
          "histogram": [
           {
            "marker": {
             "pattern": {
              "fillmode": "overlay",
              "size": 10,
              "solidity": 0.2
             }
            },
            "type": "histogram"
           }
          ],
          "histogram2d": [
           {
            "colorbar": {
             "outlinewidth": 0,
             "ticks": ""
            },
            "colorscale": [
             [
              0,
              "#0d0887"
             ],
             [
              0.1111111111111111,
              "#46039f"
             ],
             [
              0.2222222222222222,
              "#7201a8"
             ],
             [
              0.3333333333333333,
              "#9c179e"
             ],
             [
              0.4444444444444444,
              "#bd3786"
             ],
             [
              0.5555555555555556,
              "#d8576b"
             ],
             [
              0.6666666666666666,
              "#ed7953"
             ],
             [
              0.7777777777777778,
              "#fb9f3a"
             ],
             [
              0.8888888888888888,
              "#fdca26"
             ],
             [
              1,
              "#f0f921"
             ]
            ],
            "type": "histogram2d"
           }
          ],
          "histogram2dcontour": [
           {
            "colorbar": {
             "outlinewidth": 0,
             "ticks": ""
            },
            "colorscale": [
             [
              0,
              "#0d0887"
             ],
             [
              0.1111111111111111,
              "#46039f"
             ],
             [
              0.2222222222222222,
              "#7201a8"
             ],
             [
              0.3333333333333333,
              "#9c179e"
             ],
             [
              0.4444444444444444,
              "#bd3786"
             ],
             [
              0.5555555555555556,
              "#d8576b"
             ],
             [
              0.6666666666666666,
              "#ed7953"
             ],
             [
              0.7777777777777778,
              "#fb9f3a"
             ],
             [
              0.8888888888888888,
              "#fdca26"
             ],
             [
              1,
              "#f0f921"
             ]
            ],
            "type": "histogram2dcontour"
           }
          ],
          "mesh3d": [
           {
            "colorbar": {
             "outlinewidth": 0,
             "ticks": ""
            },
            "type": "mesh3d"
           }
          ],
          "parcoords": [
           {
            "line": {
             "colorbar": {
              "outlinewidth": 0,
              "ticks": ""
             }
            },
            "type": "parcoords"
           }
          ],
          "pie": [
           {
            "automargin": true,
            "type": "pie"
           }
          ],
          "scatter": [
           {
            "fillpattern": {
             "fillmode": "overlay",
             "size": 10,
             "solidity": 0.2
            },
            "type": "scatter"
           }
          ],
          "scatter3d": [
           {
            "line": {
             "colorbar": {
              "outlinewidth": 0,
              "ticks": ""
             }
            },
            "marker": {
             "colorbar": {
              "outlinewidth": 0,
              "ticks": ""
             }
            },
            "type": "scatter3d"
           }
          ],
          "scattercarpet": [
           {
            "marker": {
             "colorbar": {
              "outlinewidth": 0,
              "ticks": ""
             }
            },
            "type": "scattercarpet"
           }
          ],
          "scattergeo": [
           {
            "marker": {
             "colorbar": {
              "outlinewidth": 0,
              "ticks": ""
             }
            },
            "type": "scattergeo"
           }
          ],
          "scattergl": [
           {
            "marker": {
             "colorbar": {
              "outlinewidth": 0,
              "ticks": ""
             }
            },
            "type": "scattergl"
           }
          ],
          "scattermap": [
           {
            "marker": {
             "colorbar": {
              "outlinewidth": 0,
              "ticks": ""
             }
            },
            "type": "scattermap"
           }
          ],
          "scattermapbox": [
           {
            "marker": {
             "colorbar": {
              "outlinewidth": 0,
              "ticks": ""
             }
            },
            "type": "scattermapbox"
           }
          ],
          "scatterpolar": [
           {
            "marker": {
             "colorbar": {
              "outlinewidth": 0,
              "ticks": ""
             }
            },
            "type": "scatterpolar"
           }
          ],
          "scatterpolargl": [
           {
            "marker": {
             "colorbar": {
              "outlinewidth": 0,
              "ticks": ""
             }
            },
            "type": "scatterpolargl"
           }
          ],
          "scatterternary": [
           {
            "marker": {
             "colorbar": {
              "outlinewidth": 0,
              "ticks": ""
             }
            },
            "type": "scatterternary"
           }
          ],
          "surface": [
           {
            "colorbar": {
             "outlinewidth": 0,
             "ticks": ""
            },
            "colorscale": [
             [
              0,
              "#0d0887"
             ],
             [
              0.1111111111111111,
              "#46039f"
             ],
             [
              0.2222222222222222,
              "#7201a8"
             ],
             [
              0.3333333333333333,
              "#9c179e"
             ],
             [
              0.4444444444444444,
              "#bd3786"
             ],
             [
              0.5555555555555556,
              "#d8576b"
             ],
             [
              0.6666666666666666,
              "#ed7953"
             ],
             [
              0.7777777777777778,
              "#fb9f3a"
             ],
             [
              0.8888888888888888,
              "#fdca26"
             ],
             [
              1,
              "#f0f921"
             ]
            ],
            "type": "surface"
           }
          ],
          "table": [
           {
            "cells": {
             "fill": {
              "color": "#EBF0F8"
             },
             "line": {
              "color": "white"
             }
            },
            "header": {
             "fill": {
              "color": "#C8D4E3"
             },
             "line": {
              "color": "white"
             }
            },
            "type": "table"
           }
          ]
         },
         "layout": {
          "annotationdefaults": {
           "arrowcolor": "#2a3f5f",
           "arrowhead": 0,
           "arrowwidth": 1
          },
          "autotypenumbers": "strict",
          "coloraxis": {
           "colorbar": {
            "outlinewidth": 0,
            "ticks": ""
           }
          },
          "colorscale": {
           "diverging": [
            [
             0,
             "#8e0152"
            ],
            [
             0.1,
             "#c51b7d"
            ],
            [
             0.2,
             "#de77ae"
            ],
            [
             0.3,
             "#f1b6da"
            ],
            [
             0.4,
             "#fde0ef"
            ],
            [
             0.5,
             "#f7f7f7"
            ],
            [
             0.6,
             "#e6f5d0"
            ],
            [
             0.7,
             "#b8e186"
            ],
            [
             0.8,
             "#7fbc41"
            ],
            [
             0.9,
             "#4d9221"
            ],
            [
             1,
             "#276419"
            ]
           ],
           "sequential": [
            [
             0,
             "#0d0887"
            ],
            [
             0.1111111111111111,
             "#46039f"
            ],
            [
             0.2222222222222222,
             "#7201a8"
            ],
            [
             0.3333333333333333,
             "#9c179e"
            ],
            [
             0.4444444444444444,
             "#bd3786"
            ],
            [
             0.5555555555555556,
             "#d8576b"
            ],
            [
             0.6666666666666666,
             "#ed7953"
            ],
            [
             0.7777777777777778,
             "#fb9f3a"
            ],
            [
             0.8888888888888888,
             "#fdca26"
            ],
            [
             1,
             "#f0f921"
            ]
           ],
           "sequentialminus": [
            [
             0,
             "#0d0887"
            ],
            [
             0.1111111111111111,
             "#46039f"
            ],
            [
             0.2222222222222222,
             "#7201a8"
            ],
            [
             0.3333333333333333,
             "#9c179e"
            ],
            [
             0.4444444444444444,
             "#bd3786"
            ],
            [
             0.5555555555555556,
             "#d8576b"
            ],
            [
             0.6666666666666666,
             "#ed7953"
            ],
            [
             0.7777777777777778,
             "#fb9f3a"
            ],
            [
             0.8888888888888888,
             "#fdca26"
            ],
            [
             1,
             "#f0f921"
            ]
           ]
          },
          "colorway": [
           "#636efa",
           "#EF553B",
           "#00cc96",
           "#ab63fa",
           "#FFA15A",
           "#19d3f3",
           "#FF6692",
           "#B6E880",
           "#FF97FF",
           "#FECB52"
          ],
          "font": {
           "color": "#2a3f5f"
          },
          "geo": {
           "bgcolor": "white",
           "lakecolor": "white",
           "landcolor": "#E5ECF6",
           "showlakes": true,
           "showland": true,
           "subunitcolor": "white"
          },
          "hoverlabel": {
           "align": "left"
          },
          "hovermode": "closest",
          "mapbox": {
           "style": "light"
          },
          "paper_bgcolor": "white",
          "plot_bgcolor": "#E5ECF6",
          "polar": {
           "angularaxis": {
            "gridcolor": "white",
            "linecolor": "white",
            "ticks": ""
           },
           "bgcolor": "#E5ECF6",
           "radialaxis": {
            "gridcolor": "white",
            "linecolor": "white",
            "ticks": ""
           }
          },
          "scene": {
           "xaxis": {
            "backgroundcolor": "#E5ECF6",
            "gridcolor": "white",
            "gridwidth": 2,
            "linecolor": "white",
            "showbackground": true,
            "ticks": "",
            "zerolinecolor": "white"
           },
           "yaxis": {
            "backgroundcolor": "#E5ECF6",
            "gridcolor": "white",
            "gridwidth": 2,
            "linecolor": "white",
            "showbackground": true,
            "ticks": "",
            "zerolinecolor": "white"
           },
           "zaxis": {
            "backgroundcolor": "#E5ECF6",
            "gridcolor": "white",
            "gridwidth": 2,
            "linecolor": "white",
            "showbackground": true,
            "ticks": "",
            "zerolinecolor": "white"
           }
          },
          "shapedefaults": {
           "line": {
            "color": "#2a3f5f"
           }
          },
          "ternary": {
           "aaxis": {
            "gridcolor": "white",
            "linecolor": "white",
            "ticks": ""
           },
           "baxis": {
            "gridcolor": "white",
            "linecolor": "white",
            "ticks": ""
           },
           "bgcolor": "#E5ECF6",
           "caxis": {
            "gridcolor": "white",
            "linecolor": "white",
            "ticks": ""
           }
          },
          "title": {
           "x": 0.05
          },
          "xaxis": {
           "automargin": true,
           "gridcolor": "white",
           "linecolor": "white",
           "ticks": "",
           "title": {
            "standoff": 15
           },
           "zerolinecolor": "white",
           "zerolinewidth": 2
          },
          "yaxis": {
           "automargin": true,
           "gridcolor": "white",
           "linecolor": "white",
           "ticks": "",
           "title": {
            "standoff": 15
           },
           "zerolinecolor": "white",
           "zerolinewidth": 2
          }
         }
        },
        "title": {
         "text": "candelstick Chart"
        },
        "xaxis": {
         "title": {
          "text": "date"
         }
        },
        "yaxis": {
         "title": {
          "text": "Price"
         }
        }
       }
      }
     },
     "metadata": {},
     "output_type": "display_data"
    }
   ],
   "source": [
    "fig = go.Figure(data=[go.Candlestick(x=df.index,\n",
    "                open=df['1. open'],\n",
    "                high=df['2. high'],\n",
    "                low=df['3. low'],\n",
    "                close=df['4. close'])])\n",
    "\n",
    "fig.update_layout(title ='candelstick Chart' , xaxis_title = 'date' ,\n",
    "yaxis_title = 'Price')\n"
   ]
  },
  {
   "cell_type": "code",
   "execution_count": null,
   "id": "97079232",
   "metadata": {},
   "outputs": [],
   "source": [
    "import requests\n",
    "\n",
    "url = \"https://alpha-vantage.p.rapidapi.com/query\"\n",
    "\n",
    "querystring = {\"function\":\"TIME_SERIES_DAILY\",\"symbol\":'TATASTEEL.BSE',\"outputsize\":\"compact\",\"datatype\":\"json\"}\n",
    "\n",
    "headers = {\n",
    "\t\"x-rapidapi-key\": api_key,\n",
    "\t\"x-rapidapi-host\": \"alpha-vantage.p.rapidapi.com\"\n",
    "}\n",
    "\n",
    "response = requests.get(url, headers=headers, params=querystring)\n",
    "\n",
    "data2 =  response.json()\n",
    "\n"
   ]
  },
  {
   "cell_type": "markdown",
   "id": "6765c997",
   "metadata": {},
   "source": [
    "#### class  creation"
   ]
  },
  {
   "cell_type": "code",
   "execution_count": null,
   "id": "29840e2c",
   "metadata": {},
   "outputs": [],
   "source": [
    "import pandas as  pd\n",
    "import requests\n",
    "import plotly.graph_objects as  go \n",
    "import  os\n",
    "## create  class\n",
    "class API_STOCK_MARKET:\n",
    "    def __init__(self , api_key   ):\n",
    "        self.api_key  =  api_key\n",
    "        self.headers  =  {\n",
    "\t                 \"x-rapidapi-key\": api_key,\n",
    "\t                 \"x-rapidapi-host\": \"alpha-vantage.p.rapidapi.com\"  }\n",
    "        self.url  =   \"https://alpha-vantage.p.rapidapi.com/query\"\n",
    "\n",
    "\n",
    "    # extract  symbols  \n",
    "    def  search_symbol(self ,  keyword):\n",
    "        querystring = {\"datatype\":\"json\",\n",
    "                       \"keywords\":keyword,\n",
    "                       \"function\":\"SYMBOL_SEARCH\"}\n",
    "        response = requests.get(self.url, headers=self.headers, params=querystring)\n",
    "\n",
    "        data  =  response.json()\n",
    "        data1  =  {}\n",
    "        for  i  in data['bestMatches']:\n",
    "            symbol  =  i['1. symbol']\n",
    "            data1[symbol] =  [i['2. name'], i['4. region'] , i['8. currency']]\n",
    "        return  data1\n",
    "\n",
    "     ## fetch time series daily \n",
    "    def  time_series_daily(self  ,  symbol):\n",
    "        querystring = {\"function\":\"TIME_SERIES_DAILY\",\n",
    "                       \"symbol\":symbol,\n",
    "                       \"outputsize\":\"compact\",\n",
    "                       \"datatype\":\"json\"}\n",
    "\n",
    "        response = requests.get(self.url, \n",
    "                                headers=self.headers,\n",
    "                                 params=querystring)\n",
    "\n",
    "        data2 =  response.json()\n",
    "        # convert  in dataframe\n",
    "        df  = pd.DataFrame(data2['Time Series (Daily)']).T\n",
    "        # change data type  of columns\n",
    "        df['1. open'] =  pd.to_numeric(df['1. open'])\n",
    "        df['4. close'] = pd.to_numeric(df['4. close'])\n",
    "        df['2. high'] = pd.to_numeric(df['2. high'])\n",
    "        df['3. low'] = pd.to_numeric(df['3. low'])\n",
    "        # change  data type  of index\n",
    "        df.index  =  pd.to_datetime(df.index)\n",
    "        # give name to index\n",
    "        df.index.name  = 'Date'\n",
    "        return  df \n",
    "    \n",
    "   \n",
    "    #  plot  graph\n",
    "    def plot(self ,  df ):\n",
    "        fig = go.Figure(data=[go.Candlestick(x=df.index,\n",
    "                open=df['1. open'],\n",
    "                high=df['2. high'],\n",
    "                low=df['3. low'],\n",
    "                close=df['4. close'])])\n",
    "\n",
    "        fig.update_layout(title ='candelstick Chart' , \n",
    "                          xaxis_title = 'date' ,\n",
    "                            yaxis_title = 'Price')\n",
    "        return  fig\n",
    "        \n"
   ]
  },
  {
   "cell_type": "code",
   "execution_count": 43,
   "id": "c1598665",
   "metadata": {},
   "outputs": [],
   "source": [
    "a = API_STOCK_MARKET(\"7dd9fac50dmshac6c38af66d8473p18f43ajsnd7d57333f652\")"
   ]
  },
  {
   "cell_type": "code",
   "execution_count": null,
   "id": "3ed7d893",
   "metadata": {},
   "outputs": [],
   "source": []
  },
  {
   "cell_type": "code",
   "execution_count": 44,
   "id": "46414772",
   "metadata": {},
   "outputs": [
    {
     "data": {
      "text/plain": [
       "{'GODREJCP.BSE': ['GODREJ CONSUMER PRODUCTS LTD.', 'India/Bombay', 'INR'],\n",
       " 'GODREJIND.BSE': ['GODREJ INDUSTRIES LTD.', 'India/Bombay', 'INR'],\n",
       " 'GODREJAGRO.BSE': ['Godrej Agrovet Ltd', 'India/Bombay', 'INR'],\n",
       " 'GODREJPROP.BSE': ['Godrej Properties Ltd', 'India/Bombay', 'INR'],\n",
       " '540743.BSE': ['Godrej Agrovet Limited', 'India/Bombay', 'INR'],\n",
       " '532424.BSE': ['Godrej Consumer Products Limited', 'India/Bombay', 'INR']}"
      ]
     },
     "execution_count": 44,
     "metadata": {},
     "output_type": "execute_result"
    }
   ],
   "source": [
    "a.search_symbol('godrej')"
   ]
  },
  {
   "cell_type": "code",
   "execution_count": 45,
   "id": "26b50710",
   "metadata": {},
   "outputs": [
    {
     "data": {
      "text/html": [
       "<div>\n",
       "<style scoped>\n",
       "    .dataframe tbody tr th:only-of-type {\n",
       "        vertical-align: middle;\n",
       "    }\n",
       "\n",
       "    .dataframe tbody tr th {\n",
       "        vertical-align: top;\n",
       "    }\n",
       "\n",
       "    .dataframe thead th {\n",
       "        text-align: right;\n",
       "    }\n",
       "</style>\n",
       "<table border=\"1\" class=\"dataframe\">\n",
       "  <thead>\n",
       "    <tr style=\"text-align: right;\">\n",
       "      <th></th>\n",
       "      <th>1. open</th>\n",
       "      <th>2. high</th>\n",
       "      <th>3. low</th>\n",
       "      <th>4. close</th>\n",
       "      <th>5. volume</th>\n",
       "    </tr>\n",
       "    <tr>\n",
       "      <th>Date</th>\n",
       "      <th></th>\n",
       "      <th></th>\n",
       "      <th></th>\n",
       "      <th></th>\n",
       "      <th></th>\n",
       "    </tr>\n",
       "  </thead>\n",
       "  <tbody>\n",
       "    <tr>\n",
       "      <th>2025-09-22</th>\n",
       "      <td>1222.90</td>\n",
       "      <td>1248.00</td>\n",
       "      <td>1222.90</td>\n",
       "      <td>1232.35</td>\n",
       "      <td>44927</td>\n",
       "    </tr>\n",
       "    <tr>\n",
       "      <th>2025-09-19</th>\n",
       "      <td>1237.60</td>\n",
       "      <td>1245.05</td>\n",
       "      <td>1228.00</td>\n",
       "      <td>1242.00</td>\n",
       "      <td>130800</td>\n",
       "    </tr>\n",
       "    <tr>\n",
       "      <th>2025-09-18</th>\n",
       "      <td>1243.00</td>\n",
       "      <td>1243.05</td>\n",
       "      <td>1229.55</td>\n",
       "      <td>1239.10</td>\n",
       "      <td>9877</td>\n",
       "    </tr>\n",
       "    <tr>\n",
       "      <th>2025-09-17</th>\n",
       "      <td>1233.35</td>\n",
       "      <td>1248.00</td>\n",
       "      <td>1223.90</td>\n",
       "      <td>1243.00</td>\n",
       "      <td>19600</td>\n",
       "    </tr>\n",
       "    <tr>\n",
       "      <th>2025-09-16</th>\n",
       "      <td>1257.05</td>\n",
       "      <td>1261.90</td>\n",
       "      <td>1227.00</td>\n",
       "      <td>1230.50</td>\n",
       "      <td>123263</td>\n",
       "    </tr>\n",
       "    <tr>\n",
       "      <th>...</th>\n",
       "      <td>...</td>\n",
       "      <td>...</td>\n",
       "      <td>...</td>\n",
       "      <td>...</td>\n",
       "      <td>...</td>\n",
       "    </tr>\n",
       "    <tr>\n",
       "      <th>2025-05-08</th>\n",
       "      <td>1237.15</td>\n",
       "      <td>1271.25</td>\n",
       "      <td>1236.25</td>\n",
       "      <td>1239.85</td>\n",
       "      <td>14079</td>\n",
       "    </tr>\n",
       "    <tr>\n",
       "      <th>2025-05-07</th>\n",
       "      <td>1236.70</td>\n",
       "      <td>1253.50</td>\n",
       "      <td>1204.50</td>\n",
       "      <td>1247.15</td>\n",
       "      <td>43813</td>\n",
       "    </tr>\n",
       "    <tr>\n",
       "      <th>2025-05-06</th>\n",
       "      <td>1262.35</td>\n",
       "      <td>1271.70</td>\n",
       "      <td>1248.30</td>\n",
       "      <td>1250.90</td>\n",
       "      <td>25418</td>\n",
       "    </tr>\n",
       "    <tr>\n",
       "      <th>2025-05-05</th>\n",
       "      <td>1251.35</td>\n",
       "      <td>1287.10</td>\n",
       "      <td>1251.35</td>\n",
       "      <td>1262.25</td>\n",
       "      <td>11382</td>\n",
       "    </tr>\n",
       "    <tr>\n",
       "      <th>2025-05-02</th>\n",
       "      <td>1259.90</td>\n",
       "      <td>1278.55</td>\n",
       "      <td>1250.05</td>\n",
       "      <td>1256.15</td>\n",
       "      <td>3926</td>\n",
       "    </tr>\n",
       "  </tbody>\n",
       "</table>\n",
       "<p>100 rows × 5 columns</p>\n",
       "</div>"
      ],
      "text/plain": [
       "            1. open  2. high   3. low  4. close 5. volume\n",
       "Date                                                     \n",
       "2025-09-22  1222.90  1248.00  1222.90   1232.35     44927\n",
       "2025-09-19  1237.60  1245.05  1228.00   1242.00    130800\n",
       "2025-09-18  1243.00  1243.05  1229.55   1239.10      9877\n",
       "2025-09-17  1233.35  1248.00  1223.90   1243.00     19600\n",
       "2025-09-16  1257.05  1261.90  1227.00   1230.50    123263\n",
       "...             ...      ...      ...       ...       ...\n",
       "2025-05-08  1237.15  1271.25  1236.25   1239.85     14079\n",
       "2025-05-07  1236.70  1253.50  1204.50   1247.15     43813\n",
       "2025-05-06  1262.35  1271.70  1248.30   1250.90     25418\n",
       "2025-05-05  1251.35  1287.10  1251.35   1262.25     11382\n",
       "2025-05-02  1259.90  1278.55  1250.05   1256.15      3926\n",
       "\n",
       "[100 rows x 5 columns]"
      ]
     },
     "execution_count": 45,
     "metadata": {},
     "output_type": "execute_result"
    }
   ],
   "source": [
    "a.time_series_daily('532424.BSE')"
   ]
  },
  {
   "cell_type": "code",
   "execution_count": 46,
   "id": "edde26a9",
   "metadata": {},
   "outputs": [
    {
     "data": {
      "application/vnd.plotly.v1+json": {
       "config": {
        "plotlyServerURL": "https://plot.ly"
       },
       "data": [
        {
         "close": {
          "bdata": "ZmZmZmZBk0AAAAAAAGiTQGZmZmZmXJNAAAAAAABsk0AAAAAAADqTQDMzMzMzpZNAzczMzMyCk0CamZmZmdSTQAAAAAAAoJNAAAAAAAB7k0AAAAAAADmTQDMzMzMzPpNAZmZmZmZ3k0CamZmZmemTQAAAAAAAE5RAzczMzMylk0BmZmZmZmOTQDMzMzMziJNAmpmZmZmrk0CamZmZmb+TQGZmZmZmp5NAMzMzMzN9k0CamZmZmXyTQM3MzMzMC5NAmpmZmZnnkkCamZmZmYOSQGZmZmZmuJJAMzMzMzO7kkBmZmZmZr2SQGZmZmZmhpJAAAAAAAAUk0AzMzMzM8iSQAAAAAAADJNAMzMzMzOEk0BmZmZmZsWTQDMzMzMzp5NAAAAAAAAEk0CamZmZmeuSQDMzMzMz/ZJAmpmZmZkHk0AAAAAAACCTQM3MzMzMQZNAzczMzMx0k0AAAAAAAFiTQJqZmZmZkJNAmpmZmZnsk0DNzMzMzMCTQM3MzMzM1pNAMzMzMzPJk0AAAAAAABSUQM3MzMzMGpRAMzMzMzM2lEAAAAAAAPWTQDMzMzMz0ZNAMzMzMzOjkkAzMzMzM0uSQJqZmZmZWZJAmpmZmZlAkkAAAAAAAGuSQM3MzMzMYJJAmpmZmZl+kkAzMzMzM4SSQM3MzMzMXpJAAAAAAABLkkCamZmZmZOSQM3MzMzMppJAAAAAAACxkkDNzMzMzLGSQM3MzMzMkJJAAAAAAACTkkAzMzMzM86SQGZmZmZmHJNAZmZmZmb0kkAAAAAAAAiTQM3MzMzM6ZJAMzMzMzP8kkCamZmZmSqTQGZmZmZmWpNAZmZmZmbGk0AAAAAAAD6TQDMzMzMzd5NAzczMzMydk0DNzMzMzNyTQM3MzMzMEpRAMzMzMzP1k0DNzMzMzMSTQGZmZmZm/5NAAAAAAAC2k0AzMzMzMzCUQAAAAAAARpRAzczMzMwmlEBmZmZmZgWUQGZmZmZmxpNAMzMzMzMklEDNzMzMzGSTQGZmZmZmX5NAmpmZmZl8k0CamZmZmYuTQAAAAAAAuZNAmpmZmZmgk0A=",
          "dtype": "f8"
         },
         "high": {
          "bdata": "AAAAAACAk0AzMzMzM3STQDMzMzMzbJNAAAAAAACAk0CamZmZmbeTQM3MzMzMrZNAmpmZmZnFk0AAAAAAANiTQGZmZmZmp5NAAAAAAACEk0DNzMzMzG+TQAAAAAAAr5NAmpmZmZlxlEBmZmZmZi2UQAAAAAAAHJRAAAAAAADCk0AAAAAAAACUQAAAAAAABJRAAAAAAADRk0BmZmZmZtCTQAAAAAAAxJNAMzMzMzOKk0DNzMzMzJCTQDMzMzMzGpNAMzMzMzMnk0CamZmZmcmSQJqZmZmZx5JAZmZmZmbhkkAzMzMzM8uSQAAAAAAAcpNAZmZmZmYik0AAAAAAAByTQJqZmZmZp5NAAAAAAADdk0AAAAAAACiUQAAAAAAAxJNAAAAAAAAQk0BmZmZmZvuSQDMzMzMzT5NAAAAAAAAck0AAAAAAAFCTQM3MzMzMhpNAmpmZmZmDk0AzMzMzM5uTQAAAAAAADJRAzczMzMwMlECamZmZmdaTQM3MzMzM8JNAAAAAAAAilEBmZmZmZmeUQAAAAAAANpRAAAAAAABvlECamZmZmQSUQAAAAAAA35NAMzMzMzO8kkBmZmZmZniSQAAAAAAAeZJAzczMzMx6kkCamZmZmXWSQAAAAAAAiJJAmpmZmZmgkkAAAAAAAJCSQM3MzMzMppJAMzMzMzOgkkAAAAAAAKySQGZmZmZm1JJAAAAAAADGkkBmZmZmZr2SQM3MzMzMqZJAMzMzMzPnkkAzMzMzMzKTQJqZmZmZSJNAZmZmZmYbk0CamZmZmSGTQAAAAAAAFJNAzczMzMxTk0CamZmZmW6TQDMzMzMz0pNAMzMzMzNZlEDNzMzMzK+TQAAAAAAApJNAmpmZmZn8k0AzMzMzMwGUQAAAAAAAKJRAZmZmZmYNlEAzMzMzMxeUQM3MzMzMLZRAzczMzMxOlEBmZmZmZm+UQAAAAAAAZ5RAAAAAAABElEAAAAAAAB2UQJqZmZmZPJRAmpmZmZkwlECamZmZmXKTQAAAAAAA3ZNAAAAAAACWk0DNzMzMzN6TQGZmZmZmHJRAMzMzMzP6k0A=",
          "dtype": "f8"
         },
         "low": {
          "bdata": "mpmZmZkbk0AAAAAAADCTQDMzMzMzNpNAmpmZmZkfk0AAAAAAACyTQAAAAAAAdJNAAAAAAABUk0AAAAAAAIyTQGZmZmZmS5NAAAAAAAAkk0AzMzMzMyGTQM3MzMzMEJNAmpmZmZlpk0DNzMzMzNeTQDMzMzMzf5NAzczMzMxDk0BmZmZmZjiTQAAAAAAAgJNAmpmZmZmGk0CamZmZmY+TQM3MzMzMdZNAAAAAAAAUk0AzMzMzM8CSQGZmZmZm0pJAMzMzMzO4kkBmZmZmZlySQDMzMzMziZJAAAAAAACYkkAzMzMzMyOSQAAAAAAAfJJAMzMzMzNwkkAzMzMzM5SSQGZmZmZm95JAzczMzMwrk0AAAAAAALCTQDMzMzMzvJJAAAAAAADMkkAzMzMzM8qSQJqZmZmZ2JJAAAAAAADokkAAAAAAABiTQM3MzMzMMpNAAAAAAAA7k0AzMzMzMyqTQGZmZmZmeJNAMzMzMzO7k0DNzMzMzJqTQJqZmZmZtZNAmpmZmZnAk0AzMzMzM/2TQDMzMzMzDJRAAAAAAADJk0AAAAAAAIiTQAAAAAAAEJNAzczMzMxJkkCamZmZmUeSQAAAAAAAKJJAMzMzMzMpkkAAAAAAAEySQDMzMzMzSZJAZmZmZmZVkkBmZmZmZk6SQM3MzMzMUpJAMzMzMzNCkkBmZmZmZnSSQJqZmZmZl5JAMzMzMzPUkEAAAAAAAG6SQAAAAAAAY5JAmpmZmZkokkAAAAAAAMKSQGZmZmZm25JAAAAAAADokkDNzMzMzNmSQAAAAAAA3JJAZmZmZmbtkkDNzMzMzBKTQJqZmZmZTZNAAAAAAAChk0AAAAAAADCTQGZmZmZmIZNAAAAAAACIk0AAAAAAAKyTQAAAAAAA3pNAMzMzMzOIk0AAAAAAAKCTQDMzMzMztJNAmpmZmZmnk0AzMzMzMyiUQGZmZmZmxJNAMzMzMzPdk0DNzMzMzKyTQJqZmZmZvZNAzczMzMyvk0AAAAAAAHeSQAAAAAAAUZNAAAAAAADSkkAzMzMzM4GTQGZmZmZmjZNAMzMzMzOIk0A=",
          "dtype": "f8"
         },
         "open": {
          "bdata": "mpmZmZkbk0BmZmZmZlaTQAAAAAAAbJNAZmZmZmZFk0AzMzMzM6STQAAAAAAAiJNAmpmZmZmwk0CamZmZmY2TQAAAAAAAc5NAAAAAAAA6k0CamZmZmUCTQAAAAAAAr5NAmpmZmZlxlECamZmZmQCUQDMzMzMzgJNAAAAAAAB0k0AzMzMzM4iTQAAAAAAAt5NAZmZmZma/k0AAAAAAAKyTQAAAAAAAgpNAMzMzMzOJk0AzMzMzM8CSQDMzMzMzGpNAMzMzMzO4kkCamZmZmcmSQDMzMzMzwJJAZmZmZmbhkkAAAAAAAIeSQGZmZmZm85JAMzMzMzNwkkAAAAAAAByTQJqZmZmZp5NAAAAAAADdk0AzMzMzM8STQDMzMzMzvJJAMzMzMzPwkkCamZmZmeiSQM3MzMzM7pJAMzMzMzMIk0AAAAAAAEyTQM3MzMzMhpNAzczMzMx1k0AzMzMzMyqTQAAAAAAACJRAMzMzMzPCk0DNzMzMzMiTQAAAAAAA0JNAAAAAAAAUlEBmZmZmZgWUQAAAAAAANpRAAAAAAADJk0DNzMzMzKuTQAAAAAAAEJNAAAAAAABSkkCamZmZmVmSQDMzMzMzLpJAZmZmZmZRkkCamZmZmWSSQAAAAAAAcJJAMzMzMzN0kkAAAAAAAGiSQM3MzMzMppJAMzMzMzOIkkDNzMzMzJeSQM3MzMzM05JAMzMzMzPUkEBmZmZmZpaSQDMzMzMzaJJAMzMzMzPnkkAzMzMzMzKTQGZmZmZm25JAZmZmZmYOk0BmZmZmZuCSQAAAAAAAFJNAzczMzMxTk0CamZmZmW6TQDMzMzMz0pNAAAAAAAChk0DNzMzMzK+TQDMzMzMznJNAAAAAAADsk0BmZmZmZu6TQAAAAAAA3pNAMzMzMzOIk0AAAAAAAPyTQM3MzMzMwpNAmpmZmZk0lEAzMzMzM06UQM3MzMzMT5RAAAAAAADsk0AzMzMzM9aTQM3MzMzMMJRAAAAAAAD9k0AAAAAAAHeSQJqZmZmZVJNAzczMzMxSk0BmZmZmZrmTQGZmZmZmjZNAmpmZmZmvk0A=",
          "dtype": "f8"
         },
         "type": "candlestick",
         "x": [
          "2025-09-22T00:00:00.000000000",
          "2025-09-19T00:00:00.000000000",
          "2025-09-18T00:00:00.000000000",
          "2025-09-17T00:00:00.000000000",
          "2025-09-16T00:00:00.000000000",
          "2025-09-15T00:00:00.000000000",
          "2025-09-12T00:00:00.000000000",
          "2025-09-11T00:00:00.000000000",
          "2025-09-10T00:00:00.000000000",
          "2025-09-09T00:00:00.000000000",
          "2025-09-08T00:00:00.000000000",
          "2025-09-05T00:00:00.000000000",
          "2025-09-04T00:00:00.000000000",
          "2025-09-03T00:00:00.000000000",
          "2025-09-02T00:00:00.000000000",
          "2025-09-01T00:00:00.000000000",
          "2025-08-29T00:00:00.000000000",
          "2025-08-28T00:00:00.000000000",
          "2025-08-26T00:00:00.000000000",
          "2025-08-25T00:00:00.000000000",
          "2025-08-22T00:00:00.000000000",
          "2025-08-21T00:00:00.000000000",
          "2025-08-20T00:00:00.000000000",
          "2025-08-19T00:00:00.000000000",
          "2025-08-18T00:00:00.000000000",
          "2025-08-14T00:00:00.000000000",
          "2025-08-13T00:00:00.000000000",
          "2025-08-12T00:00:00.000000000",
          "2025-08-11T00:00:00.000000000",
          "2025-08-08T00:00:00.000000000",
          "2025-08-07T00:00:00.000000000",
          "2025-08-06T00:00:00.000000000",
          "2025-08-05T00:00:00.000000000",
          "2025-08-04T00:00:00.000000000",
          "2025-08-01T00:00:00.000000000",
          "2025-07-31T00:00:00.000000000",
          "2025-07-30T00:00:00.000000000",
          "2025-07-29T00:00:00.000000000",
          "2025-07-28T00:00:00.000000000",
          "2025-07-25T00:00:00.000000000",
          "2025-07-24T00:00:00.000000000",
          "2025-07-23T00:00:00.000000000",
          "2025-07-22T00:00:00.000000000",
          "2025-07-21T00:00:00.000000000",
          "2025-07-18T00:00:00.000000000",
          "2025-07-17T00:00:00.000000000",
          "2025-07-16T00:00:00.000000000",
          "2025-07-15T00:00:00.000000000",
          "2025-07-14T00:00:00.000000000",
          "2025-07-11T00:00:00.000000000",
          "2025-07-10T00:00:00.000000000",
          "2025-07-09T00:00:00.000000000",
          "2025-07-08T00:00:00.000000000",
          "2025-07-07T00:00:00.000000000",
          "2025-07-04T00:00:00.000000000",
          "2025-07-03T00:00:00.000000000",
          "2025-07-02T00:00:00.000000000",
          "2025-07-01T00:00:00.000000000",
          "2025-06-30T00:00:00.000000000",
          "2025-06-27T00:00:00.000000000",
          "2025-06-26T00:00:00.000000000",
          "2025-06-25T00:00:00.000000000",
          "2025-06-24T00:00:00.000000000",
          "2025-06-23T00:00:00.000000000",
          "2025-06-20T00:00:00.000000000",
          "2025-06-19T00:00:00.000000000",
          "2025-06-18T00:00:00.000000000",
          "2025-06-17T00:00:00.000000000",
          "2025-06-16T00:00:00.000000000",
          "2025-06-13T00:00:00.000000000",
          "2025-06-12T00:00:00.000000000",
          "2025-06-11T00:00:00.000000000",
          "2025-06-10T00:00:00.000000000",
          "2025-06-09T00:00:00.000000000",
          "2025-06-06T00:00:00.000000000",
          "2025-06-05T00:00:00.000000000",
          "2025-06-04T00:00:00.000000000",
          "2025-06-03T00:00:00.000000000",
          "2025-06-02T00:00:00.000000000",
          "2025-05-30T00:00:00.000000000",
          "2025-05-29T00:00:00.000000000",
          "2025-05-28T00:00:00.000000000",
          "2025-05-27T00:00:00.000000000",
          "2025-05-26T00:00:00.000000000",
          "2025-05-23T00:00:00.000000000",
          "2025-05-22T00:00:00.000000000",
          "2025-05-21T00:00:00.000000000",
          "2025-05-20T00:00:00.000000000",
          "2025-05-19T00:00:00.000000000",
          "2025-05-16T00:00:00.000000000",
          "2025-05-15T00:00:00.000000000",
          "2025-05-14T00:00:00.000000000",
          "2025-05-13T00:00:00.000000000",
          "2025-05-12T00:00:00.000000000",
          "2025-05-09T00:00:00.000000000",
          "2025-05-08T00:00:00.000000000",
          "2025-05-07T00:00:00.000000000",
          "2025-05-06T00:00:00.000000000",
          "2025-05-05T00:00:00.000000000",
          "2025-05-02T00:00:00.000000000"
         ]
        }
       ],
       "layout": {
        "template": {
         "data": {
          "bar": [
           {
            "error_x": {
             "color": "#2a3f5f"
            },
            "error_y": {
             "color": "#2a3f5f"
            },
            "marker": {
             "line": {
              "color": "#E5ECF6",
              "width": 0.5
             },
             "pattern": {
              "fillmode": "overlay",
              "size": 10,
              "solidity": 0.2
             }
            },
            "type": "bar"
           }
          ],
          "barpolar": [
           {
            "marker": {
             "line": {
              "color": "#E5ECF6",
              "width": 0.5
             },
             "pattern": {
              "fillmode": "overlay",
              "size": 10,
              "solidity": 0.2
             }
            },
            "type": "barpolar"
           }
          ],
          "carpet": [
           {
            "aaxis": {
             "endlinecolor": "#2a3f5f",
             "gridcolor": "white",
             "linecolor": "white",
             "minorgridcolor": "white",
             "startlinecolor": "#2a3f5f"
            },
            "baxis": {
             "endlinecolor": "#2a3f5f",
             "gridcolor": "white",
             "linecolor": "white",
             "minorgridcolor": "white",
             "startlinecolor": "#2a3f5f"
            },
            "type": "carpet"
           }
          ],
          "choropleth": [
           {
            "colorbar": {
             "outlinewidth": 0,
             "ticks": ""
            },
            "type": "choropleth"
           }
          ],
          "contour": [
           {
            "colorbar": {
             "outlinewidth": 0,
             "ticks": ""
            },
            "colorscale": [
             [
              0,
              "#0d0887"
             ],
             [
              0.1111111111111111,
              "#46039f"
             ],
             [
              0.2222222222222222,
              "#7201a8"
             ],
             [
              0.3333333333333333,
              "#9c179e"
             ],
             [
              0.4444444444444444,
              "#bd3786"
             ],
             [
              0.5555555555555556,
              "#d8576b"
             ],
             [
              0.6666666666666666,
              "#ed7953"
             ],
             [
              0.7777777777777778,
              "#fb9f3a"
             ],
             [
              0.8888888888888888,
              "#fdca26"
             ],
             [
              1,
              "#f0f921"
             ]
            ],
            "type": "contour"
           }
          ],
          "contourcarpet": [
           {
            "colorbar": {
             "outlinewidth": 0,
             "ticks": ""
            },
            "type": "contourcarpet"
           }
          ],
          "heatmap": [
           {
            "colorbar": {
             "outlinewidth": 0,
             "ticks": ""
            },
            "colorscale": [
             [
              0,
              "#0d0887"
             ],
             [
              0.1111111111111111,
              "#46039f"
             ],
             [
              0.2222222222222222,
              "#7201a8"
             ],
             [
              0.3333333333333333,
              "#9c179e"
             ],
             [
              0.4444444444444444,
              "#bd3786"
             ],
             [
              0.5555555555555556,
              "#d8576b"
             ],
             [
              0.6666666666666666,
              "#ed7953"
             ],
             [
              0.7777777777777778,
              "#fb9f3a"
             ],
             [
              0.8888888888888888,
              "#fdca26"
             ],
             [
              1,
              "#f0f921"
             ]
            ],
            "type": "heatmap"
           }
          ],
          "histogram": [
           {
            "marker": {
             "pattern": {
              "fillmode": "overlay",
              "size": 10,
              "solidity": 0.2
             }
            },
            "type": "histogram"
           }
          ],
          "histogram2d": [
           {
            "colorbar": {
             "outlinewidth": 0,
             "ticks": ""
            },
            "colorscale": [
             [
              0,
              "#0d0887"
             ],
             [
              0.1111111111111111,
              "#46039f"
             ],
             [
              0.2222222222222222,
              "#7201a8"
             ],
             [
              0.3333333333333333,
              "#9c179e"
             ],
             [
              0.4444444444444444,
              "#bd3786"
             ],
             [
              0.5555555555555556,
              "#d8576b"
             ],
             [
              0.6666666666666666,
              "#ed7953"
             ],
             [
              0.7777777777777778,
              "#fb9f3a"
             ],
             [
              0.8888888888888888,
              "#fdca26"
             ],
             [
              1,
              "#f0f921"
             ]
            ],
            "type": "histogram2d"
           }
          ],
          "histogram2dcontour": [
           {
            "colorbar": {
             "outlinewidth": 0,
             "ticks": ""
            },
            "colorscale": [
             [
              0,
              "#0d0887"
             ],
             [
              0.1111111111111111,
              "#46039f"
             ],
             [
              0.2222222222222222,
              "#7201a8"
             ],
             [
              0.3333333333333333,
              "#9c179e"
             ],
             [
              0.4444444444444444,
              "#bd3786"
             ],
             [
              0.5555555555555556,
              "#d8576b"
             ],
             [
              0.6666666666666666,
              "#ed7953"
             ],
             [
              0.7777777777777778,
              "#fb9f3a"
             ],
             [
              0.8888888888888888,
              "#fdca26"
             ],
             [
              1,
              "#f0f921"
             ]
            ],
            "type": "histogram2dcontour"
           }
          ],
          "mesh3d": [
           {
            "colorbar": {
             "outlinewidth": 0,
             "ticks": ""
            },
            "type": "mesh3d"
           }
          ],
          "parcoords": [
           {
            "line": {
             "colorbar": {
              "outlinewidth": 0,
              "ticks": ""
             }
            },
            "type": "parcoords"
           }
          ],
          "pie": [
           {
            "automargin": true,
            "type": "pie"
           }
          ],
          "scatter": [
           {
            "fillpattern": {
             "fillmode": "overlay",
             "size": 10,
             "solidity": 0.2
            },
            "type": "scatter"
           }
          ],
          "scatter3d": [
           {
            "line": {
             "colorbar": {
              "outlinewidth": 0,
              "ticks": ""
             }
            },
            "marker": {
             "colorbar": {
              "outlinewidth": 0,
              "ticks": ""
             }
            },
            "type": "scatter3d"
           }
          ],
          "scattercarpet": [
           {
            "marker": {
             "colorbar": {
              "outlinewidth": 0,
              "ticks": ""
             }
            },
            "type": "scattercarpet"
           }
          ],
          "scattergeo": [
           {
            "marker": {
             "colorbar": {
              "outlinewidth": 0,
              "ticks": ""
             }
            },
            "type": "scattergeo"
           }
          ],
          "scattergl": [
           {
            "marker": {
             "colorbar": {
              "outlinewidth": 0,
              "ticks": ""
             }
            },
            "type": "scattergl"
           }
          ],
          "scattermap": [
           {
            "marker": {
             "colorbar": {
              "outlinewidth": 0,
              "ticks": ""
             }
            },
            "type": "scattermap"
           }
          ],
          "scattermapbox": [
           {
            "marker": {
             "colorbar": {
              "outlinewidth": 0,
              "ticks": ""
             }
            },
            "type": "scattermapbox"
           }
          ],
          "scatterpolar": [
           {
            "marker": {
             "colorbar": {
              "outlinewidth": 0,
              "ticks": ""
             }
            },
            "type": "scatterpolar"
           }
          ],
          "scatterpolargl": [
           {
            "marker": {
             "colorbar": {
              "outlinewidth": 0,
              "ticks": ""
             }
            },
            "type": "scatterpolargl"
           }
          ],
          "scatterternary": [
           {
            "marker": {
             "colorbar": {
              "outlinewidth": 0,
              "ticks": ""
             }
            },
            "type": "scatterternary"
           }
          ],
          "surface": [
           {
            "colorbar": {
             "outlinewidth": 0,
             "ticks": ""
            },
            "colorscale": [
             [
              0,
              "#0d0887"
             ],
             [
              0.1111111111111111,
              "#46039f"
             ],
             [
              0.2222222222222222,
              "#7201a8"
             ],
             [
              0.3333333333333333,
              "#9c179e"
             ],
             [
              0.4444444444444444,
              "#bd3786"
             ],
             [
              0.5555555555555556,
              "#d8576b"
             ],
             [
              0.6666666666666666,
              "#ed7953"
             ],
             [
              0.7777777777777778,
              "#fb9f3a"
             ],
             [
              0.8888888888888888,
              "#fdca26"
             ],
             [
              1,
              "#f0f921"
             ]
            ],
            "type": "surface"
           }
          ],
          "table": [
           {
            "cells": {
             "fill": {
              "color": "#EBF0F8"
             },
             "line": {
              "color": "white"
             }
            },
            "header": {
             "fill": {
              "color": "#C8D4E3"
             },
             "line": {
              "color": "white"
             }
            },
            "type": "table"
           }
          ]
         },
         "layout": {
          "annotationdefaults": {
           "arrowcolor": "#2a3f5f",
           "arrowhead": 0,
           "arrowwidth": 1
          },
          "autotypenumbers": "strict",
          "coloraxis": {
           "colorbar": {
            "outlinewidth": 0,
            "ticks": ""
           }
          },
          "colorscale": {
           "diverging": [
            [
             0,
             "#8e0152"
            ],
            [
             0.1,
             "#c51b7d"
            ],
            [
             0.2,
             "#de77ae"
            ],
            [
             0.3,
             "#f1b6da"
            ],
            [
             0.4,
             "#fde0ef"
            ],
            [
             0.5,
             "#f7f7f7"
            ],
            [
             0.6,
             "#e6f5d0"
            ],
            [
             0.7,
             "#b8e186"
            ],
            [
             0.8,
             "#7fbc41"
            ],
            [
             0.9,
             "#4d9221"
            ],
            [
             1,
             "#276419"
            ]
           ],
           "sequential": [
            [
             0,
             "#0d0887"
            ],
            [
             0.1111111111111111,
             "#46039f"
            ],
            [
             0.2222222222222222,
             "#7201a8"
            ],
            [
             0.3333333333333333,
             "#9c179e"
            ],
            [
             0.4444444444444444,
             "#bd3786"
            ],
            [
             0.5555555555555556,
             "#d8576b"
            ],
            [
             0.6666666666666666,
             "#ed7953"
            ],
            [
             0.7777777777777778,
             "#fb9f3a"
            ],
            [
             0.8888888888888888,
             "#fdca26"
            ],
            [
             1,
             "#f0f921"
            ]
           ],
           "sequentialminus": [
            [
             0,
             "#0d0887"
            ],
            [
             0.1111111111111111,
             "#46039f"
            ],
            [
             0.2222222222222222,
             "#7201a8"
            ],
            [
             0.3333333333333333,
             "#9c179e"
            ],
            [
             0.4444444444444444,
             "#bd3786"
            ],
            [
             0.5555555555555556,
             "#d8576b"
            ],
            [
             0.6666666666666666,
             "#ed7953"
            ],
            [
             0.7777777777777778,
             "#fb9f3a"
            ],
            [
             0.8888888888888888,
             "#fdca26"
            ],
            [
             1,
             "#f0f921"
            ]
           ]
          },
          "colorway": [
           "#636efa",
           "#EF553B",
           "#00cc96",
           "#ab63fa",
           "#FFA15A",
           "#19d3f3",
           "#FF6692",
           "#B6E880",
           "#FF97FF",
           "#FECB52"
          ],
          "font": {
           "color": "#2a3f5f"
          },
          "geo": {
           "bgcolor": "white",
           "lakecolor": "white",
           "landcolor": "#E5ECF6",
           "showlakes": true,
           "showland": true,
           "subunitcolor": "white"
          },
          "hoverlabel": {
           "align": "left"
          },
          "hovermode": "closest",
          "mapbox": {
           "style": "light"
          },
          "paper_bgcolor": "white",
          "plot_bgcolor": "#E5ECF6",
          "polar": {
           "angularaxis": {
            "gridcolor": "white",
            "linecolor": "white",
            "ticks": ""
           },
           "bgcolor": "#E5ECF6",
           "radialaxis": {
            "gridcolor": "white",
            "linecolor": "white",
            "ticks": ""
           }
          },
          "scene": {
           "xaxis": {
            "backgroundcolor": "#E5ECF6",
            "gridcolor": "white",
            "gridwidth": 2,
            "linecolor": "white",
            "showbackground": true,
            "ticks": "",
            "zerolinecolor": "white"
           },
           "yaxis": {
            "backgroundcolor": "#E5ECF6",
            "gridcolor": "white",
            "gridwidth": 2,
            "linecolor": "white",
            "showbackground": true,
            "ticks": "",
            "zerolinecolor": "white"
           },
           "zaxis": {
            "backgroundcolor": "#E5ECF6",
            "gridcolor": "white",
            "gridwidth": 2,
            "linecolor": "white",
            "showbackground": true,
            "ticks": "",
            "zerolinecolor": "white"
           }
          },
          "shapedefaults": {
           "line": {
            "color": "#2a3f5f"
           }
          },
          "ternary": {
           "aaxis": {
            "gridcolor": "white",
            "linecolor": "white",
            "ticks": ""
           },
           "baxis": {
            "gridcolor": "white",
            "linecolor": "white",
            "ticks": ""
           },
           "bgcolor": "#E5ECF6",
           "caxis": {
            "gridcolor": "white",
            "linecolor": "white",
            "ticks": ""
           }
          },
          "title": {
           "x": 0.05
          },
          "xaxis": {
           "automargin": true,
           "gridcolor": "white",
           "linecolor": "white",
           "ticks": "",
           "title": {
            "standoff": 15
           },
           "zerolinecolor": "white",
           "zerolinewidth": 2
          },
          "yaxis": {
           "automargin": true,
           "gridcolor": "white",
           "linecolor": "white",
           "ticks": "",
           "title": {
            "standoff": 15
           },
           "zerolinecolor": "white",
           "zerolinewidth": 2
          }
         }
        },
        "title": {
         "text": "candelstick Chart"
        },
        "xaxis": {
         "title": {
          "text": "date"
         }
        },
        "yaxis": {
         "title": {
          "text": "Price"
         }
        }
       }
      }
     },
     "metadata": {},
     "output_type": "display_data"
    }
   ],
   "source": [
    "a.plot(a.time_series_daily('532424.BSE'))"
   ]
  },
  {
   "cell_type": "code",
   "execution_count": 51,
   "id": "9e53506a",
   "metadata": {},
   "outputs": [],
   "source": [
    "b = API_STOCK_MARKET(api_key  = \"7dd9fac50dmshac6c38af66d8473p18f43ajsnd7d57333f652\")"
   ]
  },
  {
   "cell_type": "code",
   "execution_count": 52,
   "id": "121275b6",
   "metadata": {},
   "outputs": [
    {
     "data": {
      "text/plain": [
       "'7dd9fac50dmshac6c38af66d8473p18f43ajsnd7d57333f652'"
      ]
     },
     "execution_count": 52,
     "metadata": {},
     "output_type": "execute_result"
    }
   ],
   "source": [
    "b.api_key"
   ]
  },
  {
   "cell_type": "code",
   "execution_count": 53,
   "id": "3debd124",
   "metadata": {},
   "outputs": [
    {
     "data": {
      "text/plain": [
       "{'HDFCAMC.BSE': ['HDFC Asset Management Company Ltd', 'India/Bombay', 'INR'],\n",
       " 'HDFCBANK.BSE': ['HDFC Bank Limited', 'India/Bombay', 'INR'],\n",
       " 'HDFCLIFE.BSE': ['HDFC Life Insurance Company Ltd', 'India/Bombay', 'INR'],\n",
       " 'HDFCBSE500.BSE': ['HDFC S&P BSE 500 ETF', 'India/Bombay', 'INR'],\n",
       " 'HDFCGROWTH.BSE': ['HDFC NIFTY Growth Sectors 15 ETF', 'India/Bombay', 'INR'],\n",
       " 'HDFCLOWVOL.BSE': ['HDFC NIFTY100 Low Volatility 30 ETF',\n",
       "  'India/Bombay',\n",
       "  'INR'],\n",
       " 'HDFCMID150.BSE': ['HDFC NIFTY Midcap 150 ETF', 'India/Bombay', 'INR'],\n",
       " 'HDFCMOMENT.BSE': ['HDFC NIFTY200 Momentum 30 ETF', 'India/Bombay', 'INR'],\n",
       " 'HDFCNEXT50.BSE': ['HDFC Mutual Fund', 'India/Bombay', 'INR'],\n",
       " 'HDFCNIF100.BSE': ['HDFC NIFTY 100 ETF', 'India/Bombay', 'INR']}"
      ]
     },
     "execution_count": 53,
     "metadata": {},
     "output_type": "execute_result"
    }
   ],
   "source": [
    "b.search_symbol('hdfc')"
   ]
  },
  {
   "cell_type": "code",
   "execution_count": 54,
   "id": "e6e8dd10",
   "metadata": {},
   "outputs": [],
   "source": [
    "c  =  API_STOCK_MARKET(api_key  =  os.getenv('API_KEY'))"
   ]
  },
  {
   "cell_type": "code",
   "execution_count": 56,
   "id": "4e5637a0",
   "metadata": {},
   "outputs": [
    {
     "data": {
      "text/plain": [
       "{'MSF0.FRK': ['MICROSOFT CORP. CDR', 'Frankfurt', 'EUR'],\n",
       " 'MSFT': ['Microsoft Corporation', 'United States', 'USD'],\n",
       " 'MSF.DEX': ['Microsoft Corporation', 'XETRA', 'EUR'],\n",
       " 'MSF.FRK': ['Microsoft Corporation', 'Frankfurt', 'EUR'],\n",
       " 'MSFT34.SAO': ['Microsoft Corporation', 'Brazil/Sao Paolo', 'BRL'],\n",
       " 'MSFT.TRT': ['Microsoft CDR (CAD Hedged)', 'Toronto', 'CAD']}"
      ]
     },
     "execution_count": 56,
     "metadata": {},
     "output_type": "execute_result"
    }
   ],
   "source": [
    "c.search_symbol('microsoft')"
   ]
  },
  {
   "cell_type": "code",
   "execution_count": 57,
   "id": "d73d7ecb",
   "metadata": {},
   "outputs": [
    {
     "data": {
      "text/html": [
       "<div>\n",
       "<style scoped>\n",
       "    .dataframe tbody tr th:only-of-type {\n",
       "        vertical-align: middle;\n",
       "    }\n",
       "\n",
       "    .dataframe tbody tr th {\n",
       "        vertical-align: top;\n",
       "    }\n",
       "\n",
       "    .dataframe thead th {\n",
       "        text-align: right;\n",
       "    }\n",
       "</style>\n",
       "<table border=\"1\" class=\"dataframe\">\n",
       "  <thead>\n",
       "    <tr style=\"text-align: right;\">\n",
       "      <th></th>\n",
       "      <th>1. open</th>\n",
       "      <th>2. high</th>\n",
       "      <th>3. low</th>\n",
       "      <th>4. close</th>\n",
       "      <th>5. volume</th>\n",
       "    </tr>\n",
       "    <tr>\n",
       "      <th>Date</th>\n",
       "      <th></th>\n",
       "      <th></th>\n",
       "      <th></th>\n",
       "      <th></th>\n",
       "      <th></th>\n",
       "    </tr>\n",
       "  </thead>\n",
       "  <tbody>\n",
       "    <tr>\n",
       "      <th>2025-09-22</th>\n",
       "      <td>439.95</td>\n",
       "      <td>439.95</td>\n",
       "      <td>435.95</td>\n",
       "      <td>437.15</td>\n",
       "      <td>9146</td>\n",
       "    </tr>\n",
       "    <tr>\n",
       "      <th>2025-09-19</th>\n",
       "      <td>432.55</td>\n",
       "      <td>437.65</td>\n",
       "      <td>431.70</td>\n",
       "      <td>436.15</td>\n",
       "      <td>7971</td>\n",
       "    </tr>\n",
       "    <tr>\n",
       "      <th>2025-09-18</th>\n",
       "      <td>434.00</td>\n",
       "      <td>435.80</td>\n",
       "      <td>431.20</td>\n",
       "      <td>433.35</td>\n",
       "      <td>13758</td>\n",
       "    </tr>\n",
       "    <tr>\n",
       "      <th>2025-09-17</th>\n",
       "      <td>431.20</td>\n",
       "      <td>431.95</td>\n",
       "      <td>427.20</td>\n",
       "      <td>428.40</td>\n",
       "      <td>8431</td>\n",
       "    </tr>\n",
       "    <tr>\n",
       "      <th>2025-09-16</th>\n",
       "      <td>438.70</td>\n",
       "      <td>438.95</td>\n",
       "      <td>432.00</td>\n",
       "      <td>433.20</td>\n",
       "      <td>9276</td>\n",
       "    </tr>\n",
       "    <tr>\n",
       "      <th>...</th>\n",
       "      <td>...</td>\n",
       "      <td>...</td>\n",
       "      <td>...</td>\n",
       "      <td>...</td>\n",
       "      <td>...</td>\n",
       "    </tr>\n",
       "    <tr>\n",
       "      <th>2025-05-12</th>\n",
       "      <td>398.30</td>\n",
       "      <td>405.05</td>\n",
       "      <td>396.00</td>\n",
       "      <td>399.45</td>\n",
       "      <td>60637</td>\n",
       "    </tr>\n",
       "    <tr>\n",
       "      <th>2025-05-09</th>\n",
       "      <td>391.85</td>\n",
       "      <td>391.85</td>\n",
       "      <td>386.70</td>\n",
       "      <td>388.60</td>\n",
       "      <td>15469</td>\n",
       "    </tr>\n",
       "    <tr>\n",
       "      <th>2025-05-08</th>\n",
       "      <td>387.50</td>\n",
       "      <td>391.10</td>\n",
       "      <td>385.25</td>\n",
       "      <td>391.05</td>\n",
       "      <td>30824</td>\n",
       "    </tr>\n",
       "    <tr>\n",
       "      <th>2025-05-07</th>\n",
       "      <td>384.00</td>\n",
       "      <td>384.00</td>\n",
       "      <td>379.15</td>\n",
       "      <td>382.30</td>\n",
       "      <td>20204</td>\n",
       "    </tr>\n",
       "    <tr>\n",
       "      <th>2025-05-06</th>\n",
       "      <td>383.95</td>\n",
       "      <td>384.70</td>\n",
       "      <td>379.95</td>\n",
       "      <td>384.70</td>\n",
       "      <td>26221</td>\n",
       "    </tr>\n",
       "  </tbody>\n",
       "</table>\n",
       "<p>100 rows × 5 columns</p>\n",
       "</div>"
      ],
      "text/plain": [
       "            1. open  2. high  3. low  4. close 5. volume\n",
       "Date                                                    \n",
       "2025-09-22   439.95   439.95  435.95    437.15      9146\n",
       "2025-09-19   432.55   437.65  431.70    436.15      7971\n",
       "2025-09-18   434.00   435.80  431.20    433.35     13758\n",
       "2025-09-17   431.20   431.95  427.20    428.40      8431\n",
       "2025-09-16   438.70   438.95  432.00    433.20      9276\n",
       "...             ...      ...     ...       ...       ...\n",
       "2025-05-12   398.30   405.05  396.00    399.45     60637\n",
       "2025-05-09   391.85   391.85  386.70    388.60     15469\n",
       "2025-05-08   387.50   391.10  385.25    391.05     30824\n",
       "2025-05-07   384.00   384.00  379.15    382.30     20204\n",
       "2025-05-06   383.95   384.70  379.95    384.70     26221\n",
       "\n",
       "[100 rows x 5 columns]"
      ]
     },
     "execution_count": 57,
     "metadata": {},
     "output_type": "execute_result"
    }
   ],
   "source": [
    "c.time_series_daily('MSF.DEX')"
   ]
  },
  {
   "cell_type": "code",
   "execution_count": 59,
   "id": "5fd3aa29",
   "metadata": {},
   "outputs": [
    {
     "data": {
      "application/vnd.plotly.v1+json": {
       "config": {
        "plotlyServerURL": "https://plot.ly"
       },
       "data": [
        {
         "close": {
          "bdata": "ZmZmZmZSe0BmZmZmZkJ7QJqZmZmZFXtAZmZmZmbGekAzMzMzMxN7QDMzMzMzR3tAAAAAAABIe0DNzMzMzMh6QGZmZmZmrnpAMzMzMzOfekAzMzMzM6N6QM3MzMzMdHpAAAAAAAA4e0CamZmZmQl7QAAAAAAA3HpAAAAAAAD4ekAzMzMzMxt7QDMzMzMzM3tAzczMzMwke0CamZmZmfF6QAAAAAAAKHtAmpmZmZkhe0AAAAAAAEx7QDMzMzMzK3tAzczMzMxUe0CamZmZmal7QM3MzMzM6HtAMzMzMzMLfEAAAAAAACx8QM3MzMzMLHxAZmZmZmZKfEAzMzMzM+d7QM3MzMzMNHxAmpmZmZlBfEAAAAAAALh8QM3MzMzM2HxAMzMzMzNPfEAzMzMzM099QAAAAAAA8HtAmpmZmZnZe0AzMzMzM497QDMzMzMzX3tAmpmZmZkhe0AzMzMzM8t6QAAAAAAAFHtAMzMzMzM7e0DNzMzMzGB7QM3MzMzMoHtAmpmZmZnlekDNzMzMzEx7QJqZmZmZ4XpAzczMzMzgekAzMzMzM8d6QDMzMzMzv3pAmpmZmZlxekBmZmZmZop6QM3MzMzMUHpAAAAAAAB8ekAzMzMzMx96QJqZmZmZMXpAZmZmZmaCekDNzMzMzJR6QGZmZmZmXnpAAAAAAAB8ekBmZmZmZmJ6QAAAAAAA9HlAMzMzMzMLekAzMzMzM9d5QDMzMzMz/3lAMzMzMzPfeUAzMzMzM+d5QGZmZmZmunlAmpmZmZnBeUAzMzMzM9d5QJqZmZmZmXlAMzMzMzO/eUCamZmZmdF5QM3MzMzMiHlAmpmZmZlteUDNzMzMzGh5QM3MzMzMLHlAzczMzMxAeUDNzMzMzDR5QGZmZmZmYnlAzczMzMxAeUCamZmZmel4QAAAAAAA3HhAAAAAAABAeUBmZmZmZjJ5QM3MzMzMVHlAmpmZmZldeUAzMzMzMzt5QAAAAAAAbHlAmpmZmZlJeUBmZmZmZhZ5QDMzMzMz93hAmpmZmZlJeEDNzMzMzHB4QM3MzMzM5HdAMzMzMzMLeEA=",
          "dtype": "f8"
         },
         "high": {
          "bdata": "MzMzMzN/e0BmZmZmZlp7QM3MzMzMPHtAMzMzMzP/ekAzMzMzM297QGZmZmZmUntAAAAAAABIe0CamZmZmel6QM3MzMzMIHtAAAAAAADAekCamZmZmbF6QAAAAAAAUHtAAAAAAABIe0AAAAAAAEB7QDMzMzMzI3tAmpmZmZkVe0AAAAAAAFB7QAAAAAAAZHtAzczMzMw8e0BmZmZmZip7QDMzMzMzK3tAmpmZmZlFe0AAAAAAAEx7QDMzMzMzb3tAMzMzMzO3e0BmZmZmZvZ7QM3MzMzMHHxAMzMzMzMzfEAAAAAAAHR8QJqZmZmZTXxAzczMzMxkfECamZmZmSF8QGZmZmZmanxAZmZmZmbKfEBmZmZmZjJ9QM3MzMzM+HxAAAAAAACQfUCamZmZmb1+QAAAAAAAIHxAMzMzMzMTfEDNzMzMzLB7QM3MzMzMYHtAmpmZmZkle0AAAAAAACB7QM3MzMzMVHtAzczMzMxwe0CamZmZmbl7QDMzMzMzo3tAAAAAAABQe0DNzMzMzEx7QDMzMzMz83pAzczMzMzgekAzMzMzM/N6QAAAAAAADHtAMzMzMzOXekCamZmZmaV6QAAAAAAAcHpAzczMzMyQekBmZmZmZjZ6QM3MzMzMdHpAAAAAAACcekAAAAAAAJx6QDMzMzMzg3pAZmZmZmaeekAAAAAAAHh6QDMzMzMzE3pAmpmZmZk9ekBmZmZmZv55QGZmZmZmCnpAmpmZmZnheUDNzMzMzOh5QDMzMzMz+3lAzczMzMzQeUAzMzMzM+N5QGZmZmZm6nlAZmZmZmbSeUDNzMzMzPB5QM3MzMzMiHlAzczMzMyAeUAAAAAAAIB5QDMzMzMzP3lAmpmZmZlheUBmZmZmZqZ5QAAAAAAAlHlAMzMzMzNDeUAzMzMzMwN5QAAAAAAAGHlAmpmZmZl5eUBmZmZmZjJ5QJqZmZmZhXlAZmZmZmZ2eUBmZmZmZlZ5QJqZmZmZcXlAAAAAAABQeUAzMzMzM0t5QM3MzMzMUHlAmpmZmZl9eECamZmZmXF4QAAAAAAAAHhAMzMzMzMLeEA=",
          "dtype": "f8"
         },
         "low": {
          "bdata": "MzMzMzM/e0AzMzMzM/t6QDMzMzMz83pAMzMzMzOzekAAAAAAAAB7QM3MzMzM2HpAAAAAAADoekCamZmZmYl6QAAAAAAAgHpAAAAAAACAekAAAAAAAFh6QDMzMzMzV3pAMzMzMzMDe0AzMzMzM/N6QJqZmZmZvXpAAAAAAAD4ekAAAAAAAAR7QGZmZmZmEntAmpmZmZnxekCamZmZmfF6QAAAAAAA6HpAzczMzMwMe0AzMzMzM/96QM3MzMzMGHtAzczMzMw8e0CamZmZmal7QJqZmZmZ1XtAAAAAAADge0DNzMzMzBx8QAAAAAAADHxAAAAAAAD4e0CamZmZmeV7QDMzMzMzG3xAMzMzMzMzfEAzMzMzM7d8QAAAAAAAcHxAMzMzMzNPfEDNzMzMzDR9QDMzMzMzw3tAzczMzMy0e0AAAAAAAHx7QM3MzMzMKHtAAAAAAADgekAzMzMzM696QM3MzMzMDHtAMzMzMzMfe0AzMzMzM1t7QGZmZmZmNntAMzMzMzPfekCamZmZmdV6QDMzMzMzv3pAAAAAAACgekCamZmZmal6QAAAAAAAcHpAmpmZmZlhekDNzMzMzFx6QAAAAAAAUHpAAAAAAAD8eUDNzMzMzOx5QJqZmZmZHXpAAAAAAABgekCamZmZmU16QJqZmZmZTXpAzczMzMxYekAzMzMzMzN6QAAAAAAAwHlAmpmZmZnpeUAAAAAAAMB5QM3MzMzM1HlAmpmZmZmZeUAAAAAAAJx5QM3MzMzMZHlAMzMzMzN3eUBmZmZmZpp5QAAAAAAAmHlAMzMzMzObeUAAAAAAAJh5QAAAAAAARHlAMzMzMzNLeUAAAAAAACB5QM3MzMzM5HhAAAAAAAAgeUBmZmZmZiZ5QJqZmZmZKXlAAAAAAAD4eEDNzMzMzNB4QAAAAAAAwHhAmpmZmZnleEAzMzMzM/N4QDMzMzMzO3lAzczMzMzgeEAAAAAAABR5QAAAAAAADHlAAAAAAADAeEAzMzMzM/94QAAAAAAAwHhAMzMzMzMreEAAAAAAABR4QGZmZmZmsndAMzMzMzO/d0A=",
          "dtype": "f8"
         },
         "open": {
          "bdata": "MzMzMzN/e0DNzMzMzAh7QAAAAAAAIHtAMzMzMzPzekAzMzMzM2t7QM3MzMzMSHtAzczMzMwIe0BmZmZmZs56QM3MzMzMrHpAMzMzMzOLekAzMzMzM396QAAAAAAAQHtAMzMzMzMTe0DNzMzMzBB7QGZmZmZmEntAmpmZmZn9ekAAAAAAAFB7QAAAAAAASHtAzczMzMz8ekAzMzMzMxt7QM3MzMzMFHtAmpmZmZkZe0AAAAAAACx7QM3MzMzMTHtAMzMzMzOve0BmZmZmZtJ7QM3MzMzMHHxAmpmZmZnle0DNzMzMzFR8QDMzMzMzK3xAmpmZmZkNfECamZmZmfl7QJqZmZmZOXxAAAAAAADAfECamZmZmR19QJqZmZmZeXxAAAAAAABgfUAzMzMzM2d+QM3MzMzM1HtAMzMzMzPLe0AzMzMzM4t7QM3MzMzMNHtAzczMzMzgekBmZmZmZvZ6QDMzMzMzQ3tAmpmZmZlhe0AzMzMzM597QJqZmZmZUXtAZmZmZmYWe0BmZmZmZu56QAAAAAAA0HpAAAAAAADAekAzMzMzM796QAAAAAAAcHpAMzMzMzOLekAAAAAAAGx6QDMzMzMzY3pAZmZmZmYGekAzMzMzMyN6QGZmZmZmbnpAzczMzMyMekAAAAAAAJx6QDMzMzMzU3pAAAAAAABwekBmZmZmZm56QGZmZmZm0nlAAAAAAAAAekBmZmZmZv55QJqZmZmZ8XlAAAAAAADAeUAAAAAAALh5QM3MzMzMcHlAMzMzMzOjeUAAAAAAAKh5QM3MzMzM2HlAAAAAAACceUAAAAAAAKB5QDMzMzMza3lAmpmZmZlZeUAzMzMzMzN5QGZmZmZmFnlAMzMzMzMneUAAAAAAAJB5QJqZmZmZXXlAAAAAAAD4eEAzMzMzM+N4QAAAAAAABHlAzczMzMwAeUDNzMzMzBh5QAAAAAAAUHlAAAAAAADoeEAAAAAAACR5QJqZmZmZIXlAMzMzMzMfeUCamZmZmSF5QM3MzMzM5HhAmpmZmZl9eEAAAAAAADh4QAAAAAAAAHhAMzMzMzP/d0A=",
          "dtype": "f8"
         },
         "type": "candlestick",
         "x": [
          "2025-09-22T00:00:00.000000000",
          "2025-09-19T00:00:00.000000000",
          "2025-09-18T00:00:00.000000000",
          "2025-09-17T00:00:00.000000000",
          "2025-09-16T00:00:00.000000000",
          "2025-09-15T00:00:00.000000000",
          "2025-09-12T00:00:00.000000000",
          "2025-09-11T00:00:00.000000000",
          "2025-09-10T00:00:00.000000000",
          "2025-09-09T00:00:00.000000000",
          "2025-09-08T00:00:00.000000000",
          "2025-09-05T00:00:00.000000000",
          "2025-09-04T00:00:00.000000000",
          "2025-09-03T00:00:00.000000000",
          "2025-09-02T00:00:00.000000000",
          "2025-09-01T00:00:00.000000000",
          "2025-08-29T00:00:00.000000000",
          "2025-08-28T00:00:00.000000000",
          "2025-08-27T00:00:00.000000000",
          "2025-08-26T00:00:00.000000000",
          "2025-08-25T00:00:00.000000000",
          "2025-08-22T00:00:00.000000000",
          "2025-08-21T00:00:00.000000000",
          "2025-08-20T00:00:00.000000000",
          "2025-08-19T00:00:00.000000000",
          "2025-08-18T00:00:00.000000000",
          "2025-08-15T00:00:00.000000000",
          "2025-08-14T00:00:00.000000000",
          "2025-08-13T00:00:00.000000000",
          "2025-08-12T00:00:00.000000000",
          "2025-08-11T00:00:00.000000000",
          "2025-08-08T00:00:00.000000000",
          "2025-08-07T00:00:00.000000000",
          "2025-08-06T00:00:00.000000000",
          "2025-08-05T00:00:00.000000000",
          "2025-08-04T00:00:00.000000000",
          "2025-08-01T00:00:00.000000000",
          "2025-07-31T00:00:00.000000000",
          "2025-07-30T00:00:00.000000000",
          "2025-07-29T00:00:00.000000000",
          "2025-07-28T00:00:00.000000000",
          "2025-07-25T00:00:00.000000000",
          "2025-07-24T00:00:00.000000000",
          "2025-07-23T00:00:00.000000000",
          "2025-07-22T00:00:00.000000000",
          "2025-07-21T00:00:00.000000000",
          "2025-07-18T00:00:00.000000000",
          "2025-07-17T00:00:00.000000000",
          "2025-07-16T00:00:00.000000000",
          "2025-07-15T00:00:00.000000000",
          "2025-07-14T00:00:00.000000000",
          "2025-07-11T00:00:00.000000000",
          "2025-07-10T00:00:00.000000000",
          "2025-07-09T00:00:00.000000000",
          "2025-07-08T00:00:00.000000000",
          "2025-07-07T00:00:00.000000000",
          "2025-07-04T00:00:00.000000000",
          "2025-07-03T00:00:00.000000000",
          "2025-07-02T00:00:00.000000000",
          "2025-07-01T00:00:00.000000000",
          "2025-06-30T00:00:00.000000000",
          "2025-06-27T00:00:00.000000000",
          "2025-06-26T00:00:00.000000000",
          "2025-06-25T00:00:00.000000000",
          "2025-06-24T00:00:00.000000000",
          "2025-06-23T00:00:00.000000000",
          "2025-06-20T00:00:00.000000000",
          "2025-06-19T00:00:00.000000000",
          "2025-06-18T00:00:00.000000000",
          "2025-06-17T00:00:00.000000000",
          "2025-06-16T00:00:00.000000000",
          "2025-06-13T00:00:00.000000000",
          "2025-06-12T00:00:00.000000000",
          "2025-06-11T00:00:00.000000000",
          "2025-06-10T00:00:00.000000000",
          "2025-06-09T00:00:00.000000000",
          "2025-06-06T00:00:00.000000000",
          "2025-06-05T00:00:00.000000000",
          "2025-06-04T00:00:00.000000000",
          "2025-06-03T00:00:00.000000000",
          "2025-06-02T00:00:00.000000000",
          "2025-05-30T00:00:00.000000000",
          "2025-05-29T00:00:00.000000000",
          "2025-05-28T00:00:00.000000000",
          "2025-05-27T00:00:00.000000000",
          "2025-05-26T00:00:00.000000000",
          "2025-05-23T00:00:00.000000000",
          "2025-05-22T00:00:00.000000000",
          "2025-05-21T00:00:00.000000000",
          "2025-05-20T00:00:00.000000000",
          "2025-05-19T00:00:00.000000000",
          "2025-05-16T00:00:00.000000000",
          "2025-05-15T00:00:00.000000000",
          "2025-05-14T00:00:00.000000000",
          "2025-05-13T00:00:00.000000000",
          "2025-05-12T00:00:00.000000000",
          "2025-05-09T00:00:00.000000000",
          "2025-05-08T00:00:00.000000000",
          "2025-05-07T00:00:00.000000000",
          "2025-05-06T00:00:00.000000000"
         ]
        }
       ],
       "layout": {
        "template": {
         "data": {
          "bar": [
           {
            "error_x": {
             "color": "#2a3f5f"
            },
            "error_y": {
             "color": "#2a3f5f"
            },
            "marker": {
             "line": {
              "color": "#E5ECF6",
              "width": 0.5
             },
             "pattern": {
              "fillmode": "overlay",
              "size": 10,
              "solidity": 0.2
             }
            },
            "type": "bar"
           }
          ],
          "barpolar": [
           {
            "marker": {
             "line": {
              "color": "#E5ECF6",
              "width": 0.5
             },
             "pattern": {
              "fillmode": "overlay",
              "size": 10,
              "solidity": 0.2
             }
            },
            "type": "barpolar"
           }
          ],
          "carpet": [
           {
            "aaxis": {
             "endlinecolor": "#2a3f5f",
             "gridcolor": "white",
             "linecolor": "white",
             "minorgridcolor": "white",
             "startlinecolor": "#2a3f5f"
            },
            "baxis": {
             "endlinecolor": "#2a3f5f",
             "gridcolor": "white",
             "linecolor": "white",
             "minorgridcolor": "white",
             "startlinecolor": "#2a3f5f"
            },
            "type": "carpet"
           }
          ],
          "choropleth": [
           {
            "colorbar": {
             "outlinewidth": 0,
             "ticks": ""
            },
            "type": "choropleth"
           }
          ],
          "contour": [
           {
            "colorbar": {
             "outlinewidth": 0,
             "ticks": ""
            },
            "colorscale": [
             [
              0,
              "#0d0887"
             ],
             [
              0.1111111111111111,
              "#46039f"
             ],
             [
              0.2222222222222222,
              "#7201a8"
             ],
             [
              0.3333333333333333,
              "#9c179e"
             ],
             [
              0.4444444444444444,
              "#bd3786"
             ],
             [
              0.5555555555555556,
              "#d8576b"
             ],
             [
              0.6666666666666666,
              "#ed7953"
             ],
             [
              0.7777777777777778,
              "#fb9f3a"
             ],
             [
              0.8888888888888888,
              "#fdca26"
             ],
             [
              1,
              "#f0f921"
             ]
            ],
            "type": "contour"
           }
          ],
          "contourcarpet": [
           {
            "colorbar": {
             "outlinewidth": 0,
             "ticks": ""
            },
            "type": "contourcarpet"
           }
          ],
          "heatmap": [
           {
            "colorbar": {
             "outlinewidth": 0,
             "ticks": ""
            },
            "colorscale": [
             [
              0,
              "#0d0887"
             ],
             [
              0.1111111111111111,
              "#46039f"
             ],
             [
              0.2222222222222222,
              "#7201a8"
             ],
             [
              0.3333333333333333,
              "#9c179e"
             ],
             [
              0.4444444444444444,
              "#bd3786"
             ],
             [
              0.5555555555555556,
              "#d8576b"
             ],
             [
              0.6666666666666666,
              "#ed7953"
             ],
             [
              0.7777777777777778,
              "#fb9f3a"
             ],
             [
              0.8888888888888888,
              "#fdca26"
             ],
             [
              1,
              "#f0f921"
             ]
            ],
            "type": "heatmap"
           }
          ],
          "histogram": [
           {
            "marker": {
             "pattern": {
              "fillmode": "overlay",
              "size": 10,
              "solidity": 0.2
             }
            },
            "type": "histogram"
           }
          ],
          "histogram2d": [
           {
            "colorbar": {
             "outlinewidth": 0,
             "ticks": ""
            },
            "colorscale": [
             [
              0,
              "#0d0887"
             ],
             [
              0.1111111111111111,
              "#46039f"
             ],
             [
              0.2222222222222222,
              "#7201a8"
             ],
             [
              0.3333333333333333,
              "#9c179e"
             ],
             [
              0.4444444444444444,
              "#bd3786"
             ],
             [
              0.5555555555555556,
              "#d8576b"
             ],
             [
              0.6666666666666666,
              "#ed7953"
             ],
             [
              0.7777777777777778,
              "#fb9f3a"
             ],
             [
              0.8888888888888888,
              "#fdca26"
             ],
             [
              1,
              "#f0f921"
             ]
            ],
            "type": "histogram2d"
           }
          ],
          "histogram2dcontour": [
           {
            "colorbar": {
             "outlinewidth": 0,
             "ticks": ""
            },
            "colorscale": [
             [
              0,
              "#0d0887"
             ],
             [
              0.1111111111111111,
              "#46039f"
             ],
             [
              0.2222222222222222,
              "#7201a8"
             ],
             [
              0.3333333333333333,
              "#9c179e"
             ],
             [
              0.4444444444444444,
              "#bd3786"
             ],
             [
              0.5555555555555556,
              "#d8576b"
             ],
             [
              0.6666666666666666,
              "#ed7953"
             ],
             [
              0.7777777777777778,
              "#fb9f3a"
             ],
             [
              0.8888888888888888,
              "#fdca26"
             ],
             [
              1,
              "#f0f921"
             ]
            ],
            "type": "histogram2dcontour"
           }
          ],
          "mesh3d": [
           {
            "colorbar": {
             "outlinewidth": 0,
             "ticks": ""
            },
            "type": "mesh3d"
           }
          ],
          "parcoords": [
           {
            "line": {
             "colorbar": {
              "outlinewidth": 0,
              "ticks": ""
             }
            },
            "type": "parcoords"
           }
          ],
          "pie": [
           {
            "automargin": true,
            "type": "pie"
           }
          ],
          "scatter": [
           {
            "fillpattern": {
             "fillmode": "overlay",
             "size": 10,
             "solidity": 0.2
            },
            "type": "scatter"
           }
          ],
          "scatter3d": [
           {
            "line": {
             "colorbar": {
              "outlinewidth": 0,
              "ticks": ""
             }
            },
            "marker": {
             "colorbar": {
              "outlinewidth": 0,
              "ticks": ""
             }
            },
            "type": "scatter3d"
           }
          ],
          "scattercarpet": [
           {
            "marker": {
             "colorbar": {
              "outlinewidth": 0,
              "ticks": ""
             }
            },
            "type": "scattercarpet"
           }
          ],
          "scattergeo": [
           {
            "marker": {
             "colorbar": {
              "outlinewidth": 0,
              "ticks": ""
             }
            },
            "type": "scattergeo"
           }
          ],
          "scattergl": [
           {
            "marker": {
             "colorbar": {
              "outlinewidth": 0,
              "ticks": ""
             }
            },
            "type": "scattergl"
           }
          ],
          "scattermap": [
           {
            "marker": {
             "colorbar": {
              "outlinewidth": 0,
              "ticks": ""
             }
            },
            "type": "scattermap"
           }
          ],
          "scattermapbox": [
           {
            "marker": {
             "colorbar": {
              "outlinewidth": 0,
              "ticks": ""
             }
            },
            "type": "scattermapbox"
           }
          ],
          "scatterpolar": [
           {
            "marker": {
             "colorbar": {
              "outlinewidth": 0,
              "ticks": ""
             }
            },
            "type": "scatterpolar"
           }
          ],
          "scatterpolargl": [
           {
            "marker": {
             "colorbar": {
              "outlinewidth": 0,
              "ticks": ""
             }
            },
            "type": "scatterpolargl"
           }
          ],
          "scatterternary": [
           {
            "marker": {
             "colorbar": {
              "outlinewidth": 0,
              "ticks": ""
             }
            },
            "type": "scatterternary"
           }
          ],
          "surface": [
           {
            "colorbar": {
             "outlinewidth": 0,
             "ticks": ""
            },
            "colorscale": [
             [
              0,
              "#0d0887"
             ],
             [
              0.1111111111111111,
              "#46039f"
             ],
             [
              0.2222222222222222,
              "#7201a8"
             ],
             [
              0.3333333333333333,
              "#9c179e"
             ],
             [
              0.4444444444444444,
              "#bd3786"
             ],
             [
              0.5555555555555556,
              "#d8576b"
             ],
             [
              0.6666666666666666,
              "#ed7953"
             ],
             [
              0.7777777777777778,
              "#fb9f3a"
             ],
             [
              0.8888888888888888,
              "#fdca26"
             ],
             [
              1,
              "#f0f921"
             ]
            ],
            "type": "surface"
           }
          ],
          "table": [
           {
            "cells": {
             "fill": {
              "color": "#EBF0F8"
             },
             "line": {
              "color": "white"
             }
            },
            "header": {
             "fill": {
              "color": "#C8D4E3"
             },
             "line": {
              "color": "white"
             }
            },
            "type": "table"
           }
          ]
         },
         "layout": {
          "annotationdefaults": {
           "arrowcolor": "#2a3f5f",
           "arrowhead": 0,
           "arrowwidth": 1
          },
          "autotypenumbers": "strict",
          "coloraxis": {
           "colorbar": {
            "outlinewidth": 0,
            "ticks": ""
           }
          },
          "colorscale": {
           "diverging": [
            [
             0,
             "#8e0152"
            ],
            [
             0.1,
             "#c51b7d"
            ],
            [
             0.2,
             "#de77ae"
            ],
            [
             0.3,
             "#f1b6da"
            ],
            [
             0.4,
             "#fde0ef"
            ],
            [
             0.5,
             "#f7f7f7"
            ],
            [
             0.6,
             "#e6f5d0"
            ],
            [
             0.7,
             "#b8e186"
            ],
            [
             0.8,
             "#7fbc41"
            ],
            [
             0.9,
             "#4d9221"
            ],
            [
             1,
             "#276419"
            ]
           ],
           "sequential": [
            [
             0,
             "#0d0887"
            ],
            [
             0.1111111111111111,
             "#46039f"
            ],
            [
             0.2222222222222222,
             "#7201a8"
            ],
            [
             0.3333333333333333,
             "#9c179e"
            ],
            [
             0.4444444444444444,
             "#bd3786"
            ],
            [
             0.5555555555555556,
             "#d8576b"
            ],
            [
             0.6666666666666666,
             "#ed7953"
            ],
            [
             0.7777777777777778,
             "#fb9f3a"
            ],
            [
             0.8888888888888888,
             "#fdca26"
            ],
            [
             1,
             "#f0f921"
            ]
           ],
           "sequentialminus": [
            [
             0,
             "#0d0887"
            ],
            [
             0.1111111111111111,
             "#46039f"
            ],
            [
             0.2222222222222222,
             "#7201a8"
            ],
            [
             0.3333333333333333,
             "#9c179e"
            ],
            [
             0.4444444444444444,
             "#bd3786"
            ],
            [
             0.5555555555555556,
             "#d8576b"
            ],
            [
             0.6666666666666666,
             "#ed7953"
            ],
            [
             0.7777777777777778,
             "#fb9f3a"
            ],
            [
             0.8888888888888888,
             "#fdca26"
            ],
            [
             1,
             "#f0f921"
            ]
           ]
          },
          "colorway": [
           "#636efa",
           "#EF553B",
           "#00cc96",
           "#ab63fa",
           "#FFA15A",
           "#19d3f3",
           "#FF6692",
           "#B6E880",
           "#FF97FF",
           "#FECB52"
          ],
          "font": {
           "color": "#2a3f5f"
          },
          "geo": {
           "bgcolor": "white",
           "lakecolor": "white",
           "landcolor": "#E5ECF6",
           "showlakes": true,
           "showland": true,
           "subunitcolor": "white"
          },
          "hoverlabel": {
           "align": "left"
          },
          "hovermode": "closest",
          "mapbox": {
           "style": "light"
          },
          "paper_bgcolor": "white",
          "plot_bgcolor": "#E5ECF6",
          "polar": {
           "angularaxis": {
            "gridcolor": "white",
            "linecolor": "white",
            "ticks": ""
           },
           "bgcolor": "#E5ECF6",
           "radialaxis": {
            "gridcolor": "white",
            "linecolor": "white",
            "ticks": ""
           }
          },
          "scene": {
           "xaxis": {
            "backgroundcolor": "#E5ECF6",
            "gridcolor": "white",
            "gridwidth": 2,
            "linecolor": "white",
            "showbackground": true,
            "ticks": "",
            "zerolinecolor": "white"
           },
           "yaxis": {
            "backgroundcolor": "#E5ECF6",
            "gridcolor": "white",
            "gridwidth": 2,
            "linecolor": "white",
            "showbackground": true,
            "ticks": "",
            "zerolinecolor": "white"
           },
           "zaxis": {
            "backgroundcolor": "#E5ECF6",
            "gridcolor": "white",
            "gridwidth": 2,
            "linecolor": "white",
            "showbackground": true,
            "ticks": "",
            "zerolinecolor": "white"
           }
          },
          "shapedefaults": {
           "line": {
            "color": "#2a3f5f"
           }
          },
          "ternary": {
           "aaxis": {
            "gridcolor": "white",
            "linecolor": "white",
            "ticks": ""
           },
           "baxis": {
            "gridcolor": "white",
            "linecolor": "white",
            "ticks": ""
           },
           "bgcolor": "#E5ECF6",
           "caxis": {
            "gridcolor": "white",
            "linecolor": "white",
            "ticks": ""
           }
          },
          "title": {
           "x": 0.05
          },
          "xaxis": {
           "automargin": true,
           "gridcolor": "white",
           "linecolor": "white",
           "ticks": "",
           "title": {
            "standoff": 15
           },
           "zerolinecolor": "white",
           "zerolinewidth": 2
          },
          "yaxis": {
           "automargin": true,
           "gridcolor": "white",
           "linecolor": "white",
           "ticks": "",
           "title": {
            "standoff": 15
           },
           "zerolinecolor": "white",
           "zerolinewidth": 2
          }
         }
        },
        "title": {
         "text": "candelstick Chart"
        },
        "xaxis": {
         "title": {
          "text": "date"
         }
        },
        "yaxis": {
         "title": {
          "text": "Price"
         }
        }
       }
      }
     },
     "metadata": {},
     "output_type": "display_data"
    }
   ],
   "source": [
    "c.plot(c.time_series_daily('MSF.DEX'))"
   ]
  },
  {
   "cell_type": "code",
   "execution_count": 72,
   "id": "5a6861d8",
   "metadata": {},
   "outputs": [],
   "source": [
    "import pandas as  pd\n",
    "import requests\n",
    "import plotly.graph_objects as  go \n",
    "import  os\n",
    "## create  class\n",
    "class API_STOCK_MARKET:\n",
    "    def __init__(self , api_key   ):\n",
    "        self.api_key  =  api_key\n",
    "        self.headers  =  {\n",
    "\t                 \"x-rapidapi-key\": api_key,\n",
    "\t                 \"x-rapidapi-host\": \"alpha-vantage.p.rapidapi.com\"  }\n",
    "        self.url  =   \"https://alpha-vantage.p.rapidapi.com/query\"\n",
    "\n",
    "\n",
    "    # extract  symbols  \n",
    "    def  search_symbol(self ,  keyword):\n",
    "        querystring = {\"datatype\":\"json\",\n",
    "                       \"keywords\":keyword,\n",
    "                       \"function\":\"SYMBOL_SEARCH\"}\n",
    "        response = requests.get(self.url, headers=self.headers, params=querystring)\n",
    "\n",
    "        data  =  response.json()\n",
    "        data1  =  {}\n",
    "        for  i  in data['bestMatches']:\n",
    "            symbol  =  i['1. symbol']\n",
    "            data1[symbol] =  [i['2. name'], i['4. region'] , i['8. currency']]\n",
    "        return  data1\n",
    "\n",
    "     ## fetch time series daily \n",
    "    def  time_series_daily(self  ,  symbol):\n",
    "        querystring = {\"function\":\"TIME_SERIES_DAILY\",\n",
    "                       \"symbol\":symbol,\n",
    "                       \"outputsize\":\"compact\",\n",
    "                       \"datatype\":\"json\"}\n",
    "\n",
    "        response = requests.get(self.url, \n",
    "                                headers=self.headers,\n",
    "                                 params=querystring)\n",
    "\n",
    "        data2 =  response.json()\n",
    "        # convert  in dataframe\n",
    "        df  = pd.DataFrame(data2['Time Series (Daily)']).T\n",
    "        # change data type  of columns\n",
    "        df['1. open'] =  pd.to_numeric(df['1. open'])\n",
    "        df['4. close'] = pd.to_numeric(df['4. close'])\n",
    "        df['2. high'] = pd.to_numeric(df['2. high'])\n",
    "        df['3. low'] = pd.to_numeric(df['3. low'])\n",
    "        # change  data type  of index\n",
    "        df.index  =  pd.to_datetime(df.index)\n",
    "        # give name to index\n",
    "        df.index.name  = 'Date'\n",
    "        return  df \n",
    "    \n",
    "   \n",
    "    #  plot  graph\n",
    "    def plot(self, symbol ):\n",
    "        df  =  self.time_series_daily(symbol)\n",
    "        fig = go.Figure(data=[go.Candlestick(x=df.index,\n",
    "                open=df['1. open'],\n",
    "                high=df['2. high'],\n",
    "                low=df['3. low'],\n",
    "                close=df['4. close'])])\n",
    "\n",
    "        fig.update_layout(title ='candelstick Chart' , \n",
    "                          xaxis_title = 'date' ,\n",
    "                            yaxis_title = 'Price')\n",
    "        return  fig\n",
    "        \n"
   ]
  },
  {
   "cell_type": "code",
   "execution_count": 74,
   "id": "f21bc2f3",
   "metadata": {},
   "outputs": [],
   "source": [
    "d  =  API_STOCK_MARKET(os.getenv(\"API_KEY\"))\n"
   ]
  },
  {
   "cell_type": "code",
   "execution_count": 75,
   "id": "1215cd4b",
   "metadata": {},
   "outputs": [
    {
     "data": {
      "text/plain": [
       "{'RELIANCE.BSE': ['Reliance Industries Limited', 'India/Bombay', 'INR'],\n",
       " 'RELI': ['Reliance Global Group Inc', 'United States', 'USD'],\n",
       " 'RELIW': ['Reliance Global Group Inc - Warrants - Series A (01/02/2026)',\n",
       "  'United States',\n",
       "  'USD'],\n",
       " 'RELCHEMQ.BSE': ['RELIANCE CHEMOTEX INDUSTRIES LTD.-$',\n",
       "  'India/Bombay',\n",
       "  'INR'],\n",
       " 'RLBS': ['Reliance Bancshares Inc', 'United States', 'USD'],\n",
       " 'RELHOME.BSE': ['Reliance Home Finance Ltd', 'India/Bombay', 'INR'],\n",
       " 'RCOM.BSE': ['RELIANCE COMMUNICATIONS LTD.', 'India/Bombay', 'INR'],\n",
       " '540709.BSE': ['Reliance Home Finance Limited', 'India/Bombay', 'INR'],\n",
       " '532712.BSE': ['Reliance Communications Limited', 'India/Bombay', 'INR'],\n",
       " '503162.BSE': ['Reliance Chemotex Industries Limited', 'India/Bombay', 'INR']}"
      ]
     },
     "execution_count": 75,
     "metadata": {},
     "output_type": "execute_result"
    }
   ],
   "source": [
    "d.search_symbol('reliance')"
   ]
  },
  {
   "cell_type": "code",
   "execution_count": 76,
   "id": "a2a66469",
   "metadata": {},
   "outputs": [
    {
     "data": {
      "text/html": [
       "<div>\n",
       "<style scoped>\n",
       "    .dataframe tbody tr th:only-of-type {\n",
       "        vertical-align: middle;\n",
       "    }\n",
       "\n",
       "    .dataframe tbody tr th {\n",
       "        vertical-align: top;\n",
       "    }\n",
       "\n",
       "    .dataframe thead th {\n",
       "        text-align: right;\n",
       "    }\n",
       "</style>\n",
       "<table border=\"1\" class=\"dataframe\">\n",
       "  <thead>\n",
       "    <tr style=\"text-align: right;\">\n",
       "      <th></th>\n",
       "      <th>1. open</th>\n",
       "      <th>2. high</th>\n",
       "      <th>3. low</th>\n",
       "      <th>4. close</th>\n",
       "      <th>5. volume</th>\n",
       "    </tr>\n",
       "    <tr>\n",
       "      <th>Date</th>\n",
       "      <th></th>\n",
       "      <th></th>\n",
       "      <th></th>\n",
       "      <th></th>\n",
       "      <th></th>\n",
       "    </tr>\n",
       "  </thead>\n",
       "  <tbody>\n",
       "    <tr>\n",
       "      <th>2025-09-22</th>\n",
       "      <td>4.45</td>\n",
       "      <td>4.48</td>\n",
       "      <td>4.37</td>\n",
       "      <td>4.37</td>\n",
       "      <td>623903</td>\n",
       "    </tr>\n",
       "    <tr>\n",
       "      <th>2025-09-19</th>\n",
       "      <td>4.63</td>\n",
       "      <td>4.69</td>\n",
       "      <td>4.57</td>\n",
       "      <td>4.60</td>\n",
       "      <td>717715</td>\n",
       "    </tr>\n",
       "    <tr>\n",
       "      <th>2025-09-18</th>\n",
       "      <td>4.70</td>\n",
       "      <td>4.74</td>\n",
       "      <td>4.53</td>\n",
       "      <td>4.65</td>\n",
       "      <td>564078</td>\n",
       "    </tr>\n",
       "    <tr>\n",
       "      <th>2025-09-17</th>\n",
       "      <td>4.77</td>\n",
       "      <td>4.77</td>\n",
       "      <td>4.55</td>\n",
       "      <td>4.69</td>\n",
       "      <td>856457</td>\n",
       "    </tr>\n",
       "    <tr>\n",
       "      <th>2025-09-16</th>\n",
       "      <td>4.71</td>\n",
       "      <td>4.78</td>\n",
       "      <td>4.67</td>\n",
       "      <td>4.74</td>\n",
       "      <td>1191947</td>\n",
       "    </tr>\n",
       "    <tr>\n",
       "      <th>...</th>\n",
       "      <td>...</td>\n",
       "      <td>...</td>\n",
       "      <td>...</td>\n",
       "      <td>...</td>\n",
       "      <td>...</td>\n",
       "    </tr>\n",
       "    <tr>\n",
       "      <th>2025-05-08</th>\n",
       "      <td>3.02</td>\n",
       "      <td>3.16</td>\n",
       "      <td>2.96</td>\n",
       "      <td>2.99</td>\n",
       "      <td>580611</td>\n",
       "    </tr>\n",
       "    <tr>\n",
       "      <th>2025-05-07</th>\n",
       "      <td>2.94</td>\n",
       "      <td>3.14</td>\n",
       "      <td>2.90</td>\n",
       "      <td>3.03</td>\n",
       "      <td>473884</td>\n",
       "    </tr>\n",
       "    <tr>\n",
       "      <th>2025-05-06</th>\n",
       "      <td>3.20</td>\n",
       "      <td>3.21</td>\n",
       "      <td>3.00</td>\n",
       "      <td>3.01</td>\n",
       "      <td>1027684</td>\n",
       "    </tr>\n",
       "    <tr>\n",
       "      <th>2025-05-05</th>\n",
       "      <td>3.26</td>\n",
       "      <td>3.27</td>\n",
       "      <td>3.11</td>\n",
       "      <td>3.21</td>\n",
       "      <td>744651</td>\n",
       "    </tr>\n",
       "    <tr>\n",
       "      <th>2025-05-02</th>\n",
       "      <td>3.27</td>\n",
       "      <td>3.33</td>\n",
       "      <td>3.21</td>\n",
       "      <td>3.24</td>\n",
       "      <td>439141</td>\n",
       "    </tr>\n",
       "  </tbody>\n",
       "</table>\n",
       "<p>100 rows × 5 columns</p>\n",
       "</div>"
      ],
      "text/plain": [
       "            1. open  2. high  3. low  4. close 5. volume\n",
       "Date                                                    \n",
       "2025-09-22     4.45     4.48    4.37      4.37    623903\n",
       "2025-09-19     4.63     4.69    4.57      4.60    717715\n",
       "2025-09-18     4.70     4.74    4.53      4.65    564078\n",
       "2025-09-17     4.77     4.77    4.55      4.69    856457\n",
       "2025-09-16     4.71     4.78    4.67      4.74   1191947\n",
       "...             ...      ...     ...       ...       ...\n",
       "2025-05-08     3.02     3.16    2.96      2.99    580611\n",
       "2025-05-07     2.94     3.14    2.90      3.03    473884\n",
       "2025-05-06     3.20     3.21    3.00      3.01   1027684\n",
       "2025-05-05     3.26     3.27    3.11      3.21    744651\n",
       "2025-05-02     3.27     3.33    3.21      3.24    439141\n",
       "\n",
       "[100 rows x 5 columns]"
      ]
     },
     "execution_count": 76,
     "metadata": {},
     "output_type": "execute_result"
    }
   ],
   "source": [
    "d.time_series_daily('RELHOME.BSE')"
   ]
  },
  {
   "cell_type": "code",
   "execution_count": 77,
   "id": "a0e3ad08",
   "metadata": {},
   "outputs": [
    {
     "data": {
      "application/vnd.plotly.v1+json": {
       "config": {
        "plotlyServerURL": "https://plot.ly"
       },
       "data": [
        {
         "close": {
          "bdata": "exSuR+F6EUBmZmZmZmYSQJqZmZmZmRJAw/UoXI/CEkD2KFyPwvUSQNejcD0K1xJA7FG4HoXrEkB7FK5H4XoSQOF6FK5H4RJA7FG4HoXrEkA9CtejcD0TQClcj8L1KBNAUrgehetRE0Bcj8L1KFwTQBSuR+F6FBRAKVyPwvUoE0AUrkfhehQTQLgehetRuBNA16NwPQrXE0DhehSuR+EUQPYoXI/C9RVAFK5H4XoUFUAUrkfhehQUQClcj8L1KBNAmpmZmZmZEkBcj8L1KFwSQFyPwvUoXBJA9ihcj8L1EkDXo3A9CtcSQOxRuB6F6xJAzczMzMzME0B7FK5H4XoTQJqZmZmZmRJAj8L1KFyPE0CPwvUoXI8UQKRwPQrXoxNAzczMzMzMEkDsUbgehesRQBSuR+F6FBFA9ihcj8L1EUDhehSuR+ESQEjhehSuRxJAPQrXo3A9E0A9CtejcD0UQEjhehSuRxVArkfhehSuFUBI4XoUrkcVQK5H4XoUrhVAH4XrUbgeFkCF61G4HoUWQBSuR+F6FBZArkfhehSuFUAfhetRuB4WQI/C9ShcjxZAAAAAAAAAF0BxPQrXo3AXQOF6FK5H4RdAXI/C9ShcGEDXo3A9CtcYQFK4HoXrURlAzczMzMzMGUBSuB6F61EaQNejcD0K1xpAXI/C9ShcG0DhehSuR+EbQHE9CtejcBxAAAAAAAAAHUCPwvUoXI8dQClcj8L1KB5Aw/UoXI/CHkBcj8L1KFwfQOF6FK5H4R1AexSuR+F6HEApXI/C9SgbQOF6FK5H4RlArkfhehSuGECF61G4HoUXQGZmZmZmZhZAXI/C9ShcFUBcj8L1KFwUQGZmZmZmZhNAexSuR+F6EkCamZmZmZkRQAAAAAAAABBAH4XrUbgeDUB7FK5H4XoKQOF6FK5H4QpAj8L1KFyPCkCPwvUoXI8KQGZmZmZmZgpAPQrXo3A9CkBSuB6F61EKQGZmZmZmZgpAPQrXo3A9CkDsUbgehesHQOxRuB6F6wdAPQrXo3A9CEAUrkfhehQIQK5H4XoUrglA7FG4HoXrCUA=",
          "dtype": "f8"
         },
         "high": {
          "bdata": "7FG4HoXrEUDD9Shcj8ISQPYoXI/C9RJAFK5H4XoUE0AfhetRuB4TQFK4HoXrURNAH4XrUbgeE0AfhetRuB4TQD0K16NwPRNA16NwPQrXE0AAAAAAAAAUQKRwPQrXoxNAw/UoXI/CE0AzMzMzMzMUQBSuR+F6FBRAzczMzMzME0AzMzMzMzMUQEjhehSuRxRAKVyPwvUoFEApXI/C9SgVQB+F61G4HhZAFK5H4XoUFUAUrkfhehQUQEjhehSuRxNAKVyPwvUoE0DNzMzMzMwSQB+F61G4HhNAMzMzMzMzE0ApXI/C9SgTQGZmZmZmZhRAcT0K16NwFECF61G4HoUTQJqZmZmZmRJAj8L1KFyPE0CamZmZmZkUQLgehetRuBNAzczMzMzMEkDsUbgehesRQMP1KFyPwhFA9ihcj8L1EUApXI/C9SgTQM3MzMzMzBJAUrgehetRFECamZmZmZkVQJqZmZmZmRVArkfhehSuFUBI4XoUrkcVQAAAAAAAABZAMzMzMzMzFkCF61G4HoUWQBSuR+F6FBZArkfhehSuFUAfhetRuB4WQI/C9ShcjxZAAAAAAAAAF0BxPQrXo3AXQOF6FK5H4RdAXI/C9ShcGEDXo3A9CtcYQFK4HoXrURlAzczMzMzMGUBSuB6F61EaQNejcD0K1xpAXI/C9ShcG0DhehSuR+EbQHE9CtejcBxAAAAAAAAAHUCPwvUoXI8dQClcj8L1KB5Aw/UoXI/CHkBcj8L1KFwfQOF6FK5H4R1AexSuR+F6HEApXI/C9SgbQOF6FK5H4RlArkfhehSuGECF61G4HoUXQGZmZmZmZhZAXI/C9ShcFUBcj8L1KFwUQGZmZmZmZhNAexSuR+F6EkCamZmZmZkRQAAAAAAAABBAH4XrUbgeDUCamZmZmZkLQAAAAAAAAAxAMzMzMzMzC0CamZmZmZkLQM3MzMzMzApA4XoUrkfhCkD2KFyPwvUKQArXo3A9CgtAPQrXo3A9CkCkcD0K16MIQEjhehSuRwlAH4XrUbgeCUCuR+F6FK4JQClcj8L1KApApHA9CtejCkA=",
          "dtype": "f8"
         },
         "low": {
          "bdata": "exSuR+F6EUBI4XoUrkcSQB+F61G4HhJAMzMzMzMzEkCuR+F6FK4SQJqZmZmZmRJAexSuR+F6EkBmZmZmZmYSQKRwPQrXoxJAuB6F61G4EkAK16NwPQoTQOF6FK5H4RJAzczMzMzMEkBI4XoUrkcTQM3MzMzMzBJASOF6FK5HEkAAAAAAAAATQOF6FK5H4RJA16NwPQrXE0DhehSuR+EUQBSuR+F6FBVA9ihcj8L1E0CamZmZmZkSQArXo3A9ChJA4XoUrkfhEUC4HoXrUbgRQDMzMzMzMxJAmpmZmZmZEkCkcD0K16MSQNejcD0K1xJAhetRuB6FEkCuR+F6FK4RQJqZmZmZmRJAj8L1KFyPE0AzMzMzMzMTQOF6FK5H4RFASOF6FK5HEkA9CtejcD0QQBSuR+F6FBFA9ihcj8L1EUBmZmZmZmYRQEjhehSuRxJAPQrXo3A9E0A9CtejcD0UQEjhehSuRxVAKVyPwvUoFUBI4XoUrkcVQK5H4XoUrhVAH4XrUbgeFkCF61G4HoUWQJqZmZmZmRVArkfhehSuFUAfhetRuB4WQI/C9ShcjxZAAAAAAAAAF0BxPQrXo3AXQOF6FK5H4RdAXI/C9ShcGEDXo3A9CtcYQFK4HoXrURlAzczMzMzMGUBSuB6F61EaQNejcD0K1xpAXI/C9ShcG0DhehSuR+EbQHE9CtejcBxAAAAAAAAAHUCPwvUoXI8dQClcj8L1KB5Aw/UoXI/CHkBcj8L1KFwfQOF6FK5H4R1ASOF6FK5HHEApXI/C9SgbQOF6FK5H4RlArkfhehSuGEBmZmZmZmYWQM3MzMzMzBVAmpmZmZmZFEBI4XoUrkcTQGZmZmZmZhNAexSuR+F6EkCamZmZmZkRQGZmZmZmZg5AUrgehetRCkBSuB6F61EKQKRwPQrXowhAPQrXo3A9CkBmZmZmZmYKQOxRuB6F6wlAFK5H4XoUCkAUrkfhehQKQAAAAAAAAApA7FG4HoXrB0AfhetRuB4HQK5H4XoUrgdAMzMzMzMzB0AAAAAAAAAIQOF6FK5H4QhArkfhehSuCUA=",
          "dtype": "f8"
         },
         "open": {
          "bdata": "zczMzMzMEUCF61G4HoUSQM3MzMzMzBJAFK5H4XoUE0DXo3A9CtcSQFK4HoXrURNAhetRuB6FEkAAAAAAAAATQOF6FK5H4RJACtejcD0KE0AK16NwPQoTQDMzMzMzMxNArkfhehSuE0DNzMzMzMwTQClcj8L1KBNAH4XrUbgeE0DsUbgehesTQOF6FK5H4RJA16NwPQrXE0ApXI/C9SgVQOxRuB6F6xVAMzMzMzMzFEBI4XoUrkcTQAAAAAAAABNA4XoUrkfhEUCF61G4HoUSQB+F61G4HhNAAAAAAAAAE0DhehSuR+ESQGZmZmZmZhRAhetRuB6FE0CuR+F6FK4RQJqZmZmZmRJAj8L1KFyPE0CkcD0K16MTQMP1KFyPwhJAXI/C9ShcEkA9CtejcD0QQBSuR+F6FBFA9ihcj8L1EUBmZmZmZmYRQIXrUbgehRJA7FG4HoXrE0AfhetRuB4VQJqZmZmZmRVAKVyPwvUoFUBI4XoUrkcVQAAAAAAAABZAMzMzMzMzFkCF61G4HoUWQJqZmZmZmRVArkfhehSuFUAfhetRuB4WQI/C9ShcjxZAAAAAAAAAF0BxPQrXo3AXQOF6FK5H4RdAXI/C9ShcGEDXo3A9CtcYQFK4HoXrURlAzczMzMzMGUBSuB6F61EaQNejcD0K1xpAXI/C9ShcG0DhehSuR+EbQHE9CtejcBxAAAAAAAAAHUCPwvUoXI8dQClcj8L1KB5Aw/UoXI/CHkBcj8L1KFwfQOF6FK5H4R1ASOF6FK5HHEApXI/C9SgbQOF6FK5H4RlArkfhehSuGEB7FK5H4XoWQGZmZmZmZhZA7FG4HoXrFEBcj8L1KFwUQGZmZmZmZhNAexSuR+F6EkCamZmZmZkRQM3MzMzMzA5AUrgehetRCkBcj8L1KFwLQI/C9ShcjwpAj8L1KFyPCkCPwvUoXI8KQClcj8L1KApAPQrXo3A9CkD2KFyPwvUKQD0K16NwPQpA7FG4HoXrB0BI4XoUrkcHQClcj8L1KAhAhetRuB6FB0CamZmZmZkJQBSuR+F6FApAKVyPwvUoCkA=",
          "dtype": "f8"
         },
         "type": "candlestick",
         "x": [
          "2025-09-22T00:00:00.000000000",
          "2025-09-19T00:00:00.000000000",
          "2025-09-18T00:00:00.000000000",
          "2025-09-17T00:00:00.000000000",
          "2025-09-16T00:00:00.000000000",
          "2025-09-15T00:00:00.000000000",
          "2025-09-12T00:00:00.000000000",
          "2025-09-11T00:00:00.000000000",
          "2025-09-10T00:00:00.000000000",
          "2025-09-09T00:00:00.000000000",
          "2025-09-08T00:00:00.000000000",
          "2025-09-05T00:00:00.000000000",
          "2025-09-04T00:00:00.000000000",
          "2025-09-03T00:00:00.000000000",
          "2025-09-02T00:00:00.000000000",
          "2025-09-01T00:00:00.000000000",
          "2025-08-29T00:00:00.000000000",
          "2025-08-28T00:00:00.000000000",
          "2025-08-26T00:00:00.000000000",
          "2025-08-25T00:00:00.000000000",
          "2025-08-22T00:00:00.000000000",
          "2025-08-21T00:00:00.000000000",
          "2025-08-20T00:00:00.000000000",
          "2025-08-19T00:00:00.000000000",
          "2025-08-18T00:00:00.000000000",
          "2025-08-14T00:00:00.000000000",
          "2025-08-13T00:00:00.000000000",
          "2025-08-12T00:00:00.000000000",
          "2025-08-11T00:00:00.000000000",
          "2025-08-08T00:00:00.000000000",
          "2025-08-07T00:00:00.000000000",
          "2025-08-06T00:00:00.000000000",
          "2025-08-05T00:00:00.000000000",
          "2025-08-04T00:00:00.000000000",
          "2025-08-01T00:00:00.000000000",
          "2025-07-31T00:00:00.000000000",
          "2025-07-30T00:00:00.000000000",
          "2025-07-29T00:00:00.000000000",
          "2025-07-28T00:00:00.000000000",
          "2025-07-25T00:00:00.000000000",
          "2025-07-24T00:00:00.000000000",
          "2025-07-23T00:00:00.000000000",
          "2025-07-22T00:00:00.000000000",
          "2025-07-21T00:00:00.000000000",
          "2025-07-18T00:00:00.000000000",
          "2025-07-17T00:00:00.000000000",
          "2025-07-16T00:00:00.000000000",
          "2025-07-15T00:00:00.000000000",
          "2025-07-14T00:00:00.000000000",
          "2025-07-11T00:00:00.000000000",
          "2025-07-10T00:00:00.000000000",
          "2025-07-09T00:00:00.000000000",
          "2025-07-08T00:00:00.000000000",
          "2025-07-07T00:00:00.000000000",
          "2025-07-04T00:00:00.000000000",
          "2025-07-03T00:00:00.000000000",
          "2025-07-02T00:00:00.000000000",
          "2025-07-01T00:00:00.000000000",
          "2025-06-30T00:00:00.000000000",
          "2025-06-27T00:00:00.000000000",
          "2025-06-26T00:00:00.000000000",
          "2025-06-25T00:00:00.000000000",
          "2025-06-24T00:00:00.000000000",
          "2025-06-23T00:00:00.000000000",
          "2025-06-20T00:00:00.000000000",
          "2025-06-19T00:00:00.000000000",
          "2025-06-18T00:00:00.000000000",
          "2025-06-17T00:00:00.000000000",
          "2025-06-16T00:00:00.000000000",
          "2025-06-13T00:00:00.000000000",
          "2025-06-12T00:00:00.000000000",
          "2025-06-11T00:00:00.000000000",
          "2025-06-10T00:00:00.000000000",
          "2025-06-09T00:00:00.000000000",
          "2025-06-06T00:00:00.000000000",
          "2025-06-05T00:00:00.000000000",
          "2025-06-04T00:00:00.000000000",
          "2025-06-03T00:00:00.000000000",
          "2025-06-02T00:00:00.000000000",
          "2025-05-30T00:00:00.000000000",
          "2025-05-29T00:00:00.000000000",
          "2025-05-28T00:00:00.000000000",
          "2025-05-27T00:00:00.000000000",
          "2025-05-26T00:00:00.000000000",
          "2025-05-23T00:00:00.000000000",
          "2025-05-22T00:00:00.000000000",
          "2025-05-21T00:00:00.000000000",
          "2025-05-20T00:00:00.000000000",
          "2025-05-19T00:00:00.000000000",
          "2025-05-16T00:00:00.000000000",
          "2025-05-15T00:00:00.000000000",
          "2025-05-14T00:00:00.000000000",
          "2025-05-13T00:00:00.000000000",
          "2025-05-12T00:00:00.000000000",
          "2025-05-09T00:00:00.000000000",
          "2025-05-08T00:00:00.000000000",
          "2025-05-07T00:00:00.000000000",
          "2025-05-06T00:00:00.000000000",
          "2025-05-05T00:00:00.000000000",
          "2025-05-02T00:00:00.000000000"
         ]
        }
       ],
       "layout": {
        "template": {
         "data": {
          "bar": [
           {
            "error_x": {
             "color": "#2a3f5f"
            },
            "error_y": {
             "color": "#2a3f5f"
            },
            "marker": {
             "line": {
              "color": "#E5ECF6",
              "width": 0.5
             },
             "pattern": {
              "fillmode": "overlay",
              "size": 10,
              "solidity": 0.2
             }
            },
            "type": "bar"
           }
          ],
          "barpolar": [
           {
            "marker": {
             "line": {
              "color": "#E5ECF6",
              "width": 0.5
             },
             "pattern": {
              "fillmode": "overlay",
              "size": 10,
              "solidity": 0.2
             }
            },
            "type": "barpolar"
           }
          ],
          "carpet": [
           {
            "aaxis": {
             "endlinecolor": "#2a3f5f",
             "gridcolor": "white",
             "linecolor": "white",
             "minorgridcolor": "white",
             "startlinecolor": "#2a3f5f"
            },
            "baxis": {
             "endlinecolor": "#2a3f5f",
             "gridcolor": "white",
             "linecolor": "white",
             "minorgridcolor": "white",
             "startlinecolor": "#2a3f5f"
            },
            "type": "carpet"
           }
          ],
          "choropleth": [
           {
            "colorbar": {
             "outlinewidth": 0,
             "ticks": ""
            },
            "type": "choropleth"
           }
          ],
          "contour": [
           {
            "colorbar": {
             "outlinewidth": 0,
             "ticks": ""
            },
            "colorscale": [
             [
              0,
              "#0d0887"
             ],
             [
              0.1111111111111111,
              "#46039f"
             ],
             [
              0.2222222222222222,
              "#7201a8"
             ],
             [
              0.3333333333333333,
              "#9c179e"
             ],
             [
              0.4444444444444444,
              "#bd3786"
             ],
             [
              0.5555555555555556,
              "#d8576b"
             ],
             [
              0.6666666666666666,
              "#ed7953"
             ],
             [
              0.7777777777777778,
              "#fb9f3a"
             ],
             [
              0.8888888888888888,
              "#fdca26"
             ],
             [
              1,
              "#f0f921"
             ]
            ],
            "type": "contour"
           }
          ],
          "contourcarpet": [
           {
            "colorbar": {
             "outlinewidth": 0,
             "ticks": ""
            },
            "type": "contourcarpet"
           }
          ],
          "heatmap": [
           {
            "colorbar": {
             "outlinewidth": 0,
             "ticks": ""
            },
            "colorscale": [
             [
              0,
              "#0d0887"
             ],
             [
              0.1111111111111111,
              "#46039f"
             ],
             [
              0.2222222222222222,
              "#7201a8"
             ],
             [
              0.3333333333333333,
              "#9c179e"
             ],
             [
              0.4444444444444444,
              "#bd3786"
             ],
             [
              0.5555555555555556,
              "#d8576b"
             ],
             [
              0.6666666666666666,
              "#ed7953"
             ],
             [
              0.7777777777777778,
              "#fb9f3a"
             ],
             [
              0.8888888888888888,
              "#fdca26"
             ],
             [
              1,
              "#f0f921"
             ]
            ],
            "type": "heatmap"
           }
          ],
          "histogram": [
           {
            "marker": {
             "pattern": {
              "fillmode": "overlay",
              "size": 10,
              "solidity": 0.2
             }
            },
            "type": "histogram"
           }
          ],
          "histogram2d": [
           {
            "colorbar": {
             "outlinewidth": 0,
             "ticks": ""
            },
            "colorscale": [
             [
              0,
              "#0d0887"
             ],
             [
              0.1111111111111111,
              "#46039f"
             ],
             [
              0.2222222222222222,
              "#7201a8"
             ],
             [
              0.3333333333333333,
              "#9c179e"
             ],
             [
              0.4444444444444444,
              "#bd3786"
             ],
             [
              0.5555555555555556,
              "#d8576b"
             ],
             [
              0.6666666666666666,
              "#ed7953"
             ],
             [
              0.7777777777777778,
              "#fb9f3a"
             ],
             [
              0.8888888888888888,
              "#fdca26"
             ],
             [
              1,
              "#f0f921"
             ]
            ],
            "type": "histogram2d"
           }
          ],
          "histogram2dcontour": [
           {
            "colorbar": {
             "outlinewidth": 0,
             "ticks": ""
            },
            "colorscale": [
             [
              0,
              "#0d0887"
             ],
             [
              0.1111111111111111,
              "#46039f"
             ],
             [
              0.2222222222222222,
              "#7201a8"
             ],
             [
              0.3333333333333333,
              "#9c179e"
             ],
             [
              0.4444444444444444,
              "#bd3786"
             ],
             [
              0.5555555555555556,
              "#d8576b"
             ],
             [
              0.6666666666666666,
              "#ed7953"
             ],
             [
              0.7777777777777778,
              "#fb9f3a"
             ],
             [
              0.8888888888888888,
              "#fdca26"
             ],
             [
              1,
              "#f0f921"
             ]
            ],
            "type": "histogram2dcontour"
           }
          ],
          "mesh3d": [
           {
            "colorbar": {
             "outlinewidth": 0,
             "ticks": ""
            },
            "type": "mesh3d"
           }
          ],
          "parcoords": [
           {
            "line": {
             "colorbar": {
              "outlinewidth": 0,
              "ticks": ""
             }
            },
            "type": "parcoords"
           }
          ],
          "pie": [
           {
            "automargin": true,
            "type": "pie"
           }
          ],
          "scatter": [
           {
            "fillpattern": {
             "fillmode": "overlay",
             "size": 10,
             "solidity": 0.2
            },
            "type": "scatter"
           }
          ],
          "scatter3d": [
           {
            "line": {
             "colorbar": {
              "outlinewidth": 0,
              "ticks": ""
             }
            },
            "marker": {
             "colorbar": {
              "outlinewidth": 0,
              "ticks": ""
             }
            },
            "type": "scatter3d"
           }
          ],
          "scattercarpet": [
           {
            "marker": {
             "colorbar": {
              "outlinewidth": 0,
              "ticks": ""
             }
            },
            "type": "scattercarpet"
           }
          ],
          "scattergeo": [
           {
            "marker": {
             "colorbar": {
              "outlinewidth": 0,
              "ticks": ""
             }
            },
            "type": "scattergeo"
           }
          ],
          "scattergl": [
           {
            "marker": {
             "colorbar": {
              "outlinewidth": 0,
              "ticks": ""
             }
            },
            "type": "scattergl"
           }
          ],
          "scattermap": [
           {
            "marker": {
             "colorbar": {
              "outlinewidth": 0,
              "ticks": ""
             }
            },
            "type": "scattermap"
           }
          ],
          "scattermapbox": [
           {
            "marker": {
             "colorbar": {
              "outlinewidth": 0,
              "ticks": ""
             }
            },
            "type": "scattermapbox"
           }
          ],
          "scatterpolar": [
           {
            "marker": {
             "colorbar": {
              "outlinewidth": 0,
              "ticks": ""
             }
            },
            "type": "scatterpolar"
           }
          ],
          "scatterpolargl": [
           {
            "marker": {
             "colorbar": {
              "outlinewidth": 0,
              "ticks": ""
             }
            },
            "type": "scatterpolargl"
           }
          ],
          "scatterternary": [
           {
            "marker": {
             "colorbar": {
              "outlinewidth": 0,
              "ticks": ""
             }
            },
            "type": "scatterternary"
           }
          ],
          "surface": [
           {
            "colorbar": {
             "outlinewidth": 0,
             "ticks": ""
            },
            "colorscale": [
             [
              0,
              "#0d0887"
             ],
             [
              0.1111111111111111,
              "#46039f"
             ],
             [
              0.2222222222222222,
              "#7201a8"
             ],
             [
              0.3333333333333333,
              "#9c179e"
             ],
             [
              0.4444444444444444,
              "#bd3786"
             ],
             [
              0.5555555555555556,
              "#d8576b"
             ],
             [
              0.6666666666666666,
              "#ed7953"
             ],
             [
              0.7777777777777778,
              "#fb9f3a"
             ],
             [
              0.8888888888888888,
              "#fdca26"
             ],
             [
              1,
              "#f0f921"
             ]
            ],
            "type": "surface"
           }
          ],
          "table": [
           {
            "cells": {
             "fill": {
              "color": "#EBF0F8"
             },
             "line": {
              "color": "white"
             }
            },
            "header": {
             "fill": {
              "color": "#C8D4E3"
             },
             "line": {
              "color": "white"
             }
            },
            "type": "table"
           }
          ]
         },
         "layout": {
          "annotationdefaults": {
           "arrowcolor": "#2a3f5f",
           "arrowhead": 0,
           "arrowwidth": 1
          },
          "autotypenumbers": "strict",
          "coloraxis": {
           "colorbar": {
            "outlinewidth": 0,
            "ticks": ""
           }
          },
          "colorscale": {
           "diverging": [
            [
             0,
             "#8e0152"
            ],
            [
             0.1,
             "#c51b7d"
            ],
            [
             0.2,
             "#de77ae"
            ],
            [
             0.3,
             "#f1b6da"
            ],
            [
             0.4,
             "#fde0ef"
            ],
            [
             0.5,
             "#f7f7f7"
            ],
            [
             0.6,
             "#e6f5d0"
            ],
            [
             0.7,
             "#b8e186"
            ],
            [
             0.8,
             "#7fbc41"
            ],
            [
             0.9,
             "#4d9221"
            ],
            [
             1,
             "#276419"
            ]
           ],
           "sequential": [
            [
             0,
             "#0d0887"
            ],
            [
             0.1111111111111111,
             "#46039f"
            ],
            [
             0.2222222222222222,
             "#7201a8"
            ],
            [
             0.3333333333333333,
             "#9c179e"
            ],
            [
             0.4444444444444444,
             "#bd3786"
            ],
            [
             0.5555555555555556,
             "#d8576b"
            ],
            [
             0.6666666666666666,
             "#ed7953"
            ],
            [
             0.7777777777777778,
             "#fb9f3a"
            ],
            [
             0.8888888888888888,
             "#fdca26"
            ],
            [
             1,
             "#f0f921"
            ]
           ],
           "sequentialminus": [
            [
             0,
             "#0d0887"
            ],
            [
             0.1111111111111111,
             "#46039f"
            ],
            [
             0.2222222222222222,
             "#7201a8"
            ],
            [
             0.3333333333333333,
             "#9c179e"
            ],
            [
             0.4444444444444444,
             "#bd3786"
            ],
            [
             0.5555555555555556,
             "#d8576b"
            ],
            [
             0.6666666666666666,
             "#ed7953"
            ],
            [
             0.7777777777777778,
             "#fb9f3a"
            ],
            [
             0.8888888888888888,
             "#fdca26"
            ],
            [
             1,
             "#f0f921"
            ]
           ]
          },
          "colorway": [
           "#636efa",
           "#EF553B",
           "#00cc96",
           "#ab63fa",
           "#FFA15A",
           "#19d3f3",
           "#FF6692",
           "#B6E880",
           "#FF97FF",
           "#FECB52"
          ],
          "font": {
           "color": "#2a3f5f"
          },
          "geo": {
           "bgcolor": "white",
           "lakecolor": "white",
           "landcolor": "#E5ECF6",
           "showlakes": true,
           "showland": true,
           "subunitcolor": "white"
          },
          "hoverlabel": {
           "align": "left"
          },
          "hovermode": "closest",
          "mapbox": {
           "style": "light"
          },
          "paper_bgcolor": "white",
          "plot_bgcolor": "#E5ECF6",
          "polar": {
           "angularaxis": {
            "gridcolor": "white",
            "linecolor": "white",
            "ticks": ""
           },
           "bgcolor": "#E5ECF6",
           "radialaxis": {
            "gridcolor": "white",
            "linecolor": "white",
            "ticks": ""
           }
          },
          "scene": {
           "xaxis": {
            "backgroundcolor": "#E5ECF6",
            "gridcolor": "white",
            "gridwidth": 2,
            "linecolor": "white",
            "showbackground": true,
            "ticks": "",
            "zerolinecolor": "white"
           },
           "yaxis": {
            "backgroundcolor": "#E5ECF6",
            "gridcolor": "white",
            "gridwidth": 2,
            "linecolor": "white",
            "showbackground": true,
            "ticks": "",
            "zerolinecolor": "white"
           },
           "zaxis": {
            "backgroundcolor": "#E5ECF6",
            "gridcolor": "white",
            "gridwidth": 2,
            "linecolor": "white",
            "showbackground": true,
            "ticks": "",
            "zerolinecolor": "white"
           }
          },
          "shapedefaults": {
           "line": {
            "color": "#2a3f5f"
           }
          },
          "ternary": {
           "aaxis": {
            "gridcolor": "white",
            "linecolor": "white",
            "ticks": ""
           },
           "baxis": {
            "gridcolor": "white",
            "linecolor": "white",
            "ticks": ""
           },
           "bgcolor": "#E5ECF6",
           "caxis": {
            "gridcolor": "white",
            "linecolor": "white",
            "ticks": ""
           }
          },
          "title": {
           "x": 0.05
          },
          "xaxis": {
           "automargin": true,
           "gridcolor": "white",
           "linecolor": "white",
           "ticks": "",
           "title": {
            "standoff": 15
           },
           "zerolinecolor": "white",
           "zerolinewidth": 2
          },
          "yaxis": {
           "automargin": true,
           "gridcolor": "white",
           "linecolor": "white",
           "ticks": "",
           "title": {
            "standoff": 15
           },
           "zerolinecolor": "white",
           "zerolinewidth": 2
          }
         }
        },
        "title": {
         "text": "candelstick Chart"
        },
        "xaxis": {
         "title": {
          "text": "date"
         }
        },
        "yaxis": {
         "title": {
          "text": "Price"
         }
        }
       }
      }
     },
     "metadata": {},
     "output_type": "display_data"
    }
   ],
   "source": [
    "d.plot('RELHOME.BSE')"
   ]
  },
  {
   "cell_type": "code",
   "execution_count": null,
   "id": "6a0d92aa",
   "metadata": {},
   "outputs": [],
   "source": []
  },
  {
   "cell_type": "code",
   "execution_count": null,
   "id": "d5845c56",
   "metadata": {},
   "outputs": [],
   "source": []
  }
 ],
 "metadata": {
  "kernelspec": {
   "display_name": "venv",
   "language": "python",
   "name": "python3"
  },
  "language_info": {
   "codemirror_mode": {
    "name": "ipython",
    "version": 3
   },
   "file_extension": ".py",
   "mimetype": "text/x-python",
   "name": "python",
   "nbconvert_exporter": "python",
   "pygments_lexer": "ipython3",
   "version": "3.13.7"
  }
 },
 "nbformat": 4,
 "nbformat_minor": 5
}
