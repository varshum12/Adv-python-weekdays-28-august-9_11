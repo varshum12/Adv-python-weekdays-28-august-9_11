{
 "cells": [
  {
   "cell_type": "code",
   "execution_count": 1,
   "id": "b99c4f5d",
   "metadata": {},
   "outputs": [
    {
     "name": "stdout",
     "output_type": "stream",
     "text": [
      "Collecting python-dotenv\n",
      "  Using cached python_dotenv-1.1.1-py3-none-any.whl.metadata (24 kB)\n",
      "Using cached python_dotenv-1.1.1-py3-none-any.whl (20 kB)\n",
      "Installing collected packages: python-dotenv\n",
      "Successfully installed python-dotenv-1.1.1\n",
      "Note: you may need to restart the kernel to use updated packages.\n"
     ]
    }
   ],
   "source": [
    "%pip install  python-dotenv"
   ]
  },
  {
   "cell_type": "code",
   "execution_count": 2,
   "id": "e0566fe6",
   "metadata": {},
   "outputs": [
    {
     "name": "stdout",
     "output_type": "stream",
     "text": [
      "Requirement already satisfied: plotly in d:\\28 august adv  python  9_11\\repository\\venv\\lib\\site-packages (6.3.0)\n",
      "Requirement already satisfied: narwhals>=1.15.1 in d:\\28 august adv  python  9_11\\repository\\venv\\lib\\site-packages (from plotly) (2.2.0)\n",
      "Requirement already satisfied: packaging in d:\\28 august adv  python  9_11\\repository\\venv\\lib\\site-packages (from plotly) (25.0)\n",
      "Note: you may need to restart the kernel to use updated packages.\n"
     ]
    }
   ],
   "source": [
    "%pip  install  plotly"
   ]
  },
  {
   "cell_type": "code",
   "execution_count": 3,
   "id": "98551271",
   "metadata": {},
   "outputs": [
    {
     "data": {
      "text/plain": [
       "True"
      ]
     },
     "execution_count": 3,
     "metadata": {},
     "output_type": "execute_result"
    }
   ],
   "source": [
    "from dotenv  import load_dotenv\n",
    "load_dotenv()"
   ]
  },
  {
   "cell_type": "code",
   "execution_count": 5,
   "id": "f0539498",
   "metadata": {},
   "outputs": [],
   "source": [
    "import  os\n",
    "api_key  =  os.getenv('API_KEY')\n"
   ]
  },
  {
   "cell_type": "code",
   "execution_count": 12,
   "id": "4395e959",
   "metadata": {},
   "outputs": [],
   "source": [
    "import requests\n",
    "\n",
    "url = \"https://alpha-vantage.p.rapidapi.com/query\"\n",
    "\n",
    "querystring = {\"datatype\":\"json\",\"keywords\":\"tata\",\"function\":\"SYMBOL_SEARCH\"}\n",
    "\n",
    "headers = {\n",
    "\t\"x-rapidapi-key\": api_key,\n",
    "\t\"x-rapidapi-host\": \"alpha-vantage.p.rapidapi.com\"\n",
    "}\n",
    "\n",
    "response = requests.get(url, headers=headers, params=querystring)\n",
    "\n",
    "data  =  response.json()\n"
   ]
  },
  {
   "cell_type": "code",
   "execution_count": 13,
   "id": "c03ea910",
   "metadata": {},
   "outputs": [
    {
     "data": {
      "text/plain": [
       "{'bestMatches': [{'1. symbol': 'TATACHEM.BSE',\n",
       "   '2. name': 'TATA CHEMICALS LTD.',\n",
       "   '3. type': 'Equity',\n",
       "   '4. region': 'India/Bombay',\n",
       "   '5. marketOpen': '09:15',\n",
       "   '6. marketClose': '15:30',\n",
       "   '7. timezone': 'UTC+5.5',\n",
       "   '8. currency': 'INR',\n",
       "   '9. matchScore': '0.5333'},\n",
       "  {'1. symbol': 'TATACOMM.BSE',\n",
       "   '2. name': 'TATA COMMUNICATIONS LTD.',\n",
       "   '3. type': 'Equity',\n",
       "   '4. region': 'India/Bombay',\n",
       "   '5. marketOpen': '09:15',\n",
       "   '6. marketClose': '15:30',\n",
       "   '7. timezone': 'UTC+5.5',\n",
       "   '8. currency': 'INR',\n",
       "   '9. matchScore': '0.5333'},\n",
       "  {'1. symbol': 'TATAELXSI.BSE',\n",
       "   '2. name': 'Tata Elxsi Limited',\n",
       "   '3. type': 'Equity',\n",
       "   '4. region': 'India/Bombay',\n",
       "   '5. marketOpen': '09:15',\n",
       "   '6. marketClose': '15:30',\n",
       "   '7. timezone': 'UTC+5.5',\n",
       "   '8. currency': 'INR',\n",
       "   '9. matchScore': '0.5000'},\n",
       "  {'1. symbol': 'TATAPOWER.BSE',\n",
       "   '2. name': 'TATA POWER CO.LTD.',\n",
       "   '3. type': 'Equity',\n",
       "   '4. region': 'India/Bombay',\n",
       "   '5. marketOpen': '09:15',\n",
       "   '6. marketClose': '15:30',\n",
       "   '7. timezone': 'UTC+5.5',\n",
       "   '8. currency': 'INR',\n",
       "   '9. matchScore': '0.5000'},\n",
       "  {'1. symbol': 'TATASTEEL.BSE',\n",
       "   '2. name': 'Tata Steel Limited',\n",
       "   '3. type': 'Equity',\n",
       "   '4. region': 'India/Bombay',\n",
       "   '5. marketOpen': '09:15',\n",
       "   '6. marketClose': '15:30',\n",
       "   '7. timezone': 'UTC+5.5',\n",
       "   '8. currency': 'INR',\n",
       "   '9. matchScore': '0.5000'},\n",
       "  {'1. symbol': 'TATACONSUM.BSE',\n",
       "   '2. name': 'Tata Consumer Products Ltd',\n",
       "   '3. type': 'Equity',\n",
       "   '4. region': 'India/Bombay',\n",
       "   '5. marketOpen': '09:15',\n",
       "   '6. marketClose': '15:30',\n",
       "   '7. timezone': 'UTC+5.5',\n",
       "   '8. currency': 'INR',\n",
       "   '9. matchScore': '0.4706'},\n",
       "  {'1. symbol': 'TATAINVEST.BSE',\n",
       "   '2. name': 'TATA INVESTMENT CORPORATION LTD.',\n",
       "   '3. type': 'Equity',\n",
       "   '4. region': 'India/Bombay',\n",
       "   '5. marketOpen': '09:15',\n",
       "   '6. marketClose': '15:30',\n",
       "   '7. timezone': 'UTC+5.5',\n",
       "   '8. currency': 'INR',\n",
       "   '9. matchScore': '0.4706'},\n",
       "  {'1. symbol': 'TATAMOTORS.BSE',\n",
       "   '2. name': 'Tata Motors Limited',\n",
       "   '3. type': 'Equity',\n",
       "   '4. region': 'India/Bombay',\n",
       "   '5. marketOpen': '09:15',\n",
       "   '6. marketClose': '15:30',\n",
       "   '7. timezone': 'UTC+5.5',\n",
       "   '8. currency': 'INR',\n",
       "   '9. matchScore': '0.4706'},\n",
       "  {'1. symbol': '500800.BSE',\n",
       "   '2. name': 'Tata Consumer Products Limited',\n",
       "   '3. type': 'Equity',\n",
       "   '4. region': 'India/Bombay',\n",
       "   '5. marketOpen': '09:15',\n",
       "   '6. marketClose': '15:30',\n",
       "   '7. timezone': 'UTC+5.5',\n",
       "   '8. currency': 'INR',\n",
       "   '9. matchScore': '0.2353'},\n",
       "  {'1. symbol': 'TCS.BSE',\n",
       "   '2. name': 'Tata Consultancy Services Limited',\n",
       "   '3. type': 'Equity',\n",
       "   '4. region': 'India/Bombay',\n",
       "   '5. marketOpen': '09:15',\n",
       "   '6. marketClose': '15:30',\n",
       "   '7. timezone': 'UTC+5.5',\n",
       "   '8. currency': 'INR',\n",
       "   '9. matchScore': '0.2162'}]}"
      ]
     },
     "execution_count": 13,
     "metadata": {},
     "output_type": "execute_result"
    }
   ],
   "source": [
    "data"
   ]
  },
  {
   "cell_type": "code",
   "execution_count": 9,
   "id": "d6c41f82",
   "metadata": {},
   "outputs": [
    {
     "data": {
      "text/plain": [
       "dict"
      ]
     },
     "execution_count": 9,
     "metadata": {},
     "output_type": "execute_result"
    }
   ],
   "source": [
    "type(data)"
   ]
  },
  {
   "cell_type": "code",
   "execution_count": 15,
   "id": "18ee66b9",
   "metadata": {},
   "outputs": [
    {
     "data": {
      "text/plain": [
       "dict_keys(['bestMatches'])"
      ]
     },
     "execution_count": 15,
     "metadata": {},
     "output_type": "execute_result"
    }
   ],
   "source": [
    "data.keys()"
   ]
  },
  {
   "cell_type": "code",
   "execution_count": 16,
   "id": "19997905",
   "metadata": {},
   "outputs": [
    {
     "data": {
      "text/plain": [
       "[{'1. symbol': 'TATACHEM.BSE',\n",
       "  '2. name': 'TATA CHEMICALS LTD.',\n",
       "  '3. type': 'Equity',\n",
       "  '4. region': 'India/Bombay',\n",
       "  '5. marketOpen': '09:15',\n",
       "  '6. marketClose': '15:30',\n",
       "  '7. timezone': 'UTC+5.5',\n",
       "  '8. currency': 'INR',\n",
       "  '9. matchScore': '0.5333'},\n",
       " {'1. symbol': 'TATACOMM.BSE',\n",
       "  '2. name': 'TATA COMMUNICATIONS LTD.',\n",
       "  '3. type': 'Equity',\n",
       "  '4. region': 'India/Bombay',\n",
       "  '5. marketOpen': '09:15',\n",
       "  '6. marketClose': '15:30',\n",
       "  '7. timezone': 'UTC+5.5',\n",
       "  '8. currency': 'INR',\n",
       "  '9. matchScore': '0.5333'},\n",
       " {'1. symbol': 'TATAELXSI.BSE',\n",
       "  '2. name': 'Tata Elxsi Limited',\n",
       "  '3. type': 'Equity',\n",
       "  '4. region': 'India/Bombay',\n",
       "  '5. marketOpen': '09:15',\n",
       "  '6. marketClose': '15:30',\n",
       "  '7. timezone': 'UTC+5.5',\n",
       "  '8. currency': 'INR',\n",
       "  '9. matchScore': '0.5000'},\n",
       " {'1. symbol': 'TATAPOWER.BSE',\n",
       "  '2. name': 'TATA POWER CO.LTD.',\n",
       "  '3. type': 'Equity',\n",
       "  '4. region': 'India/Bombay',\n",
       "  '5. marketOpen': '09:15',\n",
       "  '6. marketClose': '15:30',\n",
       "  '7. timezone': 'UTC+5.5',\n",
       "  '8. currency': 'INR',\n",
       "  '9. matchScore': '0.5000'},\n",
       " {'1. symbol': 'TATASTEEL.BSE',\n",
       "  '2. name': 'Tata Steel Limited',\n",
       "  '3. type': 'Equity',\n",
       "  '4. region': 'India/Bombay',\n",
       "  '5. marketOpen': '09:15',\n",
       "  '6. marketClose': '15:30',\n",
       "  '7. timezone': 'UTC+5.5',\n",
       "  '8. currency': 'INR',\n",
       "  '9. matchScore': '0.5000'},\n",
       " {'1. symbol': 'TATACONSUM.BSE',\n",
       "  '2. name': 'Tata Consumer Products Ltd',\n",
       "  '3. type': 'Equity',\n",
       "  '4. region': 'India/Bombay',\n",
       "  '5. marketOpen': '09:15',\n",
       "  '6. marketClose': '15:30',\n",
       "  '7. timezone': 'UTC+5.5',\n",
       "  '8. currency': 'INR',\n",
       "  '9. matchScore': '0.4706'},\n",
       " {'1. symbol': 'TATAINVEST.BSE',\n",
       "  '2. name': 'TATA INVESTMENT CORPORATION LTD.',\n",
       "  '3. type': 'Equity',\n",
       "  '4. region': 'India/Bombay',\n",
       "  '5. marketOpen': '09:15',\n",
       "  '6. marketClose': '15:30',\n",
       "  '7. timezone': 'UTC+5.5',\n",
       "  '8. currency': 'INR',\n",
       "  '9. matchScore': '0.4706'},\n",
       " {'1. symbol': 'TATAMOTORS.BSE',\n",
       "  '2. name': 'Tata Motors Limited',\n",
       "  '3. type': 'Equity',\n",
       "  '4. region': 'India/Bombay',\n",
       "  '5. marketOpen': '09:15',\n",
       "  '6. marketClose': '15:30',\n",
       "  '7. timezone': 'UTC+5.5',\n",
       "  '8. currency': 'INR',\n",
       "  '9. matchScore': '0.4706'},\n",
       " {'1. symbol': '500800.BSE',\n",
       "  '2. name': 'Tata Consumer Products Limited',\n",
       "  '3. type': 'Equity',\n",
       "  '4. region': 'India/Bombay',\n",
       "  '5. marketOpen': '09:15',\n",
       "  '6. marketClose': '15:30',\n",
       "  '7. timezone': 'UTC+5.5',\n",
       "  '8. currency': 'INR',\n",
       "  '9. matchScore': '0.2353'},\n",
       " {'1. symbol': 'TCS.BSE',\n",
       "  '2. name': 'Tata Consultancy Services Limited',\n",
       "  '3. type': 'Equity',\n",
       "  '4. region': 'India/Bombay',\n",
       "  '5. marketOpen': '09:15',\n",
       "  '6. marketClose': '15:30',\n",
       "  '7. timezone': 'UTC+5.5',\n",
       "  '8. currency': 'INR',\n",
       "  '9. matchScore': '0.2162'}]"
      ]
     },
     "execution_count": 16,
     "metadata": {},
     "output_type": "execute_result"
    }
   ],
   "source": [
    "data['bestMatches']"
   ]
  },
  {
   "cell_type": "code",
   "execution_count": 17,
   "id": "05cf4722",
   "metadata": {},
   "outputs": [
    {
     "data": {
      "text/plain": [
       "list"
      ]
     },
     "execution_count": 17,
     "metadata": {},
     "output_type": "execute_result"
    }
   ],
   "source": [
    "type(data['bestMatches'])"
   ]
  },
  {
   "cell_type": "code",
   "execution_count": 18,
   "id": "9298505d",
   "metadata": {},
   "outputs": [
    {
     "name": "stdout",
     "output_type": "stream",
     "text": [
      "{'1. symbol': 'TATACHEM.BSE', '2. name': 'TATA CHEMICALS LTD.', '3. type': 'Equity', '4. region': 'India/Bombay', '5. marketOpen': '09:15', '6. marketClose': '15:30', '7. timezone': 'UTC+5.5', '8. currency': 'INR', '9. matchScore': '0.5333'}\n",
      "{'1. symbol': 'TATACOMM.BSE', '2. name': 'TATA COMMUNICATIONS LTD.', '3. type': 'Equity', '4. region': 'India/Bombay', '5. marketOpen': '09:15', '6. marketClose': '15:30', '7. timezone': 'UTC+5.5', '8. currency': 'INR', '9. matchScore': '0.5333'}\n",
      "{'1. symbol': 'TATAELXSI.BSE', '2. name': 'Tata Elxsi Limited', '3. type': 'Equity', '4. region': 'India/Bombay', '5. marketOpen': '09:15', '6. marketClose': '15:30', '7. timezone': 'UTC+5.5', '8. currency': 'INR', '9. matchScore': '0.5000'}\n",
      "{'1. symbol': 'TATAPOWER.BSE', '2. name': 'TATA POWER CO.LTD.', '3. type': 'Equity', '4. region': 'India/Bombay', '5. marketOpen': '09:15', '6. marketClose': '15:30', '7. timezone': 'UTC+5.5', '8. currency': 'INR', '9. matchScore': '0.5000'}\n",
      "{'1. symbol': 'TATASTEEL.BSE', '2. name': 'Tata Steel Limited', '3. type': 'Equity', '4. region': 'India/Bombay', '5. marketOpen': '09:15', '6. marketClose': '15:30', '7. timezone': 'UTC+5.5', '8. currency': 'INR', '9. matchScore': '0.5000'}\n",
      "{'1. symbol': 'TATACONSUM.BSE', '2. name': 'Tata Consumer Products Ltd', '3. type': 'Equity', '4. region': 'India/Bombay', '5. marketOpen': '09:15', '6. marketClose': '15:30', '7. timezone': 'UTC+5.5', '8. currency': 'INR', '9. matchScore': '0.4706'}\n",
      "{'1. symbol': 'TATAINVEST.BSE', '2. name': 'TATA INVESTMENT CORPORATION LTD.', '3. type': 'Equity', '4. region': 'India/Bombay', '5. marketOpen': '09:15', '6. marketClose': '15:30', '7. timezone': 'UTC+5.5', '8. currency': 'INR', '9. matchScore': '0.4706'}\n",
      "{'1. symbol': 'TATAMOTORS.BSE', '2. name': 'Tata Motors Limited', '3. type': 'Equity', '4. region': 'India/Bombay', '5. marketOpen': '09:15', '6. marketClose': '15:30', '7. timezone': 'UTC+5.5', '8. currency': 'INR', '9. matchScore': '0.4706'}\n",
      "{'1. symbol': '500800.BSE', '2. name': 'Tata Consumer Products Limited', '3. type': 'Equity', '4. region': 'India/Bombay', '5. marketOpen': '09:15', '6. marketClose': '15:30', '7. timezone': 'UTC+5.5', '8. currency': 'INR', '9. matchScore': '0.2353'}\n",
      "{'1. symbol': 'TCS.BSE', '2. name': 'Tata Consultancy Services Limited', '3. type': 'Equity', '4. region': 'India/Bombay', '5. marketOpen': '09:15', '6. marketClose': '15:30', '7. timezone': 'UTC+5.5', '8. currency': 'INR', '9. matchScore': '0.2162'}\n"
     ]
    }
   ],
   "source": [
    "for  i  in data['bestMatches']:\n",
    "    print(i)\n"
   ]
  },
  {
   "cell_type": "code",
   "execution_count": 19,
   "id": "3b1743cc",
   "metadata": {},
   "outputs": [
    {
     "name": "stdout",
     "output_type": "stream",
     "text": [
      "TATACHEM.BSE\n",
      "TATACOMM.BSE\n",
      "TATAELXSI.BSE\n",
      "TATAPOWER.BSE\n",
      "TATASTEEL.BSE\n",
      "TATACONSUM.BSE\n",
      "TATAINVEST.BSE\n",
      "TATAMOTORS.BSE\n",
      "500800.BSE\n",
      "TCS.BSE\n"
     ]
    }
   ],
   "source": [
    "for  i  in data['bestMatches']:\n",
    "    print(i['1. symbol'])"
   ]
  },
  {
   "cell_type": "code",
   "execution_count": 20,
   "id": "a4d7932c",
   "metadata": {},
   "outputs": [
    {
     "data": {
      "text/plain": [
       "{'TATACHEM.BSE': ['TATA CHEMICALS LTD.', 'India/Bombay', 'INR'],\n",
       " 'TATACOMM.BSE': ['TATA COMMUNICATIONS LTD.', 'India/Bombay', 'INR'],\n",
       " 'TATAELXSI.BSE': ['Tata Elxsi Limited', 'India/Bombay', 'INR'],\n",
       " 'TATAPOWER.BSE': ['TATA POWER CO.LTD.', 'India/Bombay', 'INR'],\n",
       " 'TATASTEEL.BSE': ['Tata Steel Limited', 'India/Bombay', 'INR'],\n",
       " 'TATACONSUM.BSE': ['Tata Consumer Products Ltd', 'India/Bombay', 'INR'],\n",
       " 'TATAINVEST.BSE': ['TATA INVESTMENT CORPORATION LTD.', 'India/Bombay', 'INR'],\n",
       " 'TATAMOTORS.BSE': ['Tata Motors Limited', 'India/Bombay', 'INR'],\n",
       " '500800.BSE': ['Tata Consumer Products Limited', 'India/Bombay', 'INR'],\n",
       " 'TCS.BSE': ['Tata Consultancy Services Limited', 'India/Bombay', 'INR']}"
      ]
     },
     "execution_count": 20,
     "metadata": {},
     "output_type": "execute_result"
    }
   ],
   "source": [
    "data1  =  {}\n",
    "for  i  in data['bestMatches']:\n",
    "    symbol  =  i['1. symbol']\n",
    "    data1[symbol] =  [i['2. name'], i['4. region'] , i['8. currency']]\n",
    "data1\n"
   ]
  },
  {
   "cell_type": "markdown",
   "id": "d031eea8",
   "metadata": {},
   "source": [
    "# fetch  time  series data"
   ]
  },
  {
   "cell_type": "code",
   "execution_count": 21,
   "id": "7d46397e",
   "metadata": {},
   "outputs": [],
   "source": [
    "import requests\n",
    "\n",
    "url = \"https://alpha-vantage.p.rapidapi.com/query\"\n",
    "\n",
    "querystring = {\"function\":\"TIME_SERIES_DAILY\",\"symbol\":'TATASTEEL.BSE',\"outputsize\":\"compact\",\"datatype\":\"json\"}\n",
    "\n",
    "headers = {\n",
    "\t\"x-rapidapi-key\": api_key,\n",
    "\t\"x-rapidapi-host\": \"alpha-vantage.p.rapidapi.com\"\n",
    "}\n",
    "\n",
    "response = requests.get(url, headers=headers, params=querystring)\n",
    "\n",
    "data2 =  response.json()"
   ]
  },
  {
   "cell_type": "code",
   "execution_count": 22,
   "id": "12ed35eb",
   "metadata": {},
   "outputs": [
    {
     "data": {
      "text/plain": [
       "{'Meta Data': {'1. Information': 'Daily Prices (open, high, low, close) and Volumes',\n",
       "  '2. Symbol': 'TATASTEEL.BSE',\n",
       "  '3. Last Refreshed': '2025-09-18',\n",
       "  '4. Output Size': 'Compact',\n",
       "  '5. Time Zone': 'US/Eastern'},\n",
       " 'Time Series (Daily)': {'2025-09-18': {'1. open': '171.6500',\n",
       "   '2. high': '172.2500',\n",
       "   '3. low': '169.8000',\n",
       "   '4. close': '172.0000',\n",
       "   '5. volume': '1025203'},\n",
       "  '2025-09-17': {'1. open': '172.6000',\n",
       "   '2. high': '172.6000',\n",
       "   '3. low': '169.3000',\n",
       "   '4. close': '171.2500',\n",
       "   '5. volume': '1225524'},\n",
       "  '2025-09-16': {'1. open': '168.6000',\n",
       "   '2. high': '172.3000',\n",
       "   '3. low': '168.6000',\n",
       "   '4. close': '172.0000',\n",
       "   '5. volume': '1714698'},\n",
       "  '2025-09-15': {'1. open': '169.6000',\n",
       "   '2. high': '170.2000',\n",
       "   '3. low': '168.6000',\n",
       "   '4. close': '169.2000',\n",
       "   '5. volume': '1933165'},\n",
       "  '2025-09-12': {'1. open': '169.8000',\n",
       "   '2. high': '171.0000',\n",
       "   '3. low': '168.6000',\n",
       "   '4. close': '169.8000',\n",
       "   '5. volume': '1234298'},\n",
       "  '2025-09-11': {'1. open': '169.2000',\n",
       "   '2. high': '170.8500',\n",
       "   '3. low': '168.5000',\n",
       "   '4. close': '169.4000',\n",
       "   '5. volume': '657665'},\n",
       "  '2025-09-10': {'1. open': '169.1500',\n",
       "   '2. high': '170.7000',\n",
       "   '3. low': '168.3000',\n",
       "   '4. close': '169.3500',\n",
       "   '5. volume': '1843576'},\n",
       "  '2025-09-09': {'1. open': '169.1000',\n",
       "   '2. high': '169.8000',\n",
       "   '3. low': '168.0000',\n",
       "   '4. close': '169.1500',\n",
       "   '5. volume': '1189204'},\n",
       "  '2025-09-08': {'1. open': '169.2500',\n",
       "   '2. high': '172.4500',\n",
       "   '3. low': '168.4500',\n",
       "   '4. close': '168.8500',\n",
       "   '5. volume': '1643011'},\n",
       "  '2025-09-05': {'1. open': '166.8000',\n",
       "   '2. high': '168.0000',\n",
       "   '3. low': '165.9500',\n",
       "   '4. close': '167.6500',\n",
       "   '5. volume': '609853'},\n",
       "  '2025-09-04': {'1. open': '169.0000',\n",
       "   '2. high': '169.2000',\n",
       "   '3. low': '166.6000',\n",
       "   '4. close': '166.7500',\n",
       "   '5. volume': '1328191'},\n",
       "  '2025-09-03': {'1. open': '158.4500',\n",
       "   '2. high': '168.0000',\n",
       "   '3. low': '158.4500',\n",
       "   '4. close': '167.8000',\n",
       "   '5. volume': '8779590'},\n",
       "  '2025-09-02': {'1. open': '155.7500',\n",
       "   '2. high': '159.0500',\n",
       "   '3. low': '155.5000',\n",
       "   '4. close': '158.4500',\n",
       "   '5. volume': '1582539'},\n",
       "  '2025-09-01': {'1. open': '154.3000',\n",
       "   '2. high': '156.3500',\n",
       "   '3. low': '153.9000',\n",
       "   '4. close': '156.2000',\n",
       "   '5. volume': '430231'},\n",
       "  '2025-08-29': {'1. open': '154.2500',\n",
       "   '2. high': '155.2000',\n",
       "   '3. low': '153.0000',\n",
       "   '4. close': '154.4500',\n",
       "   '5. volume': '385029'},\n",
       "  '2025-08-28': {'1. open': '156.1000',\n",
       "   '2. high': '156.1000',\n",
       "   '3. low': '153.2000',\n",
       "   '4. close': '153.5500',\n",
       "   '5. volume': '725103'},\n",
       "  '2025-08-27': {'1. open': '155.0000',\n",
       "   '2. high': '155.0000',\n",
       "   '3. low': '155.0000',\n",
       "   '4. close': '155.0000',\n",
       "   '5. volume': '0'},\n",
       "  '2025-08-26': {'1. open': '159.5000',\n",
       "   '2. high': '159.5000',\n",
       "   '3. low': '154.6000',\n",
       "   '4. close': '155.0000',\n",
       "   '5. volume': '1027421'},\n",
       "  '2025-08-25': {'1. open': '159.0000',\n",
       "   '2. high': '160.3500',\n",
       "   '3. low': '158.6500',\n",
       "   '4. close': '159.6000',\n",
       "   '5. volume': '776129'},\n",
       "  '2025-08-22': {'1. open': '161.4000',\n",
       "   '2. high': '161.4000',\n",
       "   '3. low': '158.2500',\n",
       "   '4. close': '158.5500',\n",
       "   '5. volume': '511168'},\n",
       "  '2025-08-21': {'1. open': '162.0000',\n",
       "   '2. high': '162.5500',\n",
       "   '3. low': '161.1000',\n",
       "   '4. close': '161.5000',\n",
       "   '5. volume': '2531809'},\n",
       "  '2025-08-20': {'1. open': '158.1000',\n",
       "   '2. high': '162.7000',\n",
       "   '3. low': '158.0000',\n",
       "   '4. close': '161.9500',\n",
       "   '5. volume': '996007'},\n",
       "  '2025-08-19': {'1. open': '158.3000',\n",
       "   '2. high': '159.5000',\n",
       "   '3. low': '156.7500',\n",
       "   '4. close': '159.1000',\n",
       "   '5. volume': '547420'},\n",
       "  '2025-08-18': {'1. open': '158.4500',\n",
       "   '2. high': '158.6000',\n",
       "   '3. low': '156.0000',\n",
       "   '4. close': '157.9500',\n",
       "   '5. volume': '1252561'},\n",
       "  '2025-08-14': {'1. open': '160.1500',\n",
       "   '2. high': '162.0000',\n",
       "   '3. low': '154.9000',\n",
       "   '4. close': '155.3000',\n",
       "   '5. volume': '1151146'},\n",
       "  '2025-08-13': {'1. open': '160.5000',\n",
       "   '2. high': '162.4000',\n",
       "   '3. low': '159.8500',\n",
       "   '4. close': '160.1500',\n",
       "   '5. volume': '1993101'},\n",
       "  '2025-08-12': {'1. open': '158.3500',\n",
       "   '2. high': '161.6500',\n",
       "   '3. low': '158.3500',\n",
       "   '4. close': '160.2000',\n",
       "   '5. volume': '2702852'},\n",
       "  '2025-08-11': {'1. open': '157.9000',\n",
       "   '2. high': '160.0000',\n",
       "   '3. low': '157.0500',\n",
       "   '4. close': '158.8500',\n",
       "   '5. volume': '1371736'},\n",
       "  '2025-08-08': {'1. open': '159.2000',\n",
       "   '2. high': '160.0000',\n",
       "   '3. low': '157.0000',\n",
       "   '4. close': '158.0000',\n",
       "   '5. volume': '731632'},\n",
       "  '2025-08-07': {'1. open': '156.8000',\n",
       "   '2. high': '160.0000',\n",
       "   '3. low': '156.2500',\n",
       "   '4. close': '159.7000',\n",
       "   '5. volume': '930942'},\n",
       "  '2025-08-06': {'1. open': '159.6000',\n",
       "   '2. high': '159.8500',\n",
       "   '3. low': '157.8000',\n",
       "   '4. close': '158.7000',\n",
       "   '5. volume': '417517'},\n",
       "  '2025-08-05': {'1. open': '159.6000',\n",
       "   '2. high': '160.1500',\n",
       "   '3. low': '158.2000',\n",
       "   '4. close': '159.6000',\n",
       "   '5. volume': '950491'},\n",
       "  '2025-08-04': {'1. open': '154.3500',\n",
       "   '2. high': '159.9000',\n",
       "   '3. low': '153.6500',\n",
       "   '4. close': '159.6000',\n",
       "   '5. volume': '1200553'},\n",
       "  '2025-08-01': {'1. open': '157.8000',\n",
       "   '2. high': '157.9500',\n",
       "   '3. low': '152.5500',\n",
       "   '4. close': '153.0000',\n",
       "   '5. volume': '860398'},\n",
       "  '2025-07-31': {'1. open': '161.3500',\n",
       "   '2. high': '162.2000',\n",
       "   '3. low': '156.5000',\n",
       "   '4. close': '157.8000',\n",
       "   '5. volume': '1053251'},\n",
       "  '2025-07-30': {'1. open': '161.1000',\n",
       "   '2. high': '162.8500',\n",
       "   '3. low': '161.0500',\n",
       "   '4. close': '161.3500',\n",
       "   '5. volume': '802351'},\n",
       "  '2025-07-29': {'1. open': '158.9500',\n",
       "   '2. high': '162.3500',\n",
       "   '3. low': '158.3000',\n",
       "   '4. close': '161.7000',\n",
       "   '5. volume': '631719'},\n",
       "  '2025-07-28': {'1. open': '161.4000',\n",
       "   '2. high': '162.3000',\n",
       "   '3. low': '159.0500',\n",
       "   '4. close': '159.6500',\n",
       "   '5. volume': '631727'},\n",
       "  '2025-07-25': {'1. open': '163.7000',\n",
       "   '2. high': '163.7000',\n",
       "   '3. low': '160.8000',\n",
       "   '4. close': '161.4000',\n",
       "   '5. volume': '992201'},\n",
       "  '2025-07-24': {'1. open': '162.7500',\n",
       "   '2. high': '164.7000',\n",
       "   '3. low': '162.7500',\n",
       "   '4. close': '163.4500',\n",
       "   '5. volume': '1230280'},\n",
       "  '2025-07-23': {'1. open': '163.1000',\n",
       "   '2. high': '164.1500',\n",
       "   '3. low': '161.9000',\n",
       "   '4. close': '162.8000',\n",
       "   '5. volume': '459930'},\n",
       "  '2025-07-22': {'1. open': '163.1000',\n",
       "   '2. high': '164.4000',\n",
       "   '3. low': '162.8000',\n",
       "   '4. close': '163.0000',\n",
       "   '5. volume': '1038097'},\n",
       "  '2025-07-21': {'1. open': '162.3000',\n",
       "   '2. high': '165.5500',\n",
       "   '3. low': '162.3000',\n",
       "   '4. close': '162.9500',\n",
       "   '5. volume': '2818643'},\n",
       "  '2025-07-18': {'1. open': '160.0500',\n",
       "   '2. high': '162.8500',\n",
       "   '3. low': '160.0500',\n",
       "   '4. close': '162.5000',\n",
       "   '5. volume': '973692'},\n",
       "  '2025-07-17': {'1. open': '157.3500',\n",
       "   '2. high': '160.7500',\n",
       "   '3. low': '157.1500',\n",
       "   '4. close': '159.8500',\n",
       "   '5. volume': '875470'},\n",
       "  '2025-07-16': {'1. open': '158.8000',\n",
       "   '2. high': '159.3000',\n",
       "   '3. low': '157.0000',\n",
       "   '4. close': '157.3000',\n",
       "   '5. volume': '774017'},\n",
       "  '2025-07-15': {'1. open': '160.6000',\n",
       "   '2. high': '160.8500',\n",
       "   '3. low': '158.0500',\n",
       "   '4. close': '159.0500',\n",
       "   '5. volume': '673404'},\n",
       "  '2025-07-14': {'1. open': '159.7000',\n",
       "   '2. high': '161.1000',\n",
       "   '3. low': '159.2500',\n",
       "   '4. close': '160.3500',\n",
       "   '5. volume': '702508'},\n",
       "  '2025-07-11': {'1. open': '160.8500',\n",
       "   '2. high': '161.6500',\n",
       "   '3. low': '159.3500',\n",
       "   '4. close': '159.8500',\n",
       "   '5. volume': '512079'},\n",
       "  '2025-07-10': {'1. open': '160.0000',\n",
       "   '2. high': '161.5500',\n",
       "   '3. low': '159.2500',\n",
       "   '4. close': '160.6500',\n",
       "   '5. volume': '1051278'},\n",
       "  '2025-07-09': {'1. open': '161.9000',\n",
       "   '2. high': '161.9500',\n",
       "   '3. low': '157.5500',\n",
       "   '4. close': '159.0000',\n",
       "   '5. volume': '770093'},\n",
       "  '2025-07-08': {'1. open': '162.2000',\n",
       "   '2. high': '162.9500',\n",
       "   '3. low': '161.5500',\n",
       "   '4. close': '161.9500',\n",
       "   '5. volume': '1019797'},\n",
       "  '2025-07-07': {'1. open': '162.8000',\n",
       "   '2. high': '163.4000',\n",
       "   '3. low': '161.5500',\n",
       "   '4. close': '162.4000',\n",
       "   '5. volume': '527792'},\n",
       "  '2025-07-04': {'1. open': '166.0000',\n",
       "   '2. high': '166.4000',\n",
       "   '3. low': '162.0500',\n",
       "   '4. close': '163.0000',\n",
       "   '5. volume': '932221'},\n",
       "  '2025-07-03': {'1. open': '166.2500',\n",
       "   '2. high': '168.7500',\n",
       "   '3. low': '165.1500',\n",
       "   '4. close': '165.8500',\n",
       "   '5. volume': '3584427'},\n",
       "  '2025-07-02': {'1. open': '160.1000',\n",
       "   '2. high': '166.1000',\n",
       "   '3. low': '159.9000',\n",
       "   '4. close': '165.9000',\n",
       "   '5. volume': '2591744'},\n",
       "  '2025-07-01': {'1. open': '160.3500',\n",
       "   '2. high': '160.3500',\n",
       "   '3. low': '157.7500',\n",
       "   '4. close': '159.9500',\n",
       "   '5. volume': '1482091'},\n",
       "  '2025-06-30': {'1. open': '161.0000',\n",
       "   '2. high': '162.2500',\n",
       "   '3. low': '159.5000',\n",
       "   '4. close': '159.7500',\n",
       "   '5. volume': '759212'},\n",
       "  '2025-06-27': {'1. open': '160.7500',\n",
       "   '2. high': '163.3500',\n",
       "   '3. low': '160.7500',\n",
       "   '4. close': '161.4000',\n",
       "   '5. volume': '1855477'},\n",
       "  '2025-06-26': {'1. open': '156.6000',\n",
       "   '2. high': '161.0000',\n",
       "   '3. low': '156.5500',\n",
       "   '4. close': '160.5000',\n",
       "   '5. volume': '3293862'},\n",
       "  '2025-06-25': {'1. open': '156.0000',\n",
       "   '2. high': '156.8500',\n",
       "   '3. low': '155.5000',\n",
       "   '4. close': '156.4000',\n",
       "   '5. volume': '833954'},\n",
       "  '2025-06-24': {'1. open': '153.3000',\n",
       "   '2. high': '157.0000',\n",
       "   '3. low': '153.3000',\n",
       "   '4. close': '154.8000',\n",
       "   '5. volume': '1831943'},\n",
       "  '2025-06-23': {'1. open': '150.5000',\n",
       "   '2. high': '153.3500',\n",
       "   '3. low': '150.4500',\n",
       "   '4. close': '152.4500',\n",
       "   '5. volume': '566461'},\n",
       "  '2025-06-20': {'1. open': '150.9500',\n",
       "   '2. high': '153.2000',\n",
       "   '3. low': '150.6000',\n",
       "   '4. close': '151.9000',\n",
       "   '5. volume': '488365'},\n",
       "  '2025-06-19': {'1. open': '151.8000',\n",
       "   '2. high': '152.5000',\n",
       "   '3. low': '150.4500',\n",
       "   '4. close': '150.9500',\n",
       "   '5. volume': '502194'},\n",
       "  '2025-06-18': {'1. open': '152.0000',\n",
       "   '2. high': '153.2000',\n",
       "   '3. low': '150.8000',\n",
       "   '4. close': '152.0500',\n",
       "   '5. volume': '754067'},\n",
       "  '2025-06-17': {'1. open': '153.9500',\n",
       "   '2. high': '154.9000',\n",
       "   '3. low': '152.4000',\n",
       "   '4. close': '152.6000',\n",
       "   '5. volume': '442379'},\n",
       "  '2025-06-16': {'1. open': '151.4000',\n",
       "   '2. high': '154.4500',\n",
       "   '3. low': '150.8000',\n",
       "   '4. close': '154.1000',\n",
       "   '5. volume': '1127804'},\n",
       "  '2025-06-13': {'1. open': '150.8500',\n",
       "   '2. high': '152.4000',\n",
       "   '3. low': '149.7000',\n",
       "   '4. close': '152.2000',\n",
       "   '5. volume': '1405591'},\n",
       "  '2025-06-12': {'1. open': '156.2000',\n",
       "   '2. high': '156.2000',\n",
       "   '3. low': '151.8500',\n",
       "   '4. close': '152.8500',\n",
       "   '5. volume': '806446'},\n",
       "  '2025-06-11': {'1. open': '156.2000',\n",
       "   '2. high': '157.5500',\n",
       "   '3. low': '155.2500',\n",
       "   '4. close': '156.3500',\n",
       "   '5. volume': '1282320'},\n",
       "  '2025-06-10': {'1. open': '157.8000',\n",
       "   '2. high': '159.3500',\n",
       "   '3. low': '155.4500',\n",
       "   '4. close': '155.7000',\n",
       "   '5. volume': '1172765'},\n",
       "  '2025-06-09': {'1. open': '157.5000',\n",
       "   '2. high': '158.2500',\n",
       "   '3. low': '156.7500',\n",
       "   '4. close': '157.2500',\n",
       "   '5. volume': '1526657'},\n",
       "  '2025-06-06': {'1. open': '155.9000',\n",
       "   '2. high': '157.8500',\n",
       "   '3. low': '154.3000',\n",
       "   '4. close': '157.5000',\n",
       "   '5. volume': '1469254'},\n",
       "  '2025-06-05': {'1. open': '158.6000',\n",
       "   '2. high': '159.1000',\n",
       "   '3. low': '157.0000',\n",
       "   '4. close': '158.0000',\n",
       "   '5. volume': '641989'},\n",
       "  '2025-06-04': {'1. open': '157.2500',\n",
       "   '2. high': '158.9500',\n",
       "   '3. low': '156.8000',\n",
       "   '4. close': '158.1500',\n",
       "   '5. volume': '699088'},\n",
       "  '2025-06-03': {'1. open': '159.0000',\n",
       "   '2. high': '160.6000',\n",
       "   '3. low': '157.0500',\n",
       "   '4. close': '157.3000',\n",
       "   '5. volume': '1679863'},\n",
       "  '2025-06-02': {'1. open': '158.0500',\n",
       "   '2. high': '160.2000',\n",
       "   '3. low': '157.2500',\n",
       "   '4. close': '159.0500',\n",
       "   '5. volume': '1058729'},\n",
       "  '2025-05-30': {'1. open': '163.1000',\n",
       "   '2. high': '163.9000',\n",
       "   '3. low': '160.5000',\n",
       "   '4. close': '161.0000',\n",
       "   '5. volume': '632196'},\n",
       "  '2025-05-29': {'1. open': '162.0000',\n",
       "   '2. high': '163.9500',\n",
       "   '3. low': '161.4000',\n",
       "   '4. close': '163.1000',\n",
       "   '5. volume': '1081277'},\n",
       "  '2025-05-28': {'1. open': '162.6000',\n",
       "   '2. high': '162.7000',\n",
       "   '3. low': '160.6000',\n",
       "   '4. close': '161.0500',\n",
       "   '5. volume': '1164070'},\n",
       "  '2025-05-27': {'1. open': '162.3000',\n",
       "   '2. high': '163.9000',\n",
       "   '3. low': '160.5500',\n",
       "   '4. close': '161.7000',\n",
       "   '5. volume': '1240748'},\n",
       "  '2025-05-26': {'1. open': '163.0000',\n",
       "   '2. high': '165.6000',\n",
       "   '3. low': '162.0000',\n",
       "   '4. close': '162.4000',\n",
       "   '5. volume': '1107656'},\n",
       "  '2025-05-23': {'1. open': '161.5000',\n",
       "   '2. high': '163.2500',\n",
       "   '3. low': '161.5000',\n",
       "   '4. close': '162.9000',\n",
       "   '5. volume': '1313619'},\n",
       "  '2025-05-22': {'1. open': '160.0500',\n",
       "   '2. high': '163.5500',\n",
       "   '3. low': '160.0500',\n",
       "   '4. close': '161.2500',\n",
       "   '5. volume': '1971611'},\n",
       "  '2025-05-21': {'1. open': '159.3500',\n",
       "   '2. high': '161.9000',\n",
       "   '3. low': '158.6000',\n",
       "   '4. close': '161.6000',\n",
       "   '5. volume': '986711'},\n",
       "  '2025-05-20': {'1. open': '158.0500',\n",
       "   '2. high': '162.0000',\n",
       "   '3. low': '158.0500',\n",
       "   '4. close': '158.6500',\n",
       "   '5. volume': '1759376'},\n",
       "  '2025-05-19': {'1. open': '157.0500',\n",
       "   '2. high': '158.0500',\n",
       "   '3. low': '156.1500',\n",
       "   '4. close': '157.5000',\n",
       "   '5. volume': '837651'},\n",
       "  '2025-05-16': {'1. open': '157.7500',\n",
       "   '2. high': '158.2500',\n",
       "   '3. low': '157.0000',\n",
       "   '4. close': '157.4500',\n",
       "   '5. volume': '918450'},\n",
       "  '2025-05-15': {'1. open': '156.0500',\n",
       "   '2. high': '157.8500',\n",
       "   '3. low': '154.3000',\n",
       "   '4. close': '157.3500',\n",
       "   '5. volume': '1810366'},\n",
       "  '2025-05-14': {'1. open': '151.2000',\n",
       "   '2. high': '157.1500',\n",
       "   '3. low': '151.0000',\n",
       "   '4. close': '155.3000',\n",
       "   '5. volume': '4546411'},\n",
       "  '2025-05-13': {'1. open': '152.3500',\n",
       "   '2. high': '152.9500',\n",
       "   '3. low': '149.0500',\n",
       "   '4. close': '149.5000',\n",
       "   '5. volume': '3408140'},\n",
       "  '2025-05-12': {'1. open': '145.7500',\n",
       "   '2. high': '151.9500',\n",
       "   '3. low': '144.9500',\n",
       "   '4. close': '151.5500',\n",
       "   '5. volume': '1709993'},\n",
       "  '2025-05-09': {'1. open': '140.6000',\n",
       "   '2. high': '143.3000',\n",
       "   '3. low': '140.4000',\n",
       "   '4. close': '142.7500',\n",
       "   '5. volume': '1082494'},\n",
       "  '2025-05-08': {'1. open': '146.2500',\n",
       "   '2. high': '146.7000',\n",
       "   '3. low': '143.0000',\n",
       "   '4. close': '143.6500',\n",
       "   '5. volume': '1737854'},\n",
       "  '2025-05-07': {'1. open': '142.0500',\n",
       "   '2. high': '147.4000',\n",
       "   '3. low': '142.0500',\n",
       "   '4. close': '146.3000',\n",
       "   '5. volume': '1667608'},\n",
       "  '2025-05-06': {'1. open': '141.6000',\n",
       "   '2. high': '145.3500',\n",
       "   '3. low': '141.5000',\n",
       "   '4. close': '144.4000',\n",
       "   '5. volume': '3407650'},\n",
       "  '2025-05-05': {'1. open': '141.3500',\n",
       "   '2. high': '142.7000',\n",
       "   '3. low': '141.1500',\n",
       "   '4. close': '142.1000',\n",
       "   '5. volume': '1287804'},\n",
       "  '2025-05-02': {'1. open': '139.8500',\n",
       "   '2. high': '143.0500',\n",
       "   '3. low': '139.5000',\n",
       "   '4. close': '141.3000',\n",
       "   '5. volume': '703628'},\n",
       "  '2025-04-30': {'1. open': '140.4000',\n",
       "   '2. high': '141.5500',\n",
       "   '3. low': '138.5000',\n",
       "   '4. close': '139.7500',\n",
       "   '5. volume': '752026'}}}"
      ]
     },
     "execution_count": 22,
     "metadata": {},
     "output_type": "execute_result"
    }
   ],
   "source": [
    "data2"
   ]
  },
  {
   "cell_type": "code",
   "execution_count": 23,
   "id": "357e3562",
   "metadata": {},
   "outputs": [
    {
     "data": {
      "text/plain": [
       "dict_keys(['Meta Data', 'Time Series (Daily)'])"
      ]
     },
     "execution_count": 23,
     "metadata": {},
     "output_type": "execute_result"
    }
   ],
   "source": [
    "data2.keys()"
   ]
  },
  {
   "cell_type": "code",
   "execution_count": 26,
   "id": "96863735",
   "metadata": {},
   "outputs": [],
   "source": [
    "import  pandas as  pd"
   ]
  },
  {
   "cell_type": "code",
   "execution_count": 28,
   "id": "b2000b8e",
   "metadata": {},
   "outputs": [
    {
     "data": {
      "text/html": [
       "<div>\n",
       "<style scoped>\n",
       "    .dataframe tbody tr th:only-of-type {\n",
       "        vertical-align: middle;\n",
       "    }\n",
       "\n",
       "    .dataframe tbody tr th {\n",
       "        vertical-align: top;\n",
       "    }\n",
       "\n",
       "    .dataframe thead th {\n",
       "        text-align: right;\n",
       "    }\n",
       "</style>\n",
       "<table border=\"1\" class=\"dataframe\">\n",
       "  <thead>\n",
       "    <tr style=\"text-align: right;\">\n",
       "      <th></th>\n",
       "      <th>1. open</th>\n",
       "      <th>2. high</th>\n",
       "      <th>3. low</th>\n",
       "      <th>4. close</th>\n",
       "      <th>5. volume</th>\n",
       "    </tr>\n",
       "  </thead>\n",
       "  <tbody>\n",
       "    <tr>\n",
       "      <th>2025-09-18</th>\n",
       "      <td>171.6500</td>\n",
       "      <td>172.2500</td>\n",
       "      <td>169.8000</td>\n",
       "      <td>172.0000</td>\n",
       "      <td>1025203</td>\n",
       "    </tr>\n",
       "    <tr>\n",
       "      <th>2025-09-17</th>\n",
       "      <td>172.6000</td>\n",
       "      <td>172.6000</td>\n",
       "      <td>169.3000</td>\n",
       "      <td>171.2500</td>\n",
       "      <td>1225524</td>\n",
       "    </tr>\n",
       "    <tr>\n",
       "      <th>2025-09-16</th>\n",
       "      <td>168.6000</td>\n",
       "      <td>172.3000</td>\n",
       "      <td>168.6000</td>\n",
       "      <td>172.0000</td>\n",
       "      <td>1714698</td>\n",
       "    </tr>\n",
       "    <tr>\n",
       "      <th>2025-09-15</th>\n",
       "      <td>169.6000</td>\n",
       "      <td>170.2000</td>\n",
       "      <td>168.6000</td>\n",
       "      <td>169.2000</td>\n",
       "      <td>1933165</td>\n",
       "    </tr>\n",
       "    <tr>\n",
       "      <th>2025-09-12</th>\n",
       "      <td>169.8000</td>\n",
       "      <td>171.0000</td>\n",
       "      <td>168.6000</td>\n",
       "      <td>169.8000</td>\n",
       "      <td>1234298</td>\n",
       "    </tr>\n",
       "    <tr>\n",
       "      <th>...</th>\n",
       "      <td>...</td>\n",
       "      <td>...</td>\n",
       "      <td>...</td>\n",
       "      <td>...</td>\n",
       "      <td>...</td>\n",
       "    </tr>\n",
       "    <tr>\n",
       "      <th>2025-05-07</th>\n",
       "      <td>142.0500</td>\n",
       "      <td>147.4000</td>\n",
       "      <td>142.0500</td>\n",
       "      <td>146.3000</td>\n",
       "      <td>1667608</td>\n",
       "    </tr>\n",
       "    <tr>\n",
       "      <th>2025-05-06</th>\n",
       "      <td>141.6000</td>\n",
       "      <td>145.3500</td>\n",
       "      <td>141.5000</td>\n",
       "      <td>144.4000</td>\n",
       "      <td>3407650</td>\n",
       "    </tr>\n",
       "    <tr>\n",
       "      <th>2025-05-05</th>\n",
       "      <td>141.3500</td>\n",
       "      <td>142.7000</td>\n",
       "      <td>141.1500</td>\n",
       "      <td>142.1000</td>\n",
       "      <td>1287804</td>\n",
       "    </tr>\n",
       "    <tr>\n",
       "      <th>2025-05-02</th>\n",
       "      <td>139.8500</td>\n",
       "      <td>143.0500</td>\n",
       "      <td>139.5000</td>\n",
       "      <td>141.3000</td>\n",
       "      <td>703628</td>\n",
       "    </tr>\n",
       "    <tr>\n",
       "      <th>2025-04-30</th>\n",
       "      <td>140.4000</td>\n",
       "      <td>141.5500</td>\n",
       "      <td>138.5000</td>\n",
       "      <td>139.7500</td>\n",
       "      <td>752026</td>\n",
       "    </tr>\n",
       "  </tbody>\n",
       "</table>\n",
       "<p>100 rows × 5 columns</p>\n",
       "</div>"
      ],
      "text/plain": [
       "             1. open   2. high    3. low  4. close 5. volume\n",
       "2025-09-18  171.6500  172.2500  169.8000  172.0000   1025203\n",
       "2025-09-17  172.6000  172.6000  169.3000  171.2500   1225524\n",
       "2025-09-16  168.6000  172.3000  168.6000  172.0000   1714698\n",
       "2025-09-15  169.6000  170.2000  168.6000  169.2000   1933165\n",
       "2025-09-12  169.8000  171.0000  168.6000  169.8000   1234298\n",
       "...              ...       ...       ...       ...       ...\n",
       "2025-05-07  142.0500  147.4000  142.0500  146.3000   1667608\n",
       "2025-05-06  141.6000  145.3500  141.5000  144.4000   3407650\n",
       "2025-05-05  141.3500  142.7000  141.1500  142.1000   1287804\n",
       "2025-05-02  139.8500  143.0500  139.5000  141.3000    703628\n",
       "2025-04-30  140.4000  141.5500  138.5000  139.7500    752026\n",
       "\n",
       "[100 rows x 5 columns]"
      ]
     },
     "execution_count": 28,
     "metadata": {},
     "output_type": "execute_result"
    }
   ],
   "source": [
    "#data2['Time Series (Daily)']\n",
    "df  = pd.DataFrame(data2['Time Series (Daily)']).T\n",
    "df "
   ]
  },
  {
   "cell_type": "code",
   "execution_count": 32,
   "id": "116e4b9e",
   "metadata": {},
   "outputs": [
    {
     "data": {
      "text/plain": [
       "1. open      object\n",
       "2. high      object\n",
       "3. low       object\n",
       "4. close     object\n",
       "5. volume    object\n",
       "dtype: object"
      ]
     },
     "execution_count": 32,
     "metadata": {},
     "output_type": "execute_result"
    }
   ],
   "source": [
    "df.dtypes"
   ]
  },
  {
   "cell_type": "code",
   "execution_count": 34,
   "id": "a5067d8e",
   "metadata": {},
   "outputs": [
    {
     "data": {
      "text/plain": [
       "Index(['2025-09-18', '2025-09-17', '2025-09-16', '2025-09-15', '2025-09-12',\n",
       "       '2025-09-11', '2025-09-10', '2025-09-09', '2025-09-08', '2025-09-05',\n",
       "       '2025-09-04', '2025-09-03', '2025-09-02', '2025-09-01', '2025-08-29',\n",
       "       '2025-08-28', '2025-08-27', '2025-08-26', '2025-08-25', '2025-08-22',\n",
       "       '2025-08-21', '2025-08-20', '2025-08-19', '2025-08-18', '2025-08-14',\n",
       "       '2025-08-13', '2025-08-12', '2025-08-11', '2025-08-08', '2025-08-07',\n",
       "       '2025-08-06', '2025-08-05', '2025-08-04', '2025-08-01', '2025-07-31',\n",
       "       '2025-07-30', '2025-07-29', '2025-07-28', '2025-07-25', '2025-07-24',\n",
       "       '2025-07-23', '2025-07-22', '2025-07-21', '2025-07-18', '2025-07-17',\n",
       "       '2025-07-16', '2025-07-15', '2025-07-14', '2025-07-11', '2025-07-10',\n",
       "       '2025-07-09', '2025-07-08', '2025-07-07', '2025-07-04', '2025-07-03',\n",
       "       '2025-07-02', '2025-07-01', '2025-06-30', '2025-06-27', '2025-06-26',\n",
       "       '2025-06-25', '2025-06-24', '2025-06-23', '2025-06-20', '2025-06-19',\n",
       "       '2025-06-18', '2025-06-17', '2025-06-16', '2025-06-13', '2025-06-12',\n",
       "       '2025-06-11', '2025-06-10', '2025-06-09', '2025-06-06', '2025-06-05',\n",
       "       '2025-06-04', '2025-06-03', '2025-06-02', '2025-05-30', '2025-05-29',\n",
       "       '2025-05-28', '2025-05-27', '2025-05-26', '2025-05-23', '2025-05-22',\n",
       "       '2025-05-21', '2025-05-20', '2025-05-19', '2025-05-16', '2025-05-15',\n",
       "       '2025-05-14', '2025-05-13', '2025-05-12', '2025-05-09', '2025-05-08',\n",
       "       '2025-05-07', '2025-05-06', '2025-05-05', '2025-05-02', '2025-04-30'],\n",
       "      dtype='object')"
      ]
     },
     "execution_count": 34,
     "metadata": {},
     "output_type": "execute_result"
    }
   ],
   "source": [
    "# convert  data  in float  and date  in datetime\n",
    "df.index"
   ]
  },
  {
   "cell_type": "code",
   "execution_count": 35,
   "id": "680b8065",
   "metadata": {},
   "outputs": [],
   "source": [
    "df= df.astype('float')"
   ]
  },
  {
   "cell_type": "code",
   "execution_count": 36,
   "id": "e59a91d7",
   "metadata": {},
   "outputs": [
    {
     "data": {
      "text/plain": [
       "1. open      float64\n",
       "2. high      float64\n",
       "3. low       float64\n",
       "4. close     float64\n",
       "5. volume    float64\n",
       "dtype: object"
      ]
     },
     "execution_count": 36,
     "metadata": {},
     "output_type": "execute_result"
    }
   ],
   "source": [
    "df.dtypes"
   ]
  },
  {
   "cell_type": "code",
   "execution_count": 37,
   "id": "46b47920",
   "metadata": {},
   "outputs": [],
   "source": [
    "# for index \n",
    "df.index  =  pd.to_datetime(df.index)"
   ]
  },
  {
   "cell_type": "code",
   "execution_count": 38,
   "id": "0c18ba9e",
   "metadata": {},
   "outputs": [
    {
     "data": {
      "text/plain": [
       "DatetimeIndex(['2025-09-18', '2025-09-17', '2025-09-16', '2025-09-15',\n",
       "               '2025-09-12', '2025-09-11', '2025-09-10', '2025-09-09',\n",
       "               '2025-09-08', '2025-09-05', '2025-09-04', '2025-09-03',\n",
       "               '2025-09-02', '2025-09-01', '2025-08-29', '2025-08-28',\n",
       "               '2025-08-27', '2025-08-26', '2025-08-25', '2025-08-22',\n",
       "               '2025-08-21', '2025-08-20', '2025-08-19', '2025-08-18',\n",
       "               '2025-08-14', '2025-08-13', '2025-08-12', '2025-08-11',\n",
       "               '2025-08-08', '2025-08-07', '2025-08-06', '2025-08-05',\n",
       "               '2025-08-04', '2025-08-01', '2025-07-31', '2025-07-30',\n",
       "               '2025-07-29', '2025-07-28', '2025-07-25', '2025-07-24',\n",
       "               '2025-07-23', '2025-07-22', '2025-07-21', '2025-07-18',\n",
       "               '2025-07-17', '2025-07-16', '2025-07-15', '2025-07-14',\n",
       "               '2025-07-11', '2025-07-10', '2025-07-09', '2025-07-08',\n",
       "               '2025-07-07', '2025-07-04', '2025-07-03', '2025-07-02',\n",
       "               '2025-07-01', '2025-06-30', '2025-06-27', '2025-06-26',\n",
       "               '2025-06-25', '2025-06-24', '2025-06-23', '2025-06-20',\n",
       "               '2025-06-19', '2025-06-18', '2025-06-17', '2025-06-16',\n",
       "               '2025-06-13', '2025-06-12', '2025-06-11', '2025-06-10',\n",
       "               '2025-06-09', '2025-06-06', '2025-06-05', '2025-06-04',\n",
       "               '2025-06-03', '2025-06-02', '2025-05-30', '2025-05-29',\n",
       "               '2025-05-28', '2025-05-27', '2025-05-26', '2025-05-23',\n",
       "               '2025-05-22', '2025-05-21', '2025-05-20', '2025-05-19',\n",
       "               '2025-05-16', '2025-05-15', '2025-05-14', '2025-05-13',\n",
       "               '2025-05-12', '2025-05-09', '2025-05-08', '2025-05-07',\n",
       "               '2025-05-06', '2025-05-05', '2025-05-02', '2025-04-30'],\n",
       "              dtype='datetime64[ns]', freq=None)"
      ]
     },
     "execution_count": 38,
     "metadata": {},
     "output_type": "execute_result"
    }
   ],
   "source": [
    "df.index"
   ]
  },
  {
   "cell_type": "code",
   "execution_count": 39,
   "id": "f9306443",
   "metadata": {},
   "outputs": [],
   "source": [
    "# give  name  to index\n",
    "df.index.name =  'Date'"
   ]
  },
  {
   "cell_type": "code",
   "execution_count": 40,
   "id": "2b760988",
   "metadata": {},
   "outputs": [
    {
     "data": {
      "text/html": [
       "<div>\n",
       "<style scoped>\n",
       "    .dataframe tbody tr th:only-of-type {\n",
       "        vertical-align: middle;\n",
       "    }\n",
       "\n",
       "    .dataframe tbody tr th {\n",
       "        vertical-align: top;\n",
       "    }\n",
       "\n",
       "    .dataframe thead th {\n",
       "        text-align: right;\n",
       "    }\n",
       "</style>\n",
       "<table border=\"1\" class=\"dataframe\">\n",
       "  <thead>\n",
       "    <tr style=\"text-align: right;\">\n",
       "      <th></th>\n",
       "      <th>1. open</th>\n",
       "      <th>2. high</th>\n",
       "      <th>3. low</th>\n",
       "      <th>4. close</th>\n",
       "      <th>5. volume</th>\n",
       "    </tr>\n",
       "    <tr>\n",
       "      <th>Date</th>\n",
       "      <th></th>\n",
       "      <th></th>\n",
       "      <th></th>\n",
       "      <th></th>\n",
       "      <th></th>\n",
       "    </tr>\n",
       "  </thead>\n",
       "  <tbody>\n",
       "    <tr>\n",
       "      <th>2025-09-18</th>\n",
       "      <td>171.65</td>\n",
       "      <td>172.25</td>\n",
       "      <td>169.8</td>\n",
       "      <td>172.00</td>\n",
       "      <td>1025203.0</td>\n",
       "    </tr>\n",
       "    <tr>\n",
       "      <th>2025-09-17</th>\n",
       "      <td>172.60</td>\n",
       "      <td>172.60</td>\n",
       "      <td>169.3</td>\n",
       "      <td>171.25</td>\n",
       "      <td>1225524.0</td>\n",
       "    </tr>\n",
       "    <tr>\n",
       "      <th>2025-09-16</th>\n",
       "      <td>168.60</td>\n",
       "      <td>172.30</td>\n",
       "      <td>168.6</td>\n",
       "      <td>172.00</td>\n",
       "      <td>1714698.0</td>\n",
       "    </tr>\n",
       "    <tr>\n",
       "      <th>2025-09-15</th>\n",
       "      <td>169.60</td>\n",
       "      <td>170.20</td>\n",
       "      <td>168.6</td>\n",
       "      <td>169.20</td>\n",
       "      <td>1933165.0</td>\n",
       "    </tr>\n",
       "    <tr>\n",
       "      <th>2025-09-12</th>\n",
       "      <td>169.80</td>\n",
       "      <td>171.00</td>\n",
       "      <td>168.6</td>\n",
       "      <td>169.80</td>\n",
       "      <td>1234298.0</td>\n",
       "    </tr>\n",
       "  </tbody>\n",
       "</table>\n",
       "</div>"
      ],
      "text/plain": [
       "            1. open  2. high  3. low  4. close  5. volume\n",
       "Date                                                     \n",
       "2025-09-18   171.65   172.25   169.8    172.00  1025203.0\n",
       "2025-09-17   172.60   172.60   169.3    171.25  1225524.0\n",
       "2025-09-16   168.60   172.30   168.6    172.00  1714698.0\n",
       "2025-09-15   169.60   170.20   168.6    169.20  1933165.0\n",
       "2025-09-12   169.80   171.00   168.6    169.80  1234298.0"
      ]
     },
     "execution_count": 40,
     "metadata": {},
     "output_type": "execute_result"
    }
   ],
   "source": [
    "df.head()"
   ]
  },
  {
   "cell_type": "markdown",
   "id": "0b796bd8",
   "metadata": {},
   "source": [
    "### plot candelstick  chart"
   ]
  },
  {
   "cell_type": "code",
   "execution_count": 44,
   "id": "51e367e0",
   "metadata": {},
   "outputs": [],
   "source": [
    "import   plotly.graph_objects  as  go"
   ]
  },
  {
   "cell_type": "code",
   "execution_count": 49,
   "id": "6ca4a2f2",
   "metadata": {},
   "outputs": [
    {
     "data": {
      "application/vnd.plotly.v1+json": {
       "config": {
        "plotlyServerURL": "https://plot.ly"
       },
       "data": [
        {
         "close": {
          "bdata": "AAAAAACAZUAAAAAAAGhlQAAAAAAAgGVAZmZmZmYmZUCamZmZmTllQM3MzMzMLGVAMzMzMzMrZUDNzMzMzCRlQDMzMzMzG2VAzczMzMz0ZEAAAAAAANhkQJqZmZmZ+WRAZmZmZmbOY0BmZmZmZoZjQGZmZmZmTmNAmpmZmZkxY0AAAAAAAGBjQAAAAAAAYGNAMzMzMzPzY0CamZmZmdFjQAAAAAAAMGRAZmZmZmY+ZEAzMzMzM+NjQGZmZmZmvmNAmpmZmZlpY0DNzMzMzARkQGZmZmZmBmRAMzMzMzPbY0AAAAAAAMBjQGZmZmZm9mNAZmZmZmbWY0AzMzMzM/NjQDMzMzMz82NAAAAAAAAgY0CamZmZmbljQDMzMzMzK2RAZmZmZmY2ZEDNzMzMzPRjQM3MzMzMLGRAZmZmZmZuZECamZmZmVlkQAAAAAAAYGRAZmZmZmZeZEAAAAAAAFBkQDMzMzMz+2NAmpmZmZmpY0CamZmZmeFjQDMzMzMzC2RAMzMzMzP7Y0DNzMzMzBRkQAAAAAAA4GNAZmZmZmY+ZEDNzMzMzExkQAAAAAAAYGRAMzMzMzO7ZEDNzMzMzLxkQGZmZmZm/mNAAAAAAAD4Y0DNzMzMzCxkQAAAAAAAEGRAzczMzMyMY0CamZmZmVljQGZmZmZmDmNAzczMzMz8YkBmZmZmZt5iQJqZmZmZAWNAMzMzMzMTY0AzMzMzM0NjQGZmZmZmBmNAMzMzMzMbY0AzMzMzM4tjQGZmZmZmdmNAAAAAAACoY0AAAAAAALBjQAAAAAAAwGNAzczMzMzEY0CamZmZmaljQJqZmZmZ4WNAAAAAAAAgZEAzMzMzM2NkQJqZmZmZIWRAZmZmZmY2ZEDNzMzMzExkQM3MzMzMXGRAAAAAAAAoZEAzMzMzMzNkQM3MzMzM1GNAAAAAAACwY0BmZmZmZq5jQDMzMzMzq2NAmpmZmZlpY0AAAAAAALBiQJqZmZmZ8WJAAAAAAADYYUDNzMzMzPRhQJqZmZmZSWJAzczMzMwMYkAzMzMzM8NhQJqZmZmZqWFAAAAAAAB4YUA=",
          "dtype": "f8"
         },
         "high": {
          "bdata": "AAAAAACIZUAzMzMzM5NlQJqZmZmZiWVAZmZmZmZGZUAAAAAAAGBlQDMzMzMzW2VAZmZmZmZWZUCamZmZmTllQGZmZmZmjmVAAAAAAAAAZUBmZmZmZiZlQAAAAAAAAGVAmpmZmZnhY0AzMzMzM4tjQGZmZmZmZmNAMzMzMzODY0AAAAAAAGBjQAAAAAAA8GNAMzMzMzMLZEDNzMzMzCxkQJqZmZmZUWRAZmZmZmZWZEAAAAAAAPBjQDMzMzMz02NAAAAAAABAZEDNzMzMzExkQM3MzMzMNGRAAAAAAAAAZEAAAAAAAABkQAAAAAAAAGRAMzMzMzP7Y0DNzMzMzARkQM3MzMzM/GNAZmZmZma+Y0BmZmZmZkZkQDMzMzMzW2RAMzMzMzNLZECamZmZmUlkQGZmZmZmdmRAZmZmZmaWZEDNzMzMzIRkQM3MzMzMjGRAmpmZmZmxZEAzMzMzM1tkQAAAAAAAGGRAmpmZmZnpY0AzMzMzMxtkQDMzMzMzI2RAzczMzMw0ZECamZmZmTFkQGZmZmZmPmRAZmZmZmZeZEDNzMzMzGxkQM3MzMzMzGRAAAAAAAAYZUAzMzMzM8NkQDMzMzMzC2RAAAAAAABIZEAzMzMzM2tkQAAAAAAAIGRAMzMzMzObY0AAAAAAAKBjQDMzMzMzK2NAZmZmZmYmY0AAAAAAABBjQGZmZmZmJmNAzczMzMxcY0BmZmZmZk5jQM3MzMzMDGNAZmZmZmaGY0CamZmZmbFjQDMzMzMz62NAAAAAAADIY0AzMzMzM7tjQDMzMzMz42NAZmZmZmbeY0AzMzMzMxNkQGZmZmZmBmRAzczMzMx8ZEBmZmZmZn5kQGZmZmZmVmRAzczMzMx8ZEAzMzMzM7NkQAAAAAAAaGRAmpmZmZlxZEDNzMzMzDxkQAAAAAAAQGRAmpmZmZnBY0AAAAAAAMhjQDMzMzMzu2NAzczMzMykY0BmZmZmZh5jQGZmZmZm/mJAmpmZmZnpYUBmZmZmZlZiQM3MzMzMbGJAMzMzMzMrYkBmZmZmZtZhQJqZmZmZ4WFAmpmZmZmxYUA=",
          "dtype": "f8"
         },
         "low": {
          "bdata": "mpmZmZk5ZUCamZmZmSllQDMzMzMzE2VAMzMzMzMTZUAzMzMzMxNlQAAAAAAAEGVAmpmZmZkJZUAAAAAAAABlQGZmZmZmDmVAZmZmZma+ZEAzMzMzM9NkQGZmZmZmzmNAAAAAAABwY0DNzMzMzDxjQAAAAAAAIGNAZmZmZmYmY0AAAAAAAGBjQDMzMzMzU2NAzczMzMzUY0AAAAAAAMhjQDMzMzMzI2RAAAAAAADAY0AAAAAAAJhjQAAAAAAAgGNAzczMzMxcY0AzMzMzM/tjQDMzMzMzy2NAmpmZmZmhY0AAAAAAAKBjQAAAAAAAiGNAmpmZmZm5Y0BmZmZmZsZjQM3MzMzMNGNAmpmZmZkRY0AAAAAAAJBjQJqZmZmZIWRAmpmZmZnJY0CamZmZmeFjQJqZmZmZGWRAAAAAAABYZEDNzMzMzDxkQJqZmZmZWWRAmpmZmZlJZECamZmZmQFkQM3MzMzMpGNAAAAAAACgY0CamZmZmcFjQAAAAAAA6GNAMzMzMzPrY0AAAAAAAOhjQJqZmZmZsWNAmpmZmZkxZECamZmZmTFkQJqZmZmZQWRAzczMzMykZEDNzMzMzPxjQAAAAAAAuGNAAAAAAADwY0AAAAAAABhkQJqZmZmZkWNAAAAAAABwY0CamZmZmSljQGZmZmZmzmJAMzMzMzPTYkBmZmZmZs5iQJqZmZmZ2WJAzczMzMwMY0CamZmZmdliQGZmZmZmtmJAMzMzMzP7YkAAAAAAAGhjQGZmZmZmbmNAAAAAAACYY0CamZmZmUljQAAAAAAAoGNAmpmZmZmZY0CamZmZmaFjQAAAAAAAqGNAAAAAAAAQZEDNzMzMzCxkQDMzMzMzE2RAmpmZmZkRZEAAAAAAAEBkQAAAAAAAMGRAmpmZmZkBZEAzMzMzM9NjQJqZmZmZwWNAzczMzMyEY0AAAAAAAKBjQJqZmZmZSWNAAAAAAADgYkCamZmZmaFiQGZmZmZmHmJAzczMzMyMYUAAAAAAAOBhQJqZmZmZwWFAAAAAAACwYUDNzMzMzKRhQAAAAAAAcGFAAAAAAABQYUA=",
          "dtype": "f8"
         },
         "open": {
          "bdata": "zczMzMx0ZUAzMzMzM5NlQDMzMzMzE2VAMzMzMzMzZUCamZmZmTllQGZmZmZmJmVAzczMzMwkZUAzMzMzMyNlQAAAAAAAKGVAmpmZmZnZZEAAAAAAACBlQGZmZmZmzmNAAAAAAAB4Y0CamZmZmUljQAAAAAAASGNAMzMzMzODY0AAAAAAAGBjQAAAAAAA8GNAAAAAAADgY0DNzMzMzCxkQAAAAAAAQGRAMzMzMzPDY0CamZmZmcljQGZmZmZmzmNAzczMzMwEZEAAAAAAABBkQDMzMzMzy2NAzczMzMy8Y0BmZmZmZuZjQJqZmZmZmWNAMzMzMzPzY0AzMzMzM/NjQDMzMzMzS2NAmpmZmZm5Y0AzMzMzMytkQDMzMzMzI2RAZmZmZmbeY0DNzMzMzCxkQGZmZmZmdmRAAAAAAABYZEAzMzMzM2NkQDMzMzMzY2RAmpmZmZlJZECamZmZmQFkQDMzMzMzq2NAmpmZmZnZY0AzMzMzMxNkQGZmZmZm9mNAMzMzMzMbZEAAAAAAAABkQM3MzMzMPGRAZmZmZmZGZECamZmZmVlkQAAAAAAAwGRAAAAAAADIZEAzMzMzMwNkQDMzMzMzC2RAAAAAAAAgZEAAAAAAABhkQDMzMzMzk2NAAAAAAACAY0CamZmZmSljQAAAAAAA0GJAZmZmZmbeYkCamZmZmfliQAAAAAAAAGNAZmZmZmY+Y0DNzMzMzOxiQDMzMzMz22JAZmZmZmaGY0BmZmZmZoZjQJqZmZmZuWNAAAAAAACwY0DNzMzMzHxjQDMzMzMz02NAAAAAAACoY0AAAAAAAOBjQJqZmZmZwWNAMzMzMzNjZEAAAAAAAEBkQDMzMzMzU2RAmpmZmZlJZEAAAAAAAGBkQAAAAAAAMGRAmpmZmZkBZEAzMzMzM+tjQJqZmZmZwWNAmpmZmZmhY0AAAAAAALhjQJqZmZmZgWNAZmZmZmbmYkAzMzMzMwtjQAAAAAAAOGJAMzMzMzOTYUAAAAAAAEhiQJqZmZmZwWFAMzMzMzOzYUAzMzMzM6thQDMzMzMze2FAzczMzMyMYUA=",
          "dtype": "f8"
         },
         "type": "candlestick",
         "x": [
          "2025-09-18T00:00:00.000000000",
          "2025-09-17T00:00:00.000000000",
          "2025-09-16T00:00:00.000000000",
          "2025-09-15T00:00:00.000000000",
          "2025-09-12T00:00:00.000000000",
          "2025-09-11T00:00:00.000000000",
          "2025-09-10T00:00:00.000000000",
          "2025-09-09T00:00:00.000000000",
          "2025-09-08T00:00:00.000000000",
          "2025-09-05T00:00:00.000000000",
          "2025-09-04T00:00:00.000000000",
          "2025-09-03T00:00:00.000000000",
          "2025-09-02T00:00:00.000000000",
          "2025-09-01T00:00:00.000000000",
          "2025-08-29T00:00:00.000000000",
          "2025-08-28T00:00:00.000000000",
          "2025-08-27T00:00:00.000000000",
          "2025-08-26T00:00:00.000000000",
          "2025-08-25T00:00:00.000000000",
          "2025-08-22T00:00:00.000000000",
          "2025-08-21T00:00:00.000000000",
          "2025-08-20T00:00:00.000000000",
          "2025-08-19T00:00:00.000000000",
          "2025-08-18T00:00:00.000000000",
          "2025-08-14T00:00:00.000000000",
          "2025-08-13T00:00:00.000000000",
          "2025-08-12T00:00:00.000000000",
          "2025-08-11T00:00:00.000000000",
          "2025-08-08T00:00:00.000000000",
          "2025-08-07T00:00:00.000000000",
          "2025-08-06T00:00:00.000000000",
          "2025-08-05T00:00:00.000000000",
          "2025-08-04T00:00:00.000000000",
          "2025-08-01T00:00:00.000000000",
          "2025-07-31T00:00:00.000000000",
          "2025-07-30T00:00:00.000000000",
          "2025-07-29T00:00:00.000000000",
          "2025-07-28T00:00:00.000000000",
          "2025-07-25T00:00:00.000000000",
          "2025-07-24T00:00:00.000000000",
          "2025-07-23T00:00:00.000000000",
          "2025-07-22T00:00:00.000000000",
          "2025-07-21T00:00:00.000000000",
          "2025-07-18T00:00:00.000000000",
          "2025-07-17T00:00:00.000000000",
          "2025-07-16T00:00:00.000000000",
          "2025-07-15T00:00:00.000000000",
          "2025-07-14T00:00:00.000000000",
          "2025-07-11T00:00:00.000000000",
          "2025-07-10T00:00:00.000000000",
          "2025-07-09T00:00:00.000000000",
          "2025-07-08T00:00:00.000000000",
          "2025-07-07T00:00:00.000000000",
          "2025-07-04T00:00:00.000000000",
          "2025-07-03T00:00:00.000000000",
          "2025-07-02T00:00:00.000000000",
          "2025-07-01T00:00:00.000000000",
          "2025-06-30T00:00:00.000000000",
          "2025-06-27T00:00:00.000000000",
          "2025-06-26T00:00:00.000000000",
          "2025-06-25T00:00:00.000000000",
          "2025-06-24T00:00:00.000000000",
          "2025-06-23T00:00:00.000000000",
          "2025-06-20T00:00:00.000000000",
          "2025-06-19T00:00:00.000000000",
          "2025-06-18T00:00:00.000000000",
          "2025-06-17T00:00:00.000000000",
          "2025-06-16T00:00:00.000000000",
          "2025-06-13T00:00:00.000000000",
          "2025-06-12T00:00:00.000000000",
          "2025-06-11T00:00:00.000000000",
          "2025-06-10T00:00:00.000000000",
          "2025-06-09T00:00:00.000000000",
          "2025-06-06T00:00:00.000000000",
          "2025-06-05T00:00:00.000000000",
          "2025-06-04T00:00:00.000000000",
          "2025-06-03T00:00:00.000000000",
          "2025-06-02T00:00:00.000000000",
          "2025-05-30T00:00:00.000000000",
          "2025-05-29T00:00:00.000000000",
          "2025-05-28T00:00:00.000000000",
          "2025-05-27T00:00:00.000000000",
          "2025-05-26T00:00:00.000000000",
          "2025-05-23T00:00:00.000000000",
          "2025-05-22T00:00:00.000000000",
          "2025-05-21T00:00:00.000000000",
          "2025-05-20T00:00:00.000000000",
          "2025-05-19T00:00:00.000000000",
          "2025-05-16T00:00:00.000000000",
          "2025-05-15T00:00:00.000000000",
          "2025-05-14T00:00:00.000000000",
          "2025-05-13T00:00:00.000000000",
          "2025-05-12T00:00:00.000000000",
          "2025-05-09T00:00:00.000000000",
          "2025-05-08T00:00:00.000000000",
          "2025-05-07T00:00:00.000000000",
          "2025-05-06T00:00:00.000000000",
          "2025-05-05T00:00:00.000000000",
          "2025-05-02T00:00:00.000000000",
          "2025-04-30T00:00:00.000000000"
         ]
        }
       ],
       "layout": {
        "template": {
         "data": {
          "bar": [
           {
            "error_x": {
             "color": "#2a3f5f"
            },
            "error_y": {
             "color": "#2a3f5f"
            },
            "marker": {
             "line": {
              "color": "#E5ECF6",
              "width": 0.5
             },
             "pattern": {
              "fillmode": "overlay",
              "size": 10,
              "solidity": 0.2
             }
            },
            "type": "bar"
           }
          ],
          "barpolar": [
           {
            "marker": {
             "line": {
              "color": "#E5ECF6",
              "width": 0.5
             },
             "pattern": {
              "fillmode": "overlay",
              "size": 10,
              "solidity": 0.2
             }
            },
            "type": "barpolar"
           }
          ],
          "carpet": [
           {
            "aaxis": {
             "endlinecolor": "#2a3f5f",
             "gridcolor": "white",
             "linecolor": "white",
             "minorgridcolor": "white",
             "startlinecolor": "#2a3f5f"
            },
            "baxis": {
             "endlinecolor": "#2a3f5f",
             "gridcolor": "white",
             "linecolor": "white",
             "minorgridcolor": "white",
             "startlinecolor": "#2a3f5f"
            },
            "type": "carpet"
           }
          ],
          "choropleth": [
           {
            "colorbar": {
             "outlinewidth": 0,
             "ticks": ""
            },
            "type": "choropleth"
           }
          ],
          "contour": [
           {
            "colorbar": {
             "outlinewidth": 0,
             "ticks": ""
            },
            "colorscale": [
             [
              0,
              "#0d0887"
             ],
             [
              0.1111111111111111,
              "#46039f"
             ],
             [
              0.2222222222222222,
              "#7201a8"
             ],
             [
              0.3333333333333333,
              "#9c179e"
             ],
             [
              0.4444444444444444,
              "#bd3786"
             ],
             [
              0.5555555555555556,
              "#d8576b"
             ],
             [
              0.6666666666666666,
              "#ed7953"
             ],
             [
              0.7777777777777778,
              "#fb9f3a"
             ],
             [
              0.8888888888888888,
              "#fdca26"
             ],
             [
              1,
              "#f0f921"
             ]
            ],
            "type": "contour"
           }
          ],
          "contourcarpet": [
           {
            "colorbar": {
             "outlinewidth": 0,
             "ticks": ""
            },
            "type": "contourcarpet"
           }
          ],
          "heatmap": [
           {
            "colorbar": {
             "outlinewidth": 0,
             "ticks": ""
            },
            "colorscale": [
             [
              0,
              "#0d0887"
             ],
             [
              0.1111111111111111,
              "#46039f"
             ],
             [
              0.2222222222222222,
              "#7201a8"
             ],
             [
              0.3333333333333333,
              "#9c179e"
             ],
             [
              0.4444444444444444,
              "#bd3786"
             ],
             [
              0.5555555555555556,
              "#d8576b"
             ],
             [
              0.6666666666666666,
              "#ed7953"
             ],
             [
              0.7777777777777778,
              "#fb9f3a"
             ],
             [
              0.8888888888888888,
              "#fdca26"
             ],
             [
              1,
              "#f0f921"
             ]
            ],
            "type": "heatmap"
           }
          ],
          "histogram": [
           {
            "marker": {
             "pattern": {
              "fillmode": "overlay",
              "size": 10,
              "solidity": 0.2
             }
            },
            "type": "histogram"
           }
          ],
          "histogram2d": [
           {
            "colorbar": {
             "outlinewidth": 0,
             "ticks": ""
            },
            "colorscale": [
             [
              0,
              "#0d0887"
             ],
             [
              0.1111111111111111,
              "#46039f"
             ],
             [
              0.2222222222222222,
              "#7201a8"
             ],
             [
              0.3333333333333333,
              "#9c179e"
             ],
             [
              0.4444444444444444,
              "#bd3786"
             ],
             [
              0.5555555555555556,
              "#d8576b"
             ],
             [
              0.6666666666666666,
              "#ed7953"
             ],
             [
              0.7777777777777778,
              "#fb9f3a"
             ],
             [
              0.8888888888888888,
              "#fdca26"
             ],
             [
              1,
              "#f0f921"
             ]
            ],
            "type": "histogram2d"
           }
          ],
          "histogram2dcontour": [
           {
            "colorbar": {
             "outlinewidth": 0,
             "ticks": ""
            },
            "colorscale": [
             [
              0,
              "#0d0887"
             ],
             [
              0.1111111111111111,
              "#46039f"
             ],
             [
              0.2222222222222222,
              "#7201a8"
             ],
             [
              0.3333333333333333,
              "#9c179e"
             ],
             [
              0.4444444444444444,
              "#bd3786"
             ],
             [
              0.5555555555555556,
              "#d8576b"
             ],
             [
              0.6666666666666666,
              "#ed7953"
             ],
             [
              0.7777777777777778,
              "#fb9f3a"
             ],
             [
              0.8888888888888888,
              "#fdca26"
             ],
             [
              1,
              "#f0f921"
             ]
            ],
            "type": "histogram2dcontour"
           }
          ],
          "mesh3d": [
           {
            "colorbar": {
             "outlinewidth": 0,
             "ticks": ""
            },
            "type": "mesh3d"
           }
          ],
          "parcoords": [
           {
            "line": {
             "colorbar": {
              "outlinewidth": 0,
              "ticks": ""
             }
            },
            "type": "parcoords"
           }
          ],
          "pie": [
           {
            "automargin": true,
            "type": "pie"
           }
          ],
          "scatter": [
           {
            "fillpattern": {
             "fillmode": "overlay",
             "size": 10,
             "solidity": 0.2
            },
            "type": "scatter"
           }
          ],
          "scatter3d": [
           {
            "line": {
             "colorbar": {
              "outlinewidth": 0,
              "ticks": ""
             }
            },
            "marker": {
             "colorbar": {
              "outlinewidth": 0,
              "ticks": ""
             }
            },
            "type": "scatter3d"
           }
          ],
          "scattercarpet": [
           {
            "marker": {
             "colorbar": {
              "outlinewidth": 0,
              "ticks": ""
             }
            },
            "type": "scattercarpet"
           }
          ],
          "scattergeo": [
           {
            "marker": {
             "colorbar": {
              "outlinewidth": 0,
              "ticks": ""
             }
            },
            "type": "scattergeo"
           }
          ],
          "scattergl": [
           {
            "marker": {
             "colorbar": {
              "outlinewidth": 0,
              "ticks": ""
             }
            },
            "type": "scattergl"
           }
          ],
          "scattermap": [
           {
            "marker": {
             "colorbar": {
              "outlinewidth": 0,
              "ticks": ""
             }
            },
            "type": "scattermap"
           }
          ],
          "scattermapbox": [
           {
            "marker": {
             "colorbar": {
              "outlinewidth": 0,
              "ticks": ""
             }
            },
            "type": "scattermapbox"
           }
          ],
          "scatterpolar": [
           {
            "marker": {
             "colorbar": {
              "outlinewidth": 0,
              "ticks": ""
             }
            },
            "type": "scatterpolar"
           }
          ],
          "scatterpolargl": [
           {
            "marker": {
             "colorbar": {
              "outlinewidth": 0,
              "ticks": ""
             }
            },
            "type": "scatterpolargl"
           }
          ],
          "scatterternary": [
           {
            "marker": {
             "colorbar": {
              "outlinewidth": 0,
              "ticks": ""
             }
            },
            "type": "scatterternary"
           }
          ],
          "surface": [
           {
            "colorbar": {
             "outlinewidth": 0,
             "ticks": ""
            },
            "colorscale": [
             [
              0,
              "#0d0887"
             ],
             [
              0.1111111111111111,
              "#46039f"
             ],
             [
              0.2222222222222222,
              "#7201a8"
             ],
             [
              0.3333333333333333,
              "#9c179e"
             ],
             [
              0.4444444444444444,
              "#bd3786"
             ],
             [
              0.5555555555555556,
              "#d8576b"
             ],
             [
              0.6666666666666666,
              "#ed7953"
             ],
             [
              0.7777777777777778,
              "#fb9f3a"
             ],
             [
              0.8888888888888888,
              "#fdca26"
             ],
             [
              1,
              "#f0f921"
             ]
            ],
            "type": "surface"
           }
          ],
          "table": [
           {
            "cells": {
             "fill": {
              "color": "#EBF0F8"
             },
             "line": {
              "color": "white"
             }
            },
            "header": {
             "fill": {
              "color": "#C8D4E3"
             },
             "line": {
              "color": "white"
             }
            },
            "type": "table"
           }
          ]
         },
         "layout": {
          "annotationdefaults": {
           "arrowcolor": "#2a3f5f",
           "arrowhead": 0,
           "arrowwidth": 1
          },
          "autotypenumbers": "strict",
          "coloraxis": {
           "colorbar": {
            "outlinewidth": 0,
            "ticks": ""
           }
          },
          "colorscale": {
           "diverging": [
            [
             0,
             "#8e0152"
            ],
            [
             0.1,
             "#c51b7d"
            ],
            [
             0.2,
             "#de77ae"
            ],
            [
             0.3,
             "#f1b6da"
            ],
            [
             0.4,
             "#fde0ef"
            ],
            [
             0.5,
             "#f7f7f7"
            ],
            [
             0.6,
             "#e6f5d0"
            ],
            [
             0.7,
             "#b8e186"
            ],
            [
             0.8,
             "#7fbc41"
            ],
            [
             0.9,
             "#4d9221"
            ],
            [
             1,
             "#276419"
            ]
           ],
           "sequential": [
            [
             0,
             "#0d0887"
            ],
            [
             0.1111111111111111,
             "#46039f"
            ],
            [
             0.2222222222222222,
             "#7201a8"
            ],
            [
             0.3333333333333333,
             "#9c179e"
            ],
            [
             0.4444444444444444,
             "#bd3786"
            ],
            [
             0.5555555555555556,
             "#d8576b"
            ],
            [
             0.6666666666666666,
             "#ed7953"
            ],
            [
             0.7777777777777778,
             "#fb9f3a"
            ],
            [
             0.8888888888888888,
             "#fdca26"
            ],
            [
             1,
             "#f0f921"
            ]
           ],
           "sequentialminus": [
            [
             0,
             "#0d0887"
            ],
            [
             0.1111111111111111,
             "#46039f"
            ],
            [
             0.2222222222222222,
             "#7201a8"
            ],
            [
             0.3333333333333333,
             "#9c179e"
            ],
            [
             0.4444444444444444,
             "#bd3786"
            ],
            [
             0.5555555555555556,
             "#d8576b"
            ],
            [
             0.6666666666666666,
             "#ed7953"
            ],
            [
             0.7777777777777778,
             "#fb9f3a"
            ],
            [
             0.8888888888888888,
             "#fdca26"
            ],
            [
             1,
             "#f0f921"
            ]
           ]
          },
          "colorway": [
           "#636efa",
           "#EF553B",
           "#00cc96",
           "#ab63fa",
           "#FFA15A",
           "#19d3f3",
           "#FF6692",
           "#B6E880",
           "#FF97FF",
           "#FECB52"
          ],
          "font": {
           "color": "#2a3f5f"
          },
          "geo": {
           "bgcolor": "white",
           "lakecolor": "white",
           "landcolor": "#E5ECF6",
           "showlakes": true,
           "showland": true,
           "subunitcolor": "white"
          },
          "hoverlabel": {
           "align": "left"
          },
          "hovermode": "closest",
          "mapbox": {
           "style": "light"
          },
          "paper_bgcolor": "white",
          "plot_bgcolor": "#E5ECF6",
          "polar": {
           "angularaxis": {
            "gridcolor": "white",
            "linecolor": "white",
            "ticks": ""
           },
           "bgcolor": "#E5ECF6",
           "radialaxis": {
            "gridcolor": "white",
            "linecolor": "white",
            "ticks": ""
           }
          },
          "scene": {
           "xaxis": {
            "backgroundcolor": "#E5ECF6",
            "gridcolor": "white",
            "gridwidth": 2,
            "linecolor": "white",
            "showbackground": true,
            "ticks": "",
            "zerolinecolor": "white"
           },
           "yaxis": {
            "backgroundcolor": "#E5ECF6",
            "gridcolor": "white",
            "gridwidth": 2,
            "linecolor": "white",
            "showbackground": true,
            "ticks": "",
            "zerolinecolor": "white"
           },
           "zaxis": {
            "backgroundcolor": "#E5ECF6",
            "gridcolor": "white",
            "gridwidth": 2,
            "linecolor": "white",
            "showbackground": true,
            "ticks": "",
            "zerolinecolor": "white"
           }
          },
          "shapedefaults": {
           "line": {
            "color": "#2a3f5f"
           }
          },
          "ternary": {
           "aaxis": {
            "gridcolor": "white",
            "linecolor": "white",
            "ticks": ""
           },
           "baxis": {
            "gridcolor": "white",
            "linecolor": "white",
            "ticks": ""
           },
           "bgcolor": "#E5ECF6",
           "caxis": {
            "gridcolor": "white",
            "linecolor": "white",
            "ticks": ""
           }
          },
          "title": {
           "x": 0.05
          },
          "xaxis": {
           "automargin": true,
           "gridcolor": "white",
           "linecolor": "white",
           "ticks": "",
           "title": {
            "standoff": 15
           },
           "zerolinecolor": "white",
           "zerolinewidth": 2
          },
          "yaxis": {
           "automargin": true,
           "gridcolor": "white",
           "linecolor": "white",
           "ticks": "",
           "title": {
            "standoff": 15
           },
           "zerolinecolor": "white",
           "zerolinewidth": 2
          }
         }
        },
        "title": {
         "text": "candelstick Chart"
        },
        "xaxis": {
         "title": {
          "text": "date"
         }
        },
        "yaxis": {
         "title": {
          "text": "Price"
         }
        }
       }
      }
     },
     "metadata": {},
     "output_type": "display_data"
    }
   ],
   "source": [
    "fig = go.Figure(data=[go.Candlestick(x=df.index,\n",
    "                open=df['1. open'],\n",
    "                high=df['2. high'],\n",
    "                low=df['3. low'],\n",
    "                close=df['4. close'])])\n",
    "\n",
    "fig.update_layout(title ='candelstick Chart' , xaxis_title = 'date' ,\n",
    "yaxis_title = 'Price')\n"
   ]
  },
  {
   "cell_type": "code",
   "execution_count": null,
   "id": "29840e2c",
   "metadata": {},
   "outputs": [],
   "source": []
  }
 ],
 "metadata": {
  "kernelspec": {
   "display_name": "venv",
   "language": "python",
   "name": "python3"
  },
  "language_info": {
   "codemirror_mode": {
    "name": "ipython",
    "version": 3
   },
   "file_extension": ".py",
   "mimetype": "text/x-python",
   "name": "python",
   "nbconvert_exporter": "python",
   "pygments_lexer": "ipython3",
   "version": "3.13.7"
  }
 },
 "nbformat": 4,
 "nbformat_minor": 5
}
