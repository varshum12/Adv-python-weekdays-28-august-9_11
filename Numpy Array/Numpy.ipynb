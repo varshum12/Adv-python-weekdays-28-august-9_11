{
 "cells": [
  {
   "cell_type": "markdown",
   "id": "72e1d0ff",
   "metadata": {},
   "source": [
    "### Numpy array"
   ]
  },
  {
   "cell_type": "markdown",
   "id": "82aab341",
   "metadata": {},
   "source": [
    "# "
   ]
  },
  {
   "cell_type": "code",
   "execution_count": 1,
   "id": "5d8b5094",
   "metadata": {},
   "outputs": [],
   "source": [
    "import  numpy as  np"
   ]
  },
  {
   "cell_type": "code",
   "execution_count": 2,
   "metadata": {},
   "outputs": [],
   "source": [
    "l  =  [12 ,23 , 45,65]\n",
    "ar1  =  np.array(l)"
   ]
  },
  {
   "cell_type": "code",
   "execution_count": 3,
   "metadata": {},
   "outputs": [
    {
     "data": {
      "text/plain": [
       "array([12, 23, 45, 65])"
      ]
     },
     "execution_count": 3,
     "metadata": {},
     "output_type": "execute_result"
    }
   ],
   "source": [
    "ar1"
   ]
  },
  {
   "cell_type": "code",
   "execution_count": 4,
   "metadata": {},
   "outputs": [
    {
     "data": {
      "text/plain": [
       "numpy.ndarray"
      ]
     },
     "execution_count": 4,
     "metadata": {},
     "output_type": "execute_result"
    }
   ],
   "source": [
    "type(ar1)"
   ]
  },
  {
   "cell_type": "code",
   "execution_count": null,
   "id": "528bdecb",
   "metadata": {},
   "outputs": [],
   "source": [
    "# some  functions  on array\n",
    "- ndim\n",
    "- size\n",
    "-  shape\n",
    "-  type"
   ]
  },
  {
   "cell_type": "code",
   "execution_count": 5,
   "id": "5a8adcc5",
   "metadata": {},
   "outputs": [
    {
     "data": {
      "text/plain": [
       "(4,)"
      ]
     },
     "execution_count": 5,
     "metadata": {},
     "output_type": "execute_result"
    }
   ],
   "source": [
    "ar1.shape"
   ]
  },
  {
   "cell_type": "code",
   "execution_count": 6,
   "metadata": {},
   "outputs": [
    {
     "data": {
      "text/plain": [
       "4"
      ]
     },
     "execution_count": 6,
     "metadata": {},
     "output_type": "execute_result"
    }
   ],
   "source": [
    "ar1.size"
   ]
  },
  {
   "cell_type": "code",
   "execution_count": 7,
   "metadata": {},
   "outputs": [
    {
     "data": {
      "text/plain": [
       "1"
      ]
     },
     "execution_count": 7,
     "metadata": {},
     "output_type": "execute_result"
    }
   ],
   "source": [
    "ar1.ndim"
   ]
  },
  {
   "cell_type": "code",
   "execution_count": 9,
   "id": "e2bd5dd6",
   "metadata": {},
   "outputs": [
    {
     "data": {
      "text/plain": [
       "dtype('int64')"
      ]
     },
     "execution_count": 9,
     "metadata": {},
     "output_type": "execute_result"
    }
   ],
   "source": [
    "ar1.dtype"
   ]
  },
  {
   "cell_type": "code",
   "execution_count": 11,
   "id": "0ad1f709",
   "metadata": {},
   "outputs": [
    {
     "data": {
      "text/plain": [
       "array([12.  , 45.  , 56.34, 45.8 ])"
      ]
     },
     "execution_count": 11,
     "metadata": {},
     "output_type": "execute_result"
    }
   ],
   "source": [
    "ar2  =  np.array([12,45,56.34  ,45.8])\n",
    "ar2"
   ]
  },
  {
   "cell_type": "code",
   "execution_count": 12,
   "id": "e3ebbd87",
   "metadata": {},
   "outputs": [
    {
     "data": {
      "text/plain": [
       "array([12.  , 45.  , 56.34, 45.8 ])"
      ]
     },
     "execution_count": 12,
     "metadata": {},
     "output_type": "execute_result"
    }
   ],
   "source": [
    "ar2"
   ]
  },
  {
   "cell_type": "code",
   "execution_count": null,
   "id": "af151ad0",
   "metadata": {},
   "outputs": [
    {
     "name": "stdout",
     "output_type": "stream",
     "text": [
      "1\n",
      "4\n",
      "(4,)\n"
     ]
    },
    {
     "data": {
      "text/plain": [
       "dtype('float64')"
      ]
     },
     "execution_count": 14,
     "metadata": {},
     "output_type": "execute_result"
    }
   ],
   "source": [
    "print(ar2.ndim  )\n",
    "print(ar2.size)\n",
    "print(ar2.shape)\n",
    "ar2.dtype   # array contain  homogenous  data type"
   ]
  },
  {
   "cell_type": "code",
   "execution_count": 19,
   "id": "cd65a917",
   "metadata": {},
   "outputs": [],
   "source": [
    "## craete  2d array\n",
    "l1 =  [[10 ,20 ,30 ] ,  [40 , 50 , 60 ]]\n",
    "array2d =  np.array(l1)\n"
   ]
  },
  {
   "cell_type": "code",
   "execution_count": 20,
   "id": "1b283c8b",
   "metadata": {},
   "outputs": [
    {
     "data": {
      "text/plain": [
       "array([[10, 20, 30],\n",
       "       [40, 50, 60]])"
      ]
     },
     "execution_count": 20,
     "metadata": {},
     "output_type": "execute_result"
    }
   ],
   "source": [
    "array2d"
   ]
  },
  {
   "cell_type": "code",
   "execution_count": 21,
   "id": "1bbf8367",
   "metadata": {},
   "outputs": [
    {
     "data": {
      "text/plain": [
       "2"
      ]
     },
     "execution_count": 21,
     "metadata": {},
     "output_type": "execute_result"
    }
   ],
   "source": [
    "array2d.ndim"
   ]
  },
  {
   "cell_type": "code",
   "execution_count": 22,
   "id": "482d8f76",
   "metadata": {},
   "outputs": [
    {
     "data": {
      "text/plain": [
       "(2, 3)"
      ]
     },
     "execution_count": 22,
     "metadata": {},
     "output_type": "execute_result"
    }
   ],
   "source": [
    "array2d.shape"
   ]
  },
  {
   "cell_type": "code",
   "execution_count": 23,
   "id": "b0e92b3f",
   "metadata": {},
   "outputs": [],
   "source": [
    "l2  =  [[[10 ,20 , 30] ,  [40 , 50 , 60]] ,  [[70 , 80 , 90] ,  [100 , 110 , 120]]]"
   ]
  },
  {
   "cell_type": "code",
   "execution_count": 24,
   "id": "43890596",
   "metadata": {},
   "outputs": [],
   "source": [
    "array4  =  np.array(l2)"
   ]
  },
  {
   "cell_type": "code",
   "execution_count": 25,
   "id": "bfbcf75f",
   "metadata": {},
   "outputs": [
    {
     "data": {
      "text/plain": [
       "array([[[ 10,  20,  30],\n",
       "        [ 40,  50,  60]],\n",
       "\n",
       "       [[ 70,  80,  90],\n",
       "        [100, 110, 120]]])"
      ]
     },
     "execution_count": 25,
     "metadata": {},
     "output_type": "execute_result"
    }
   ],
   "source": [
    "array4"
   ]
  },
  {
   "cell_type": "code",
   "execution_count": 26,
   "id": "f69a27a8",
   "metadata": {},
   "outputs": [
    {
     "data": {
      "text/plain": [
       "(2, 2, 3)"
      ]
     },
     "execution_count": 26,
     "metadata": {},
     "output_type": "execute_result"
    }
   ],
   "source": [
    "array4.shape"
   ]
  },
  {
   "cell_type": "code",
   "execution_count": 56,
   "id": "369f664b",
   "metadata": {},
   "outputs": [],
   "source": [
    "l2  =  [[[10 ,20 ], [30 ,  40 ],[ 50 , 60]] ,  [[70 , 80] ,[ 90 ,  100] ,[ 110 , 120]]]"
   ]
  },
  {
   "cell_type": "code",
   "execution_count": 57,
   "id": "daaf3959",
   "metadata": {},
   "outputs": [],
   "source": [
    "array5 = np.array(l2)"
   ]
  },
  {
   "cell_type": "code",
   "execution_count": 59,
   "id": "a035a15c",
   "metadata": {},
   "outputs": [
    {
     "data": {
      "text/plain": [
       "array([[[ 10,  20],\n",
       "        [ 30,  40],\n",
       "        [ 50,  60]],\n",
       "\n",
       "       [[ 70,  80],\n",
       "        [ 90, 100],\n",
       "        [110, 120]]])"
      ]
     },
     "execution_count": 59,
     "metadata": {},
     "output_type": "execute_result"
    }
   ],
   "source": [
    "array5"
   ]
  },
  {
   "cell_type": "code",
   "execution_count": 60,
   "id": "61a4143f",
   "metadata": {},
   "outputs": [
    {
     "data": {
      "text/plain": [
       "(2, 3, 2)"
      ]
     },
     "execution_count": 60,
     "metadata": {},
     "output_type": "execute_result"
    }
   ],
   "source": [
    "array5.shape"
   ]
  },
  {
   "cell_type": "code",
   "execution_count": 72,
   "id": "67a58edf",
   "metadata": {},
   "outputs": [],
   "source": [
    "l2  =  [[[[10 ,20 ], [30 ,  40 ]] ,  [[70 , 80] ,[ 90 ,  100]]  ] ,  \n",
    "[[[10 ,20 ], [30 ,  40 ]] ,  [[70 , 80] ,[ 90 ,  100]]  ]]"
   ]
  },
  {
   "cell_type": "code",
   "execution_count": 73,
   "id": "43001c22",
   "metadata": {},
   "outputs": [],
   "source": [
    "array6 =  np.array(l2)"
   ]
  },
  {
   "cell_type": "code",
   "execution_count": 75,
   "id": "0f17941d",
   "metadata": {},
   "outputs": [
    {
     "data": {
      "text/plain": [
       "array([[[[ 10,  20],\n",
       "         [ 30,  40]],\n",
       "\n",
       "        [[ 70,  80],\n",
       "         [ 90, 100]]],\n",
       "\n",
       "\n",
       "       [[[ 10,  20],\n",
       "         [ 30,  40]],\n",
       "\n",
       "        [[ 70,  80],\n",
       "         [ 90, 100]]]])"
      ]
     },
     "execution_count": 75,
     "metadata": {},
     "output_type": "execute_result"
    }
   ],
   "source": [
    "array6"
   ]
  },
  {
   "cell_type": "code",
   "execution_count": 74,
   "id": "afbddf59",
   "metadata": {},
   "outputs": [
    {
     "data": {
      "text/plain": [
       "(2, 2, 2, 2)"
      ]
     },
     "execution_count": 74,
     "metadata": {},
     "output_type": "execute_result"
    }
   ],
   "source": [
    "array6.shape"
   ]
  },
  {
   "cell_type": "code",
   "execution_count": 52,
   "id": "b5fb4b61",
   "metadata": {},
   "outputs": [],
   "source": [
    "# create 4d array shape  2,2,2,2\n",
    "l3  =  [[[[10  , 20 ] ,  [30 , 40]]],[ [ [50 , 60] ,  [70 , 80]] ]]\n",
    "array6  =  np.array(l3)"
   ]
  },
  {
   "cell_type": "code",
   "execution_count": 53,
   "id": "5adabe20",
   "metadata": {},
   "outputs": [
    {
     "data": {
      "text/plain": [
       "array([[[[10, 20],\n",
       "         [30, 40]]],\n",
       "\n",
       "\n",
       "       [[[50, 60],\n",
       "         [70, 80]]]])"
      ]
     },
     "execution_count": 53,
     "metadata": {},
     "output_type": "execute_result"
    }
   ],
   "source": [
    "array6"
   ]
  },
  {
   "cell_type": "code",
   "execution_count": 54,
   "id": "c49d4170",
   "metadata": {},
   "outputs": [
    {
     "data": {
      "text/plain": [
       "(2, 1, 2, 2)"
      ]
     },
     "execution_count": 54,
     "metadata": {},
     "output_type": "execute_result"
    }
   ],
   "source": [
    "array6.shape"
   ]
  },
  {
   "cell_type": "code",
   "execution_count": 55,
   "id": "7b8b299f",
   "metadata": {},
   "outputs": [
    {
     "data": {
      "text/plain": [
       "array([[[10, 20],\n",
       "        [30, 40]]])"
      ]
     },
     "execution_count": 55,
     "metadata": {},
     "output_type": "execute_result"
    }
   ],
   "source": [
    "array6[0]\n"
   ]
  },
  {
   "cell_type": "code",
   "execution_count": null,
   "id": "af4fb0c4",
   "metadata": {},
   "outputs": [],
   "source": [
    "l2  =  [[[10 ,20 ], [30 ,  40 ],[ 50 , 60]] ,  [[70 , 80] ,[ 90 ,  100] ,[ 110 , 120]], [[130  , 140] ,  [] ]]"
   ]
  },
  {
   "cell_type": "code",
   "execution_count": 71,
   "id": "25ae35d5",
   "metadata": {},
   "outputs": [
    {
     "ename": "ValueError",
     "evalue": "setting an array element with a sequence. The requested array has an inhomogeneous shape after 1 dimensions. The detected shape was (3,) + inhomogeneous part.",
     "output_type": "error",
     "traceback": [
      "\u001b[31m---------------------------------------------------------------------------\u001b[39m",
      "\u001b[31mValueError\u001b[39m                                Traceback (most recent call last)",
      "\u001b[36mCell\u001b[39m\u001b[36m \u001b[39m\u001b[32mIn[71]\u001b[39m\u001b[32m, line 1\u001b[39m\n\u001b[32m----> \u001b[39m\u001b[32m1\u001b[39m array7 = \u001b[43mnp\u001b[49m\u001b[43m.\u001b[49m\u001b[43marray\u001b[49m\u001b[43m(\u001b[49m\u001b[43ml2\u001b[49m\u001b[43m)\u001b[49m\n",
      "\u001b[31mValueError\u001b[39m: setting an array element with a sequence. The requested array has an inhomogeneous shape after 1 dimensions. The detected shape was (3,) + inhomogeneous part."
     ]
    }
   ],
   "source": [
    "array7 = np.array(l2)"
   ]
  },
  {
   "cell_type": "code",
   "execution_count": 76,
   "id": "00a99cf6",
   "metadata": {},
   "outputs": [],
   "source": [
    "# indexing  "
   ]
  },
  {
   "cell_type": "code",
   "execution_count": 77,
   "id": "b632f9c2",
   "metadata": {},
   "outputs": [
    {
     "data": {
      "text/plain": [
       "array([12, 23, 45, 65])"
      ]
     },
     "execution_count": 77,
     "metadata": {},
     "output_type": "execute_result"
    }
   ],
   "source": [
    "ar1"
   ]
  },
  {
   "cell_type": "code",
   "execution_count": 78,
   "id": "c11902ff",
   "metadata": {},
   "outputs": [
    {
     "data": {
      "text/plain": [
       "np.int64(12)"
      ]
     },
     "execution_count": 78,
     "metadata": {},
     "output_type": "execute_result"
    }
   ],
   "source": [
    "ar1[0]"
   ]
  },
  {
   "cell_type": "code",
   "execution_count": 79,
   "id": "e78c0772",
   "metadata": {},
   "outputs": [
    {
     "data": {
      "text/plain": [
       "np.int64(23)"
      ]
     },
     "execution_count": 79,
     "metadata": {},
     "output_type": "execute_result"
    }
   ],
   "source": [
    "ar1[1]"
   ]
  },
  {
   "cell_type": "code",
   "execution_count": 80,
   "id": "2d9f893a",
   "metadata": {},
   "outputs": [
    {
     "data": {
      "text/plain": [
       "np.int64(65)"
      ]
     },
     "execution_count": 80,
     "metadata": {},
     "output_type": "execute_result"
    }
   ],
   "source": [
    "ar1[-1]"
   ]
  },
  {
   "cell_type": "code",
   "execution_count": 81,
   "id": "1d045d0b",
   "metadata": {},
   "outputs": [
    {
     "data": {
      "text/plain": [
       "np.int64(65)"
      ]
     },
     "execution_count": 81,
     "metadata": {},
     "output_type": "execute_result"
    }
   ],
   "source": [
    "ar1[3]"
   ]
  },
  {
   "cell_type": "code",
   "execution_count": 82,
   "id": "6a65281c",
   "metadata": {},
   "outputs": [
    {
     "data": {
      "text/plain": [
       "array([[10, 20, 30],\n",
       "       [40, 50, 60]])"
      ]
     },
     "execution_count": 82,
     "metadata": {},
     "output_type": "execute_result"
    }
   ],
   "source": [
    "array2d"
   ]
  },
  {
   "cell_type": "code",
   "execution_count": 86,
   "id": "84d3ab0a",
   "metadata": {},
   "outputs": [
    {
     "data": {
      "text/plain": [
       "(2, 3)"
      ]
     },
     "execution_count": 86,
     "metadata": {},
     "output_type": "execute_result"
    }
   ],
   "source": [
    "array2d.shape"
   ]
  },
  {
   "cell_type": "code",
   "execution_count": 89,
   "id": "2aa23dad",
   "metadata": {},
   "outputs": [
    {
     "name": "stdout",
     "output_type": "stream",
     "text": [
      "[10 20 30]\n",
      "[40 50 60]\n",
      "[30 60]\n"
     ]
    }
   ],
   "source": [
    "print(array2d[0])\n",
    "print(array2d[1])\n",
    "print(array2d[: ,  2])\n"
   ]
  },
  {
   "cell_type": "code",
   "execution_count": 90,
   "id": "3e099a9a",
   "metadata": {},
   "outputs": [
    {
     "data": {
      "text/plain": [
       "array([[10, 20, 30],\n",
       "       [40, 50, 60]])"
      ]
     },
     "execution_count": 90,
     "metadata": {},
     "output_type": "execute_result"
    }
   ],
   "source": [
    "array2d"
   ]
  },
  {
   "cell_type": "code",
   "execution_count": 91,
   "id": "432df59d",
   "metadata": {},
   "outputs": [
    {
     "data": {
      "text/plain": [
       "np.int64(60)"
      ]
     },
     "execution_count": 91,
     "metadata": {},
     "output_type": "execute_result"
    }
   ],
   "source": [
    "array2d[1 ,  2]"
   ]
  },
  {
   "cell_type": "code",
   "execution_count": 92,
   "id": "f179ca6e",
   "metadata": {},
   "outputs": [
    {
     "data": {
      "text/plain": [
       "array([40, 50, 60])"
      ]
     },
     "execution_count": 92,
     "metadata": {},
     "output_type": "execute_result"
    }
   ],
   "source": [
    "array2d[1 , :]"
   ]
  },
  {
   "cell_type": "code",
   "execution_count": 94,
   "id": "5f915b61",
   "metadata": {},
   "outputs": [
    {
     "data": {
      "text/plain": [
       "array([[10, 20],\n",
       "       [40, 50]])"
      ]
     },
     "execution_count": 94,
     "metadata": {},
     "output_type": "execute_result"
    }
   ],
   "source": [
    "array2d[0:2 ,  0:2]"
   ]
  },
  {
   "cell_type": "code",
   "execution_count": 95,
   "id": "c82159b9",
   "metadata": {},
   "outputs": [
    {
     "data": {
      "text/plain": [
       "array([[10],\n",
       "       [40]])"
      ]
     },
     "execution_count": 95,
     "metadata": {},
     "output_type": "execute_result"
    }
   ],
   "source": [
    "array2d[0:2 , 0:1]"
   ]
  },
  {
   "cell_type": "code",
   "execution_count": 105,
   "id": "2d7f0eba",
   "metadata": {},
   "outputs": [],
   "source": [
    "ar6 =  np.array([12,13,14,15,16])\n",
    "ar7  =  np.array((17 , 18 , 19 , 20 , 21))\n",
    "x  =  [12,13,14,15,16]\n",
    "y =  [17 , 18 , 19 , 20 , 21]"
   ]
  },
  {
   "cell_type": "code",
   "execution_count": 97,
   "id": "4f3727bf",
   "metadata": {},
   "outputs": [
    {
     "ename": "TypeError",
     "evalue": "can only concatenate list (not \"int\") to list",
     "output_type": "error",
     "traceback": [
      "\u001b[31m---------------------------------------------------------------------------\u001b[39m",
      "\u001b[31mTypeError\u001b[39m                                 Traceback (most recent call last)",
      "\u001b[36mCell\u001b[39m\u001b[36m \u001b[39m\u001b[32mIn[97]\u001b[39m\u001b[32m, line 1\u001b[39m\n\u001b[32m----> \u001b[39m\u001b[32m1\u001b[39m \u001b[43ml\u001b[49m\u001b[43m+\u001b[49m\u001b[43m \u001b[49m\u001b[32;43m10\u001b[39;49m\n",
      "\u001b[31mTypeError\u001b[39m: can only concatenate list (not \"int\") to list"
     ]
    }
   ],
   "source": [
    "l+ 10"
   ]
  },
  {
   "cell_type": "code",
   "execution_count": 98,
   "id": "15db14fc",
   "metadata": {},
   "outputs": [
    {
     "data": {
      "text/plain": [
       "array([22, 23, 24, 25, 26])"
      ]
     },
     "execution_count": 98,
     "metadata": {},
     "output_type": "execute_result"
    }
   ],
   "source": [
    "ar6+10"
   ]
  },
  {
   "cell_type": "code",
   "execution_count": 99,
   "id": "1f9b77da",
   "metadata": {},
   "outputs": [
    {
     "data": {
      "text/plain": [
       "array([24, 26, 28, 30, 32])"
      ]
     },
     "execution_count": 99,
     "metadata": {},
     "output_type": "execute_result"
    }
   ],
   "source": [
    "ar6*2"
   ]
  },
  {
   "cell_type": "code",
   "execution_count": 100,
   "id": "a26fa7d1",
   "metadata": {},
   "outputs": [
    {
     "data": {
      "text/plain": [
       "array([6. , 6.5, 7. , 7.5, 8. ])"
      ]
     },
     "execution_count": 100,
     "metadata": {},
     "output_type": "execute_result"
    }
   ],
   "source": [
    "ar6/2"
   ]
  },
  {
   "cell_type": "code",
   "execution_count": 101,
   "id": "17e8787d",
   "metadata": {},
   "outputs": [
    {
     "data": {
      "text/plain": [
       "array([144, 169, 196, 225, 256])"
      ]
     },
     "execution_count": 101,
     "metadata": {},
     "output_type": "execute_result"
    }
   ],
   "source": [
    "ar6**2"
   ]
  },
  {
   "cell_type": "code",
   "execution_count": 102,
   "id": "12ea5f9f",
   "metadata": {},
   "outputs": [
    {
     "data": {
      "text/plain": [
       "array([6, 6, 7, 7, 8])"
      ]
     },
     "execution_count": 102,
     "metadata": {},
     "output_type": "execute_result"
    }
   ],
   "source": [
    "ar6//2"
   ]
  },
  {
   "cell_type": "code",
   "execution_count": 103,
   "id": "c8ed9742",
   "metadata": {},
   "outputs": [
    {
     "data": {
      "text/plain": [
       "array([0, 1, 0, 1, 0])"
      ]
     },
     "execution_count": 103,
     "metadata": {},
     "output_type": "execute_result"
    }
   ],
   "source": [
    "ar6%2"
   ]
  },
  {
   "cell_type": "code",
   "execution_count": 106,
   "id": "b56d1d82",
   "metadata": {},
   "outputs": [
    {
     "data": {
      "text/plain": [
       "[12, 13, 14, 15, 16, 17, 18, 19, 20, 21]"
      ]
     },
     "execution_count": 106,
     "metadata": {},
     "output_type": "execute_result"
    }
   ],
   "source": [
    "x+ y"
   ]
  },
  {
   "cell_type": "code",
   "execution_count": 107,
   "id": "964227a5",
   "metadata": {},
   "outputs": [
    {
     "data": {
      "text/plain": [
       "array([29, 31, 33, 35, 37])"
      ]
     },
     "execution_count": 107,
     "metadata": {},
     "output_type": "execute_result"
    }
   ],
   "source": [
    "ar6+ar7"
   ]
  },
  {
   "cell_type": "code",
   "execution_count": 108,
   "id": "c2b7dab2",
   "metadata": {},
   "outputs": [
    {
     "ename": "TypeError",
     "evalue": "unsupported operand type(s) for /: 'list' and 'list'",
     "output_type": "error",
     "traceback": [
      "\u001b[31m---------------------------------------------------------------------------\u001b[39m",
      "\u001b[31mTypeError\u001b[39m                                 Traceback (most recent call last)",
      "\u001b[36mCell\u001b[39m\u001b[36m \u001b[39m\u001b[32mIn[108]\u001b[39m\u001b[32m, line 1\u001b[39m\n\u001b[32m----> \u001b[39m\u001b[32m1\u001b[39m \u001b[43mx\u001b[49m\u001b[43m/\u001b[49m\u001b[43my\u001b[49m\n",
      "\u001b[31mTypeError\u001b[39m: unsupported operand type(s) for /: 'list' and 'list'"
     ]
    }
   ],
   "source": [
    "x/y"
   ]
  },
  {
   "cell_type": "code",
   "execution_count": 109,
   "id": "255316eb",
   "metadata": {},
   "outputs": [
    {
     "data": {
      "text/plain": [
       "array([0.70588235, 0.72222222, 0.73684211, 0.75      , 0.76190476])"
      ]
     },
     "execution_count": 109,
     "metadata": {},
     "output_type": "execute_result"
    }
   ],
   "source": [
    "ar6/ar7"
   ]
  },
  {
   "cell_type": "code",
   "execution_count": 110,
   "id": "a3a91f60",
   "metadata": {},
   "outputs": [
    {
     "data": {
      "text/plain": [
       "array([204, 234, 266, 300, 336])"
      ]
     },
     "execution_count": 110,
     "metadata": {},
     "output_type": "execute_result"
    }
   ],
   "source": [
    "ar6*ar7"
   ]
  },
  {
   "cell_type": "code",
   "execution_count": 111,
   "id": "68f41ac9",
   "metadata": {},
   "outputs": [
    {
     "data": {
      "text/plain": [
       "array([0, 0, 0, 0, 0])"
      ]
     },
     "execution_count": 111,
     "metadata": {},
     "output_type": "execute_result"
    }
   ],
   "source": [
    "ar6//ar7"
   ]
  },
  {
   "cell_type": "code",
   "execution_count": 112,
   "id": "6424720f",
   "metadata": {},
   "outputs": [
    {
     "data": {
      "text/plain": [
       "array([2218611106740436992, 1774942509700083433, -441120932980326400,\n",
       "       4664335276710460609,                   0])"
      ]
     },
     "execution_count": 112,
     "metadata": {},
     "output_type": "execute_result"
    }
   ],
   "source": [
    "ar6**ar7"
   ]
  },
  {
   "cell_type": "code",
   "execution_count": 113,
   "id": "2f1a19f9",
   "metadata": {},
   "outputs": [
    {
     "data": {
      "text/plain": [
       "array([12, 13, 14, 15, 16])"
      ]
     },
     "execution_count": 113,
     "metadata": {},
     "output_type": "execute_result"
    }
   ],
   "source": [
    "ar6%ar7"
   ]
  },
  {
   "cell_type": "markdown",
   "id": "e098c28c",
   "metadata": {},
   "source": [
    "### functions  on unsing  numpy library\n",
    "mean\n",
    "max\n",
    "min\n",
    "square\n",
    "sqrt\n",
    "cbrt\n",
    "round\n",
    "sum  \n",
    "abs\n",
    "log\n",
    "exp\n"
   ]
  },
  {
   "cell_type": "code",
   "execution_count": 114,
   "id": "5ac84404",
   "metadata": {},
   "outputs": [
    {
     "data": {
      "text/plain": [
       "[12, 13, 14, 15, 16]"
      ]
     },
     "execution_count": 114,
     "metadata": {},
     "output_type": "execute_result"
    }
   ],
   "source": [
    "l"
   ]
  },
  {
   "cell_type": "code",
   "execution_count": 115,
   "id": "007bb52d",
   "metadata": {},
   "outputs": [
    {
     "data": {
      "text/plain": [
       "np.int64(70)"
      ]
     },
     "execution_count": 115,
     "metadata": {},
     "output_type": "execute_result"
    }
   ],
   "source": [
    "np.sum(l)"
   ]
  },
  {
   "cell_type": "code",
   "execution_count": 116,
   "id": "7d068df0",
   "metadata": {},
   "outputs": [
    {
     "data": {
      "text/plain": [
       "np.int64(145)"
      ]
     },
     "execution_count": 116,
     "metadata": {},
     "output_type": "execute_result"
    }
   ],
   "source": [
    "np.sum(ar1)"
   ]
  },
  {
   "cell_type": "code",
   "execution_count": 117,
   "id": "d93d363f",
   "metadata": {},
   "outputs": [
    {
     "name": "stdout",
     "output_type": "stream",
     "text": [
      "[12, 13, 14, 15, 16] [12 23 45 65]\n"
     ]
    }
   ],
   "source": [
    "print(l  , ar1)"
   ]
  },
  {
   "cell_type": "code",
   "execution_count": 118,
   "id": "c360f548",
   "metadata": {},
   "outputs": [
    {
     "name": "stdout",
     "output_type": "stream",
     "text": [
      "16 65\n",
      "12 12\n",
      "14.0 36.25\n"
     ]
    }
   ],
   "source": [
    "print(np.max(l) ,  np.max(ar1))\n",
    "print(np.min(l) ,  np.min(ar1))\n",
    "print(np.mean(l) ,  np.mean(ar1))\n"
   ]
  },
  {
   "cell_type": "code",
   "execution_count": 122,
   "id": "4aad1ccf",
   "metadata": {},
   "outputs": [
    {
     "data": {
      "text/plain": [
       "array([ 1.27, 13.43,  1.43, 15.89, 16.  ])"
      ]
     },
     "execution_count": 122,
     "metadata": {},
     "output_type": "execute_result"
    }
   ],
   "source": [
    "l  =  [1.26646, 13.433443, 1.4343, 15.88998, 16]\n",
    "np.round(l)\n",
    "np.round(l ,  2)"
   ]
  },
  {
   "cell_type": "code",
   "execution_count": 123,
   "id": "cc9f8c04",
   "metadata": {},
   "outputs": [
    {
     "data": {
      "text/plain": [
       "np.int64(529)"
      ]
     },
     "execution_count": 123,
     "metadata": {},
     "output_type": "execute_result"
    }
   ],
   "source": [
    "np.square(23)"
   ]
  },
  {
   "cell_type": "code",
   "execution_count": 124,
   "id": "7540dd36",
   "metadata": {},
   "outputs": [
    {
     "data": {
      "text/plain": [
       "array([  1.60392093, 180.45739083,   2.05721649, 252.4914644 ,\n",
       "       256.        ])"
      ]
     },
     "execution_count": 124,
     "metadata": {},
     "output_type": "execute_result"
    }
   ],
   "source": [
    "np.square(l)"
   ]
  },
  {
   "cell_type": "code",
   "execution_count": 125,
   "id": "7b3edc2e",
   "metadata": {},
   "outputs": [
    {
     "data": {
      "text/plain": [
       "array([1.12537105, 3.66516616, 1.19762265, 3.98622378, 4.        ])"
      ]
     },
     "execution_count": 125,
     "metadata": {},
     "output_type": "execute_result"
    }
   ],
   "source": [
    "np.sqrt(l)"
   ]
  },
  {
   "cell_type": "code",
   "execution_count": 126,
   "id": "80a133b8",
   "metadata": {},
   "outputs": [
    {
     "data": {
      "text/plain": [
       "array([1.08192501, 2.37718207, 1.12775129, 2.51405312, 2.5198421 ])"
      ]
     },
     "execution_count": 126,
     "metadata": {},
     "output_type": "execute_result"
    }
   ],
   "source": [
    "np.cbrt(l)"
   ]
  },
  {
   "cell_type": "code",
   "execution_count": 129,
   "id": "88fee5ac",
   "metadata": {},
   "outputs": [
    {
     "data": {
      "text/plain": [
       "np.float64(78962960182680.69)"
      ]
     },
     "execution_count": 129,
     "metadata": {},
     "output_type": "execute_result"
    }
   ],
   "source": [
    "np.exp(32)\n"
   ]
  },
  {
   "cell_type": "code",
   "execution_count": 130,
   "id": "c9b794a6",
   "metadata": {},
   "outputs": [
    {
     "data": {
      "text/plain": [
       "[1.26646, 13.433443, 1.4343, 15.88998, 16]"
      ]
     },
     "execution_count": 130,
     "metadata": {},
     "output_type": "execute_result"
    }
   ],
   "source": [
    "l"
   ]
  },
  {
   "cell_type": "code",
   "execution_count": 128,
   "id": "63ec6980",
   "metadata": {},
   "outputs": [
    {
     "data": {
      "text/plain": [
       "array([3.54826943e+00, 6.82448947e+05, 4.19670629e+00, 7.96032193e+06,\n",
       "       8.88611052e+06])"
      ]
     },
     "execution_count": 128,
     "metadata": {},
     "output_type": "execute_result"
    }
   ],
   "source": [
    "np.exp(l)"
   ]
  },
  {
   "cell_type": "code",
   "execution_count": 131,
   "id": "c1f1ff38",
   "metadata": {},
   "outputs": [
    {
     "data": {
      "text/plain": [
       "array([0.23622561, 2.59774734, 0.36067693, 2.76568872, 2.77258872])"
      ]
     },
     "execution_count": 131,
     "metadata": {},
     "output_type": "execute_result"
    }
   ],
   "source": [
    "np.log(l)"
   ]
  },
  {
   "cell_type": "code",
   "execution_count": 132,
   "id": "b92bea9d",
   "metadata": {},
   "outputs": [
    {
     "data": {
      "text/plain": [
       "np.float64(0.9969486348916096)"
      ]
     },
     "execution_count": 132,
     "metadata": {},
     "output_type": "execute_result"
    }
   ],
   "source": [
    "np.log(2.71)"
   ]
  },
  {
   "cell_type": "code",
   "execution_count": 133,
   "id": "fda15b28",
   "metadata": {},
   "outputs": [
    {
     "name": "stderr",
     "output_type": "stream",
     "text": [
      "C:\\Users\\admin\\AppData\\Local\\Temp\\ipykernel_13552\\2933082444.py:1: RuntimeWarning: divide by zero encountered in log\n",
      "  np.log(0)\n"
     ]
    },
    {
     "data": {
      "text/plain": [
       "np.float64(-inf)"
      ]
     },
     "execution_count": 133,
     "metadata": {},
     "output_type": "execute_result"
    }
   ],
   "source": [
    "np.log(0)"
   ]
  },
  {
   "cell_type": "code",
   "execution_count": 134,
   "id": "cc3b2a0f",
   "metadata": {},
   "outputs": [
    {
     "data": {
      "text/plain": [
       "np.float64(0.0)"
      ]
     },
     "execution_count": 134,
     "metadata": {},
     "output_type": "execute_result"
    }
   ],
   "source": [
    "np.log(1)"
   ]
  },
  {
   "cell_type": "code",
   "execution_count": 136,
   "id": "47c45b28",
   "metadata": {},
   "outputs": [],
   "source": [
    "l  = [-1.26646, -13.433443, -1.4343, 15.88998, 16]"
   ]
  },
  {
   "cell_type": "code",
   "execution_count": 137,
   "id": "4fb33809",
   "metadata": {},
   "outputs": [
    {
     "data": {
      "text/plain": [
       "array([ 1.26646 , 13.433443,  1.4343  , 15.88998 , 16.      ])"
      ]
     },
     "execution_count": 137,
     "metadata": {},
     "output_type": "execute_result"
    }
   ],
   "source": [
    "np.abs(l)"
   ]
  },
  {
   "cell_type": "markdown",
   "id": "6257c496",
   "metadata": {},
   "source": [
    "## trignometric operations \n",
    "- sin\n",
    "- cos\n",
    "- tan \n",
    "- radiance"
   ]
  },
  {
   "cell_type": "code",
   "execution_count": 138,
   "id": "5a5dcfa8",
   "metadata": {},
   "outputs": [
    {
     "data": {
      "text/plain": [
       "array([ 0.        , -0.98803162,  0.85090352, -0.30481062,  0.89399666])"
      ]
     },
     "execution_count": 138,
     "metadata": {},
     "output_type": "execute_result"
    }
   ],
   "source": [
    "angle  =  [0 , 30 , 45, 60 , 90]\n",
    "np.sin(angle)"
   ]
  },
  {
   "cell_type": "code",
   "execution_count": 139,
   "id": "36e03129",
   "metadata": {},
   "outputs": [
    {
     "data": {
      "text/plain": [
       "array([ 1.        ,  0.15425145,  0.52532199, -0.95241298, -0.44807362])"
      ]
     },
     "execution_count": 139,
     "metadata": {},
     "output_type": "execute_result"
    }
   ],
   "source": [
    "np.cos(angle)"
   ]
  },
  {
   "cell_type": "code",
   "execution_count": 140,
   "id": "299d2c5e",
   "metadata": {},
   "outputs": [
    {
     "data": {
      "text/plain": [
       "array([ 0.        , -6.4053312 ,  1.61977519,  0.32004039, -1.99520041])"
      ]
     },
     "execution_count": 140,
     "metadata": {},
     "output_type": "execute_result"
    }
   ],
   "source": [
    "np.tan(angle)"
   ]
  },
  {
   "cell_type": "code",
   "execution_count": null,
   "id": "0d979630",
   "metadata": {},
   "outputs": [
    {
     "ename": "AttributeError",
     "evalue": "module 'numpy' has no attribute 'cot'",
     "output_type": "error",
     "traceback": [
      "\u001b[31m---------------------------------------------------------------------------\u001b[39m",
      "\u001b[31mAttributeError\u001b[39m                            Traceback (most recent call last)",
      "\u001b[36mCell\u001b[39m\u001b[36m \u001b[39m\u001b[32mIn[141]\u001b[39m\u001b[32m, line 1\u001b[39m\n\u001b[32m----> \u001b[39m\u001b[32m1\u001b[39m \u001b[43mnp\u001b[49m\u001b[43m.\u001b[49m\u001b[43mcot\u001b[49m(angle)\n",
      "\u001b[36mFile \u001b[39m\u001b[32md:\\28 August Adv  python  9_11\\repository\\venv\\Lib\\site-packages\\numpy\\__init__.py:808\u001b[39m, in \u001b[36m__getattr__\u001b[39m\u001b[34m(attr)\u001b[39m\n\u001b[32m    805\u001b[39m     \u001b[38;5;28;01mimport\u001b[39;00m\u001b[38;5;250m \u001b[39m\u001b[34;01mnumpy\u001b[39;00m\u001b[34;01m.\u001b[39;00m\u001b[34;01mchar\u001b[39;00m\u001b[38;5;250m \u001b[39m\u001b[38;5;28;01mas\u001b[39;00m\u001b[38;5;250m \u001b[39m\u001b[34;01mchar\u001b[39;00m\n\u001b[32m    806\u001b[39m     \u001b[38;5;28;01mreturn\u001b[39;00m char.chararray\n\u001b[32m--> \u001b[39m\u001b[32m808\u001b[39m \u001b[38;5;28;01mraise\u001b[39;00m \u001b[38;5;167;01mAttributeError\u001b[39;00m(\u001b[33mf\u001b[39m\u001b[33m\"\u001b[39m\u001b[33mmodule \u001b[39m\u001b[38;5;132;01m{\u001b[39;00m\u001b[34m__name__\u001b[39m\u001b[38;5;132;01m!r}\u001b[39;00m\u001b[33m has no attribute \u001b[39m\u001b[38;5;132;01m{\u001b[39;00mattr\u001b[38;5;132;01m!r}\u001b[39;00m\u001b[33m\"\u001b[39m)\n",
      "\u001b[31mAttributeError\u001b[39m: module 'numpy' has no attribute 'cot'"
     ]
    }
   ],
   "source": [
    "np.cot(angle)"
   ]
  },
  {
   "cell_type": "code",
   "execution_count": 142,
   "id": "71bab78e",
   "metadata": {},
   "outputs": [
    {
     "data": {
      "text/plain": [
       "array([ 1.        ,  6.48292123,  1.90359441, -1.04996469, -2.23177613])"
      ]
     },
     "execution_count": 142,
     "metadata": {},
     "output_type": "execute_result"
    }
   ],
   "source": [
    "1/np.cos(angle)"
   ]
  },
  {
   "cell_type": "code",
   "execution_count": 147,
   "id": "1d38ed31",
   "metadata": {},
   "outputs": [
    {
     "data": {
      "text/plain": [
       "array([0.        , 0.52359878, 0.78539816, 1.04719755, 1.57079633])"
      ]
     },
     "execution_count": 147,
     "metadata": {},
     "output_type": "execute_result"
    }
   ],
   "source": [
    "np.radians(angle)"
   ]
  },
  {
   "cell_type": "code",
   "execution_count": 148,
   "id": "580bad74",
   "metadata": {},
   "outputs": [
    {
     "data": {
      "text/plain": [
       "[-1.26646, -13.433443, -1.4343, 15.88998, 16]"
      ]
     },
     "execution_count": 148,
     "metadata": {},
     "output_type": "execute_result"
    }
   ],
   "source": [
    "l"
   ]
  },
  {
   "cell_type": "code",
   "execution_count": 149,
   "id": "3150ec13",
   "metadata": {},
   "outputs": [
    {
     "data": {
      "text/plain": [
       "np.float64(-6203.862248140924)"
      ]
     },
     "execution_count": 149,
     "metadata": {},
     "output_type": "execute_result"
    }
   ],
   "source": [
    "np.prod(l)"
   ]
  },
  {
   "cell_type": "code",
   "execution_count": 150,
   "id": "6ca96417",
   "metadata": {},
   "outputs": [
    {
     "data": {
      "text/plain": [
       "np.float64(11.339850888627268)"
      ]
     },
     "execution_count": 150,
     "metadata": {},
     "output_type": "execute_result"
    }
   ],
   "source": [
    "np.std(l)"
   ]
  },
  {
   "cell_type": "code",
   "execution_count": 151,
   "id": "6849e6b1",
   "metadata": {},
   "outputs": [
    {
     "data": {
      "text/plain": [
       "np.float64(128.59221817630063)"
      ]
     },
     "execution_count": 151,
     "metadata": {},
     "output_type": "execute_result"
    }
   ],
   "source": [
    "np.var(l)"
   ]
  },
  {
   "cell_type": "markdown",
   "id": "8ab2bca3",
   "metadata": {},
   "source": [
    "### Generate data using numpy"
   ]
  },
  {
   "cell_type": "code",
   "execution_count": 152,
   "id": "74be8bb9",
   "metadata": {},
   "outputs": [
    {
     "data": {
      "text/plain": [
       "range(1, 11)"
      ]
     },
     "execution_count": 152,
     "metadata": {},
     "output_type": "execute_result"
    }
   ],
   "source": [
    "range(1 , 11)  # it  is used to generate integers  only"
   ]
  },
  {
   "cell_type": "code",
   "execution_count": 153,
   "id": "5438e26f",
   "metadata": {},
   "outputs": [
    {
     "ename": "TypeError",
     "evalue": "'float' object cannot be interpreted as an integer",
     "output_type": "error",
     "traceback": [
      "\u001b[31m---------------------------------------------------------------------------\u001b[39m",
      "\u001b[31mTypeError\u001b[39m                                 Traceback (most recent call last)",
      "\u001b[36mCell\u001b[39m\u001b[36m \u001b[39m\u001b[32mIn[153]\u001b[39m\u001b[32m, line 1\u001b[39m\n\u001b[32m----> \u001b[39m\u001b[32m1\u001b[39m \u001b[38;5;28;43mrange\u001b[39;49m\u001b[43m(\u001b[49m\u001b[43m \u001b[49m\u001b[32;43m1\u001b[39;49m\u001b[43m,\u001b[49m\u001b[43m \u001b[49m\u001b[32;43m22.3\u001b[39;49m\u001b[43m)\u001b[49m\n",
      "\u001b[31mTypeError\u001b[39m: 'float' object cannot be interpreted as an integer"
     ]
    }
   ],
   "source": [
    "range( 1, 22.3)"
   ]
  },
  {
   "cell_type": "code",
   "execution_count": 154,
   "id": "580b108c",
   "metadata": {},
   "outputs": [],
   "source": [
    "#  arange  is used to generate  both  int and float"
   ]
  },
  {
   "cell_type": "code",
   "execution_count": 156,
   "id": "b076b272",
   "metadata": {},
   "outputs": [
    {
     "data": {
      "text/plain": [
       "array([1, 3, 5, 7, 9])"
      ]
     },
     "execution_count": 156,
     "metadata": {},
     "output_type": "execute_result"
    }
   ],
   "source": [
    "np.arange(1 ,  11 , 2)"
   ]
  },
  {
   "cell_type": "code",
   "execution_count": 157,
   "id": "ee2752cb",
   "metadata": {},
   "outputs": [
    {
     "data": {
      "text/plain": [
       "array([ 1,  2,  3,  4,  5,  6,  7,  8,  9, 10])"
      ]
     },
     "execution_count": 157,
     "metadata": {},
     "output_type": "execute_result"
    }
   ],
   "source": [
    "np.arange(1 ,11)"
   ]
  },
  {
   "cell_type": "code",
   "execution_count": 159,
   "id": "3cd0aeee",
   "metadata": {},
   "outputs": [
    {
     "data": {
      "text/plain": [
       "array([ 1. ,  1.5,  2. ,  2.5,  3. ,  3.5,  4. ,  4.5,  5. ,  5.5,  6. ,\n",
       "        6.5,  7. ,  7.5,  8. ,  8.5,  9. ,  9.5, 10. , 10.5, 11. , 11.5,\n",
       "       12. , 12.5, 13. , 13.5, 14. , 14.5, 15. , 15.5, 16. , 16.5, 17. ,\n",
       "       17.5, 18. , 18.5, 19. , 19.5, 20. , 20.5, 21. , 21.5, 22. , 22.5,\n",
       "       23. , 23.5, 24. , 24.5, 25. , 25.5, 26. , 26.5, 27. , 27.5, 28. ,\n",
       "       28.5, 29. , 29.5, 30. , 30.5, 31. , 31.5, 32. , 32.5, 33. , 33.5,\n",
       "       34. , 34.5, 35. , 35.5, 36. , 36.5, 37. , 37.5, 38. , 38.5, 39. ,\n",
       "       39.5, 40. , 40.5, 41. , 41.5, 42. , 42.5, 43. , 43.5, 44. , 44.5,\n",
       "       45. , 45.5, 46. , 46.5, 47. , 47.5, 48. , 48.5, 49. , 49.5, 50. ,\n",
       "       50.5, 51. , 51.5, 52. , 52.5, 53. , 53.5, 54. , 54.5, 55. , 55.5,\n",
       "       56. , 56.5, 57. , 57.5, 58. , 58.5, 59. , 59.5, 60. , 60.5, 61. ,\n",
       "       61.5, 62. , 62.5, 63. , 63.5, 64. , 64.5, 65. , 65.5, 66. , 66.5,\n",
       "       67. , 67.5, 68. , 68.5, 69. , 69.5, 70. , 70.5, 71. , 71.5, 72. ,\n",
       "       72.5, 73. , 73.5, 74. , 74.5, 75. , 75.5, 76. , 76.5, 77. , 77.5,\n",
       "       78. , 78.5, 79. , 79.5, 80. , 80.5, 81. , 81.5, 82. , 82.5, 83. ,\n",
       "       83.5, 84. , 84.5, 85. , 85.5, 86. , 86.5, 87. , 87.5, 88. , 88.5,\n",
       "       89. , 89.5, 90. , 90.5, 91. , 91.5, 92. , 92.5, 93. , 93.5, 94. ,\n",
       "       94.5, 95. , 95.5, 96. , 96.5, 97. , 97.5, 98. , 98.5, 99. , 99.5])"
      ]
     },
     "execution_count": 159,
     "metadata": {},
     "output_type": "execute_result"
    }
   ],
   "source": [
    "np.arange(1 , 100  ,  0.5)"
   ]
  },
  {
   "cell_type": "code",
   "execution_count": 160,
   "id": "ecc41eb9",
   "metadata": {},
   "outputs": [
    {
     "data": {
      "text/plain": [
       "array([100,  99,  98,  97,  96,  95,  94,  93,  92,  91,  90,  89,  88,\n",
       "        87,  86,  85,  84,  83,  82,  81,  80,  79,  78,  77,  76,  75,\n",
       "        74,  73,  72,  71,  70,  69,  68,  67,  66,  65,  64,  63,  62,\n",
       "        61,  60,  59,  58,  57,  56,  55,  54,  53,  52,  51])"
      ]
     },
     "execution_count": 160,
     "metadata": {},
     "output_type": "execute_result"
    }
   ],
   "source": [
    "np.arange(100  , 50  ,  -1)"
   ]
  },
  {
   "cell_type": "code",
   "execution_count": 161,
   "id": "d5f7fa60",
   "metadata": {},
   "outputs": [
    {
     "data": {
      "text/plain": [
       "array([100. ,  96.5,  93. ,  89.5,  86. ,  82.5,  79. ,  75.5,  72. ,\n",
       "        68.5,  65. ,  61.5,  58. ,  54.5,  51. ])"
      ]
     },
     "execution_count": 161,
     "metadata": {},
     "output_type": "execute_result"
    }
   ],
   "source": [
    "np.arange(100  , 50  ,  -3.5)"
   ]
  },
  {
   "cell_type": "markdown",
   "id": "409ecd02",
   "metadata": {},
   "source": [
    "####  linspace  for  generating  linearly scaping data"
   ]
  },
  {
   "cell_type": "code",
   "execution_count": 162,
   "id": "14d34a96",
   "metadata": {},
   "outputs": [
    {
     "data": {
      "text/plain": [
       "array([ 1.        ,  1.19191919,  1.38383838,  1.57575758,  1.76767677,\n",
       "        1.95959596,  2.15151515,  2.34343434,  2.53535354,  2.72727273,\n",
       "        2.91919192,  3.11111111,  3.3030303 ,  3.49494949,  3.68686869,\n",
       "        3.87878788,  4.07070707,  4.26262626,  4.45454545,  4.64646465,\n",
       "        4.83838384,  5.03030303,  5.22222222,  5.41414141,  5.60606061,\n",
       "        5.7979798 ,  5.98989899,  6.18181818,  6.37373737,  6.56565657,\n",
       "        6.75757576,  6.94949495,  7.14141414,  7.33333333,  7.52525253,\n",
       "        7.71717172,  7.90909091,  8.1010101 ,  8.29292929,  8.48484848,\n",
       "        8.67676768,  8.86868687,  9.06060606,  9.25252525,  9.44444444,\n",
       "        9.63636364,  9.82828283, 10.02020202, 10.21212121, 10.4040404 ,\n",
       "       10.5959596 , 10.78787879, 10.97979798, 11.17171717, 11.36363636,\n",
       "       11.55555556, 11.74747475, 11.93939394, 12.13131313, 12.32323232,\n",
       "       12.51515152, 12.70707071, 12.8989899 , 13.09090909, 13.28282828,\n",
       "       13.47474747, 13.66666667, 13.85858586, 14.05050505, 14.24242424,\n",
       "       14.43434343, 14.62626263, 14.81818182, 15.01010101, 15.2020202 ,\n",
       "       15.39393939, 15.58585859, 15.77777778, 15.96969697, 16.16161616,\n",
       "       16.35353535, 16.54545455, 16.73737374, 16.92929293, 17.12121212,\n",
       "       17.31313131, 17.50505051, 17.6969697 , 17.88888889, 18.08080808,\n",
       "       18.27272727, 18.46464646, 18.65656566, 18.84848485, 19.04040404,\n",
       "       19.23232323, 19.42424242, 19.61616162, 19.80808081, 20.        ])"
      ]
     },
     "execution_count": 162,
     "metadata": {},
     "output_type": "execute_result"
    }
   ],
   "source": [
    "np.linspace(1 , 20,  100)"
   ]
  },
  {
   "cell_type": "code",
   "execution_count": 163,
   "id": "bf89f427",
   "metadata": {},
   "outputs": [
    {
     "data": {
      "text/plain": [
       "(0.19191919000000013,)"
      ]
     },
     "execution_count": 163,
     "metadata": {},
     "output_type": "execute_result"
    }
   ],
   "source": [
    "19.42424242-       19.23232323, "
   ]
  },
  {
   "cell_type": "code",
   "execution_count": 164,
   "id": "825a0472",
   "metadata": {},
   "outputs": [
    {
     "data": {
      "text/plain": [
       "0.19191920000000096"
      ]
     },
     "execution_count": 164,
     "metadata": {},
     "output_type": "execute_result"
    }
   ],
   "source": [
    "19.61616162- 19.42424242"
   ]
  },
  {
   "cell_type": "code",
   "execution_count": 166,
   "id": "7b6160b3",
   "metadata": {},
   "outputs": [
    {
     "data": {
      "text/plain": [
       "(array([ 1.        ,  1.19191919,  1.38383838,  1.57575758,  1.76767677,\n",
       "         1.95959596,  2.15151515,  2.34343434,  2.53535354,  2.72727273,\n",
       "         2.91919192,  3.11111111,  3.3030303 ,  3.49494949,  3.68686869,\n",
       "         3.87878788,  4.07070707,  4.26262626,  4.45454545,  4.64646465,\n",
       "         4.83838384,  5.03030303,  5.22222222,  5.41414141,  5.60606061,\n",
       "         5.7979798 ,  5.98989899,  6.18181818,  6.37373737,  6.56565657,\n",
       "         6.75757576,  6.94949495,  7.14141414,  7.33333333,  7.52525253,\n",
       "         7.71717172,  7.90909091,  8.1010101 ,  8.29292929,  8.48484848,\n",
       "         8.67676768,  8.86868687,  9.06060606,  9.25252525,  9.44444444,\n",
       "         9.63636364,  9.82828283, 10.02020202, 10.21212121, 10.4040404 ,\n",
       "        10.5959596 , 10.78787879, 10.97979798, 11.17171717, 11.36363636,\n",
       "        11.55555556, 11.74747475, 11.93939394, 12.13131313, 12.32323232,\n",
       "        12.51515152, 12.70707071, 12.8989899 , 13.09090909, 13.28282828,\n",
       "        13.47474747, 13.66666667, 13.85858586, 14.05050505, 14.24242424,\n",
       "        14.43434343, 14.62626263, 14.81818182, 15.01010101, 15.2020202 ,\n",
       "        15.39393939, 15.58585859, 15.77777778, 15.96969697, 16.16161616,\n",
       "        16.35353535, 16.54545455, 16.73737374, 16.92929293, 17.12121212,\n",
       "        17.31313131, 17.50505051, 17.6969697 , 17.88888889, 18.08080808,\n",
       "        18.27272727, 18.46464646, 18.65656566, 18.84848485, 19.04040404,\n",
       "        19.23232323, 19.42424242, 19.61616162, 19.80808081, 20.        ]),\n",
       " np.float64(0.1919191919191919))"
      ]
     },
     "execution_count": 166,
     "metadata": {},
     "output_type": "execute_result"
    }
   ],
   "source": [
    "np.linspace(1 , 20,  100 ,  retstep = True)"
   ]
  },
  {
   "cell_type": "code",
   "execution_count": 2,
   "id": "eea3b3a7",
   "metadata": {},
   "outputs": [],
   "source": [
    "import  numpy as  np"
   ]
  },
  {
   "cell_type": "markdown",
   "id": "bdcee9f7",
   "metadata": {},
   "source": [
    "#### generate random numbers between  0 to 1"
   ]
  },
  {
   "cell_type": "code",
   "execution_count": 5,
   "id": "8b2e1558",
   "metadata": {},
   "outputs": [
    {
     "data": {
      "text/plain": [
       "0.9141793341316282"
      ]
     },
     "execution_count": 5,
     "metadata": {},
     "output_type": "execute_result"
    }
   ],
   "source": [
    "np.random.rand()"
   ]
  },
  {
   "cell_type": "code",
   "execution_count": 6,
   "id": "83ffefdb",
   "metadata": {},
   "outputs": [
    {
     "data": {
      "text/plain": [
       "float"
      ]
     },
     "execution_count": 6,
     "metadata": {},
     "output_type": "execute_result"
    }
   ],
   "source": [
    "b  =  np.random.random()\n",
    "type(b)"
   ]
  },
  {
   "cell_type": "code",
   "execution_count": 7,
   "id": "6a3bf96b",
   "metadata": {},
   "outputs": [
    {
     "data": {
      "text/plain": [
       "0.21372655722847778"
      ]
     },
     "execution_count": 7,
     "metadata": {},
     "output_type": "execute_result"
    }
   ],
   "source": [
    "b"
   ]
  },
  {
   "cell_type": "code",
   "execution_count": 5,
   "id": "cd6d3dac",
   "metadata": {},
   "outputs": [
    {
     "data": {
      "text/plain": [
       "array([0.2795615])"
      ]
     },
     "execution_count": 5,
     "metadata": {},
     "output_type": "execute_result"
    }
   ],
   "source": [
    "a = np.random.rand(1)\n",
    "a"
   ]
  },
  {
   "cell_type": "code",
   "execution_count": 8,
   "id": "a05a7446",
   "metadata": {},
   "outputs": [
    {
     "data": {
      "text/plain": [
       "array([0.2795615])"
      ]
     },
     "execution_count": 8,
     "metadata": {},
     "output_type": "execute_result"
    }
   ],
   "source": [
    "a"
   ]
  },
  {
   "cell_type": "code",
   "execution_count": null,
   "id": "ab851bfd",
   "metadata": {},
   "outputs": [
    {
     "data": {
      "text/plain": [
       "array([0.41097465, 0.99124054, 0.38589774])"
      ]
     },
     "execution_count": 10,
     "metadata": {},
     "output_type": "execute_result"
    }
   ],
   "source": [
    "np.random.rand(3)"
   ]
  },
  {
   "cell_type": "markdown",
   "id": "85aee2b4",
   "metadata": {},
   "source": [
    "#### Generate random integers"
   ]
  },
  {
   "cell_type": "code",
   "execution_count": null,
   "id": "1a3a2ab1",
   "metadata": {},
   "outputs": [
    {
     "data": {
      "text/plain": [
       "0"
      ]
     },
     "execution_count": 18,
     "metadata": {},
     "output_type": "execute_result"
    }
   ],
   "source": [
    "# generate  single  number from  0 to 3\n",
    "np.random.randint(3)"
   ]
  },
  {
   "cell_type": "code",
   "execution_count": 24,
   "id": "1e1d8ba4",
   "metadata": {},
   "outputs": [
    {
     "data": {
      "text/plain": [
       "32"
      ]
     },
     "execution_count": 24,
     "metadata": {},
     "output_type": "execute_result"
    }
   ],
   "source": [
    "np.random.randint(100)"
   ]
  },
  {
   "cell_type": "code",
   "execution_count": 25,
   "id": "39af4ad0",
   "metadata": {},
   "outputs": [
    {
     "data": {
      "text/plain": [
       "array([ 4,  2, 14, 18, 17,  1,  6,  3,  7,  7], dtype=int32)"
      ]
     },
     "execution_count": 25,
     "metadata": {},
     "output_type": "execute_result"
    }
   ],
   "source": [
    "np.random.randint(1  , 20  , 10)"
   ]
  },
  {
   "cell_type": "code",
   "execution_count": 26,
   "id": "2f6542b0",
   "metadata": {},
   "outputs": [
    {
     "data": {
      "text/plain": [
       "array([11, 15, 16, 14, 14, 19,  5,  1, 14, 13, 19, 18, 10,  7, 11, 16, 14,\n",
       "       12,  2,  2,  8,  3,  6,  3,  9,  3, 16,  8, 11,  2, 13, 17, 11, 11,\n",
       "       15,  1,  5, 17, 19,  4,  9,  1,  9, 12,  2,  7,  2, 16, 10,  1,  1,\n",
       "        8, 10, 15,  7, 12,  9,  6,  2,  2,  3, 19, 13, 16, 14,  3, 18,  1,\n",
       "        6, 11,  3, 17, 18, 15, 16, 12,  9,  1, 12,  3, 18, 14,  9, 10,  2,\n",
       "        8,  8, 16,  5, 10, 18,  3, 15, 16,  9, 13, 11, 11, 12, 11],\n",
       "      dtype=int32)"
      ]
     },
     "execution_count": 26,
     "metadata": {},
     "output_type": "execute_result"
    }
   ],
   "source": [
    "#  generate 100 integers between  1  to  20\n",
    "np.random.randint(1 , 20 , 100)"
   ]
  },
  {
   "cell_type": "code",
   "execution_count": 27,
   "id": "c45f4ced",
   "metadata": {},
   "outputs": [
    {
     "data": {
      "text/plain": [
       "array([3, 6, 5, 1, 7, 9, 9, 5, 4, 3, 1, 7, 1, 9, 9, 5, 1, 8, 4, 7, 1, 7,\n",
       "       7, 8, 1, 7, 2, 3, 2, 9, 8, 1, 6, 6, 4, 2, 7, 9, 1, 9, 8, 8, 4, 8,\n",
       "       5, 8, 4, 4, 8, 9, 2, 7, 1, 5, 8, 6, 6, 9, 5, 8, 2, 7, 8, 9, 9, 8,\n",
       "       2, 4, 4, 2, 2, 2, 4, 1, 6, 2, 2, 1, 3, 4, 3, 7, 9, 3, 6, 6, 5, 5,\n",
       "       5, 6, 1, 9, 4, 8, 9, 4, 9, 1, 7, 1], dtype=int32)"
      ]
     },
     "execution_count": 27,
     "metadata": {},
     "output_type": "execute_result"
    }
   ],
   "source": [
    "# generate 100  integers between 1 to 10\n",
    "np.random.randint(1 , 10  , 100)"
   ]
  },
  {
   "cell_type": "markdown",
   "id": "59af3372",
   "metadata": {},
   "source": [
    "#### generate sample  from  normal  distribution"
   ]
  },
  {
   "cell_type": "code",
   "execution_count": null,
   "id": "148ef098",
   "metadata": {},
   "outputs": [
    {
     "data": {
      "text/plain": [
       "-1.239060183058925"
      ]
     },
     "execution_count": 28,
     "metadata": {},
     "output_type": "execute_result"
    }
   ],
   "source": [
    "## generate one  random number from  standard  normal  \n",
    "np.random.randn()"
   ]
  },
  {
   "cell_type": "code",
   "execution_count": null,
   "id": "ecfc47ae",
   "metadata": {},
   "outputs": [
    {
     "data": {
      "text/plain": [
       "array([ 1.27695614,  0.87502639, -0.7695924 , -0.58367178, -1.01837528,\n",
       "        0.5062258 ,  1.23346663, -0.16824   , -0.52698679,  0.34479995])"
      ]
     },
     "execution_count": 29,
     "metadata": {},
     "output_type": "execute_result"
    }
   ],
   "source": [
    "## generate 10  random numbers from  standard  normal  \n",
    "np.random.randn(10)"
   ]
  },
  {
   "cell_type": "code",
   "execution_count": 31,
   "id": "55d5e2c4",
   "metadata": {},
   "outputs": [
    {
     "data": {
      "text/plain": [
       "array([-5.34911199e-01,  1.84576811e+00,  1.29628873e+00,  5.35790955e-02,\n",
       "        1.72654589e-01, -1.70006759e+00, -6.85279566e-01, -1.00986083e-01,\n",
       "       -6.00500979e-01,  4.44731074e-01,  2.40662363e+00, -2.02634212e-01,\n",
       "       -1.26089441e+00, -5.10530887e-02,  5.10485403e-01,  1.49459006e+00,\n",
       "       -8.00119856e-01, -2.39504071e-01, -4.84974387e-02,  1.10720245e+00,\n",
       "       -1.82913987e-01, -1.10315854e+00, -7.62613087e-01, -4.27155674e-01,\n",
       "       -3.10115048e-01, -2.30024818e+00,  1.45689835e+00,  3.00967557e-01,\n",
       "       -6.83141489e-01,  5.16969541e-02,  8.20815455e-01,  4.99196376e-01,\n",
       "       -2.50298758e-01,  6.28500333e-01,  9.75984422e-01,  1.30387081e+00,\n",
       "        5.26742229e-01,  1.47474981e+00, -2.96180408e-01, -2.61589948e-01,\n",
       "        1.22316481e+00,  1.72712664e-01, -2.35152490e-01, -2.78882958e-01,\n",
       "        1.22659210e+00, -4.89048936e-01,  1.64273490e+00,  4.44813376e-01,\n",
       "        7.41928825e-01, -9.24667475e-01,  1.56523964e-01,  9.81801680e-01,\n",
       "       -1.06060752e+00, -2.14984577e+00,  2.64782487e+00, -1.88978804e+00,\n",
       "       -1.90584579e-01, -8.72823962e-01,  9.24403561e-01,  2.98274928e-01,\n",
       "       -6.32739886e-01, -1.94776753e+00, -6.30780542e-02, -1.10008506e-01,\n",
       "        7.49165946e-01,  2.07443936e-01, -1.11668091e-01,  2.98905160e-01,\n",
       "       -5.35688980e-01, -1.45067030e+00,  8.78249549e-01,  1.36925293e+00,\n",
       "       -5.32370717e-01,  5.44847985e-01, -1.82033590e+00, -5.52932444e-01,\n",
       "       -5.14983940e-01,  1.23701476e+00,  1.54494135e+00,  3.87369240e-01,\n",
       "        9.18752250e-01,  6.09339100e-04,  1.04281565e-01,  1.81195826e+00,\n",
       "       -1.00937872e-01, -2.58078103e+00, -4.79093181e-01,  5.36016983e-01,\n",
       "        1.02107469e+00,  8.75326682e-01, -1.48412853e+00,  6.27123829e-01,\n",
       "        4.71079871e-01, -9.36797101e-01, -5.85791470e-01,  3.12601302e-01,\n",
       "        1.14563221e+00, -2.01404716e+00,  1.21824088e-01, -5.71453277e-01,\n",
       "       -6.88070567e-01,  1.74178853e+00,  6.00335842e-01,  8.18619005e-01,\n",
       "       -3.67465979e-01,  8.13599981e-01, -1.60219261e+00,  6.24361686e-01,\n",
       "       -1.80532538e-01, -1.42564863e+00, -6.67662954e-01,  2.49972713e-01,\n",
       "        2.57048350e+00, -2.89661648e-01,  1.07003322e+00, -1.31120394e+00,\n",
       "       -1.54303007e+00,  3.79366926e-02, -1.66339211e+00, -1.47435144e+00,\n",
       "        1.62383392e-01,  1.93262675e+00, -8.16647251e-01,  9.39939609e-01,\n",
       "        1.19766202e-02,  7.54629753e-01, -3.32788597e-01, -8.04971388e-01,\n",
       "        1.72534759e+00, -7.03467899e-01, -1.13076492e+00, -3.29302719e-01,\n",
       "        7.88582403e-01, -1.07094967e+00,  2.13581611e+00,  2.91716273e-01,\n",
       "       -1.23391522e+00, -7.08304513e-01,  1.11745338e+00,  2.20309575e+00,\n",
       "       -1.32564258e-01,  4.21518788e-01,  8.08382121e-02, -1.10517775e+00,\n",
       "       -1.76482140e+00, -1.89207227e-01,  1.57796455e+00, -1.64659655e-01,\n",
       "       -6.23251023e-01,  1.73948313e+00, -1.83373386e-01, -6.14121998e-01,\n",
       "        5.66140448e-01,  1.75659635e+00, -9.92318188e-01,  4.55253042e-01,\n",
       "       -8.57530882e-01,  2.52304448e-01,  2.42018170e+00, -6.90797061e-01,\n",
       "       -1.04661439e+00,  1.76078619e-01, -1.99222095e-01, -1.21494072e+00,\n",
       "       -7.88641604e-01, -1.25585748e+00, -7.02453624e-02, -1.07977467e+00,\n",
       "       -8.45621244e-02,  4.30287626e-01,  1.32471176e+00,  1.53839508e-01,\n",
       "       -9.49233759e-01, -4.21984910e-01,  2.97930384e-01, -3.15151796e-01,\n",
       "       -1.39373716e-01, -1.62260700e+00,  1.21595510e+00,  2.46024370e+00,\n",
       "        3.53097640e-01,  1.27139675e-01,  1.57695797e-01, -5.12370082e-01,\n",
       "        1.02535300e+00,  1.87843841e-01,  2.28143590e+00, -5.42595974e-01,\n",
       "       -1.67658625e+00, -5.03695952e-01, -8.65667316e-01,  6.09042029e-02,\n",
       "       -1.35940850e+00, -1.12937461e+00, -2.02991791e-01, -6.88882207e-01,\n",
       "        1.09080655e+00,  1.74222249e+00,  9.10330698e-02,  3.15122926e-01,\n",
       "        8.51545398e-01, -1.10174606e+00,  1.41009271e+00,  1.50499826e-01,\n",
       "       -1.31071287e+00, -8.07552026e-01,  1.18803961e+00, -1.42709656e+00,\n",
       "       -1.15807696e-01, -7.65758506e-01, -9.33673884e-01,  4.52194614e-01,\n",
       "       -8.02216222e-02, -1.25034451e+00, -5.01101903e-01,  1.00206248e-02,\n",
       "        4.88104760e-01,  1.20345852e+00,  2.32052493e-01,  1.58051049e+00,\n",
       "        6.61605263e-01,  1.58414119e+00, -3.15780156e-01,  3.02272259e+00,\n",
       "        7.20692487e-01, -4.31309266e-02, -5.34125013e-01,  1.99199484e-01,\n",
       "        2.75048541e-01,  4.06197291e-01, -1.95016127e+00,  4.99620123e-01,\n",
       "        1.19132700e+00, -1.51829620e+00,  3.03066769e-01, -6.95721320e-01,\n",
       "        1.48449678e+00,  2.85995592e-01,  3.61239823e-01,  1.11892966e+00,\n",
       "        8.91107357e-01,  6.47506707e-01, -1.34274555e+00, -1.20769477e+00,\n",
       "        9.05892232e-01, -2.56179696e-01,  1.38609636e-01, -2.88803072e-03,\n",
       "        6.97558706e-02, -3.24002061e-02,  9.06517677e-02, -3.89752879e-01,\n",
       "        7.82877290e-01, -7.43679885e-01,  1.14937265e+00, -5.91694436e-01,\n",
       "       -2.16210316e-02,  1.56257734e-01,  8.93823151e-01,  1.68961768e+00,\n",
       "       -8.21073372e-02, -5.78511795e-01,  3.29663587e-02,  1.58410125e+00,\n",
       "        6.29543180e-01,  3.29467467e-01, -4.38754475e-01, -1.96870793e-01,\n",
       "       -2.05159729e-01,  8.25409619e-01,  3.39427800e-01, -1.19882805e+00,\n",
       "       -1.33200004e+00, -8.91195751e-01, -2.42886881e+00,  1.67630712e+00,\n",
       "        3.77987408e-01,  7.47242842e-01,  1.10677402e-01,  8.85956804e-02,\n",
       "       -2.43391171e-01, -2.28013336e+00, -4.10373218e-02,  1.41810627e+00,\n",
       "       -3.54664224e-01,  1.92088666e-01, -1.28635121e+00, -1.38030252e-01,\n",
       "       -9.83659757e-01,  3.35788927e-01,  7.24500980e-01,  1.76375463e+00,\n",
       "       -1.45254856e+00, -3.51169865e-01,  1.26032696e-02,  2.97772400e-01,\n",
       "       -1.19781444e+00, -2.75529869e-02,  1.02080038e+00,  4.52667296e-01,\n",
       "       -1.21344469e+00, -5.39417580e-01, -2.53493528e-01, -2.79499179e-01,\n",
       "       -3.22671934e-01, -1.47282256e+00, -7.70184515e-01,  1.42905550e+00,\n",
       "        1.83600192e-01, -9.01150004e-01, -1.72716632e+00, -7.35124151e-01,\n",
       "       -2.34936560e-01,  1.32886250e+00, -9.41739798e-01, -3.67797556e-01,\n",
       "        5.04378063e-02, -2.62658058e-01, -1.14905613e-01, -1.16028391e-01,\n",
       "        1.45136346e+00, -8.59045058e-01,  1.70251153e-01,  1.08505925e+00,\n",
       "        2.14121829e+00,  1.10359053e+00, -1.23045870e+00,  3.43314454e-02,\n",
       "       -5.89291747e-01, -1.74698891e+00,  3.63870667e-01,  4.11694576e-01,\n",
       "        1.30853594e+00,  2.33156231e+00, -7.05785113e-01, -1.82703824e+00,\n",
       "        4.21023279e-01,  1.40649465e+00,  4.97333249e-01, -7.28546231e-01,\n",
       "       -9.66164218e-01,  6.04974697e-01,  1.27941797e-01, -3.52590244e-01,\n",
       "       -1.02667753e+00,  9.21645360e-01, -7.67184443e-01, -1.16970433e+00,\n",
       "        6.10548671e-01,  4.87626698e-01, -4.68531965e-02,  1.66323365e+00,\n",
       "       -1.01801557e+00,  1.70980670e-01,  1.43094337e-01, -2.00306723e-03,\n",
       "        1.32586586e+00, -6.08125742e-01, -5.45079858e-01,  9.96396156e-02,\n",
       "        7.09997600e-01,  1.38104827e+00,  2.68764144e-01,  8.27440986e-01,\n",
       "       -2.11246950e+00, -1.36896831e+00, -9.52046012e-02, -1.44045184e-01,\n",
       "       -1.47239992e+00, -4.13544120e-01,  8.97236621e-01,  2.17982777e-01,\n",
       "       -1.48631812e+00, -6.62052592e-01, -1.01782910e+00, -2.70584855e-01,\n",
       "       -1.96942268e+00,  9.82939443e-01,  1.42346287e+00, -9.19171907e-01,\n",
       "       -1.42808894e+00, -2.08848032e-01, -1.46932225e+00,  7.66289070e-01,\n",
       "        2.09307159e+00,  3.17418387e-01, -6.52705436e-01, -1.23547855e+00,\n",
       "        9.69247091e-01,  2.21638417e+00, -2.24072548e-01,  3.74014619e-01,\n",
       "       -1.10187938e+00,  2.43579990e+00,  6.59329225e-01,  1.29861686e+00,\n",
       "       -6.29584888e-01,  1.38729605e+00, -1.61141534e-01, -1.03935419e+00,\n",
       "        4.79744238e-03,  5.90027308e-01,  1.17480162e+00,  1.28053375e+00,\n",
       "       -1.20441731e+00, -9.59607360e-02, -1.36142616e+00,  3.99796863e-01,\n",
       "        1.06039125e+00, -8.10562644e-01,  9.21363171e-01, -1.46938435e+00,\n",
       "       -1.12736077e+00, -1.39747764e+00, -1.15347109e+00, -6.37201411e-01,\n",
       "        1.21074272e+00,  5.46728393e-01,  9.44345362e-01, -1.58549012e+00,\n",
       "        1.78275714e+00, -6.96939156e-01,  3.41720925e-01, -4.81168145e-01,\n",
       "       -9.00301014e-01, -2.58982704e-01, -5.11069378e-01, -1.07651652e-01,\n",
       "       -7.61752377e-01,  1.23232016e+00,  7.33446240e-01, -5.99679025e-02,\n",
       "        7.71506601e-01,  1.19310305e+00, -7.97352215e-01, -6.97213050e-01,\n",
       "        2.75073320e-01,  1.54968212e+00,  5.01442242e-01, -5.47818336e-02,\n",
       "        1.19572651e+00,  3.70096349e-01,  1.27376204e+00, -1.25930826e+00,\n",
       "        2.82218105e-01,  1.96197572e-01,  5.27683107e-01, -2.09832801e-01,\n",
       "       -5.61921470e-01,  7.53923440e-01,  1.60447536e+00, -7.70847157e-01,\n",
       "       -1.44798479e-01,  6.58357265e-01,  3.43524076e-01, -1.17915164e+00,\n",
       "        3.86837711e-01,  4.18594266e-01, -2.05334557e+00,  3.29667087e-01,\n",
       "        5.15495481e-02,  6.05962701e-01,  1.30999508e+00, -1.80152164e+00,\n",
       "       -9.72237580e-01, -8.05078403e-01, -1.81372142e+00, -5.75836771e-01,\n",
       "       -8.50527883e-01, -3.03782920e-01,  1.49802705e+00, -5.97075569e-01,\n",
       "       -6.68417852e-01, -1.84301013e+00,  1.85490428e-01,  1.11014846e-01,\n",
       "       -7.21331906e-01, -1.43578571e+00,  5.06152049e-01, -8.53812821e-01,\n",
       "       -4.50173892e-01,  8.23414260e-01, -5.75595288e-01, -1.01116420e+00,\n",
       "       -5.48370541e-01, -1.20970325e+00, -7.08935444e-01,  1.31960171e+00,\n",
       "       -2.03394725e-01, -8.85597242e-02, -8.28635206e-01, -1.09847958e+00,\n",
       "        6.39146055e-01, -8.98758950e-01,  1.52028080e+00,  1.11000128e+00,\n",
       "       -4.60698980e-01,  1.30377445e+00,  4.97020719e-01,  2.00685555e+00,\n",
       "        2.92354186e-01,  1.16420619e+00, -7.53963292e-01, -4.77707771e-01,\n",
       "        1.39147483e+00, -1.72860618e-01,  2.82989622e-01, -8.54327376e-01,\n",
       "       -6.67121110e-01, -3.71111857e-02, -1.74565290e+00, -9.79030928e-01,\n",
       "        3.05974488e+00,  1.73153587e-02, -9.09472706e-01, -8.81715301e-02,\n",
       "       -8.57264184e-01, -7.39853272e-01,  8.07824586e-01, -4.73243677e-01,\n",
       "       -4.32147619e-01,  1.94097664e-01,  2.94071366e-01,  9.95841958e-01,\n",
       "       -9.68460948e-01,  7.15891561e-01,  2.50136369e+00,  1.07133694e+00,\n",
       "       -2.84697453e-01,  1.31973911e+00,  4.60207148e-01, -4.40510726e-03,\n",
       "       -2.66575988e-01,  1.19288324e+00,  1.20113017e+00, -7.02883138e-01,\n",
       "       -1.67371864e+00,  9.95507917e-02,  1.14791453e-01, -1.14271100e+00,\n",
       "        1.00748660e+00,  1.07061915e+00,  5.71165196e-01, -1.04468699e+00,\n",
       "       -3.51430954e-01,  1.47007097e+00,  5.16191278e-01,  3.49259208e-01,\n",
       "        6.52007429e-01,  5.77720992e-01, -5.43570698e-01, -6.09443753e-01,\n",
       "        6.75356107e-01, -8.13382661e-02,  2.86168157e-01, -1.35126877e-01,\n",
       "        1.10046838e+00, -5.31077772e-01,  1.49732351e-01,  1.96385078e+00,\n",
       "       -8.00916067e-01,  5.53650503e-02, -1.24365559e+00, -2.15432884e-01,\n",
       "        9.65856777e-01, -1.81256013e+00,  3.01423069e+00, -8.05415032e-01,\n",
       "       -2.52190515e-02, -1.24949762e+00,  4.94707830e-01, -5.03033435e-01,\n",
       "        1.48863333e-01, -5.46950799e-01,  4.74239540e-01, -1.20979118e+00,\n",
       "       -9.38728441e-01, -1.86265229e-01, -2.81584121e-01, -2.25614341e-01,\n",
       "        1.21699073e+00, -9.76669464e-01, -7.70739807e-01,  2.28532837e-01,\n",
       "       -6.69460510e-01,  5.86832996e-01,  2.91089761e-01, -8.96126058e-01,\n",
       "        3.15217920e-01,  1.82789339e-01,  1.21385950e+00,  3.81593117e-02,\n",
       "        2.31036543e-01, -8.47753654e-02, -4.61585976e-01,  2.31270672e+00,\n",
       "       -2.52392608e-01, -2.28106624e-01, -6.79558231e-01,  2.47505558e+00,\n",
       "        6.76036349e-01,  1.36876003e+00,  4.27115498e-02, -1.72867630e+00,\n",
       "        1.42944985e+00, -7.73629273e-01, -1.40571031e+00, -5.85950277e-01,\n",
       "        8.46239652e-01, -5.84970183e-01,  1.03244238e+00, -1.22605347e+00,\n",
       "       -1.31394090e+00, -7.90169832e-01,  3.35986809e-01,  2.44838848e-01,\n",
       "        8.07160823e-01,  1.79706079e-01,  8.24102622e-01, -4.13081403e-01,\n",
       "        3.06402917e-01, -9.67615409e-01, -4.20545208e-01,  9.25941887e-01,\n",
       "        1.64842711e+00, -1.16608892e+00,  6.06996158e-01, -9.91707490e-02,\n",
       "        1.46234578e-01, -1.33303551e+00, -2.14185331e-01,  1.84792234e-01,\n",
       "        3.09290592e-01, -4.25181338e-01,  7.84434317e-01, -1.37180141e-01,\n",
       "        2.06483559e-01, -3.32760291e-01, -1.69705798e+00, -4.70646869e-01,\n",
       "        4.79518217e-01, -4.53824746e-01,  6.49217124e-01, -1.28357201e+00,\n",
       "       -5.92413589e-01,  9.18627772e-01, -5.02495414e-01, -3.28942353e-01,\n",
       "       -8.33290339e-01,  1.84715203e+00, -1.00584244e+00, -1.46500750e-01,\n",
       "        3.28065361e-01, -2.90222431e-01, -1.50302540e+00,  5.88727154e-01,\n",
       "        1.99918323e-01,  1.60123139e-01,  7.66272505e-01,  1.65744483e-01,\n",
       "       -8.54492559e-01, -1.24474824e+00,  8.34918751e-01,  1.02093737e+00,\n",
       "        6.38538830e-01,  1.62585272e+00,  2.89336446e-01,  6.05239812e-01,\n",
       "       -1.29425589e+00, -1.52013252e+00, -6.86077786e-01,  5.72252130e-01,\n",
       "        2.50074379e-01,  7.10872585e-01, -4.34148357e-01, -7.78917424e-01,\n",
       "       -4.43435574e-01,  6.45325576e-01,  1.27323032e+00, -2.76308112e-02,\n",
       "       -4.03358768e-01,  3.46927646e-01, -3.02335126e-02, -3.27391252e-01,\n",
       "       -9.53681280e-01,  1.11291619e+00,  5.00810630e-01, -2.00903402e+00,\n",
       "        6.54032332e-01,  4.63112957e-01,  2.61656099e-01,  1.83284807e+00,\n",
       "       -7.68772365e-03,  8.65084130e-01,  4.27292792e-01, -1.49373492e+00,\n",
       "       -7.19456932e-01,  2.60466655e-01, -9.76264568e-01,  1.63422924e+00,\n",
       "        5.99966056e-01,  3.05646527e-01,  8.28226515e-02,  9.34998597e-02,\n",
       "       -4.47856711e-01, -1.68945995e+00,  8.18169387e-01, -5.65537019e-01,\n",
       "       -2.49915006e-01, -1.13394812e+00,  2.20981688e+00, -9.58914558e-01,\n",
       "       -7.67842393e-01,  1.93700239e-01, -3.03425233e+00,  1.20977993e+00,\n",
       "       -8.04844397e-02,  7.11819256e-01,  4.29401923e-01,  9.92110557e-01,\n",
       "        4.33140103e-01,  1.12552915e+00,  1.89126408e+00, -8.49378567e-01,\n",
       "        4.92491692e-01,  7.09683417e-01,  7.56154582e-01,  9.89518500e-01,\n",
       "        8.43842010e-02,  5.37344865e-01,  3.18637477e-01, -1.98389085e+00,\n",
       "        1.61333872e+00, -1.16579667e+00,  3.97842645e-01,  1.37974382e+00,\n",
       "       -1.42639444e+00, -2.77855906e-01,  2.01360332e+00, -4.71414452e-01,\n",
       "       -2.08773917e-01,  1.18465898e+00, -1.04096893e+00, -1.63239664e+00,\n",
       "       -2.40410284e-01, -9.77733163e-01, -1.62791061e+00,  1.90847239e+00,\n",
       "       -1.80605313e-01,  1.36493008e-01, -7.28638245e-01, -4.03423608e-01,\n",
       "        8.73258769e-01, -4.16822399e-01, -8.48999184e-01,  1.54106103e+00,\n",
       "       -6.58105726e-01, -6.81088220e-01,  1.73451224e+00, -6.49250743e-01,\n",
       "       -4.46182451e-01, -2.02899908e-01,  1.02798998e-01, -1.91549972e+00,\n",
       "        1.93343847e+00, -1.08671226e-01,  5.92484728e-01, -1.04501768e-01,\n",
       "       -3.75304890e-01, -7.84028204e-01,  1.35955663e-01, -5.39204406e-01,\n",
       "        8.72281913e-01, -2.65473609e-02,  2.18230069e+00,  8.46042872e-01,\n",
       "        9.88503630e-01,  5.82620299e-01,  7.37856056e-01,  2.55773116e-01,\n",
       "       -7.98750588e-01,  1.84961607e+00, -5.39085939e-01,  8.46260584e-01,\n",
       "       -5.98921000e-01, -5.62249786e-01, -2.69425800e-01,  2.89248321e-01,\n",
       "        3.21653607e-01,  3.16623444e-01, -1.11021439e-01, -4.30031266e-01,\n",
       "       -9.54997516e-01,  2.91716138e-02, -1.53679928e+00, -1.06274577e+00,\n",
       "       -2.38826506e-01,  2.59738158e-01, -9.19921020e-01,  1.94724995e-02,\n",
       "       -1.34501101e+00, -1.74782545e+00, -1.25428793e+00, -5.41879443e-01,\n",
       "       -4.38148814e-01, -1.51767113e+00,  1.71360029e-01, -4.39054792e-01,\n",
       "       -1.24684732e+00, -1.20721432e+00,  9.40322012e-01,  9.89440611e-01,\n",
       "        7.60277752e-02, -2.47923279e+00,  1.32019525e+00,  1.17670725e-01,\n",
       "        7.52857760e-03, -4.29315780e-01,  4.46370595e-01, -1.46457412e+00,\n",
       "       -8.18032303e-01,  1.03341680e+00, -9.34801410e-01, -1.44771666e+00,\n",
       "       -1.78924132e+00,  1.87779452e-01,  1.48150158e+00, -1.99402294e+00,\n",
       "       -2.86931380e-01,  4.62898280e-01, -7.75717103e-01,  2.29888464e-01,\n",
       "        7.43076886e-01,  1.70473095e-01, -2.19978069e+00, -1.68806473e-01,\n",
       "        6.46486201e-02,  1.11746904e+00,  6.16330410e-01,  1.25136988e-01,\n",
       "        1.04191315e-03, -7.97834112e-01, -2.14488519e-01, -1.37655202e+00,\n",
       "       -2.17825936e+00, -7.53753283e-01,  1.16230629e+00,  5.94437596e-01,\n",
       "        1.08125359e+00, -1.23371402e+00,  3.69122111e-01, -6.72926068e-01,\n",
       "       -3.24615535e-01, -5.18442459e-01,  1.28931039e+00,  2.11594287e+00,\n",
       "        7.76870094e-01, -4.92789334e-01, -1.71570860e-01,  9.07049271e-01,\n",
       "       -1.43888839e-01, -2.19461078e-02,  9.42175635e-01, -2.05952660e-01,\n",
       "       -4.97184527e-01,  2.49073174e+00,  9.99150427e-03,  1.94100410e-01,\n",
       "        2.11045193e+00, -3.32141580e-01, -1.66619267e+00, -1.97461772e-01,\n",
       "        3.67612413e-01,  5.90318034e-01,  7.02685859e-01, -6.68879594e-01,\n",
       "        1.49636692e-01,  1.99964968e+00, -7.30314504e-01, -2.51288896e+00,\n",
       "        7.33304133e-01,  1.07904307e-01,  2.44779804e-01, -3.16961200e-01,\n",
       "       -1.31716174e+00,  7.34701063e-01,  1.26168771e+00, -1.43948267e+00,\n",
       "       -2.08490152e+00, -5.79366276e-01,  1.15632278e+00, -3.76642451e-01,\n",
       "        1.30446146e+00, -4.85960303e-01, -4.37044334e-01,  3.32365273e-01,\n",
       "        1.79543744e-01,  5.58478963e-01, -7.77284972e-01,  1.73616827e-01,\n",
       "        2.39574586e-01,  1.21253268e+00,  7.63361089e-01,  1.25050779e-01,\n",
       "       -9.18588127e-02, -1.00590429e+00,  1.50390699e+00, -1.27534775e+00,\n",
       "        8.40269332e-02, -2.21066699e+00,  1.01166807e+00,  3.16670106e-01,\n",
       "       -2.61036150e+00, -4.20828834e-01, -1.27349145e+00, -2.42839549e-01,\n",
       "        1.02016781e+00,  6.66732575e-01, -7.94057081e-01, -1.27042919e-01,\n",
       "       -1.26200407e+00, -1.05976324e-01,  4.08915165e-01,  8.05098594e-01,\n",
       "        4.70899150e-01, -7.54183313e-01,  9.26904701e-01, -1.10836424e+00,\n",
       "        3.88414924e-01,  6.07474734e-01, -1.56575707e+00, -3.49300663e-01,\n",
       "       -8.69154639e-01, -1.50730947e-01, -4.63299769e-01, -8.79862189e-01,\n",
       "       -6.03861698e-01,  4.19580894e-01,  8.93668079e-01,  4.77846025e-01,\n",
       "        2.19723876e-01,  2.42647826e+00, -1.41385532e+00,  5.97645731e-01,\n",
       "        7.02145738e-01,  1.36547159e+00,  6.20349367e-01, -1.36038912e+00,\n",
       "        1.11735159e+00,  4.07789561e-01,  2.28039895e-01,  2.11493290e+00,\n",
       "        6.80346697e-01, -1.81380280e-01, -2.53228968e+00, -2.18936947e+00,\n",
       "        1.78498176e-01, -3.50940894e-01, -9.71621409e-01,  9.31575512e-01,\n",
       "        1.79884341e+00, -1.94925995e+00,  5.50071750e-01, -5.64249060e-01,\n",
       "        5.34531409e-02, -1.45605017e+00,  3.23835311e-01, -1.13628139e+00,\n",
       "       -1.29817813e+00, -1.63492772e+00, -3.54854312e-01,  4.38495157e-01,\n",
       "       -7.46879539e-01,  2.08257704e+00, -1.44408212e+00,  2.82980381e-02,\n",
       "       -1.26875216e+00,  9.09805434e-01,  6.59962174e-01,  8.86747205e-01,\n",
       "        1.50914789e+00,  8.65082860e-01, -7.31628303e-02,  1.00817071e+00,\n",
       "        1.91229849e-01, -1.99451483e+00,  5.28355803e-01, -3.14348400e+00,\n",
       "       -3.53432420e-01,  1.94882017e+00,  1.85482744e+00,  7.84451959e-01,\n",
       "        7.13233936e-01,  3.83488862e-01,  7.26686529e-01,  7.72209918e-01,\n",
       "       -6.43190252e-01,  7.78385185e-01, -2.16367427e+00,  3.67126386e-01])"
      ]
     },
     "execution_count": 31,
     "metadata": {},
     "output_type": "execute_result"
    }
   ],
   "source": [
    "## generate 1000  random numbers from  standard  normal  \n",
    "data  = np.random.randn(1000)\n",
    "data"
   ]
  },
  {
   "cell_type": "code",
   "execution_count": 32,
   "id": "66932c2a",
   "metadata": {},
   "outputs": [],
   "source": [
    "import  seaborn as  sns"
   ]
  },
  {
   "cell_type": "code",
   "execution_count": 33,
   "id": "f88ae479",
   "metadata": {},
   "outputs": [
    {
     "data": {
      "text/plain": [
       "<Axes: ylabel='Count'>"
      ]
     },
     "execution_count": 33,
     "metadata": {},
     "output_type": "execute_result"
    },
    {
     "data": {
      "image/png": "[encoded data removed]",
      "text/plain": [
       "<Figure size 640x480 with 1 Axes>"
      ]
     },
     "metadata": {},
     "output_type": "display_data"
    }
   ],
   "source": [
    "sns.histplot(data)"
   ]
  },
  {
   "cell_type": "markdown",
   "id": "5c9e3696",
   "metadata": {},
   "source": [
    "#### generate  data from normal  distribution  by  mean  =  10 , std  =  5"
   ]
  },
  {
   "cell_type": "code",
   "execution_count": 34,
   "id": "515fe380",
   "metadata": {},
   "outputs": [
    {
     "data": {
      "text/plain": [
       "array([ 3.47378554, -7.12810657, 12.51026307, 14.01835632,  9.61647887,\n",
       "       10.26434323, 14.36099928, 11.25527611, 10.8895655 ,  8.33933994])"
      ]
     },
     "execution_count": 34,
     "metadata": {},
     "output_type": "execute_result"
    }
   ],
   "source": [
    "np.random.normal(loc  =  10  , scale  =  5  , size  = 10)"
   ]
  },
  {
   "cell_type": "code",
   "execution_count": 35,
   "id": "3e978cd2",
   "metadata": {},
   "outputs": [
    {
     "data": {
      "text/plain": [
       "19.561298811223082"
      ]
     },
     "execution_count": 35,
     "metadata": {},
     "output_type": "execute_result"
    }
   ],
   "source": [
    "np.random.normal(loc  =  10  , scale  =  5  )"
   ]
  },
  {
   "cell_type": "code",
   "execution_count": 36,
   "id": "c8f5d512",
   "metadata": {},
   "outputs": [],
   "source": [
    "#  generate  1000 random  obsn from  normal dist   with  mean  =  34 , std  =  21.3"
   ]
  },
  {
   "cell_type": "code",
   "execution_count": 37,
   "id": "416d3516",
   "metadata": {},
   "outputs": [],
   "source": [
    "data1  =  np.random.normal(loc  = 34  , scale  =  21.3 , size  =  1000 )"
   ]
  },
  {
   "cell_type": "code",
   "execution_count": 38,
   "id": "81148fc5",
   "metadata": {},
   "outputs": [
    {
     "data": {
      "text/plain": [
       "<Axes: ylabel='Count'>"
      ]
     },
     "execution_count": 38,
     "metadata": {},
     "output_type": "execute_result"
    },
    {
     "data": {
      "image/png": "[encoded data removed]",
      "text/plain": [
       "<Figure size 640x480 with 1 Axes>"
      ]
     },
     "metadata": {},
     "output_type": "display_data"
    }
   ],
   "source": [
    "sns.histplot(data1)"
   ]
  },
  {
   "cell_type": "markdown",
   "id": "7a5eced1",
   "metadata": {},
   "source": [
    "### generate data from uniform  distribution"
   ]
  },
  {
   "cell_type": "code",
   "execution_count": 42,
   "id": "1acda5e7",
   "metadata": {},
   "outputs": [
    {
     "data": {
      "text/plain": [
       "0.5888266245118283"
      ]
     },
     "execution_count": 42,
     "metadata": {},
     "output_type": "execute_result"
    }
   ],
   "source": [
    "#a  = lowest value  , b  =  highest value\n",
    "# default values  a  =  0  , b  = 1\n",
    "np.random.uniform()"
   ]
  },
  {
   "cell_type": "code",
   "execution_count": 44,
   "id": "e2464100",
   "metadata": {},
   "outputs": [
    {
     "data": {
      "text/plain": [
       "7.218881452754838"
      ]
     },
     "execution_count": 44,
     "metadata": {},
     "output_type": "execute_result"
    }
   ],
   "source": [
    "# for  low  =  0  , high  =  23  ,  \n",
    "np.random.uniform(23)"
   ]
  },
  {
   "cell_type": "code",
   "execution_count": 46,
   "id": "a02ad21b",
   "metadata": {},
   "outputs": [],
   "source": [
    "#  generate  50  random numbers from unifom  distribution\n",
    "#with  a = 5  , b  =  10  , \n",
    "b  = np.random.uniform(low  = 5  ,  high= 10 ,  size  =  50)"
   ]
  },
  {
   "cell_type": "code",
   "execution_count": 47,
   "id": "072b4638",
   "metadata": {},
   "outputs": [
    {
     "data": {
      "text/plain": [
       "array([7.34805779, 9.3022295 , 6.10057308, 5.94521351, 5.24813772,\n",
       "       9.66708995, 9.00382676, 6.77627781, 9.83389788, 7.39473862,\n",
       "       7.81032483, 5.59152432, 6.51517546, 8.57041459, 9.70415494,\n",
       "       9.9944073 , 9.38463169, 6.29383441, 6.66973105, 5.98003645,\n",
       "       9.98933515, 9.81104641, 9.92369603, 5.01953609, 7.35723711,\n",
       "       8.89953905, 9.97901048, 7.79899726, 5.03935899, 5.12886662,\n",
       "       5.71260609, 9.45315907, 5.65146888, 9.81535084, 5.32858905,\n",
       "       7.19466755, 5.38385705, 5.50775342, 6.14206415, 7.27044515,\n",
       "       6.73720482, 9.98121787, 7.9361624 , 5.7387197 , 7.91905491,\n",
       "       7.76592261, 9.80195875, 5.37734424, 5.38543151, 9.5885149 ])"
      ]
     },
     "execution_count": 47,
     "metadata": {},
     "output_type": "execute_result"
    }
   ],
   "source": [
    "b"
   ]
  },
  {
   "cell_type": "code",
   "execution_count": 48,
   "id": "dd97f87e",
   "metadata": {},
   "outputs": [
    {
     "data": {
      "text/plain": [
       "<Axes: ylabel='Count'>"
      ]
     },
     "execution_count": 48,
     "metadata": {},
     "output_type": "execute_result"
    },
    {
     "data": {
      "image/png": "[encoded data removed]",
      "text/plain": [
       "<Figure size 640x480 with 1 Axes>"
      ]
     },
     "metadata": {},
     "output_type": "display_data"
    }
   ],
   "source": [
    "sns.histplot(b)"
   ]
  },
  {
   "cell_type": "code",
   "execution_count": null,
   "id": "34c598af",
   "metadata": {},
   "outputs": [],
   "source": []
  }
 ],
 "metadata": {
  "kernelspec": {
   "display_name": "venv",
   "language": "python",
   "name": "python3"
  },
  "language_info": {
   "codemirror_mode": {
    "name": "ipython",
    "version": 3
   },
   "file_extension": ".py",
   "mimetype": "text/x-python",
   "name": "python",
   "nbconvert_exporter": "python",
   "pygments_lexer": "ipython3",
   "version": "3.13.7"
  }
 },
 "nbformat": 4,
 "nbformat_minor": 5
}
