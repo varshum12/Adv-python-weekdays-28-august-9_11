{
 "cells": [
  {
   "cell_type": "markdown",
   "id": "72e1d0ff",
   "metadata": {},
   "source": [
    "### Numpy array"
   ]
  },
  {
   "cell_type": "markdown",
   "id": "82aab341",
   "metadata": {},
   "source": [
    "# "
   ]
  },
  {
   "cell_type": "code",
   "execution_count": 1,
   "id": "5d8b5094",
   "metadata": {},
   "outputs": [],
   "source": [
    "import  numpy as  np"
   ]
  },
  {
   "cell_type": "code",
   "execution_count": 2,
   "metadata": {},
   "outputs": [],
   "source": [
    "l  =  [12 ,23 , 45,65]\n",
    "ar1  =  np.array(l)"
   ]
  },
  {
   "cell_type": "code",
   "execution_count": 3,
   "metadata": {},
   "outputs": [
    {
     "data": {
      "text/plain": [
       "array([12, 23, 45, 65])"
      ]
     },
     "execution_count": 3,
     "metadata": {},
     "output_type": "execute_result"
    }
   ],
   "source": [
    "ar1"
   ]
  },
  {
   "cell_type": "code",
   "execution_count": 4,
   "metadata": {},
   "outputs": [
    {
     "data": {
      "text/plain": [
       "numpy.ndarray"
      ]
     },
     "execution_count": 4,
     "metadata": {},
     "output_type": "execute_result"
    }
   ],
   "source": [
    "type(ar1)"
   ]
  },
  {
   "cell_type": "code",
   "execution_count": null,
   "id": "528bdecb",
   "metadata": {},
   "outputs": [],
   "source": [
    "# some  functions  on array\n",
    "- ndim\n",
    "- size\n",
    "-  shape\n",
    "-  type"
   ]
  },
  {
   "cell_type": "code",
   "execution_count": 5,
   "id": "5a8adcc5",
   "metadata": {},
   "outputs": [
    {
     "data": {
      "text/plain": [
       "(4,)"
      ]
     },
     "execution_count": 5,
     "metadata": {},
     "output_type": "execute_result"
    }
   ],
   "source": [
    "ar1.shape"
   ]
  },
  {
   "cell_type": "code",
   "execution_count": 6,
   "metadata": {},
   "outputs": [
    {
     "data": {
      "text/plain": [
       "4"
      ]
     },
     "execution_count": 6,
     "metadata": {},
     "output_type": "execute_result"
    }
   ],
   "source": [
    "ar1.size"
   ]
  },
  {
   "cell_type": "code",
   "execution_count": 7,
   "metadata": {},
   "outputs": [
    {
     "data": {
      "text/plain": [
       "1"
      ]
     },
     "execution_count": 7,
     "metadata": {},
     "output_type": "execute_result"
    }
   ],
   "source": [
    "ar1.ndim"
   ]
  },
  {
   "cell_type": "code",
   "execution_count": 9,
   "id": "e2bd5dd6",
   "metadata": {},
   "outputs": [
    {
     "data": {
      "text/plain": [
       "dtype('int64')"
      ]
     },
     "execution_count": 9,
     "metadata": {},
     "output_type": "execute_result"
    }
   ],
   "source": [
    "ar1.dtype"
   ]
  },
  {
   "cell_type": "code",
   "execution_count": 11,
   "id": "0ad1f709",
   "metadata": {},
   "outputs": [
    {
     "data": {
      "text/plain": [
       "array([12.  , 45.  , 56.34, 45.8 ])"
      ]
     },
     "execution_count": 11,
     "metadata": {},
     "output_type": "execute_result"
    }
   ],
   "source": [
    "ar2  =  np.array([12,45,56.34  ,45.8])\n",
    "ar2"
   ]
  },
  {
   "cell_type": "code",
   "execution_count": 12,
   "id": "e3ebbd87",
   "metadata": {},
   "outputs": [
    {
     "data": {
      "text/plain": [
       "array([12.  , 45.  , 56.34, 45.8 ])"
      ]
     },
     "execution_count": 12,
     "metadata": {},
     "output_type": "execute_result"
    }
   ],
   "source": [
    "ar2"
   ]
  },
  {
   "cell_type": "code",
   "execution_count": null,
   "id": "af151ad0",
   "metadata": {},
   "outputs": [
    {
     "name": "stdout",
     "output_type": "stream",
     "text": [
      "1\n",
      "4\n",
      "(4,)\n"
     ]
    },
    {
     "data": {
      "text/plain": [
       "dtype('float64')"
      ]
     },
     "execution_count": 14,
     "metadata": {},
     "output_type": "execute_result"
    }
   ],
   "source": [
    "print(ar2.ndim  )\n",
    "print(ar2.size)\n",
    "print(ar2.shape)\n",
    "ar2.dtype   # array contain  homogenous  data type"
   ]
  },
  {
   "cell_type": "code",
   "execution_count": 19,
   "id": "cd65a917",
   "metadata": {},
   "outputs": [],
   "source": [
    "## craete  2d array\n",
    "l1 =  [[10 ,20 ,30 ] ,  [40 , 50 , 60 ]]\n",
    "array2d =  np.array(l1)\n"
   ]
  },
  {
   "cell_type": "code",
   "execution_count": 20,
   "id": "1b283c8b",
   "metadata": {},
   "outputs": [
    {
     "data": {
      "text/plain": [
       "array([[10, 20, 30],\n",
       "       [40, 50, 60]])"
      ]
     },
     "execution_count": 20,
     "metadata": {},
     "output_type": "execute_result"
    }
   ],
   "source": [
    "array2d"
   ]
  },
  {
   "cell_type": "code",
   "execution_count": 21,
   "id": "1bbf8367",
   "metadata": {},
   "outputs": [
    {
     "data": {
      "text/plain": [
       "2"
      ]
     },
     "execution_count": 21,
     "metadata": {},
     "output_type": "execute_result"
    }
   ],
   "source": [
    "array2d.ndim"
   ]
  },
  {
   "cell_type": "code",
   "execution_count": 22,
   "id": "482d8f76",
   "metadata": {},
   "outputs": [
    {
     "data": {
      "text/plain": [
       "(2, 3)"
      ]
     },
     "execution_count": 22,
     "metadata": {},
     "output_type": "execute_result"
    }
   ],
   "source": [
    "array2d.shape"
   ]
  },
  {
   "cell_type": "code",
   "execution_count": 23,
   "id": "b0e92b3f",
   "metadata": {},
   "outputs": [],
   "source": [
    "l2  =  [[[10 ,20 , 30] ,  [40 , 50 , 60]] ,  [[70 , 80 , 90] ,  [100 , 110 , 120]]]"
   ]
  },
  {
   "cell_type": "code",
   "execution_count": 24,
   "id": "43890596",
   "metadata": {},
   "outputs": [],
   "source": [
    "array4  =  np.array(l2)"
   ]
  },
  {
   "cell_type": "code",
   "execution_count": 25,
   "id": "bfbcf75f",
   "metadata": {},
   "outputs": [
    {
     "data": {
      "text/plain": [
       "array([[[ 10,  20,  30],\n",
       "        [ 40,  50,  60]],\n",
       "\n",
       "       [[ 70,  80,  90],\n",
       "        [100, 110, 120]]])"
      ]
     },
     "execution_count": 25,
     "metadata": {},
     "output_type": "execute_result"
    }
   ],
   "source": [
    "array4"
   ]
  },
  {
   "cell_type": "code",
   "execution_count": 26,
   "id": "f69a27a8",
   "metadata": {},
   "outputs": [
    {
     "data": {
      "text/plain": [
       "(2, 2, 3)"
      ]
     },
     "execution_count": 26,
     "metadata": {},
     "output_type": "execute_result"
    }
   ],
   "source": [
    "array4.shape"
   ]
  },
  {
   "cell_type": "code",
   "execution_count": 56,
   "id": "369f664b",
   "metadata": {},
   "outputs": [],
   "source": [
    "l2  =  [[[10 ,20 ], [30 ,  40 ],[ 50 , 60]] ,  [[70 , 80] ,[ 90 ,  100] ,[ 110 , 120]]]"
   ]
  },
  {
   "cell_type": "code",
   "execution_count": 57,
   "id": "daaf3959",
   "metadata": {},
   "outputs": [],
   "source": [
    "array5 = np.array(l2)"
   ]
  },
  {
   "cell_type": "code",
   "execution_count": 59,
   "id": "a035a15c",
   "metadata": {},
   "outputs": [
    {
     "data": {
      "text/plain": [
       "array([[[ 10,  20],\n",
       "        [ 30,  40],\n",
       "        [ 50,  60]],\n",
       "\n",
       "       [[ 70,  80],\n",
       "        [ 90, 100],\n",
       "        [110, 120]]])"
      ]
     },
     "execution_count": 59,
     "metadata": {},
     "output_type": "execute_result"
    }
   ],
   "source": [
    "array5"
   ]
  },
  {
   "cell_type": "code",
   "execution_count": 60,
   "id": "61a4143f",
   "metadata": {},
   "outputs": [
    {
     "data": {
      "text/plain": [
       "(2, 3, 2)"
      ]
     },
     "execution_count": 60,
     "metadata": {},
     "output_type": "execute_result"
    }
   ],
   "source": [
    "array5.shape"
   ]
  },
  {
   "cell_type": "code",
   "execution_count": 72,
   "id": "67a58edf",
   "metadata": {},
   "outputs": [],
   "source": [
    "l2  =  [[[[10 ,20 ], [30 ,  40 ]] ,  [[70 , 80] ,[ 90 ,  100]]  ] ,  \n",
    "[[[10 ,20 ], [30 ,  40 ]] ,  [[70 , 80] ,[ 90 ,  100]]  ]]"
   ]
  },
  {
   "cell_type": "code",
   "execution_count": 73,
   "id": "43001c22",
   "metadata": {},
   "outputs": [],
   "source": [
    "array6 =  np.array(l2)"
   ]
  },
  {
   "cell_type": "code",
   "execution_count": 75,
   "id": "0f17941d",
   "metadata": {},
   "outputs": [
    {
     "data": {
      "text/plain": [
       "array([[[[ 10,  20],\n",
       "         [ 30,  40]],\n",
       "\n",
       "        [[ 70,  80],\n",
       "         [ 90, 100]]],\n",
       "\n",
       "\n",
       "       [[[ 10,  20],\n",
       "         [ 30,  40]],\n",
       "\n",
       "        [[ 70,  80],\n",
       "         [ 90, 100]]]])"
      ]
     },
     "execution_count": 75,
     "metadata": {},
     "output_type": "execute_result"
    }
   ],
   "source": [
    "array6"
   ]
  },
  {
   "cell_type": "code",
   "execution_count": 74,
   "id": "afbddf59",
   "metadata": {},
   "outputs": [
    {
     "data": {
      "text/plain": [
       "(2, 2, 2, 2)"
      ]
     },
     "execution_count": 74,
     "metadata": {},
     "output_type": "execute_result"
    }
   ],
   "source": [
    "array6.shape"
   ]
  },
  {
   "cell_type": "code",
   "execution_count": 52,
   "id": "b5fb4b61",
   "metadata": {},
   "outputs": [],
   "source": [
    "# create 4d array shape  2,2,2,2\n",
    "l3  =  [[[[10  , 20 ] ,  [30 , 40]]],[ [ [50 , 60] ,  [70 , 80]] ]]\n",
    "array6  =  np.array(l3)"
   ]
  },
  {
   "cell_type": "code",
   "execution_count": 53,
   "id": "5adabe20",
   "metadata": {},
   "outputs": [
    {
     "data": {
      "text/plain": [
       "array([[[[10, 20],\n",
       "         [30, 40]]],\n",
       "\n",
       "\n",
       "       [[[50, 60],\n",
       "         [70, 80]]]])"
      ]
     },
     "execution_count": 53,
     "metadata": {},
     "output_type": "execute_result"
    }
   ],
   "source": [
    "array6"
   ]
  },
  {
   "cell_type": "code",
   "execution_count": 54,
   "id": "c49d4170",
   "metadata": {},
   "outputs": [
    {
     "data": {
      "text/plain": [
       "(2, 1, 2, 2)"
      ]
     },
     "execution_count": 54,
     "metadata": {},
     "output_type": "execute_result"
    }
   ],
   "source": [
    "array6.shape"
   ]
  },
  {
   "cell_type": "code",
   "execution_count": 55,
   "id": "7b8b299f",
   "metadata": {},
   "outputs": [
    {
     "data": {
      "text/plain": [
       "array([[[10, 20],\n",
       "        [30, 40]]])"
      ]
     },
     "execution_count": 55,
     "metadata": {},
     "output_type": "execute_result"
    }
   ],
   "source": [
    "array6[0]\n"
   ]
  },
  {
   "cell_type": "code",
   "execution_count": null,
   "id": "af4fb0c4",
   "metadata": {},
   "outputs": [],
   "source": [
    "l2  =  [[[10 ,20 ], [30 ,  40 ],[ 50 , 60]] ,  [[70 , 80] ,[ 90 ,  100] ,[ 110 , 120]], [[130  , 140] ,  [] ]]"
   ]
  },
  {
   "cell_type": "code",
   "execution_count": 71,
   "id": "25ae35d5",
   "metadata": {},
   "outputs": [
    {
     "ename": "ValueError",
     "evalue": "setting an array element with a sequence. The requested array has an inhomogeneous shape after 1 dimensions. The detected shape was (3,) + inhomogeneous part.",
     "output_type": "error",
     "traceback": [
      "\u001b[31m---------------------------------------------------------------------------\u001b[39m",
      "\u001b[31mValueError\u001b[39m                                Traceback (most recent call last)",
      "\u001b[36mCell\u001b[39m\u001b[36m \u001b[39m\u001b[32mIn[71]\u001b[39m\u001b[32m, line 1\u001b[39m\n\u001b[32m----> \u001b[39m\u001b[32m1\u001b[39m array7 = \u001b[43mnp\u001b[49m\u001b[43m.\u001b[49m\u001b[43marray\u001b[49m\u001b[43m(\u001b[49m\u001b[43ml2\u001b[49m\u001b[43m)\u001b[49m\n",
      "\u001b[31mValueError\u001b[39m: setting an array element with a sequence. The requested array has an inhomogeneous shape after 1 dimensions. The detected shape was (3,) + inhomogeneous part."
     ]
    }
   ],
   "source": [
    "array7 = np.array(l2)"
   ]
  },
  {
   "cell_type": "code",
   "execution_count": 76,
   "id": "00a99cf6",
   "metadata": {},
   "outputs": [],
   "source": [
    "# indexing  "
   ]
  },
  {
   "cell_type": "code",
   "execution_count": 77,
   "id": "b632f9c2",
   "metadata": {},
   "outputs": [
    {
     "data": {
      "text/plain": [
       "array([12, 23, 45, 65])"
      ]
     },
     "execution_count": 77,
     "metadata": {},
     "output_type": "execute_result"
    }
   ],
   "source": [
    "ar1"
   ]
  },
  {
   "cell_type": "code",
   "execution_count": 78,
   "id": "c11902ff",
   "metadata": {},
   "outputs": [
    {
     "data": {
      "text/plain": [
       "np.int64(12)"
      ]
     },
     "execution_count": 78,
     "metadata": {},
     "output_type": "execute_result"
    }
   ],
   "source": [
    "ar1[0]"
   ]
  },
  {
   "cell_type": "code",
   "execution_count": 79,
   "id": "e78c0772",
   "metadata": {},
   "outputs": [
    {
     "data": {
      "text/plain": [
       "np.int64(23)"
      ]
     },
     "execution_count": 79,
     "metadata": {},
     "output_type": "execute_result"
    }
   ],
   "source": [
    "ar1[1]"
   ]
  },
  {
   "cell_type": "code",
   "execution_count": 80,
   "id": "2d9f893a",
   "metadata": {},
   "outputs": [
    {
     "data": {
      "text/plain": [
       "np.int64(65)"
      ]
     },
     "execution_count": 80,
     "metadata": {},
     "output_type": "execute_result"
    }
   ],
   "source": [
    "ar1[-1]"
   ]
  },
  {
   "cell_type": "code",
   "execution_count": 81,
   "id": "1d045d0b",
   "metadata": {},
   "outputs": [
    {
     "data": {
      "text/plain": [
       "np.int64(65)"
      ]
     },
     "execution_count": 81,
     "metadata": {},
     "output_type": "execute_result"
    }
   ],
   "source": [
    "ar1[3]"
   ]
  },
  {
   "cell_type": "code",
   "execution_count": 82,
   "id": "6a65281c",
   "metadata": {},
   "outputs": [
    {
     "data": {
      "text/plain": [
       "array([[10, 20, 30],\n",
       "       [40, 50, 60]])"
      ]
     },
     "execution_count": 82,
     "metadata": {},
     "output_type": "execute_result"
    }
   ],
   "source": [
    "array2d"
   ]
  },
  {
   "cell_type": "code",
   "execution_count": 86,
   "id": "84d3ab0a",
   "metadata": {},
   "outputs": [
    {
     "data": {
      "text/plain": [
       "(2, 3)"
      ]
     },
     "execution_count": 86,
     "metadata": {},
     "output_type": "execute_result"
    }
   ],
   "source": [
    "array2d.shape"
   ]
  },
  {
   "cell_type": "code",
   "execution_count": 89,
   "id": "2aa23dad",
   "metadata": {},
   "outputs": [
    {
     "name": "stdout",
     "output_type": "stream",
     "text": [
      "[10 20 30]\n",
      "[40 50 60]\n",
      "[30 60]\n"
     ]
    }
   ],
   "source": [
    "print(array2d[0])\n",
    "print(array2d[1])\n",
    "print(array2d[: ,  2])\n"
   ]
  },
  {
   "cell_type": "code",
   "execution_count": 90,
   "id": "3e099a9a",
   "metadata": {},
   "outputs": [
    {
     "data": {
      "text/plain": [
       "array([[10, 20, 30],\n",
       "       [40, 50, 60]])"
      ]
     },
     "execution_count": 90,
     "metadata": {},
     "output_type": "execute_result"
    }
   ],
   "source": [
    "array2d"
   ]
  },
  {
   "cell_type": "code",
   "execution_count": 91,
   "id": "432df59d",
   "metadata": {},
   "outputs": [
    {
     "data": {
      "text/plain": [
       "np.int64(60)"
      ]
     },
     "execution_count": 91,
     "metadata": {},
     "output_type": "execute_result"
    }
   ],
   "source": [
    "array2d[1 ,  2]"
   ]
  },
  {
   "cell_type": "code",
   "execution_count": 92,
   "id": "f179ca6e",
   "metadata": {},
   "outputs": [
    {
     "data": {
      "text/plain": [
       "array([40, 50, 60])"
      ]
     },
     "execution_count": 92,
     "metadata": {},
     "output_type": "execute_result"
    }
   ],
   "source": [
    "array2d[1 , :]"
   ]
  },
  {
   "cell_type": "code",
   "execution_count": 94,
   "id": "5f915b61",
   "metadata": {},
   "outputs": [
    {
     "data": {
      "text/plain": [
       "array([[10, 20],\n",
       "       [40, 50]])"
      ]
     },
     "execution_count": 94,
     "metadata": {},
     "output_type": "execute_result"
    }
   ],
   "source": [
    "array2d[0:2 ,  0:2]"
   ]
  },
  {
   "cell_type": "code",
   "execution_count": 95,
   "id": "c82159b9",
   "metadata": {},
   "outputs": [
    {
     "data": {
      "text/plain": [
       "array([[10],\n",
       "       [40]])"
      ]
     },
     "execution_count": 95,
     "metadata": {},
     "output_type": "execute_result"
    }
   ],
   "source": [
    "array2d[0:2 , 0:1]"
   ]
  },
  {
   "cell_type": "code",
   "execution_count": 105,
   "id": "2d7f0eba",
   "metadata": {},
   "outputs": [],
   "source": [
    "ar6 =  np.array([12,13,14,15,16])\n",
    "ar7  =  np.array((17 , 18 , 19 , 20 , 21))\n",
    "x  =  [12,13,14,15,16]\n",
    "y =  [17 , 18 , 19 , 20 , 21]"
   ]
  },
  {
   "cell_type": "code",
   "execution_count": 97,
   "id": "4f3727bf",
   "metadata": {},
   "outputs": [
    {
     "ename": "TypeError",
     "evalue": "can only concatenate list (not \"int\") to list",
     "output_type": "error",
     "traceback": [
      "\u001b[31m---------------------------------------------------------------------------\u001b[39m",
      "\u001b[31mTypeError\u001b[39m                                 Traceback (most recent call last)",
      "\u001b[36mCell\u001b[39m\u001b[36m \u001b[39m\u001b[32mIn[97]\u001b[39m\u001b[32m, line 1\u001b[39m\n\u001b[32m----> \u001b[39m\u001b[32m1\u001b[39m \u001b[43ml\u001b[49m\u001b[43m+\u001b[49m\u001b[43m \u001b[49m\u001b[32;43m10\u001b[39;49m\n",
      "\u001b[31mTypeError\u001b[39m: can only concatenate list (not \"int\") to list"
     ]
    }
   ],
   "source": [
    "l+ 10"
   ]
  },
  {
   "cell_type": "code",
   "execution_count": 98,
   "id": "15db14fc",
   "metadata": {},
   "outputs": [
    {
     "data": {
      "text/plain": [
       "array([22, 23, 24, 25, 26])"
      ]
     },
     "execution_count": 98,
     "metadata": {},
     "output_type": "execute_result"
    }
   ],
   "source": [
    "ar6+10"
   ]
  },
  {
   "cell_type": "code",
   "execution_count": 99,
   "id": "1f9b77da",
   "metadata": {},
   "outputs": [
    {
     "data": {
      "text/plain": [
       "array([24, 26, 28, 30, 32])"
      ]
     },
     "execution_count": 99,
     "metadata": {},
     "output_type": "execute_result"
    }
   ],
   "source": [
    "ar6*2"
   ]
  },
  {
   "cell_type": "code",
   "execution_count": 100,
   "id": "a26fa7d1",
   "metadata": {},
   "outputs": [
    {
     "data": {
      "text/plain": [
       "array([6. , 6.5, 7. , 7.5, 8. ])"
      ]
     },
     "execution_count": 100,
     "metadata": {},
     "output_type": "execute_result"
    }
   ],
   "source": [
    "ar6/2"
   ]
  },
  {
   "cell_type": "code",
   "execution_count": 101,
   "id": "17e8787d",
   "metadata": {},
   "outputs": [
    {
     "data": {
      "text/plain": [
       "array([144, 169, 196, 225, 256])"
      ]
     },
     "execution_count": 101,
     "metadata": {},
     "output_type": "execute_result"
    }
   ],
   "source": [
    "ar6**2"
   ]
  },
  {
   "cell_type": "code",
   "execution_count": 102,
   "id": "12ea5f9f",
   "metadata": {},
   "outputs": [
    {
     "data": {
      "text/plain": [
       "array([6, 6, 7, 7, 8])"
      ]
     },
     "execution_count": 102,
     "metadata": {},
     "output_type": "execute_result"
    }
   ],
   "source": [
    "ar6//2"
   ]
  },
  {
   "cell_type": "code",
   "execution_count": 103,
   "id": "c8ed9742",
   "metadata": {},
   "outputs": [
    {
     "data": {
      "text/plain": [
       "array([0, 1, 0, 1, 0])"
      ]
     },
     "execution_count": 103,
     "metadata": {},
     "output_type": "execute_result"
    }
   ],
   "source": [
    "ar6%2"
   ]
  },
  {
   "cell_type": "code",
   "execution_count": 106,
   "id": "b56d1d82",
   "metadata": {},
   "outputs": [
    {
     "data": {
      "text/plain": [
       "[12, 13, 14, 15, 16, 17, 18, 19, 20, 21]"
      ]
     },
     "execution_count": 106,
     "metadata": {},
     "output_type": "execute_result"
    }
   ],
   "source": [
    "x+ y"
   ]
  },
  {
   "cell_type": "code",
   "execution_count": 107,
   "id": "964227a5",
   "metadata": {},
   "outputs": [
    {
     "data": {
      "text/plain": [
       "array([29, 31, 33, 35, 37])"
      ]
     },
     "execution_count": 107,
     "metadata": {},
     "output_type": "execute_result"
    }
   ],
   "source": [
    "ar6+ar7"
   ]
  },
  {
   "cell_type": "code",
   "execution_count": 108,
   "id": "c2b7dab2",
   "metadata": {},
   "outputs": [
    {
     "ename": "TypeError",
     "evalue": "unsupported operand type(s) for /: 'list' and 'list'",
     "output_type": "error",
     "traceback": [
      "\u001b[31m---------------------------------------------------------------------------\u001b[39m",
      "\u001b[31mTypeError\u001b[39m                                 Traceback (most recent call last)",
      "\u001b[36mCell\u001b[39m\u001b[36m \u001b[39m\u001b[32mIn[108]\u001b[39m\u001b[32m, line 1\u001b[39m\n\u001b[32m----> \u001b[39m\u001b[32m1\u001b[39m \u001b[43mx\u001b[49m\u001b[43m/\u001b[49m\u001b[43my\u001b[49m\n",
      "\u001b[31mTypeError\u001b[39m: unsupported operand type(s) for /: 'list' and 'list'"
     ]
    }
   ],
   "source": [
    "x/y"
   ]
  },
  {
   "cell_type": "code",
   "execution_count": 109,
   "id": "255316eb",
   "metadata": {},
   "outputs": [
    {
     "data": {
      "text/plain": [
       "array([0.70588235, 0.72222222, 0.73684211, 0.75      , 0.76190476])"
      ]
     },
     "execution_count": 109,
     "metadata": {},
     "output_type": "execute_result"
    }
   ],
   "source": [
    "ar6/ar7"
   ]
  },
  {
   "cell_type": "code",
   "execution_count": 110,
   "id": "a3a91f60",
   "metadata": {},
   "outputs": [
    {
     "data": {
      "text/plain": [
       "array([204, 234, 266, 300, 336])"
      ]
     },
     "execution_count": 110,
     "metadata": {},
     "output_type": "execute_result"
    }
   ],
   "source": [
    "ar6*ar7"
   ]
  },
  {
   "cell_type": "code",
   "execution_count": 111,
   "id": "68f41ac9",
   "metadata": {},
   "outputs": [
    {
     "data": {
      "text/plain": [
       "array([0, 0, 0, 0, 0])"
      ]
     },
     "execution_count": 111,
     "metadata": {},
     "output_type": "execute_result"
    }
   ],
   "source": [
    "ar6//ar7"
   ]
  },
  {
   "cell_type": "code",
   "execution_count": 112,
   "id": "6424720f",
   "metadata": {},
   "outputs": [
    {
     "data": {
      "text/plain": [
       "array([2218611106740436992, 1774942509700083433, -441120932980326400,\n",
       "       4664335276710460609,                   0])"
      ]
     },
     "execution_count": 112,
     "metadata": {},
     "output_type": "execute_result"
    }
   ],
   "source": [
    "ar6**ar7"
   ]
  },
  {
   "cell_type": "code",
   "execution_count": 113,
   "id": "2f1a19f9",
   "metadata": {},
   "outputs": [
    {
     "data": {
      "text/plain": [
       "array([12, 13, 14, 15, 16])"
      ]
     },
     "execution_count": 113,
     "metadata": {},
     "output_type": "execute_result"
    }
   ],
   "source": [
    "ar6%ar7"
   ]
  },
  {
   "cell_type": "markdown",
   "id": "e098c28c",
   "metadata": {},
   "source": [
    "### functions  on unsing  numpy library\n",
    "mean\n",
    "max\n",
    "min\n",
    "square\n",
    "sqrt\n",
    "cbrt\n",
    "round\n",
    "sum  \n",
    "abs\n",
    "log\n",
    "exp\n"
   ]
  },
  {
   "cell_type": "code",
   "execution_count": 114,
   "id": "5ac84404",
   "metadata": {},
   "outputs": [
    {
     "data": {
      "text/plain": [
       "[12, 13, 14, 15, 16]"
      ]
     },
     "execution_count": 114,
     "metadata": {},
     "output_type": "execute_result"
    }
   ],
   "source": [
    "l"
   ]
  },
  {
   "cell_type": "code",
   "execution_count": 115,
   "id": "007bb52d",
   "metadata": {},
   "outputs": [
    {
     "data": {
      "text/plain": [
       "np.int64(70)"
      ]
     },
     "execution_count": 115,
     "metadata": {},
     "output_type": "execute_result"
    }
   ],
   "source": [
    "np.sum(l)"
   ]
  },
  {
   "cell_type": "code",
   "execution_count": 116,
   "id": "7d068df0",
   "metadata": {},
   "outputs": [
    {
     "data": {
      "text/plain": [
       "np.int64(145)"
      ]
     },
     "execution_count": 116,
     "metadata": {},
     "output_type": "execute_result"
    }
   ],
   "source": [
    "np.sum(ar1)"
   ]
  },
  {
   "cell_type": "code",
   "execution_count": 117,
   "id": "d93d363f",
   "metadata": {},
   "outputs": [
    {
     "name": "stdout",
     "output_type": "stream",
     "text": [
      "[12, 13, 14, 15, 16] [12 23 45 65]\n"
     ]
    }
   ],
   "source": [
    "print(l  , ar1)"
   ]
  },
  {
   "cell_type": "code",
   "execution_count": 118,
   "id": "c360f548",
   "metadata": {},
   "outputs": [
    {
     "name": "stdout",
     "output_type": "stream",
     "text": [
      "16 65\n",
      "12 12\n",
      "14.0 36.25\n"
     ]
    }
   ],
   "source": [
    "print(np.max(l) ,  np.max(ar1))\n",
    "print(np.min(l) ,  np.min(ar1))\n",
    "print(np.mean(l) ,  np.mean(ar1))\n"
   ]
  },
  {
   "cell_type": "code",
   "execution_count": 122,
   "id": "4aad1ccf",
   "metadata": {},
   "outputs": [
    {
     "data": {
      "text/plain": [
       "array([ 1.27, 13.43,  1.43, 15.89, 16.  ])"
      ]
     },
     "execution_count": 122,
     "metadata": {},
     "output_type": "execute_result"
    }
   ],
   "source": [
    "l  =  [1.26646, 13.433443, 1.4343, 15.88998, 16]\n",
    "np.round(l)\n",
    "np.round(l ,  2)"
   ]
  },
  {
   "cell_type": "code",
   "execution_count": 123,
   "id": "cc9f8c04",
   "metadata": {},
   "outputs": [
    {
     "data": {
      "text/plain": [
       "np.int64(529)"
      ]
     },
     "execution_count": 123,
     "metadata": {},
     "output_type": "execute_result"
    }
   ],
   "source": [
    "np.square(23)"
   ]
  },
  {
   "cell_type": "code",
   "execution_count": 124,
   "id": "7540dd36",
   "metadata": {},
   "outputs": [
    {
     "data": {
      "text/plain": [
       "array([  1.60392093, 180.45739083,   2.05721649, 252.4914644 ,\n",
       "       256.        ])"
      ]
     },
     "execution_count": 124,
     "metadata": {},
     "output_type": "execute_result"
    }
   ],
   "source": [
    "np.square(l)"
   ]
  },
  {
   "cell_type": "code",
   "execution_count": 125,
   "id": "7b3edc2e",
   "metadata": {},
   "outputs": [
    {
     "data": {
      "text/plain": [
       "array([1.12537105, 3.66516616, 1.19762265, 3.98622378, 4.        ])"
      ]
     },
     "execution_count": 125,
     "metadata": {},
     "output_type": "execute_result"
    }
   ],
   "source": [
    "np.sqrt(l)"
   ]
  },
  {
   "cell_type": "code",
   "execution_count": 126,
   "id": "80a133b8",
   "metadata": {},
   "outputs": [
    {
     "data": {
      "text/plain": [
       "array([1.08192501, 2.37718207, 1.12775129, 2.51405312, 2.5198421 ])"
      ]
     },
     "execution_count": 126,
     "metadata": {},
     "output_type": "execute_result"
    }
   ],
   "source": [
    "np.cbrt(l)"
   ]
  },
  {
   "cell_type": "code",
   "execution_count": 129,
   "id": "88fee5ac",
   "metadata": {},
   "outputs": [
    {
     "data": {
      "text/plain": [
       "np.float64(78962960182680.69)"
      ]
     },
     "execution_count": 129,
     "metadata": {},
     "output_type": "execute_result"
    }
   ],
   "source": [
    "np.exp(32)\n"
   ]
  },
  {
   "cell_type": "code",
   "execution_count": 130,
   "id": "c9b794a6",
   "metadata": {},
   "outputs": [
    {
     "data": {
      "text/plain": [
       "[1.26646, 13.433443, 1.4343, 15.88998, 16]"
      ]
     },
     "execution_count": 130,
     "metadata": {},
     "output_type": "execute_result"
    }
   ],
   "source": [
    "l"
   ]
  },
  {
   "cell_type": "code",
   "execution_count": 128,
   "id": "63ec6980",
   "metadata": {},
   "outputs": [
    {
     "data": {
      "text/plain": [
       "array([3.54826943e+00, 6.82448947e+05, 4.19670629e+00, 7.96032193e+06,\n",
       "       8.88611052e+06])"
      ]
     },
     "execution_count": 128,
     "metadata": {},
     "output_type": "execute_result"
    }
   ],
   "source": [
    "np.exp(l)"
   ]
  },
  {
   "cell_type": "code",
   "execution_count": 131,
   "id": "c1f1ff38",
   "metadata": {},
   "outputs": [
    {
     "data": {
      "text/plain": [
       "array([0.23622561, 2.59774734, 0.36067693, 2.76568872, 2.77258872])"
      ]
     },
     "execution_count": 131,
     "metadata": {},
     "output_type": "execute_result"
    }
   ],
   "source": [
    "np.log(l)"
   ]
  },
  {
   "cell_type": "code",
   "execution_count": 132,
   "id": "b92bea9d",
   "metadata": {},
   "outputs": [
    {
     "data": {
      "text/plain": [
       "np.float64(0.9969486348916096)"
      ]
     },
     "execution_count": 132,
     "metadata": {},
     "output_type": "execute_result"
    }
   ],
   "source": [
    "np.log(2.71)"
   ]
  },
  {
   "cell_type": "code",
   "execution_count": 133,
   "id": "fda15b28",
   "metadata": {},
   "outputs": [
    {
     "name": "stderr",
     "output_type": "stream",
     "text": [
      "C:\\Users\\admin\\AppData\\Local\\Temp\\ipykernel_13552\\2933082444.py:1: RuntimeWarning: divide by zero encountered in log\n",
      "  np.log(0)\n"
     ]
    },
    {
     "data": {
      "text/plain": [
       "np.float64(-inf)"
      ]
     },
     "execution_count": 133,
     "metadata": {},
     "output_type": "execute_result"
    }
   ],
   "source": [
    "np.log(0)"
   ]
  },
  {
   "cell_type": "code",
   "execution_count": 134,
   "id": "cc3b2a0f",
   "metadata": {},
   "outputs": [
    {
     "data": {
      "text/plain": [
       "np.float64(0.0)"
      ]
     },
     "execution_count": 134,
     "metadata": {},
     "output_type": "execute_result"
    }
   ],
   "source": [
    "np.log(1)"
   ]
  },
  {
   "cell_type": "code",
   "execution_count": 136,
   "id": "47c45b28",
   "metadata": {},
   "outputs": [],
   "source": [
    "l  = [-1.26646, -13.433443, -1.4343, 15.88998, 16]"
   ]
  },
  {
   "cell_type": "code",
   "execution_count": 137,
   "id": "4fb33809",
   "metadata": {},
   "outputs": [
    {
     "data": {
      "text/plain": [
       "array([ 1.26646 , 13.433443,  1.4343  , 15.88998 , 16.      ])"
      ]
     },
     "execution_count": 137,
     "metadata": {},
     "output_type": "execute_result"
    }
   ],
   "source": [
    "np.abs(l)"
   ]
  },
  {
   "cell_type": "markdown",
   "id": "6257c496",
   "metadata": {},
   "source": [
    "## trignometric operations \n",
    "- sin\n",
    "- cos\n",
    "- tan \n",
    "- radiance"
   ]
  },
  {
   "cell_type": "code",
   "execution_count": 138,
   "id": "5a5dcfa8",
   "metadata": {},
   "outputs": [
    {
     "data": {
      "text/plain": [
       "array([ 0.        , -0.98803162,  0.85090352, -0.30481062,  0.89399666])"
      ]
     },
     "execution_count": 138,
     "metadata": {},
     "output_type": "execute_result"
    }
   ],
   "source": [
    "angle  =  [0 , 30 , 45, 60 , 90]\n",
    "np.sin(angle)"
   ]
  },
  {
   "cell_type": "code",
   "execution_count": 139,
   "id": "36e03129",
   "metadata": {},
   "outputs": [
    {
     "data": {
      "text/plain": [
       "array([ 1.        ,  0.15425145,  0.52532199, -0.95241298, -0.44807362])"
      ]
     },
     "execution_count": 139,
     "metadata": {},
     "output_type": "execute_result"
    }
   ],
   "source": [
    "np.cos(angle)"
   ]
  },
  {
   "cell_type": "code",
   "execution_count": 140,
   "id": "299d2c5e",
   "metadata": {},
   "outputs": [
    {
     "data": {
      "text/plain": [
       "array([ 0.        , -6.4053312 ,  1.61977519,  0.32004039, -1.99520041])"
      ]
     },
     "execution_count": 140,
     "metadata": {},
     "output_type": "execute_result"
    }
   ],
   "source": [
    "np.tan(angle)"
   ]
  },
  {
   "cell_type": "code",
   "execution_count": null,
   "id": "0d979630",
   "metadata": {},
   "outputs": [
    {
     "ename": "AttributeError",
     "evalue": "module 'numpy' has no attribute 'cot'",
     "output_type": "error",
     "traceback": [
      "\u001b[31m---------------------------------------------------------------------------\u001b[39m",
      "\u001b[31mAttributeError\u001b[39m                            Traceback (most recent call last)",
      "\u001b[36mCell\u001b[39m\u001b[36m \u001b[39m\u001b[32mIn[141]\u001b[39m\u001b[32m, line 1\u001b[39m\n\u001b[32m----> \u001b[39m\u001b[32m1\u001b[39m \u001b[43mnp\u001b[49m\u001b[43m.\u001b[49m\u001b[43mcot\u001b[49m(angle)\n",
      "\u001b[36mFile \u001b[39m\u001b[32md:\\28 August Adv  python  9_11\\repository\\venv\\Lib\\site-packages\\numpy\\__init__.py:808\u001b[39m, in \u001b[36m__getattr__\u001b[39m\u001b[34m(attr)\u001b[39m\n\u001b[32m    805\u001b[39m     \u001b[38;5;28;01mimport\u001b[39;00m\u001b[38;5;250m \u001b[39m\u001b[34;01mnumpy\u001b[39;00m\u001b[34;01m.\u001b[39;00m\u001b[34;01mchar\u001b[39;00m\u001b[38;5;250m \u001b[39m\u001b[38;5;28;01mas\u001b[39;00m\u001b[38;5;250m \u001b[39m\u001b[34;01mchar\u001b[39;00m\n\u001b[32m    806\u001b[39m     \u001b[38;5;28;01mreturn\u001b[39;00m char.chararray\n\u001b[32m--> \u001b[39m\u001b[32m808\u001b[39m \u001b[38;5;28;01mraise\u001b[39;00m \u001b[38;5;167;01mAttributeError\u001b[39;00m(\u001b[33mf\u001b[39m\u001b[33m\"\u001b[39m\u001b[33mmodule \u001b[39m\u001b[38;5;132;01m{\u001b[39;00m\u001b[34m__name__\u001b[39m\u001b[38;5;132;01m!r}\u001b[39;00m\u001b[33m has no attribute \u001b[39m\u001b[38;5;132;01m{\u001b[39;00mattr\u001b[38;5;132;01m!r}\u001b[39;00m\u001b[33m\"\u001b[39m)\n",
      "\u001b[31mAttributeError\u001b[39m: module 'numpy' has no attribute 'cot'"
     ]
    }
   ],
   "source": [
    "np.cot(angle)"
   ]
  },
  {
   "cell_type": "code",
   "execution_count": 142,
   "id": "71bab78e",
   "metadata": {},
   "outputs": [
    {
     "data": {
      "text/plain": [
       "array([ 1.        ,  6.48292123,  1.90359441, -1.04996469, -2.23177613])"
      ]
     },
     "execution_count": 142,
     "metadata": {},
     "output_type": "execute_result"
    }
   ],
   "source": [
    "1/np.cos(angle)"
   ]
  },
  {
   "cell_type": "code",
   "execution_count": 147,
   "id": "1d38ed31",
   "metadata": {},
   "outputs": [
    {
     "data": {
      "text/plain": [
       "array([0.        , 0.52359878, 0.78539816, 1.04719755, 1.57079633])"
      ]
     },
     "execution_count": 147,
     "metadata": {},
     "output_type": "execute_result"
    }
   ],
   "source": [
    "np.radians(angle)"
   ]
  },
  {
   "cell_type": "code",
   "execution_count": 148,
   "id": "580bad74",
   "metadata": {},
   "outputs": [
    {
     "data": {
      "text/plain": [
       "[-1.26646, -13.433443, -1.4343, 15.88998, 16]"
      ]
     },
     "execution_count": 148,
     "metadata": {},
     "output_type": "execute_result"
    }
   ],
   "source": [
    "l"
   ]
  },
  {
   "cell_type": "code",
   "execution_count": 149,
   "id": "3150ec13",
   "metadata": {},
   "outputs": [
    {
     "data": {
      "text/plain": [
       "np.float64(-6203.862248140924)"
      ]
     },
     "execution_count": 149,
     "metadata": {},
     "output_type": "execute_result"
    }
   ],
   "source": [
    "np.prod(l)"
   ]
  },
  {
   "cell_type": "code",
   "execution_count": 150,
   "id": "6ca96417",
   "metadata": {},
   "outputs": [
    {
     "data": {
      "text/plain": [
       "np.float64(11.339850888627268)"
      ]
     },
     "execution_count": 150,
     "metadata": {},
     "output_type": "execute_result"
    }
   ],
   "source": [
    "np.std(l)"
   ]
  },
  {
   "cell_type": "code",
   "execution_count": 151,
   "id": "6849e6b1",
   "metadata": {},
   "outputs": [
    {
     "data": {
      "text/plain": [
       "np.float64(128.59221817630063)"
      ]
     },
     "execution_count": 151,
     "metadata": {},
     "output_type": "execute_result"
    }
   ],
   "source": [
    "np.var(l)"
   ]
  },
  {
   "cell_type": "markdown",
   "id": "8ab2bca3",
   "metadata": {},
   "source": [
    "### Generate data using numpy"
   ]
  },
  {
   "cell_type": "code",
   "execution_count": 152,
   "id": "74be8bb9",
   "metadata": {},
   "outputs": [
    {
     "data": {
      "text/plain": [
       "range(1, 11)"
      ]
     },
     "execution_count": 152,
     "metadata": {},
     "output_type": "execute_result"
    }
   ],
   "source": [
    "range(1 , 11)  # it  is used to generate integers  only"
   ]
  },
  {
   "cell_type": "code",
   "execution_count": 153,
   "id": "5438e26f",
   "metadata": {},
   "outputs": [
    {
     "ename": "TypeError",
     "evalue": "'float' object cannot be interpreted as an integer",
     "output_type": "error",
     "traceback": [
      "\u001b[31m---------------------------------------------------------------------------\u001b[39m",
      "\u001b[31mTypeError\u001b[39m                                 Traceback (most recent call last)",
      "\u001b[36mCell\u001b[39m\u001b[36m \u001b[39m\u001b[32mIn[153]\u001b[39m\u001b[32m, line 1\u001b[39m\n\u001b[32m----> \u001b[39m\u001b[32m1\u001b[39m \u001b[38;5;28;43mrange\u001b[39;49m\u001b[43m(\u001b[49m\u001b[43m \u001b[49m\u001b[32;43m1\u001b[39;49m\u001b[43m,\u001b[49m\u001b[43m \u001b[49m\u001b[32;43m22.3\u001b[39;49m\u001b[43m)\u001b[49m\n",
      "\u001b[31mTypeError\u001b[39m: 'float' object cannot be interpreted as an integer"
     ]
    }
   ],
   "source": [
    "range( 1, 22.3)"
   ]
  },
  {
   "cell_type": "code",
   "execution_count": 154,
   "id": "580b108c",
   "metadata": {},
   "outputs": [],
   "source": [
    "#  arange  is used to generate  both  int and float"
   ]
  },
  {
   "cell_type": "code",
   "execution_count": 156,
   "id": "b076b272",
   "metadata": {},
   "outputs": [
    {
     "data": {
      "text/plain": [
       "array([1, 3, 5, 7, 9])"
      ]
     },
     "execution_count": 156,
     "metadata": {},
     "output_type": "execute_result"
    }
   ],
   "source": [
    "np.arange(1 ,  11 , 2)"
   ]
  },
  {
   "cell_type": "code",
   "execution_count": 157,
   "id": "ee2752cb",
   "metadata": {},
   "outputs": [
    {
     "data": {
      "text/plain": [
       "array([ 1,  2,  3,  4,  5,  6,  7,  8,  9, 10])"
      ]
     },
     "execution_count": 157,
     "metadata": {},
     "output_type": "execute_result"
    }
   ],
   "source": [
    "np.arange(1 ,11)"
   ]
  },
  {
   "cell_type": "code",
   "execution_count": 159,
   "id": "3cd0aeee",
   "metadata": {},
   "outputs": [
    {
     "data": {
      "text/plain": [
       "array([ 1. ,  1.5,  2. ,  2.5,  3. ,  3.5,  4. ,  4.5,  5. ,  5.5,  6. ,\n",
       "        6.5,  7. ,  7.5,  8. ,  8.5,  9. ,  9.5, 10. , 10.5, 11. , 11.5,\n",
       "       12. , 12.5, 13. , 13.5, 14. , 14.5, 15. , 15.5, 16. , 16.5, 17. ,\n",
       "       17.5, 18. , 18.5, 19. , 19.5, 20. , 20.5, 21. , 21.5, 22. , 22.5,\n",
       "       23. , 23.5, 24. , 24.5, 25. , 25.5, 26. , 26.5, 27. , 27.5, 28. ,\n",
       "       28.5, 29. , 29.5, 30. , 30.5, 31. , 31.5, 32. , 32.5, 33. , 33.5,\n",
       "       34. , 34.5, 35. , 35.5, 36. , 36.5, 37. , 37.5, 38. , 38.5, 39. ,\n",
       "       39.5, 40. , 40.5, 41. , 41.5, 42. , 42.5, 43. , 43.5, 44. , 44.5,\n",
       "       45. , 45.5, 46. , 46.5, 47. , 47.5, 48. , 48.5, 49. , 49.5, 50. ,\n",
       "       50.5, 51. , 51.5, 52. , 52.5, 53. , 53.5, 54. , 54.5, 55. , 55.5,\n",
       "       56. , 56.5, 57. , 57.5, 58. , 58.5, 59. , 59.5, 60. , 60.5, 61. ,\n",
       "       61.5, 62. , 62.5, 63. , 63.5, 64. , 64.5, 65. , 65.5, 66. , 66.5,\n",
       "       67. , 67.5, 68. , 68.5, 69. , 69.5, 70. , 70.5, 71. , 71.5, 72. ,\n",
       "       72.5, 73. , 73.5, 74. , 74.5, 75. , 75.5, 76. , 76.5, 77. , 77.5,\n",
       "       78. , 78.5, 79. , 79.5, 80. , 80.5, 81. , 81.5, 82. , 82.5, 83. ,\n",
       "       83.5, 84. , 84.5, 85. , 85.5, 86. , 86.5, 87. , 87.5, 88. , 88.5,\n",
       "       89. , 89.5, 90. , 90.5, 91. , 91.5, 92. , 92.5, 93. , 93.5, 94. ,\n",
       "       94.5, 95. , 95.5, 96. , 96.5, 97. , 97.5, 98. , 98.5, 99. , 99.5])"
      ]
     },
     "execution_count": 159,
     "metadata": {},
     "output_type": "execute_result"
    }
   ],
   "source": [
    "np.arange(1 , 100  ,  0.5)"
   ]
  },
  {
   "cell_type": "code",
   "execution_count": 160,
   "id": "ecc41eb9",
   "metadata": {},
   "outputs": [
    {
     "data": {
      "text/plain": [
       "array([100,  99,  98,  97,  96,  95,  94,  93,  92,  91,  90,  89,  88,\n",
       "        87,  86,  85,  84,  83,  82,  81,  80,  79,  78,  77,  76,  75,\n",
       "        74,  73,  72,  71,  70,  69,  68,  67,  66,  65,  64,  63,  62,\n",
       "        61,  60,  59,  58,  57,  56,  55,  54,  53,  52,  51])"
      ]
     },
     "execution_count": 160,
     "metadata": {},
     "output_type": "execute_result"
    }
   ],
   "source": [
    "np.arange(100  , 50  ,  -1)"
   ]
  },
  {
   "cell_type": "code",
   "execution_count": 161,
   "id": "d5f7fa60",
   "metadata": {},
   "outputs": [
    {
     "data": {
      "text/plain": [
       "array([100. ,  96.5,  93. ,  89.5,  86. ,  82.5,  79. ,  75.5,  72. ,\n",
       "        68.5,  65. ,  61.5,  58. ,  54.5,  51. ])"
      ]
     },
     "execution_count": 161,
     "metadata": {},
     "output_type": "execute_result"
    }
   ],
   "source": [
    "np.arange(100  , 50  ,  -3.5)"
   ]
  },
  {
   "cell_type": "markdown",
   "id": "409ecd02",
   "metadata": {},
   "source": [
    "####  linspace  for  generating  linearly scaping data"
   ]
  },
  {
   "cell_type": "code",
   "execution_count": 162,
   "id": "14d34a96",
   "metadata": {},
   "outputs": [
    {
     "data": {
      "text/plain": [
       "array([ 1.        ,  1.19191919,  1.38383838,  1.57575758,  1.76767677,\n",
       "        1.95959596,  2.15151515,  2.34343434,  2.53535354,  2.72727273,\n",
       "        2.91919192,  3.11111111,  3.3030303 ,  3.49494949,  3.68686869,\n",
       "        3.87878788,  4.07070707,  4.26262626,  4.45454545,  4.64646465,\n",
       "        4.83838384,  5.03030303,  5.22222222,  5.41414141,  5.60606061,\n",
       "        5.7979798 ,  5.98989899,  6.18181818,  6.37373737,  6.56565657,\n",
       "        6.75757576,  6.94949495,  7.14141414,  7.33333333,  7.52525253,\n",
       "        7.71717172,  7.90909091,  8.1010101 ,  8.29292929,  8.48484848,\n",
       "        8.67676768,  8.86868687,  9.06060606,  9.25252525,  9.44444444,\n",
       "        9.63636364,  9.82828283, 10.02020202, 10.21212121, 10.4040404 ,\n",
       "       10.5959596 , 10.78787879, 10.97979798, 11.17171717, 11.36363636,\n",
       "       11.55555556, 11.74747475, 11.93939394, 12.13131313, 12.32323232,\n",
       "       12.51515152, 12.70707071, 12.8989899 , 13.09090909, 13.28282828,\n",
       "       13.47474747, 13.66666667, 13.85858586, 14.05050505, 14.24242424,\n",
       "       14.43434343, 14.62626263, 14.81818182, 15.01010101, 15.2020202 ,\n",
       "       15.39393939, 15.58585859, 15.77777778, 15.96969697, 16.16161616,\n",
       "       16.35353535, 16.54545455, 16.73737374, 16.92929293, 17.12121212,\n",
       "       17.31313131, 17.50505051, 17.6969697 , 17.88888889, 18.08080808,\n",
       "       18.27272727, 18.46464646, 18.65656566, 18.84848485, 19.04040404,\n",
       "       19.23232323, 19.42424242, 19.61616162, 19.80808081, 20.        ])"
      ]
     },
     "execution_count": 162,
     "metadata": {},
     "output_type": "execute_result"
    }
   ],
   "source": [
    "np.linspace(1 , 20,  100)"
   ]
  },
  {
   "cell_type": "code",
   "execution_count": 163,
   "id": "bf89f427",
   "metadata": {},
   "outputs": [
    {
     "data": {
      "text/plain": [
       "(0.19191919000000013,)"
      ]
     },
     "execution_count": 163,
     "metadata": {},
     "output_type": "execute_result"
    }
   ],
   "source": [
    "19.42424242-       19.23232323, "
   ]
  },
  {
   "cell_type": "code",
   "execution_count": 164,
   "id": "825a0472",
   "metadata": {},
   "outputs": [
    {
     "data": {
      "text/plain": [
       "0.19191920000000096"
      ]
     },
     "execution_count": 164,
     "metadata": {},
     "output_type": "execute_result"
    }
   ],
   "source": [
    "19.61616162- 19.42424242"
   ]
  },
  {
   "cell_type": "code",
   "execution_count": 166,
   "id": "7b6160b3",
   "metadata": {},
   "outputs": [
    {
     "data": {
      "text/plain": [
       "(array([ 1.        ,  1.19191919,  1.38383838,  1.57575758,  1.76767677,\n",
       "         1.95959596,  2.15151515,  2.34343434,  2.53535354,  2.72727273,\n",
       "         2.91919192,  3.11111111,  3.3030303 ,  3.49494949,  3.68686869,\n",
       "         3.87878788,  4.07070707,  4.26262626,  4.45454545,  4.64646465,\n",
       "         4.83838384,  5.03030303,  5.22222222,  5.41414141,  5.60606061,\n",
       "         5.7979798 ,  5.98989899,  6.18181818,  6.37373737,  6.56565657,\n",
       "         6.75757576,  6.94949495,  7.14141414,  7.33333333,  7.52525253,\n",
       "         7.71717172,  7.90909091,  8.1010101 ,  8.29292929,  8.48484848,\n",
       "         8.67676768,  8.86868687,  9.06060606,  9.25252525,  9.44444444,\n",
       "         9.63636364,  9.82828283, 10.02020202, 10.21212121, 10.4040404 ,\n",
       "        10.5959596 , 10.78787879, 10.97979798, 11.17171717, 11.36363636,\n",
       "        11.55555556, 11.74747475, 11.93939394, 12.13131313, 12.32323232,\n",
       "        12.51515152, 12.70707071, 12.8989899 , 13.09090909, 13.28282828,\n",
       "        13.47474747, 13.66666667, 13.85858586, 14.05050505, 14.24242424,\n",
       "        14.43434343, 14.62626263, 14.81818182, 15.01010101, 15.2020202 ,\n",
       "        15.39393939, 15.58585859, 15.77777778, 15.96969697, 16.16161616,\n",
       "        16.35353535, 16.54545455, 16.73737374, 16.92929293, 17.12121212,\n",
       "        17.31313131, 17.50505051, 17.6969697 , 17.88888889, 18.08080808,\n",
       "        18.27272727, 18.46464646, 18.65656566, 18.84848485, 19.04040404,\n",
       "        19.23232323, 19.42424242, 19.61616162, 19.80808081, 20.        ]),\n",
       " np.float64(0.1919191919191919))"
      ]
     },
     "execution_count": 166,
     "metadata": {},
     "output_type": "execute_result"
    }
   ],
   "source": [
    "np.linspace(1 , 20,  100 ,  retstep = True)"
   ]
  },
  {
   "cell_type": "code",
   "execution_count": null,
   "id": "eea3b3a7",
   "metadata": {},
   "outputs": [],
   "source": []
  }
 ],
 "metadata": {
  "kernelspec": {
   "display_name": "venv",
   "language": "python",
   "name": "python3"
  },
  "language_info": {
   "codemirror_mode": {
    "name": "ipython",
    "version": 3
   },
   "file_extension": ".py",
   "mimetype": "text/x-python",
   "name": "python",
   "nbconvert_exporter": "python",
   "pygments_lexer": "ipython3",
   "version": "3.13.7"
  }
 },
 "nbformat": 4,
 "nbformat_minor": 5
}
