{
 "cells": [
  {
   "cell_type": "markdown",
   "id": "bbc9c394",
   "metadata": {},
   "source": [
    "### polymorphism in  operators"
   ]
  },
  {
   "cell_type": "code",
   "execution_count": null,
   "id": "b85f1c2a",
   "metadata": {},
   "outputs": [
    {
     "data": {
      "text/plain": [
       "57"
      ]
     },
     "execution_count": 1,
     "metadata": {},
     "output_type": "execute_result"
    }
   ],
   "source": [
    "12+45    # int"
   ]
  },
  {
   "cell_type": "code",
   "execution_count": null,
   "id": "d09aea1d",
   "metadata": {},
   "outputs": [
    {
     "data": {
      "text/plain": [
       "80.01"
      ]
     },
     "execution_count": 2,
     "metadata": {},
     "output_type": "execute_result"
    }
   ],
   "source": [
    "34.45 +45.56   # float"
   ]
  },
  {
   "cell_type": "code",
   "execution_count": null,
   "id": "70cfc933",
   "metadata": {},
   "outputs": [
    {
     "data": {
      "text/plain": [
       "'data science'"
      ]
     },
     "execution_count": 3,
     "metadata": {},
     "output_type": "execute_result"
    }
   ],
   "source": [
    "'data' + ' ' + 'science' # string"
   ]
  },
  {
   "cell_type": "code",
   "execution_count": 4,
   "id": "25c79948",
   "metadata": {},
   "outputs": [
    {
     "data": {
      "text/plain": [
       "[12, 3, 5, 6, 3, 5.6]"
      ]
     },
     "execution_count": 4,
     "metadata": {},
     "output_type": "execute_result"
    }
   ],
   "source": [
    "[12,3,5,6] + [3,5.6]"
   ]
  },
  {
   "cell_type": "code",
   "execution_count": 5,
   "id": "ba158cec",
   "metadata": {},
   "outputs": [
    {
     "data": {
      "text/plain": [
       "(12, 3, 5, 6, 3, 5.6)"
      ]
     },
     "execution_count": 5,
     "metadata": {},
     "output_type": "execute_result"
    }
   ],
   "source": [
    "(12,3,5,6) + (3,5.6)"
   ]
  },
  {
   "cell_type": "markdown",
   "id": "c0af0053",
   "metadata": {},
   "source": [
    "-    # *"
   ]
  },
  {
   "cell_type": "code",
   "execution_count": 6,
   "id": "da1279b9",
   "metadata": {},
   "outputs": [
    {
     "data": {
      "text/plain": [
       "408"
      ]
     },
     "execution_count": 6,
     "metadata": {},
     "output_type": "execute_result"
    }
   ],
   "source": [
    "12*34"
   ]
  },
  {
   "cell_type": "code",
   "execution_count": 7,
   "id": "2d250e06",
   "metadata": {},
   "outputs": [
    {
     "data": {
      "text/plain": [
       "[1, 3, 5, 1, 3, 5, 1, 3, 5]"
      ]
     },
     "execution_count": 7,
     "metadata": {},
     "output_type": "execute_result"
    }
   ],
   "source": [
    "[1,3,5]*3"
   ]
  },
  {
   "cell_type": "code",
   "execution_count": 8,
   "id": "e31c6f68",
   "metadata": {},
   "outputs": [
    {
     "data": {
      "text/plain": [
       "'pythonpythonpythonpython'"
      ]
     },
     "execution_count": 8,
     "metadata": {},
     "output_type": "execute_result"
    }
   ],
   "source": [
    "'python'*4"
   ]
  },
  {
   "cell_type": "code",
   "execution_count": 9,
   "id": "2880ce2d",
   "metadata": {},
   "outputs": [
    {
     "data": {
      "text/plain": [
       "6"
      ]
     },
     "execution_count": 9,
     "metadata": {},
     "output_type": "execute_result"
    }
   ],
   "source": [
    "s  =  'python'\n",
    "len(s)"
   ]
  },
  {
   "cell_type": "code",
   "execution_count": 12,
   "id": "d85e827a",
   "metadata": {},
   "outputs": [
    {
     "data": {
      "text/plain": [
       "3"
      ]
     },
     "execution_count": 12,
     "metadata": {},
     "output_type": "execute_result"
    }
   ],
   "source": [
    "l  =  [2,4,6]\n",
    "len(l)"
   ]
  },
  {
   "cell_type": "code",
   "execution_count": 13,
   "id": "e039693f",
   "metadata": {},
   "outputs": [
    {
     "data": {
      "text/plain": [
       "3"
      ]
     },
     "execution_count": 13,
     "metadata": {},
     "output_type": "execute_result"
    }
   ],
   "source": [
    "t  =  (3 ,5,6)\n",
    "len(t)"
   ]
  },
  {
   "cell_type": "code",
   "execution_count": 14,
   "id": "29f66f1f",
   "metadata": {},
   "outputs": [
    {
     "data": {
      "text/plain": [
       "3"
      ]
     },
     "execution_count": 14,
     "metadata": {},
     "output_type": "execute_result"
    }
   ],
   "source": [
    "s1  =  {2,4,6,6,6}\n",
    "len(s1)"
   ]
  },
  {
   "cell_type": "code",
   "execution_count": 15,
   "id": "9385c4b1",
   "metadata": {},
   "outputs": [],
   "source": [
    "d  =  {'name' :  ['sunita' ,  'neeta' , 'geet'] \n",
    ", 'age' :[12, 23, 32]}"
   ]
  },
  {
   "cell_type": "code",
   "execution_count": 16,
   "id": "1148b22a",
   "metadata": {},
   "outputs": [
    {
     "data": {
      "text/plain": [
       "2"
      ]
     },
     "execution_count": 16,
     "metadata": {},
     "output_type": "execute_result"
    }
   ],
   "source": [
    "len(d)"
   ]
  },
  {
   "cell_type": "code",
   "execution_count": 17,
   "id": "8040eaca",
   "metadata": {},
   "outputs": [],
   "source": [
    "import pandas as  pd"
   ]
  },
  {
   "cell_type": "code",
   "execution_count": 18,
   "id": "450c558a",
   "metadata": {},
   "outputs": [
    {
     "data": {
      "text/html": [
       "<div>\n",
       "<style scoped>\n",
       "    .dataframe tbody tr th:only-of-type {\n",
       "        vertical-align: middle;\n",
       "    }\n",
       "\n",
       "    .dataframe tbody tr th {\n",
       "        vertical-align: top;\n",
       "    }\n",
       "\n",
       "    .dataframe thead th {\n",
       "        text-align: right;\n",
       "    }\n",
       "</style>\n",
       "<table border=\"1\" class=\"dataframe\">\n",
       "  <thead>\n",
       "    <tr style=\"text-align: right;\">\n",
       "      <th></th>\n",
       "      <th>name</th>\n",
       "      <th>age</th>\n",
       "    </tr>\n",
       "  </thead>\n",
       "  <tbody>\n",
       "    <tr>\n",
       "      <th>0</th>\n",
       "      <td>sunita</td>\n",
       "      <td>12</td>\n",
       "    </tr>\n",
       "    <tr>\n",
       "      <th>1</th>\n",
       "      <td>neeta</td>\n",
       "      <td>23</td>\n",
       "    </tr>\n",
       "    <tr>\n",
       "      <th>2</th>\n",
       "      <td>geet</td>\n",
       "      <td>32</td>\n",
       "    </tr>\n",
       "  </tbody>\n",
       "</table>\n",
       "</div>"
      ],
      "text/plain": [
       "     name  age\n",
       "0  sunita   12\n",
       "1   neeta   23\n",
       "2    geet   32"
      ]
     },
     "execution_count": 18,
     "metadata": {},
     "output_type": "execute_result"
    }
   ],
   "source": [
    "df  =   pd.DataFrame(d)\n",
    "df"
   ]
  },
  {
   "cell_type": "code",
   "execution_count": 19,
   "id": "d09046a5",
   "metadata": {},
   "outputs": [
    {
     "data": {
      "text/plain": [
       "3"
      ]
     },
     "execution_count": 19,
     "metadata": {},
     "output_type": "execute_result"
    }
   ],
   "source": [
    "len(df)"
   ]
  },
  {
   "cell_type": "markdown",
   "id": "8325bfe6",
   "metadata": {},
   "source": [
    "## Polymorphism  in class"
   ]
  },
  {
   "cell_type": "code",
   "execution_count": 20,
   "id": "3b40c0dd",
   "metadata": {},
   "outputs": [],
   "source": [
    "## create classa with country and  capital  and  langauge\n"
   ]
  },
  {
   "cell_type": "code",
   "execution_count": 26,
   "id": "4d71ddf0",
   "metadata": {},
   "outputs": [],
   "source": [
    "class  India:\n",
    "    # capital \n",
    "    def Capital(self):\n",
    "        print('Capital  of  india  is  New  Delhi')\n",
    "    \n",
    "   # language\n",
    "    def  Language(self):\n",
    "        print('Hindi  is  widely spoken  language  in India')\n",
    "\n",
    "\n",
    "# Frace\n",
    "class France:\n",
    "    def Capital(self):\n",
    "        print(\"Capital  od France  is  Paris\")\n",
    "    \n",
    "    def Language(self):\n",
    "        print('\"french is the widely spoken  language in france')\n",
    "\n",
    "\n",
    "# USA\n",
    "class  USA:\n",
    "    def Capital(self):\n",
    "        print(\"capital  of  USA is  Washington D.C\")\n",
    "\n",
    "\n",
    "    # Language\n",
    "    def Language(self):\n",
    "        print(' English is  the widely spoken  language  in USA ')"
   ]
  },
  {
   "cell_type": "code",
   "execution_count": 27,
   "id": "6cf0de4f",
   "metadata": {},
   "outputs": [],
   "source": [
    "I =India()"
   ]
  },
  {
   "cell_type": "code",
   "execution_count": 28,
   "id": "325e0169",
   "metadata": {},
   "outputs": [
    {
     "name": "stdout",
     "output_type": "stream",
     "text": [
      "Hindi  is  widely spoken  language  in India\n"
     ]
    }
   ],
   "source": [
    "I.Language()"
   ]
  },
  {
   "cell_type": "code",
   "execution_count": 29,
   "id": "6201c619",
   "metadata": {},
   "outputs": [
    {
     "name": "stdout",
     "output_type": "stream",
     "text": [
      "Capital  of  india  is  New  Delhi\n"
     ]
    }
   ],
   "source": [
    "I.Capital()"
   ]
  },
  {
   "cell_type": "code",
   "execution_count": 30,
   "id": "36006f29",
   "metadata": {},
   "outputs": [],
   "source": [
    "F  =  France()"
   ]
  },
  {
   "cell_type": "code",
   "execution_count": 31,
   "id": "61d9bbf5",
   "metadata": {},
   "outputs": [
    {
     "name": "stdout",
     "output_type": "stream",
     "text": [
      "Capital  od France  is  Paris\n"
     ]
    }
   ],
   "source": [
    "F.Capital()"
   ]
  },
  {
   "cell_type": "code",
   "execution_count": 32,
   "id": "74ed48c8",
   "metadata": {},
   "outputs": [
    {
     "name": "stdout",
     "output_type": "stream",
     "text": [
      "\"french is the widely spoken  language in france\n"
     ]
    }
   ],
   "source": [
    "F.Language()"
   ]
  },
  {
   "cell_type": "code",
   "execution_count": 34,
   "id": "4c385de3",
   "metadata": {},
   "outputs": [],
   "source": [
    "us =  USA()"
   ]
  },
  {
   "cell_type": "code",
   "execution_count": 35,
   "id": "ed19f613",
   "metadata": {},
   "outputs": [
    {
     "name": "stdout",
     "output_type": "stream",
     "text": [
      "capital  of  USA is  Washington D.C\n"
     ]
    }
   ],
   "source": [
    "us.Capital()"
   ]
  },
  {
   "cell_type": "code",
   "execution_count": 36,
   "id": "78fbcd54",
   "metadata": {},
   "outputs": [
    {
     "name": "stdout",
     "output_type": "stream",
     "text": [
      " English is  the widely spoken  language  in USA \n"
     ]
    }
   ],
   "source": [
    "us.Language()"
   ]
  },
  {
   "cell_type": "markdown",
   "id": "79f7f020",
   "metadata": {},
   "source": [
    "## Create class rectange   , Circle \n",
    "- Area  ,  Perimeter "
   ]
  },
  {
   "cell_type": "code",
   "execution_count": 50,
   "id": "d5c276d0",
   "metadata": {},
   "outputs": [],
   "source": [
    "# class  for  Rectangle\n",
    "from dataclasses  import dataclass\n",
    "@dataclass\n",
    "class Rectangle:\n",
    "    # constructor\n",
    "    s1:int|float\n",
    "    s2:int|float\n",
    "    \n",
    "    # perimeter\n",
    "    def Perimeter(self):\n",
    "        P  =  2*(self.s1+self.s2)\n",
    "        return f\"Perimeter of Rectangle {P}\"\n",
    "    \n",
    "    # area\n",
    "\n",
    "    def Area(self):\n",
    "        A =   self.s1*self.s2\n",
    "        return f\"Area of  Rectangle  is  {A}\"\n",
    "       \n",
    " \n"
   ]
  },
  {
   "cell_type": "code",
   "execution_count": 51,
   "id": "36538029",
   "metadata": {},
   "outputs": [],
   "source": [
    "r1  = Rectangle(s1  =  23, s2  = 24)\n"
   ]
  },
  {
   "cell_type": "code",
   "execution_count": 52,
   "id": "0947dd9a",
   "metadata": {},
   "outputs": [
    {
     "data": {
      "text/plain": [
       "'Perimeter of Rectangle 94'"
      ]
     },
     "execution_count": 52,
     "metadata": {},
     "output_type": "execute_result"
    }
   ],
   "source": [
    "r1.Perimeter()\n"
   ]
  },
  {
   "cell_type": "code",
   "execution_count": 53,
   "id": "88b47012",
   "metadata": {},
   "outputs": [
    {
     "data": {
      "text/plain": [
       "'Area of  Rectangle  is  552'"
      ]
     },
     "execution_count": 53,
     "metadata": {},
     "output_type": "execute_result"
    }
   ],
   "source": [
    "r1.Area()"
   ]
  },
  {
   "cell_type": "markdown",
   "id": "579c72cf",
   "metadata": {},
   "source": [
    "## Class  Circle"
   ]
  },
  {
   "cell_type": "code",
   "execution_count": 54,
   "id": "851732be",
   "metadata": {},
   "outputs": [
    {
     "data": {
      "text/plain": [
       "3.141592653589793"
      ]
     },
     "execution_count": 54,
     "metadata": {},
     "output_type": "execute_result"
    }
   ],
   "source": [
    "import math\n",
    "math.pi"
   ]
  },
  {
   "cell_type": "code",
   "execution_count": 62,
   "id": "bc2f6e2a",
   "metadata": {},
   "outputs": [],
   "source": [
    "@dataclass\n",
    "class  Circle:\n",
    "    r : int|float\n",
    "\n",
    "\n",
    " # method  for permimeter\n",
    "    def Perimeter(self):\n",
    "        import math\n",
    "        P =  2*math.pi*self.r\n",
    "        return  f\"Perimeter of  Circle  is  {P}\"\n",
    "\n",
    "# method Area\n",
    "\n",
    "    def Area(self):\n",
    "        A  =  math.pi*self.r**2\n",
    "        return  f\"Area of circle id {A} \"\n"
   ]
  },
  {
   "cell_type": "code",
   "execution_count": 63,
   "id": "b82080fc",
   "metadata": {},
   "outputs": [],
   "source": [
    "C1  = Circle(2)"
   ]
  },
  {
   "cell_type": "code",
   "execution_count": 64,
   "id": "ccc2adc0",
   "metadata": {},
   "outputs": [
    {
     "data": {
      "text/plain": [
       "'Area of circle id 12.566370614359172 '"
      ]
     },
     "execution_count": 64,
     "metadata": {},
     "output_type": "execute_result"
    }
   ],
   "source": [
    "C1.Area()"
   ]
  },
  {
   "cell_type": "code",
   "execution_count": 65,
   "id": "31e565ac",
   "metadata": {},
   "outputs": [
    {
     "data": {
      "text/plain": [
       "'Perimeter of  Circle  is  12.566370614359172'"
      ]
     },
     "execution_count": 65,
     "metadata": {},
     "output_type": "execute_result"
    }
   ],
   "source": [
    "C1.Perimeter()"
   ]
  },
  {
   "cell_type": "code",
   "execution_count": 66,
   "id": "0da08085",
   "metadata": {},
   "outputs": [],
   "source": [
    "c2  =  Circle(3)"
   ]
  },
  {
   "cell_type": "code",
   "execution_count": 67,
   "id": "4f3ba003",
   "metadata": {},
   "outputs": [
    {
     "data": {
      "text/plain": [
       "'Area of circle id 28.274333882308138 '"
      ]
     },
     "execution_count": 67,
     "metadata": {},
     "output_type": "execute_result"
    }
   ],
   "source": [
    "c2.Area()"
   ]
  },
  {
   "cell_type": "code",
   "execution_count": 68,
   "id": "590b1b4b",
   "metadata": {},
   "outputs": [
    {
     "data": {
      "text/plain": [
       "'Perimeter of  Circle  is  18.84955592153876'"
      ]
     },
     "execution_count": 68,
     "metadata": {},
     "output_type": "execute_result"
    }
   ],
   "source": [
    "c2.Perimeter()"
   ]
  },
  {
   "cell_type": "markdown",
   "id": "13b6dd63",
   "metadata": {},
   "source": [
    "## Create class  Triangle"
   ]
  },
  {
   "cell_type": "code",
   "execution_count": 80,
   "id": "3c978db6",
   "metadata": {},
   "outputs": [],
   "source": [
    "@dataclass\n",
    "class Triangle:\n",
    "    s1:int|float\n",
    "    s2:int|float\n",
    "    s3:int|float\n",
    "\n",
    "    def Perimeter(self):\n",
    "        if (self.s1+self.s2>self.s3) and  \\\n",
    "        (self.s2+self.s3 > self.s1) and  \\\n",
    "        (self.s1+self.s3>self.s2):\n",
    "            P  = self.s1+self.s2+self.s3\n",
    "            \n",
    "            return   P\n",
    "        \n",
    "    # create method  for  area\n",
    "    def Area(self):\n",
    "        if self.Perimeter() is not None:\n",
    "            s  =  self.Perimeter()/2\n",
    "            Area=  (s*(s-self.s1)*(s-self.s2)*(s-self.s3))**1/2\n",
    "            return  f\"Area of Triangle  is {Area}\"\n",
    "        else:\n",
    "            print('Sides do not form triangle')\n",
    "         "
   ]
  },
  {
   "cell_type": "code",
   "execution_count": 87,
   "id": "aa3fa268",
   "metadata": {},
   "outputs": [],
   "source": [
    "T1  = Triangle(s1  =  23, s2   =34 , s3  = 45)"
   ]
  },
  {
   "cell_type": "code",
   "execution_count": 88,
   "id": "4989ca3d",
   "metadata": {},
   "outputs": [
    {
     "data": {
      "text/plain": [
       "23"
      ]
     },
     "execution_count": 88,
     "metadata": {},
     "output_type": "execute_result"
    }
   ],
   "source": [
    "T1.s1"
   ]
  },
  {
   "cell_type": "code",
   "execution_count": 82,
   "id": "3fdd59fe",
   "metadata": {},
   "outputs": [
    {
     "data": {
      "text/plain": [
       "'Area of Triangle  is 72828.0'"
      ]
     },
     "execution_count": 82,
     "metadata": {},
     "output_type": "execute_result"
    }
   ],
   "source": [
    "T1.Area()"
   ]
  },
  {
   "cell_type": "code",
   "execution_count": 83,
   "id": "1976ead4",
   "metadata": {},
   "outputs": [
    {
     "data": {
      "text/plain": [
       "102"
      ]
     },
     "execution_count": 83,
     "metadata": {},
     "output_type": "execute_result"
    }
   ],
   "source": [
    "T1.Perimeter()"
   ]
  },
  {
   "cell_type": "code",
   "execution_count": 86,
   "id": "8a6ffbf6",
   "metadata": {},
   "outputs": [
    {
     "name": "stdout",
     "output_type": "stream",
     "text": [
      "Rectangle(s1=23, s2=24)\n",
      "Area of  Rectangle  is  552\n",
      "Perimeter of Rectangle 94\n",
      "\n",
      "-----------------------\n",
      "\n",
      "Circle(r=2)\n",
      "Area of circle id 12.566370614359172 \n",
      "Perimeter of  Circle  is  12.566370614359172\n",
      "\n",
      "-----------------------\n",
      "\n",
      "Triangle(s1=23, s2=34, s3=45)\n",
      "Area of Triangle  is 72828.0\n",
      "102\n",
      "\n",
      "-----------------------\n",
      "\n"
     ]
    }
   ],
   "source": [
    "for i in  [r1  , C1  ,  T1 ]:\n",
    "    print(i)\n",
    "    print(i.Area())\n",
    "    print(i.Perimeter())\n",
    "    print()\n",
    "    print('-----------------------')\n",
    "    print()"
   ]
  },
  {
   "cell_type": "code",
   "execution_count": null,
   "id": "d439775c",
   "metadata": {},
   "outputs": [],
   "source": [
    "# public variable\n",
    "# private variable - __\n",
    "#  protected variables - _"
   ]
  },
  {
   "cell_type": "code",
   "execution_count": null,
   "id": "e2fb20a4",
   "metadata": {},
   "outputs": [],
   "source": [
    "## protected variable\n",
    "\n",
    "class acount:\n",
    "    def __init__(self , bal , acc_no):\n",
    "        self.acc_no  =  acc_no \n",
    "        self._bal  =  bal   # protected variable\n",
    "\n",
    "\n",
    "    # def check balance\n",
    "    def check_balance(self):\n",
    "        print(self._bal)"
   ]
  },
  {
   "cell_type": "code",
   "execution_count": 95,
   "id": "59a6d70a",
   "metadata": {},
   "outputs": [],
   "source": [
    "A1  =  acount(bal  = 3000 ,  acc_no  = 123)"
   ]
  },
  {
   "cell_type": "code",
   "execution_count": 96,
   "id": "a3839536",
   "metadata": {},
   "outputs": [
    {
     "data": {
      "text/plain": [
       "123"
      ]
     },
     "execution_count": 96,
     "metadata": {},
     "output_type": "execute_result"
    }
   ],
   "source": [
    "A1.acc_no"
   ]
  },
  {
   "cell_type": "code",
   "execution_count": 98,
   "id": "291637ee",
   "metadata": {},
   "outputs": [
    {
     "ename": "AttributeError",
     "evalue": "'acount' object has no attribute 'bal'",
     "output_type": "error",
     "traceback": [
      "\u001b[31m---------------------------------------------------------------------------\u001b[39m",
      "\u001b[31mAttributeError\u001b[39m                            Traceback (most recent call last)",
      "\u001b[36mCell\u001b[39m\u001b[36m \u001b[39m\u001b[32mIn[98]\u001b[39m\u001b[32m, line 1\u001b[39m\n\u001b[32m----> \u001b[39m\u001b[32m1\u001b[39m \u001b[43mA1\u001b[49m\u001b[43m.\u001b[49m\u001b[43mbal\u001b[49m\n",
      "\u001b[31mAttributeError\u001b[39m: 'acount' object has no attribute 'bal'"
     ]
    }
   ],
   "source": [
    "A1.bal"
   ]
  },
  {
   "cell_type": "code",
   "execution_count": 97,
   "id": "5e305404",
   "metadata": {},
   "outputs": [
    {
     "data": {
      "text/plain": [
       "3000"
      ]
     },
     "execution_count": 97,
     "metadata": {},
     "output_type": "execute_result"
    }
   ],
   "source": [
    "A1._bal"
   ]
  },
  {
   "cell_type": "code",
   "execution_count": 99,
   "id": "96274aca",
   "metadata": {},
   "outputs": [
    {
     "name": "stdout",
     "output_type": "stream",
     "text": [
      "3000\n"
     ]
    }
   ],
   "source": [
    "A1.check_balance()"
   ]
  },
  {
   "cell_type": "code",
   "execution_count": 100,
   "id": "caa340c0",
   "metadata": {},
   "outputs": [],
   "source": [
    "# Private variable\n",
    "\n",
    "\n",
    "class acount1:\n",
    "    def __init__(self , bal , acc_no):\n",
    "        self.acc_no  =  acc_no \n",
    "        self.__bal  =  bal   # protected variable\n",
    "\n",
    "\n",
    "    # # def check balance\n",
    "    # def check_balance(self):\n",
    "    #     print(self._bal)"
   ]
  },
  {
   "cell_type": "code",
   "execution_count": 102,
   "id": "81513930",
   "metadata": {},
   "outputs": [],
   "source": [
    "a2  =  acount1(bal  = 40000  ,  acc_no  =  234)"
   ]
  },
  {
   "cell_type": "code",
   "execution_count": 103,
   "id": "86753421",
   "metadata": {},
   "outputs": [
    {
     "data": {
      "text/plain": [
       "234"
      ]
     },
     "execution_count": 103,
     "metadata": {},
     "output_type": "execute_result"
    }
   ],
   "source": [
    "a2.acc_no"
   ]
  },
  {
   "cell_type": "code",
   "execution_count": 104,
   "id": "50b135e9",
   "metadata": {},
   "outputs": [
    {
     "ename": "AttributeError",
     "evalue": "'acount1' object has no attribute 'bal'",
     "output_type": "error",
     "traceback": [
      "\u001b[31m---------------------------------------------------------------------------\u001b[39m",
      "\u001b[31mAttributeError\u001b[39m                            Traceback (most recent call last)",
      "\u001b[36mCell\u001b[39m\u001b[36m \u001b[39m\u001b[32mIn[104]\u001b[39m\u001b[32m, line 1\u001b[39m\n\u001b[32m----> \u001b[39m\u001b[32m1\u001b[39m \u001b[43ma2\u001b[49m\u001b[43m.\u001b[49m\u001b[43mbal\u001b[49m\n",
      "\u001b[31mAttributeError\u001b[39m: 'acount1' object has no attribute 'bal'"
     ]
    }
   ],
   "source": [
    "a2.bal"
   ]
  },
  {
   "cell_type": "code",
   "execution_count": null,
   "id": "e7bef60a",
   "metadata": {},
   "outputs": [],
   "source": [
    "a2.__bal"
   ]
  },
  {
   "cell_type": "code",
   "execution_count": 107,
   "id": "cb158673",
   "metadata": {},
   "outputs": [
    {
     "data": {
      "text/plain": [
       "40000"
      ]
     },
     "execution_count": 107,
     "metadata": {},
     "output_type": "execute_result"
    }
   ],
   "source": [
    "a2._acount1__bal"
   ]
  },
  {
   "cell_type": "code",
   "execution_count": 108,
   "id": "dd852e25",
   "metadata": {},
   "outputs": [],
   "source": [
    "# Private variable\n",
    "\n",
    "\n",
    "class acount1:\n",
    "    def __init__(self , bal , acc_no):\n",
    "        self.acc_no  =  acc_no \n",
    "        self.__bal  =  bal   # protected variable\n",
    "\n",
    "\n",
    "    # def check balance\n",
    "    def check_balance(self):\n",
    "        print(self.__bal)"
   ]
  },
  {
   "cell_type": "code",
   "execution_count": 109,
   "id": "2dfdf357",
   "metadata": {},
   "outputs": [],
   "source": [
    "a3  =  acount1(bal  =  50000  ,  acc_no  =  567 )\n"
   ]
  },
  {
   "cell_type": "code",
   "execution_count": 111,
   "id": "ba4269e2",
   "metadata": {},
   "outputs": [
    {
     "data": {
      "text/plain": [
       "567"
      ]
     },
     "execution_count": 111,
     "metadata": {},
     "output_type": "execute_result"
    }
   ],
   "source": [
    "a3.acc_no"
   ]
  },
  {
   "cell_type": "code",
   "execution_count": 112,
   "id": "e5360f36",
   "metadata": {},
   "outputs": [
    {
     "name": "stdout",
     "output_type": "stream",
     "text": [
      "50000\n"
     ]
    }
   ],
   "source": [
    "a3.check_balance()"
   ]
  },
  {
   "cell_type": "code",
   "execution_count": null,
   "id": "ba061b3d",
   "metadata": {},
   "outputs": [],
   "source": []
  }
 ],
 "metadata": {
  "kernelspec": {
   "display_name": "venv",
   "language": "python",
   "name": "python3"
  },
  "language_info": {
   "codemirror_mode": {
    "name": "ipython",
    "version": 3
   },
   "file_extension": ".py",
   "mimetype": "text/x-python",
   "name": "python",
   "nbconvert_exporter": "python",
   "pygments_lexer": "ipython3",
   "version": "3.13.7"
  }
 },
 "nbformat": 4,
 "nbformat_minor": 5
}
